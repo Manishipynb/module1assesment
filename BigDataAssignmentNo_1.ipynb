{
  "nbformat": 4,
  "nbformat_minor": 0,
  "metadata": {
    "colab": {
      "provenance": [],
      "collapsed_sections": [],
      "authorship_tag": "ABX9TyMqkyBtlcHvT/MQCqPaW6M7",
      "include_colab_link": true
    },
    "kernelspec": {
      "name": "python3",
      "display_name": "Python 3"
    },
    "language_info": {
      "name": "python"
    }
  },
  "cells": [
    {
      "cell_type": "markdown",
      "metadata": {
        "id": "view-in-github",
        "colab_type": "text"
      },
      "source": [
        "<a href=\"https://colab.research.google.com/github/Manishipynb/module1assesment/blob/main/BigDataAssignmentNo_1.ipynb\" target=\"_parent\"><img src=\"https://colab.research.google.com/assets/colab-badge.svg\" alt=\"Open In Colab\"/></a>"
      ]
    },
    {
      "cell_type": "markdown",
      "source": [
        "## Q.1\n",
        "## Why do we call Python as a general purpose and high-level programming language ?"
      ],
      "metadata": {
        "id": "96S0ECx2_5g1"
      }
    },
    {
      "cell_type": "markdown",
      "source": [
        "### A.1\n",
        "### Python is a computer programming language often used to build websites and software, automate tasks, and conduct data analysis. Python is a general-purpose language, meaning it can be used to create a variety of different programs and isn't specialized for any specific problems.\n",
        "### Python is an object-oriented, high-level programming language. Object-oriented means this language is based around objects (such as data) rather than functions, and high-level means it's easy for humans to understand.\n",
        "### Python is a high-level general-purpose programming language that can be applied to many different classes of problems.\n"
      ],
      "metadata": {
        "id": "6TQVBSLcAD6W"
      }
    },
    {
      "cell_type": "markdown",
      "source": [
        "## Q.2\n",
        "## Why is Python Called a Dynamically typed language ?"
      ],
      "metadata": {
        "id": "QC35ZM9LAwmU"
      }
    },
    {
      "cell_type": "markdown",
      "source": [
        "### A.2\n",
        "### Python is both a strongly typed and a dynamically typed language. Strong typing means that variables do have a type and that the type matters when performing operations on a variable. Dynamic typing means that the type of the variable is determined only during runtime."
      ],
      "metadata": {
        "id": "zCiXGwwKA6F0"
      }
    },
    {
      "cell_type": "markdown",
      "source": [
        "## Q.3\n",
        "## List some Pros and Cons of Python Programming Language ."
      ],
      "metadata": {
        "id": "UfuSfJWmBHJi"
      }
    },
    {
      "cell_type": "markdown",
      "source": [
        "### A.3\n",
        "### **Advantages Of Python Over Other Programming Languages**\n",
        "### It's Simple.\n",
        "### It's Free.\n",
        "### It's Easy to Use.\n",
        "### It's Highly Compatible.\n",
        "### It is Object-Oriented.\n",
        "### It has Lots of Libraries.\n",
        "### It has Built-in Data Structures.\n",
        "### It's Widely Applicable.\n",
        "\n",
        "\n",
        "### **Disadvantages Of Python Programming**\n",
        "### Poor Memory Efficiency. \n",
        "### Slow Speed.\n",
        "### Database Access.\n",
        "### Weak in Mobile Computing. \n",
        "### Runtime Errors."
      ],
      "metadata": {
        "id": "vnlFtwOeBP7B"
      }
    },
    {
      "cell_type": "markdown",
      "source": [
        "## Q.4\n",
        "## In What all Doamins can we use Python ?"
      ],
      "metadata": {
        "id": "b7JDAezRB-XT"
      }
    },
    {
      "cell_type": "markdown",
      "source": [
        "### A.4\n",
        "### Artificial Intelligence\n",
        "### Machine Learning \n",
        "### Deep Learning\n",
        "### Desktop GUI\n",
        "### Data analytics and Data Visualization \n",
        "### Web Development\n",
        "### Game Development\n",
        "### Mobile App Development\n",
        "### Embedded Systems"
      ],
      "metadata": {
        "id": "PNXNJ_zpCGQs"
      }
    },
    {
      "cell_type": "markdown",
      "source": [
        "## Q.5\n",
        "## What are variablee and How can we Declare them ?"
      ],
      "metadata": {
        "id": "QESvqI5eCwiu"
      }
    },
    {
      "cell_type": "markdown",
      "source": [
        "### A.5\n",
        "### A Python variable is a symbolic name that is a reference or pointer to an object. Once an object is assigned to a variable, you can refer to the object by that name. But the data itself is still contained within the object.\n",
        "\n",
        "### Declaring a variable in Python is very simple.\n",
        "### Just name the variable.\n",
        "### Assign the required value to it.\n",
        "### The data type of the variable will be automatically determined from the value assigned, we need not define it explicitly."
      ],
      "metadata": {
        "id": "AFqWznOiC4YB"
      }
    },
    {
      "cell_type": "markdown",
      "source": [
        "## Q.6\n",
        "## How can we take an input from the user in Python ?"
      ],
      "metadata": {
        "id": "tBiFnR62DRDd"
      }
    },
    {
      "cell_type": "markdown",
      "source": [
        "## A.6\n",
        "## Using the input() built-in function. "
      ],
      "metadata": {
        "id": "Ny3EgCIODYHT"
      }
    },
    {
      "cell_type": "markdown",
      "source": [
        "## Q.7\n",
        "## What is the default datatype of the value that has been taken as an input using input() function ?"
      ],
      "metadata": {
        "id": "TCovLpb2Dsyf"
      }
    },
    {
      "cell_type": "markdown",
      "source": [
        "### A.7\n",
        "### By default, input returns a **STRING**."
      ],
      "metadata": {
        "id": "c0SZTjFOD7ee"
      }
    },
    {
      "cell_type": "markdown",
      "source": [
        "## Q.8\n",
        "## What is Typecasting ?"
      ],
      "metadata": {
        "id": "XZLodpp-EHBq"
      }
    },
    {
      "cell_type": "markdown",
      "source": [
        "### A.8\n",
        "### Type Casting is the method to convert the variable data type into a certain data type in order to the operation required to be performed by users."
      ],
      "metadata": {
        "id": "eYuyXgciEPUu"
      }
    },
    {
      "cell_type": "markdown",
      "source": [
        "## Q.9\n",
        "## Can we take more than one input from the user using single input() function ? \n",
        "## If yes , how ? if no , why ?"
      ],
      "metadata": {
        "id": "16e4aIdpEZEh"
      }
    },
    {
      "cell_type": "markdown",
      "source": [
        "### A.9\n",
        "### Python user input() function takes only one argument/ one input.\n",
        "\n",
        "###  If we pass multiple arguments to the input() function, then we will get the error.\n",
        "\n"
      ],
      "metadata": {
        "id": "U2MjzP-2EoJn"
      }
    },
    {
      "cell_type": "markdown",
      "source": [
        "## Q.10\n",
        "## What are Keywords ?"
      ],
      "metadata": {
        "id": "Ft5in-DOGW7q"
      }
    },
    {
      "cell_type": "markdown",
      "source": [
        "### A.10\n",
        "### Python keywords are special reserved words that have specific meanings and purposes and can't be used for anything but those specific purposes. These keywords are always available—you'll never have to import them into your code. Python keywords are different from Python's built-in functions and types."
      ],
      "metadata": {
        "id": "UJpCORcbGcpc"
      }
    },
    {
      "cell_type": "markdown",
      "source": [
        "## Q. 11\n",
        "## Can we use keywords as a variable ?\n",
        "## Support your answer with reason."
      ],
      "metadata": {
        "id": "SGPTgLIwGmlJ"
      }
    },
    {
      "cell_type": "markdown",
      "source": [
        "### A.11\n",
        "### We cannot use a keyword as a variable name, function name, or any other identifier. They are used to define the syntax and structure of the Python language. All the keywords except True , False and None are in lowercase and they must be written as they are. \n",
        "\n",
        "### We  cannot use keywords as variable names. It's because keywords have predefined meanings.\n",
        "\n",
        "### f you attempt to use any of these reserved keywords as variable names in your application, you will see a compile time error."
      ],
      "metadata": {
        "id": "LMZMAnZ_Gw7R"
      }
    },
    {
      "cell_type": "markdown",
      "source": [
        "## Q.12\n",
        "## What is Indentation ?\n",
        "## What's the use of Indention in Python ?"
      ],
      "metadata": {
        "id": "hC9fk4dTHO1U"
      }
    },
    {
      "cell_type": "markdown",
      "source": [
        "### A.12\n",
        "### Indentation refers to the spaces at the beginning of a code line. Where in other programming languages the indentation in code is for readability only, the indentation in Python is very important. Python uses indentation to indicate a block of code.\n",
        "\n",
        "### Indentation is a very important concept of Python because without properly indenting the Python code, you will end up seeing IndentationError and the code will not get compiled."
      ],
      "metadata": {
        "id": "0ZkRp2pZHYXF"
      }
    },
    {
      "cell_type": "markdown",
      "source": [
        "## Q. 13\n",
        "## How Can We throw some output in Python ?"
      ],
      "metadata": {
        "id": "KcCi-3CmHxI2"
      }
    },
    {
      "cell_type": "markdown",
      "source": [
        "### A. 13\n",
        "### The basic way to do output is the **print statement**."
      ],
      "metadata": {
        "id": "nfSLhyB9H4XT"
      }
    },
    {
      "cell_type": "markdown",
      "source": [
        "## Q.14\n",
        "## What are Operators in Python ?"
      ],
      "metadata": {
        "id": "N_sS_z7qILwh"
      }
    },
    {
      "cell_type": "markdown",
      "source": [
        "### A.14\n",
        "### Operators are special symbols in Python that carry out arithmetic or logical computation. The value that the operator operates on is called the operand. For example: >>> 2+3 5. Here, + is the operator that performs addition.\n",
        "\n",
        "### Operators are used to perform operations on variables and values."
      ],
      "metadata": {
        "id": "6BIExe96ITRY"
      }
    },
    {
      "cell_type": "markdown",
      "source": [
        "## Q.15\n",
        "## What is the difference between / and // operators ?"
      ],
      "metadata": {
        "id": "NEhzLXiKIh04"
      }
    },
    {
      "cell_type": "markdown",
      "source": [
        "### A. 15\n",
        "### Float Division(\"/\") , gives a decimal answer\n",
        "### Floor Division(\"//\") , gives the answer in whole numbers\n",
        "\n"
      ],
      "metadata": {
        "id": "mDvT9l-UIq5V"
      }
    },
    {
      "cell_type": "markdown",
      "source": [
        "## Q.16\n",
        "## Write a code that gives following as an output :\n",
        "## iNeuroniNeuroniNeuroniNeuron"
      ],
      "metadata": {
        "id": "VZpb9MsWJjL5"
      }
    },
    {
      "cell_type": "code",
      "source": [
        "# A. 16\n",
        "a = 'iNeuron'\n",
        "b = a*4\n",
        "print(b)"
      ],
      "metadata": {
        "colab": {
          "base_uri": "https://localhost:8080/"
        },
        "id": "E6m6ErGjJysD",
        "outputId": "71e098b5-e512-4d61-cc6d-62a2d60fc6f2"
      },
      "execution_count": 1,
      "outputs": [
        {
          "output_type": "stream",
          "name": "stdout",
          "text": [
            "iNeuroniNeuroniNeuroniNeuron\n"
          ]
        }
      ]
    },
    {
      "cell_type": "markdown",
      "source": [
        "## Q.17\n",
        "## Write a code to take a number as an input from the user and check if the number is odd or even."
      ],
      "metadata": {
        "id": "euyMtWQtJ96x"
      }
    },
    {
      "cell_type": "code",
      "source": [
        "# A. 17\n",
        "\n",
        "number = int(input(\"Please Enter a Number of Your Choice :\"))\n",
        "\n",
        "if number%2 == 0:\n",
        "  print(\"The Number if Even\")\n",
        "else:\n",
        "  print(\"The Number is Odd\")"
      ],
      "metadata": {
        "colab": {
          "base_uri": "https://localhost:8080/"
        },
        "id": "JrzIZmUpKKdI",
        "outputId": "2bb1a338-fa81-4594-f12f-384eaac31da4"
      },
      "execution_count": 3,
      "outputs": [
        {
          "output_type": "stream",
          "name": "stdout",
          "text": [
            "Please Enter a Number of Your Choice :3\n",
            "The Number is Odd\n"
          ]
        }
      ]
    },
    {
      "cell_type": "markdown",
      "source": [
        "## Q.18\n",
        "## What are Boolean operator ?"
      ],
      "metadata": {
        "id": "CyN90e0IK3py"
      }
    },
    {
      "cell_type": "markdown",
      "source": [
        "### A.18\n",
        "### Boolean Operators are simple words (AND, OR, NOT or AND NOT) used as conjunctions to combine or exclude keywords in a search, resulting in more focused and productive results. This should save time and effort by eliminating inappropriate hits that must be scanned before discarding.\n",
        "\n",
        "### There are two types of operators in Python that return boolean values, i.e., Logical operators and Comparison operators. Since both these operators have return types as boolean, they are also termed, Boolean operators.\n",
        "\n",
        "### True & False are Boolean Values."
      ],
      "metadata": {
        "id": "kNPUAbG4LA63"
      }
    },
    {
      "cell_type": "markdown",
      "source": [
        "## Q.19\n",
        "## What will be the output of the following ?"
      ],
      "metadata": {
        "id": "U1WbokkiLhz8"
      }
    },
    {
      "cell_type": "code",
      "source": [
        "# A.19\n",
        "\n",
        "a = 1\n",
        "b = 0\n",
        "\n",
        "a or b"
      ],
      "metadata": {
        "colab": {
          "base_uri": "https://localhost:8080/"
        },
        "id": "EZWTp25ZLp0t",
        "outputId": "a74e5cdc-589e-4e0d-ebd1-892de4456d48"
      },
      "execution_count": 4,
      "outputs": [
        {
          "output_type": "execute_result",
          "data": {
            "text/plain": [
              "1"
            ]
          },
          "metadata": {},
          "execution_count": 4
        }
      ]
    },
    {
      "cell_type": "code",
      "source": [
        "# A.19\n",
        "\n",
        "a = 0\n",
        "b = 0\n",
        "\n",
        "a and b"
      ],
      "metadata": {
        "colab": {
          "base_uri": "https://localhost:8080/"
        },
        "id": "byj_S55xLybL",
        "outputId": "4b1deb75-23bd-4598-b86b-38459e92000d"
      },
      "execution_count": 5,
      "outputs": [
        {
          "output_type": "execute_result",
          "data": {
            "text/plain": [
              "0"
            ]
          },
          "metadata": {},
          "execution_count": 5
        }
      ]
    },
    {
      "cell_type": "code",
      "source": [
        "# A.19\n",
        "\n",
        "True and False and True"
      ],
      "metadata": {
        "colab": {
          "base_uri": "https://localhost:8080/"
        },
        "id": "a5Uwb7jiL6Uf",
        "outputId": "7494e7ba-02c6-4feb-d4ed-e7a33e16c123"
      },
      "execution_count": 6,
      "outputs": [
        {
          "output_type": "execute_result",
          "data": {
            "text/plain": [
              "False"
            ]
          },
          "metadata": {},
          "execution_count": 6
        }
      ]
    },
    {
      "cell_type": "code",
      "source": [
        "# A.19\n",
        "1 or 0 or 0"
      ],
      "metadata": {
        "colab": {
          "base_uri": "https://localhost:8080/"
        },
        "id": "CWgcCHhuMBIi",
        "outputId": "eb00ad23-943e-4d2a-ed6a-6938f385ae16"
      },
      "execution_count": 7,
      "outputs": [
        {
          "output_type": "execute_result",
          "data": {
            "text/plain": [
              "1"
            ]
          },
          "metadata": {},
          "execution_count": 7
        }
      ]
    },
    {
      "cell_type": "markdown",
      "source": [
        "## Q.20\n",
        "## What are conditinal statements in Python ?"
      ],
      "metadata": {
        "id": "ueXi7hnwMILw"
      }
    },
    {
      "cell_type": "markdown",
      "source": [
        "### A.20\n",
        "### Python has some predefined conditional statements. \n",
        "### A conditional statement as the name suggests itself, is used to handle conditions in our program. These statements guide the program while making decisions based on the conditions encountered by the program.\n",
        "\n",
        "### Python has 3 key Conditional Statements that we should know:\n",
        "\n",
        "## if statement\n",
        "## if-else statement\n",
        "## if-elif-else ladder\n"
      ],
      "metadata": {
        "id": "x_i2IfsZjS8B"
      }
    },
    {
      "cell_type": "markdown",
      "source": [
        "## Q. 21\n",
        "## What is use of 'if' , 'elif'  and 'else' keywords ?"
      ],
      "metadata": {
        "id": "e7Slr-8vkTWa"
      }
    },
    {
      "cell_type": "markdown",
      "source": [
        "### A.21\n",
        "### Python if Statement is used for decision-making operations. It contains a body of code which runs only when the condition given in the if statement is true. If the condition is false, then the optional else statement runs which contains some code for the else condition.\n",
        "\n",
        "### When you want to justify one condition while the other condition is not true, then you use Python if else statement.\n",
        "\n",
        "### elif is short for \"else if\" and is used when the first if statement isn't true, but you want to check for another condition. Meaning, if statements pair up with elif and else statements to perform a series of checks"
      ],
      "metadata": {
        "id": "bNsdjiUnkd7C"
      }
    },
    {
      "cell_type": "markdown",
      "source": [
        "## Q.22\n",
        "## Write a code to take the age of person as an input and if age>=18 display\"i can vote\" if age is <18 display\"i can\"t vote\"."
      ],
      "metadata": {
        "id": "j646BMDflOr0"
      }
    },
    {
      "cell_type": "code",
      "source": [
        "# A.22\n",
        "\n",
        "age = int(input(\"Please Enter Your Age :\"))\n",
        "if age >= 18:\n",
        "  print(\"I Can Vote\")\n",
        "else:\n",
        "  print(\"I can't Vote\")"
      ],
      "metadata": {
        "colab": {
          "base_uri": "https://localhost:8080/"
        },
        "id": "BL6t6NpUlfnv",
        "outputId": "bb880423-fc25-4407-8644-ae61a045faf9"
      },
      "execution_count": 2,
      "outputs": [
        {
          "output_type": "stream",
          "name": "stdout",
          "text": [
            "Please Enter Your Age :6\n",
            "I can't Vote\n"
          ]
        }
      ]
    },
    {
      "cell_type": "markdown",
      "source": [
        "## Q.23\n",
        "## Write a code that displays the sum of all the even numbers from the given list."
      ],
      "metadata": {
        "id": "dGWDndILmGU-"
      }
    },
    {
      "cell_type": "code",
      "source": [
        "# A.23\n",
        "\n",
        "List = [12,75,150,180,145,525,50]\n",
        "result = 0  \n",
        "for i in List:  \n",
        " if not i % 2:  \n",
        "   result += i\n",
        "print(result)\n"
      ],
      "metadata": {
        "colab": {
          "base_uri": "https://localhost:8080/"
        },
        "id": "2Sse2nKaqGFw",
        "outputId": "62789f3e-6324-469e-987c-599d137f7f34"
      },
      "execution_count": 16,
      "outputs": [
        {
          "output_type": "stream",
          "name": "stdout",
          "text": [
            "392\n"
          ]
        }
      ]
    },
    {
      "cell_type": "markdown",
      "source": [
        "## Q.24\n",
        "## Write a code to take 3 numbers as an input from the user and display the greatest no. as output."
      ],
      "metadata": {
        "id": "xGUAMgFsqtcn"
      }
    },
    {
      "cell_type": "code",
      "source": [
        "# A.24\n",
        "\n",
        "a = int(input('Enter first number  : '))\n",
        "b = int(input('Enter second number : '))\n",
        "c = int(input('Enter third number  : '))\n",
        "\n",
        "largest = 0\n",
        "\n",
        "if a > b and a > c :\n",
        "    largest = a\n",
        "elif b > c :\n",
        "    largest = b\n",
        "else :\n",
        "    largest = c\n",
        "\n",
        "print(largest, \"is the largest of three numbers.\")"
      ],
      "metadata": {
        "colab": {
          "base_uri": "https://localhost:8080/"
        },
        "id": "VjL5e1lKq_aw",
        "outputId": "16540022-fc5a-4919-f063-9e88a1bb9025"
      },
      "execution_count": 17,
      "outputs": [
        {
          "output_type": "stream",
          "name": "stdout",
          "text": [
            "Enter first number  : 10\n",
            "Enter second number : 20\n",
            "Enter third number  : 30\n",
            "30 is the largest of three numbers.\n"
          ]
        }
      ]
    },
    {
      "cell_type": "markdown",
      "source": [
        "## Q.25\n",
        "## Write a program to display only those numbers from a list that satisfy the folowing conditions :\n",
        "\n",
        "## The number must be divisible by five\n",
        "## if the number is greater than 150 , then skip it and move to the next number\n",
        "## if the number is greater that 500 , then stop the loop"
      ],
      "metadata": {
        "id": "IjP6sq5rr9jG"
      }
    },
    {
      "cell_type": "code",
      "source": [
        "a = [12, 75, 150, 180, 145, 525, 50]\n",
        "b = []\n",
        "for i in a:\n",
        "    if i > 150:\n",
        "        if i > 500:\n",
        "            break\n",
        "        continue\n",
        "    if i % 5 == 0:\n",
        "        b.append(i)\n",
        "        \n",
        "print(b)"
      ],
      "metadata": {
        "colab": {
          "base_uri": "https://localhost:8080/"
        },
        "id": "7eeczq1luH8q",
        "outputId": "98cc9495-dbe7-4c3b-80e4-88552449dc46"
      },
      "execution_count": 29,
      "outputs": [
        {
          "output_type": "stream",
          "name": "stdout",
          "text": [
            "[75, 150, 145]\n"
          ]
        }
      ]
    }
  ]
}