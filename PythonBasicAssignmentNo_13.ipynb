{
  "nbformat": 4,
  "nbformat_minor": 0,
  "metadata": {
    "colab": {
      "provenance": [],
      "authorship_tag": "ABX9TyOKJvltIwy6RhgwbGE8TAnB",
      "include_colab_link": true
    },
    "kernelspec": {
      "name": "python3",
      "display_name": "Python 3"
    },
    "language_info": {
      "name": "python"
    }
  },
  "cells": [
    {
      "cell_type": "markdown",
      "metadata": {
        "id": "view-in-github",
        "colab_type": "text"
      },
      "source": [
        "<a href=\"https://colab.research.google.com/github/Manishipynb/module1assesment/blob/main/PythonBasicAssignmentNo_13.ipynb\" target=\"_parent\"><img src=\"https://colab.research.google.com/assets/colab-badge.svg\" alt=\"Open In Colab\"/></a>"
      ]
    },
    {
      "cell_type": "markdown",
      "source": [
        "## Q.1\n",
        "## What advantages do Excel spreadsheets have over CSV spreadsheets ?\n"
      ],
      "metadata": {
        "id": "cnWEKy9jotAl"
      }
    },
    {
      "cell_type": "markdown",
      "source": [
        "## A.1\n",
        "## While Excel (XLS and XLSX) file formats are better for storing more complex data, CSV files are supported by nearly all data upload interfaces. If you are planning to move your data between platforms, export and import it from one interface to another, you might be better off with the CSV file format.\n",
        "\n",
        "## An Excel not only stores data but can also do operations on the data\n",
        "\n",
        "## A CSV file is just a text file, it stores data but does not contain formatting, formulas, macros, etc. It is also known as flat files"
      ],
      "metadata": {
        "id": "niTCMgkdo7AS"
      }
    },
    {
      "cell_type": "markdown",
      "source": [
        "## Q.2\n",
        "## What do you pass to csv.reader() and csv.writer() to create reader and writer objects ?"
      ],
      "metadata": {
        "id": "VoF2vNAeqZK9"
      }
    },
    {
      "cell_type": "markdown",
      "source": [
        "## A.2 \n",
        "## csv.reader(csvfile, dialect='excel', **fmtparams)\n",
        "## csv.writer(csvfile, dialect='excel', **fmtparams)"
      ],
      "metadata": {
        "id": "2hSxv9IfqmRv"
      }
    },
    {
      "cell_type": "markdown",
      "source": [
        "## Q.3\n",
        "## What modes do File Objects for reader and writer objects need to be opened in ? "
      ],
      "metadata": {
        "id": "uuuz-MyTrlpv"
      }
    },
    {
      "cell_type": "markdown",
      "source": [
        "### A.3\n",
        "### Python has in-built functions to create, read, write, and manipulate accessible files. The io module is the default module for accessing files that can be used off the shelf without even importing it. Before you read, write, or manipulate the file, you need to make use of the module open(filename, access_mode) that returns a file object called \"handle\". After which you can simply use this handle to read from or write to a file. Like everything else, files in Python are also treated as an object, which has its own attributes and methods."
      ],
      "metadata": {
        "id": "KQWxxA_Vr0YD"
      }
    },
    {
      "cell_type": "markdown",
      "source": [
        "## Q.4\n",
        "## What method takes a list argument and writes it to a CSV file ?"
      ],
      "metadata": {
        "id": "fkX8lGtDsRRI"
      }
    },
    {
      "cell_type": "markdown",
      "source": [
        "### A.4\n",
        "\n",
        "### A CSV file is a bounded text format which uses a comma to separate values. The most common method to write data from a list to CSV file is the writerow() method of writer and DictWriter class"
      ],
      "metadata": {
        "id": "ZITsGwXKsd5N"
      }
    },
    {
      "cell_type": "code",
      "source": [
        "salary = [['Alice', 'Data Scientist', 122000],\n",
        "          ['Bob', 'Engineer', 77000],\n",
        "          ['Ann', 'Manager', 119000]]\n",
        "\n",
        "import csv\n",
        "with open('file.csv', 'w', newline='') as f:\n",
        "    writer = csv.writer(f)\n",
        "    writer.writerows(salary)\n"
      ],
      "metadata": {
        "id": "Kg2zSubutFeN"
      },
      "execution_count": 7,
      "outputs": []
    },
    {
      "cell_type": "code",
      "source": [
        "import csv \n",
        "    \n",
        "\n",
        "fields = ['Name', 'Branch', 'Year', 'CGPA'] \n",
        "    \n",
        " \n",
        "rows = [ ['Nikhil', 'COE', '2', '9.0'], \n",
        "         ['Sanchit', 'COE', '2', '9.1'], \n",
        "         ['Aditya', 'IT', '2', '9.3'], \n",
        "         ['Sagar', 'SE', '1', '9.5'], \n",
        "         ['Prateek', 'MCE', '3', '7.8'], \n",
        "         ['Sahil', 'EP', '2', '9.1']] \n",
        "    \n",
        "\n",
        "filename = \"university_records.csv\"\n",
        "    \n",
        " \n",
        "with open(filename, 'w') as csvfile: \n",
        "     \n",
        "    csvwriter = csv.writer(csvfile) \n",
        "        \n",
        "   \n",
        "    csvwriter.writerow(fields) \n",
        "        \n",
        "   \n",
        "    csvwriter.writerows(rows)"
      ],
      "metadata": {
        "id": "GTHXjOonuu3T"
      },
      "execution_count": 8,
      "outputs": []
    },
    {
      "cell_type": "markdown",
      "source": [
        "## Q.5\n",
        "## What do the keyword arguments delimiter and line terminator do ?"
      ],
      "metadata": {
        "id": "s8oRUxnMu-Iy"
      }
    },
    {
      "cell_type": "markdown",
      "source": [
        "### A.5\n",
        "### The delimiter and lineterminator Keyword Arguments\n",
        "### The delimiter is the character that appears between cells on a row. By default, the delimiter for a CSV file is a comma. The line terminator is the character that comes at the end of a row. By default, the line terminator is a newline."
      ],
      "metadata": {
        "id": "03nBcZKKvJSc"
      }
    },
    {
      "cell_type": "markdown",
      "source": [
        "## Q.6\n",
        "## What Function takes a string of json data and returns a Python data structure ?"
      ],
      "metadata": {
        "id": "0HZZgmVRvTPI"
      }
    },
    {
      "cell_type": "markdown",
      "source": [
        "### A.6\n",
        "### loads() method return Python data structure of JSON string or data."
      ],
      "metadata": {
        "id": "BtHr_s5_vlAq"
      }
    },
    {
      "cell_type": "markdown",
      "source": [
        "## Q.7\n",
        "## What function takes a Python data structure and returns a string of JSON data ? "
      ],
      "metadata": {
        "id": "zMGGczPNvskT"
      }
    },
    {
      "cell_type": "markdown",
      "source": [
        "### A.7\n",
        "### If you have a Python object, you can convert it into a JSON string by using the json.dumps() method."
      ],
      "metadata": {
        "id": "CAJq7BEyv3cs"
      }
    }
  ]
}