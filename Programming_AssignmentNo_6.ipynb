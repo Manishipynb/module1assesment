{
  "nbformat": 4,
  "nbformat_minor": 0,
  "metadata": {
    "colab": {
      "provenance": [],
      "authorship_tag": "ABX9TyOuQNZBVmuuDkq60+EwKjyF",
      "include_colab_link": true
    },
    "kernelspec": {
      "name": "python3",
      "display_name": "Python 3"
    },
    "language_info": {
      "name": "python"
    }
  },
  "cells": [
    {
      "cell_type": "markdown",
      "metadata": {
        "id": "view-in-github",
        "colab_type": "text"
      },
      "source": [
        "<a href=\"https://colab.research.google.com/github/Manishipynb/module1assesment/blob/main/Programming_AssignmentNo_6.ipynb\" target=\"_parent\"><img src=\"https://colab.research.google.com/assets/colab-badge.svg\" alt=\"Open In Colab\"/></a>"
      ]
    },
    {
      "cell_type": "code",
      "execution_count": 2,
      "metadata": {
        "colab": {
          "base_uri": "https://localhost:8080/"
        },
        "id": "nagS5BIAPw_Q",
        "outputId": "4587320a-44f3-4a17-ebfe-9a89c39de708"
      },
      "outputs": [
        {
          "output_type": "stream",
          "name": "stdout",
          "text": [
            "Fibonacci sequence:\n",
            "0\n",
            "1\n",
            "1\n",
            "2\n",
            "3\n",
            "5\n",
            "8\n",
            "13\n",
            "21\n",
            "34\n",
            "55\n",
            "89\n",
            "144\n",
            "233\n",
            "377\n"
          ]
        }
      ],
      "source": [
        "# Q.1 Write a Python Program to Display Fibonacci Sequence Using Recursion.\n",
        "\n",
        "def recur_fibo(n):\n",
        "   if n <= 1:\n",
        "       return n\n",
        "   else:\n",
        "       return(recur_fibo(n-1) + recur_fibo(n-2))\n",
        "\n",
        "nterms = 15\n",
        "\n",
        "\n",
        "if nterms <= 0:\n",
        "   print(\"Plese enter a positive integer\")\n",
        "else:\n",
        "   print(\"Fibonacci sequence:\")\n",
        "   for i in range(nterms):\n",
        "       print(recur_fibo(i))\n",
        "\n"
      ]
    },
    {
      "cell_type": "code",
      "source": [
        "# Q.2 Write a Python Program to find Factorial Number Using Recursion.\n",
        "\n",
        "def recur_factorial(n):\n",
        "   if n == 1:\n",
        "       return n\n",
        "   else:\n",
        "       return n*recur_factorial(n-1)\n",
        "\n",
        "num = 9\n",
        "\n",
        "\n",
        "if num < 0:\n",
        "   print(\"Sorry, factorial does not exist for negative numbers\")\n",
        "elif num == 0:\n",
        "   print(\"The factorial of 0 is 1\")\n",
        "else:\n",
        "   print(\"The factorial of\", num, \"is\", recur_factorial(num))\n",
        "\n"
      ],
      "metadata": {
        "colab": {
          "base_uri": "https://localhost:8080/"
        },
        "id": "cmoKh7T2Q7fq",
        "outputId": "8ec714bf-2aec-4330-8372-6f0fcbd979bd"
      },
      "execution_count": 4,
      "outputs": [
        {
          "output_type": "stream",
          "name": "stdout",
          "text": [
            "The factorial of 9 is 362880\n"
          ]
        }
      ]
    },
    {
      "cell_type": "code",
      "source": [
        "# Q.3 Write a Python Program to Calculate Your Body Mass Index.\n",
        "\n",
        "height = float(input(\"Input your height in Feet: \"))\n",
        "weight = float(input(\"Input your weight in Kilogram: \"))\n",
        "print(\"Your body mass index is: \", round(weight / (height * height), 2))\n",
        "\n"
      ],
      "metadata": {
        "colab": {
          "base_uri": "https://localhost:8080/"
        },
        "id": "QQPPbjMwRT-R",
        "outputId": "41467a73-9bf1-439d-cad9-91db48631010"
      },
      "execution_count": 5,
      "outputs": [
        {
          "output_type": "stream",
          "name": "stdout",
          "text": [
            "Input your height in Feet: 6\n",
            "Input your weight in Kilogram: 100\n",
            "Your body mass index is:  2.78\n"
          ]
        }
      ]
    },
    {
      "cell_type": "code",
      "source": [
        "# Q.3 Write a Python Program to Calculate Your Body Mass Index.\n",
        "\n",
        "def BMI(height, weight):\n",
        "    bmi = weight/(height**2)\n",
        "    return bmi\n",
        " \n",
        "\n",
        "height = 1.79832\n",
        "weight = 70\n",
        " \n",
        "\n",
        "bmi = BMI(height, weight)\n",
        "print(\"The BMI is\", format(bmi), \"so \", end='')\n",
        " \n",
        "\n",
        "if (bmi < 18.5):\n",
        "    print(\"underweight\")\n",
        " \n",
        "elif ( bmi >= 18.5 and bmi < 24.9):\n",
        "    print(\"Healthy\")\n",
        " \n",
        "elif ( bmi >= 24.9 and bmi < 30):\n",
        "    print(\"overweight\")\n",
        " \n",
        "elif ( bmi >=30):\n",
        "    print(\"Suffering from Obesity\")\n"
      ],
      "metadata": {
        "colab": {
          "base_uri": "https://localhost:8080/"
        },
        "id": "e9_MI-CAEXqB",
        "outputId": "eaa9656e-7fa6-4473-e48f-463177bc3e22"
      },
      "execution_count": 1,
      "outputs": [
        {
          "output_type": "stream",
          "name": "stdout",
          "text": [
            "The BMI is 21.64532402096181 so Healthy\n"
          ]
        }
      ]
    },
    {
      "cell_type": "code",
      "source": [
        "# Q.4 Write a Python Program to Calculate the natural logarithm of any number.\n",
        "\n",
        "import math\n",
        "\n",
        "number = int(input(\"Enter the number: \"))\n",
        "\n",
        "ans = math.log(number)\n",
        "\n",
        "print(\"The value is:\",ans)\n"
      ],
      "metadata": {
        "colab": {
          "base_uri": "https://localhost:8080/"
        },
        "id": "37Wq1RHaE5vl",
        "outputId": "0af39f18-5020-4e72-c66b-d25192569145"
      },
      "execution_count": 2,
      "outputs": [
        {
          "output_type": "stream",
          "name": "stdout",
          "text": [
            "Enter the number: 5\n",
            "The value is: 1.6094379124341003\n"
          ]
        }
      ]
    },
    {
      "cell_type": "code",
      "source": [
        "# Q.4 Write a Python Program to Calculate the natural logarithm of any number.\n",
        "\n",
        "import math\n",
        " \n",
        "print (\"Natural logarithm of 14 is : \", end=\"\")\n",
        "print (math.log(14))\n",
        " \n",
        "print (\"Logarithm base 5 of 14 is : \", end=\"\")\n",
        "print (math.log(14,5))"
      ],
      "metadata": {
        "colab": {
          "base_uri": "https://localhost:8080/"
        },
        "id": "MpEwXITZF8CH",
        "outputId": "5682ea1b-8640-4158-ff26-d73c695018ce"
      },
      "execution_count": 3,
      "outputs": [
        {
          "output_type": "stream",
          "name": "stdout",
          "text": [
            "Natural logarithm of 14 is : 2.6390573296152584\n",
            "Logarithm base 5 of 14 is : 1.6397385131955606\n"
          ]
        }
      ]
    },
    {
      "cell_type": "code",
      "source": [
        "# Q. 5 Write a Python Program for Cube sum of first n natural number.\n",
        "\n",
        "def sumOfSeries(n):\n",
        "    sum = 0\n",
        "    for i in range(1, n+1):\n",
        "        sum +=i*i*i\n",
        "    return sum\n",
        "n = 5\n",
        "print(sumOfSeries(n))\n",
        " \n",
        "\n",
        "\n"
      ],
      "metadata": {
        "colab": {
          "base_uri": "https://localhost:8080/"
        },
        "id": "SYpa3s6jGI-e",
        "outputId": "7f6a7780-35d8-4b4d-af98-f7b120c34017"
      },
      "execution_count": 5,
      "outputs": [
        {
          "output_type": "stream",
          "name": "stdout",
          "text": [
            "225\n"
          ]
        }
      ]
    }
  ]
}