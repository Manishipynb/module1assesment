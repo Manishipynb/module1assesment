{
 "cells": [
  {
   "cell_type": "code",
   "execution_count": null,
   "metadata": {},
   "outputs": [],
   "source": [
    "# 1. write a python program to sum of the first n positive integers\n",
    "\n",
    "n = int(input(\"Input a number: \"))\n",
    "print (n)\n",
    "sum_num = (n * (n + 1)) / 2\n",
    "print(\"Sum of the first\", n ,\"positive integers:\", sum_num)"
   ]
  },
  {
   "cell_type": "code",
   "execution_count": null,
   "metadata": {},
   "outputs": [],
   "source": [
    "# 2. write a python program to count occurrences of a substring in a string\n",
    "\n",
    "\n",
    "string = \"Python is awesome programming language , is very popular , is very easy , is has libraries. \"\n",
    "substring = \"is\"\n",
    "count = string.count(substring)\n",
    "print(\"The count is:\", count)"
   ]
  },
  {
   "cell_type": "code",
   "execution_count": null,
   "metadata": {},
   "outputs": [],
   "source": [
    "# 3. write a python program to count the occurrences of each word in a given sentence.\n",
    "\n",
    "\n",
    "text = open(\"sample.txt\", \"r\")\n",
    "d = dict()\n",
    "for line in text:\n",
    "    line = line.strip()\n",
    "    line = line.lower()\n",
    "    words = line.split(\" \")\n",
    "    for word in words:\n",
    "        if word in d:\n",
    "            d[word] = d[word] + 1\n",
    "        else:\n",
    "            d[word] = 1\n",
    "for key in list(d.keys()):\n",
    "    print(key, \":\", d[key])"
   ]
  },
  {
   "cell_type": "code",
   "execution_count": null,
   "metadata": {},
   "outputs": [],
   "source": [
    "# 4. write a python program to get a single string frow two given strings , seperated by a space and swap the first two characters of each strings.\n",
    "\n",
    "def chars_mix_up(a, b):  \n",
    "  new_a = b[:2] + a[2:]  \n",
    "  new_b = a[:2] + b[2:]  \n",
    "  return new_a + ' ' + new_b  \n",
    "print(chars_mix_up('abc', 'xyz'))  \n",
    "\n"
   ]
  },
  {
   "cell_type": "code",
   "execution_count": null,
   "metadata": {},
   "outputs": [],
   "source": [
    "# 5. write a python program to add 'ing' at the end of given string (length should be at least 3).  if the given string already ends with 'ing' then add 'ly' insted if the string length of the given string is less than 3 , leave it unchanged.\n",
    "\n",
    "def add_string(str1):\n",
    "  length = len(str1)\n",
    "\n",
    "  if length > 2:\n",
    "    if str1[-3:] == 'ing':\n",
    "      str1 += 'ly'\n",
    "    else:\n",
    "      str1 += 'ing'\n",
    "\n",
    "  return str1\n",
    "print(add_string('ab'))\n",
    "print(add_string('abc'))\n",
    "print(add_string('string'))"
   ]
  },
  {
   "cell_type": "code",
   "execution_count": null,
   "metadata": {},
   "outputs": [],
   "source": [
    "# 6. write a python program to find the first apperance of the substring 'not' and 'poor' from a given string , if 'not' follows the 'poor' , replace the whole 'not' ...'poor' substing with 'good'. return the resulting string.\n",
    "\n",
    "def not_poor(str1):\n",
    "  snot = str1.find('not')\n",
    "  spoor = str1.find('poor')\n",
    "  \n",
    "\n",
    "  if spoor > snot and snot>0 and spoor>0:\n",
    "    str1 = str1.replace(str1[snot:(spoor+4)], 'good')\n",
    "    return str1\n",
    "  else:\n",
    "    return str1\n",
    "print(not_poor('The lyrics is not that poor!'))\n",
    "print(not_poor('The lyrics is poor!'))"
   ]
  },
  {
   "cell_type": "code",
   "execution_count": null,
   "metadata": {},
   "outputs": [],
   "source": [
    "# 7. program to find Greatest Common Divisor of two numbers.\n",
    "\n",
    "\n",
    "import math\n",
    "\n",
    "num1 = int(input(\"please enter number 1\"))\n",
    "num2 = int(input(\"please enter number 2\"))\n",
    "\n",
    "print(\"number 1 = \" , num1)\n",
    "print(\"number 2 = \" , num2)\n",
    "  \n",
    "print(\"GCD = \" , math.gcd(num1 , num2))"
   ]
  },
  {
   "cell_type": "code",
   "execution_count": null,
   "metadata": {},
   "outputs": [],
   "source": [
    "# 8. write a python program to check whether a list contains a sublist.\n",
    "\n",
    "\n",
    "test_list = [5, 6, 3, 8, 2, 1, 7, 1]\n",
    "print(\"The original list : \" + str(test_list))\n",
    " \n",
    "\n",
    "sublist = [8, 2, 1]\n",
    "print(\"The subl list : \" + str(sublist))\n",
    "\n",
    " \n",
    "\n",
    "res = False\n",
    "for idx in range(len(test_list) - len(sublist) + 1):\n",
    "        if test_list[idx : idx + len(sublist)] == sublist:\n",
    "            res = True\n",
    "            break\n",
    "         \n",
    "\n",
    "print(\"Is sublist present in list ? : \" + str(res))\n",
    "\n"
   ]
  },
  {
   "cell_type": "code",
   "execution_count": null,
   "metadata": {},
   "outputs": [],
   "source": [
    "# 9. write a python program to find the second smallest number in a list.\n",
    "\n",
    "\n",
    "def find_len(list1):\n",
    "    length = len(list1)\n",
    "    list1.sort()\n",
    "    print(\"Second Smallest element is:\", list1[1])\n",
    " \n",
    "\n",
    "list1=[12, 45, 2, 41, 31, 10, 8, 6, 4]\n",
    "secondsmallest = find_len(list1)\n"
   ]
  },
  {
   "cell_type": "code",
   "execution_count": null,
   "metadata": {},
   "outputs": [],
   "source": [
    "# 10. write a python program to get unique values from a list.\n",
    "\n",
    "my_list = [10, 20, 30, 40, 20, 50, 60, 40 ,10, 20 , 80]\n",
    "print(\"Original List : \",my_list)\n",
    "my_set = set(my_list)\n",
    "my_new_list = list(my_set)\n",
    "my_new_list.sort()\n",
    "print(\"List of unique numbers : \",my_new_list)"
   ]
  },
  {
   "cell_type": "code",
   "execution_count": null,
   "metadata": {},
   "outputs": [],
   "source": [
    "# 11. write a python program to unzip a list of tuples into individual lists.\n",
    "\n",
    "l = [(\"python\" ,\"i\"), (\"is\",\"learn\"), (\"good\",\"python\")]\n",
    "print(list(zip(*l)))"
   ]
  },
  {
   "cell_type": "code",
   "execution_count": null,
   "metadata": {},
   "outputs": [],
   "source": [
    "# 12. write a python program to convert a list of tuples into a dictionary.\n",
    "\n",
    "\n",
    "tuples = [('Key 1', 1), ('Key 2', 2), ('Key 3', 3), ('Key 4', 4), ('Key 5', 5)]\n",
    "\n",
    "result = dict(tuples)\n",
    "\n",
    "print(result)"
   ]
  },
  {
   "cell_type": "code",
   "execution_count": null,
   "metadata": {},
   "outputs": [],
   "source": [
    "# 13. write a python program to sort a dictionary (ascending / descending) by value.\n",
    "\n",
    "import operator  \n",
    "d = {1: 2, 3: 4, 4: 3, 2: 1, 0: 0}  \n",
    "print('Original dictionary : ',d)  \n",
    "sorted_d = sorted(d.items(), key=operator.itemgetter(0))  \n",
    "print('Dictionary in ascending order by value : ',sorted_d)  \n",
    "sorted_d = sorted(d.items(), key=operator.itemgetter(0),reverse=True)  \n",
    "print('Dictionary in descending order by value : ',sorted_d)  "
   ]
  },
  {
   "cell_type": "code",
   "execution_count": null,
   "metadata": {},
   "outputs": [],
   "source": [
    "# 14. write a python program to find the highest 3 values in a dictionary.\n",
    "\n",
    "\n",
    "from heapq import nlargest\n",
    " \n",
    "\n",
    "my_dict = {'A': 67, 'B': 23, 'C': 45,\n",
    "           'D': 56, 'E': 12, 'F': 69}\n",
    " \n",
    "print(\"Initial Dictionary:\")\n",
    "print(my_dict, \"\\n\")\n",
    " \n",
    "ThreeHighest = nlargest(3, my_dict, key = my_dict.get)\n",
    " \n",
    "print(\"Dictionary with 3 highest values:\")\n",
    "print(\"Keys: Values\")\n",
    " \n",
    "for val in ThreeHighest:\n",
    "    print(val, \":\", my_dict.get(val))"
   ]
  },
  {
   "cell_type": "code",
   "execution_count": null,
   "metadata": {},
   "outputs": [],
   "source": [
    "# 15. Given a number n , write a python program to make and print the list of Fibonacci series upto n.\n",
    "\n",
    "nterms = int(input(\"How many terms? \"))\n",
    "\n",
    "\n",
    "n1, n2 = 0, 1\n",
    "count = 0\n",
    "\n",
    "\n",
    "if nterms <= 0:\n",
    "   print(\"Please enter a positive integer\")\n",
    "\n",
    "elif nterms == 1:\n",
    "   print(\"Fibonacci sequence upto\",nterms,\":\")\n",
    "   print(n1)\n",
    "\n",
    "else:\n",
    "   print(\"Fibonacci sequence:\")\n",
    "   while count < nterms:\n",
    "       print(n1)\n",
    "       nth = n1 + n2\n",
    "       \n",
    "       n1 = n2\n",
    "       n2 = nth\n",
    "       count += 1"
   ]
  },
  {
   "cell_type": "code",
   "execution_count": null,
   "metadata": {},
   "outputs": [],
   "source": [
    "# 16. counting the frequencies in a list using a dictionary in python.\n",
    "\n",
    "def CountFreq(li):\n",
    "  freq = {}\n",
    "  for items in li:\n",
    "    freq[items] = li.count(items)\n",
    "  print(freq)\n",
    "li =['a', 's', 'a', 's', 'c', 'c', 'c','b' , 'a' , 'b' , 'c']\n",
    "CountFreq(li)\n",
    "\n"
   ]
  },
  {
   "cell_type": "code",
   "execution_count": null,
   "metadata": {},
   "outputs": [],
   "source": [
    "# 17. write a python program using function to find the sum of odd series and even series.\n",
    "\n",
    "\n",
    "test_list = [345, 893, 1948, 34, 2346 , 234 , 30404 , 404 ,5494]\n",
    " \n",
    "\n",
    "print(\"The original list is : \" + str(test_list))\n",
    " \n",
    "odd_sum = 0\n",
    "even_sum = 0\n",
    " \n",
    "for sub in test_list:\n",
    "    for ele in str(sub):\n",
    "         \n",
    "        \n",
    "        if int(ele) % 2 == 0:\n",
    "            even_sum += int(ele)\n",
    "        else:\n",
    "            odd_sum += int(ele)\n",
    " \n",
    "\n",
    "print(\"Odd digit sum : \" + str(odd_sum))\n",
    "print(\"Even digit sum : \" + str(even_sum))"
   ]
  },
  {
   "cell_type": "code",
   "execution_count": null,
   "metadata": {},
   "outputs": [],
   "source": [
    "# 18. python program to find factorial of number  using recursion.\n",
    "\n",
    "def recursive_factorial(n):\n",
    "  if n == 1:\n",
    "     return n\n",
    "  else:\n",
    "     return n*recursive_factorial(n-1)     \n",
    "\n",
    "\n",
    "number = int(input(\"User Input : \"))\n",
    "print(\"The factorial of\", number, \"is\", recursive_factorial(number))"
   ]
  },
  {
   "cell_type": "code",
   "execution_count": null,
   "metadata": {},
   "outputs": [],
   "source": [
    "# 19. write a python function that takes a list and return a new list with unique elements of the first list.\n",
    "\n",
    "def unique_list(l):\n",
    "  x = []\n",
    "  for a in l:\n",
    "    if a not in x:\n",
    "      x.append(a)\n",
    "  return x\n",
    "\n",
    "print(unique_list([1,2,3,3,3,3,4,5])) \n"
   ]
  },
  {
   "cell_type": "code",
   "execution_count": null,
   "metadata": {},
   "outputs": [],
   "source": [
    "# 20. mini project : problem statement : password generator\n",
    "\n",
    "import random\n",
    "\n",
    " \n",
    "\n",
    "MAX_LEN = 8\n",
    " \n",
    "lowercase = input(\"please enter 5 digit lowercase alphabet\")\n",
    "\n",
    "\n",
    "\n",
    "if len(lowercase) > 5:\n",
    "    print(\"wrong entry\")\n",
    "\n",
    "else:\n",
    "\n",
    " DIGITS = ['0', '1', '2', '3', '4', '5', '6', '7', '8', '9'] \n",
    "\n",
    " LOCASE_CHARACTERS = lowercase\n",
    " \n",
    " UPCASE_CHARACTERS = ['A', 'B', 'C', 'D', 'E', 'F', 'G', 'H',\n",
    "                     'I', 'J', 'K', 'M', 'N', 'O', 'P', 'Q',\n",
    "                     'R', 'S', 'T', 'U', 'V', 'W', 'X', 'Y',\n",
    "                     'Z']\n",
    " \n",
    " SYMBOLS = ['@', '#', '$', '%', '=', ':', '?', '.', '/', '|', '~', '>',\n",
    "           '*', '(', ')', '<']\n",
    " \n",
    "\n",
    " rand_digit = random.choice(DIGITS)\n",
    " rand_upper = random.choice(UPCASE_CHARACTERS)\n",
    " rand_symbol = random.choice(SYMBOLS)\n",
    " \n",
    "\n",
    " temp_pass_list = rand_digit + rand_upper + LOCASE_CHARACTERS + rand_symbol\n",
    " \n",
    " \n",
    "\n",
    " password = \"\"\n",
    " for x in temp_pass_list:\n",
    "        password = password + x\n",
    "         \n",
    "\n",
    " print(password)"
   ]
  }
 ],
 "metadata": {
  "kernelspec": {
   "display_name": "Python 3.10.5 64-bit",
   "language": "python",
   "name": "python3"
  },
  "language_info": {
   "codemirror_mode": {
    "name": "ipython",
    "version": 3
   },
   "file_extension": ".py",
   "mimetype": "text/x-python",
   "name": "python",
   "nbconvert_exporter": "python",
   "pygments_lexer": "ipython3",
   "version": "3.10.5"
  },
  "orig_nbformat": 4,
  "vscode": {
   "interpreter": {
    "hash": "ced19c621ae50fbaa21ceb5c54b6ee66f5a47db71b30a694f8dcbecc95bb1924"
   }
  }
 },
 "nbformat": 4,
 "nbformat_minor": 2
}
