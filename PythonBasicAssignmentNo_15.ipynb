{
  "nbformat": 4,
  "nbformat_minor": 0,
  "metadata": {
    "colab": {
      "provenance": [],
      "authorship_tag": "ABX9TyPmDGaxaheMTCPui3HqcXOM",
      "include_colab_link": true
    },
    "kernelspec": {
      "name": "python3",
      "display_name": "Python 3"
    },
    "language_info": {
      "name": "python"
    }
  },
  "cells": [
    {
      "cell_type": "markdown",
      "metadata": {
        "id": "view-in-github",
        "colab_type": "text"
      },
      "source": [
        "<a href=\"https://colab.research.google.com/github/Manishipynb/module1assesment/blob/main/PythonBasicAssignmentNo_15.ipynb\" target=\"_parent\"><img src=\"https://colab.research.google.com/assets/colab-badge.svg\" alt=\"Open In Colab\"/></a>"
      ]
    },
    {
      "cell_type": "markdown",
      "source": [
        "## Q.1\n",
        "## How many seconds are in an hour ?\n",
        "## Use the interactive interpreter as a calculator and multiply the number of seconds in a minute(60) by the number of minutes in an hour(also 60) .\n"
      ],
      "metadata": {
        "id": "9Ihw5xXSx6ky"
      }
    },
    {
      "cell_type": "markdown",
      "source": [
        "### A.1\n",
        "### 3,600 Seconds in one hour\n",
        "### 60*60"
      ],
      "metadata": {
        "id": "OajHFRVlyWhi"
      }
    },
    {
      "cell_type": "code",
      "source": [
        "# A.1\n",
        "\n",
        "def time():\n",
        "    sec = int( input ('Enter the number of seconds:'.strip())\n",
        "    if sec <= 60:\n",
        "        minutes = sec // 60\n",
        "        print('The number of minutes is {0:.2f}'.format(minutes)) \n",
        "    if sec (<= 3600):\n",
        "        hours = sec // 3600\n",
        "        print('The number of minutes is {0:.2f}'.format(hours))\n",
        "    if sec <= 86400:\n",
        "        days = sec // 86400\n",
        "        print('The number of minutes is {0:.2f}'.format(days))\n",
        "    return"
      ],
      "metadata": {
        "id": "81sqQ7TI2Q06"
      },
      "execution_count": null,
      "outputs": []
    },
    {
      "cell_type": "markdown",
      "source": [
        "## Q.2\n",
        "## Assign the result from the previous task (seconds in an hour) to a variable called seconds_per_hour."
      ],
      "metadata": {
        "id": "2mnV6or12Ybp"
      }
    },
    {
      "cell_type": "markdown",
      "source": [
        "## A.2\n",
        "## seconds_per_hour = 3600"
      ],
      "metadata": {
        "id": "00GGvcKP2qWB"
      }
    },
    {
      "cell_type": "markdown",
      "source": [
        "## Q.3\n",
        "## How many seconds do you think there are in a day? Make use of the variables seconds per hour and minutes per hour."
      ],
      "metadata": {
        "id": "3IWGpaaB2zj5"
      }
    },
    {
      "cell_type": "markdown",
      "source": [
        "### A.3\n",
        "### seconds_per_hour*24\n",
        "## 86400"
      ],
      "metadata": {
        "id": "k07K1pwE28NZ"
      }
    },
    {
      "cell_type": "markdown",
      "source": [
        "## Q.4\n",
        "## Calculate seconds per day again, but this time save the result in a variable called seconds_per_day"
      ],
      "metadata": {
        "id": "le2ATYoD3FxJ"
      }
    },
    {
      "cell_type": "markdown",
      "source": [
        "## A.4\n",
        "## seconds_per_day = seconds_per_hour*24\n",
        "## seconds_per_day\n",
        "## 86400"
      ],
      "metadata": {
        "id": "U_iE-4Hq3NS5"
      }
    },
    {
      "cell_type": "markdown",
      "source": [
        "## Q.5\n",
        "## Divide seconds_per_day by seconds_per_hour. Use floating-point (/) division."
      ],
      "metadata": {
        "id": "IC3OvSHk3VSx"
      }
    },
    {
      "cell_type": "markdown",
      "source": [
        "### A.5\n",
        "### seconds_per_day / seconds_per_hour\n",
        "### 24.0"
      ],
      "metadata": {
        "id": "CrW8Znf83cMB"
      }
    },
    {
      "cell_type": "markdown",
      "source": [
        "## Q.6\n",
        "## Divide seconds_per_day by seconds_per_hour, using integer (//) division. Did this number agree with the floating-point value from the previous question, aside from the final .0?"
      ],
      "metadata": {
        "id": "7SjxvkT63k4C"
      }
    },
    {
      "cell_type": "markdown",
      "source": [
        "### A.6\n",
        "### seconds_per_day // seconds_per_hour\n",
        "### 24"
      ],
      "metadata": {
        "id": "U_4za5DB3qiR"
      }
    },
    {
      "cell_type": "markdown",
      "source": [
        "## Q.7\n",
        "## Write a generator, genPrimes, that returns the sequence of prime numbers on successive calls to its next() method: 2, 3, 5, 7, 11, ..."
      ],
      "metadata": {
        "id": "sco6sWGu3xSw"
      }
    },
    {
      "cell_type": "code",
      "source": [
        "# A.7\n",
        "\n",
        "def genPrimes():\n",
        "    \n",
        "    primes = [ 2, 3, 5, 7, 11 ]\n",
        "    \n",
        "    def isPrimeNumber(n):\n",
        "        if n in primes:\n",
        "            return True\n",
        "        \n",
        "        for elem in primes:\n",
        "            if n % elem == 0:\n",
        "                return False\n",
        "                \n",
        "        primes.append(n)\n",
        "        return True\n",
        "    num = 1\n",
        "    while True:\n",
        "        num += 1\n",
        "        if isPrimeNumber(num):\n",
        "            next = num\n",
        "            yield next\n",
        "            num = next\n",
        "primeNumber = genPrimes()\n",
        "\n",
        "for i in range(189):\n",
        "    print(primeNumber.__next__())"
      ],
      "metadata": {
        "id": "qhbH3xM_3278"
      },
      "execution_count": null,
      "outputs": []
    }
  ]
}