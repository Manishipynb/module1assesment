{
  "nbformat": 4,
  "nbformat_minor": 0,
  "metadata": {
    "colab": {
      "provenance": [],
      "authorship_tag": "ABX9TyOHcl7l924PG5YkwTMtRFrp",
      "include_colab_link": true
    },
    "kernelspec": {
      "name": "python3",
      "display_name": "Python 3"
    },
    "language_info": {
      "name": "python"
    }
  },
  "cells": [
    {
      "cell_type": "markdown",
      "metadata": {
        "id": "view-in-github",
        "colab_type": "text"
      },
      "source": [
        "<a href=\"https://colab.research.google.com/github/Manishipynb/module1assesment/blob/main/Programming_assignmentNo_9.ipynb\" target=\"_parent\"><img src=\"https://colab.research.google.com/assets/colab-badge.svg\" alt=\"Open In Colab\"/></a>"
      ]
    },
    {
      "cell_type": "markdown",
      "source": [
        "## Q.1\n",
        "## Write a Python Program to Check If the Given Numbers in a Disarium Number ."
      ],
      "metadata": {
        "id": "Pai7qIpC2fgY"
      }
    },
    {
      "cell_type": "code",
      "source": [
        "# A.1\n",
        "\n",
        "import math\n",
        "def check(n):\n",
        "    count_digits = len(str(n))\n",
        "    sum = 0  \n",
        "    x = n\n",
        "    while (x!=0) :\n",
        " \n",
        "        \n",
        "        r = x % 10\n",
        "          \n",
        "        \n",
        "        sum = (int) (sum + math.pow(r, count_digits))\n",
        "        count_digits = count_digits - 1\n",
        "        x = x//10\n",
        "        \n",
        "    \n",
        "    if sum == n :\n",
        "        return 1\n",
        "    else :\n",
        "        return 0\n",
        "       \n",
        "\n",
        "n = 135\n",
        "if (check(n) == 1) :\n",
        "    print (\"Disarium Number\")\n",
        "else :\n",
        "    print (\"Not a Disarium Number\")\n",
        "  \n"
      ],
      "metadata": {
        "colab": {
          "base_uri": "https://localhost:8080/"
        },
        "id": "4XjmQ8Fa2q4O",
        "outputId": "ec47fb04-a519-45e0-ef19-76a4a25f7430"
      },
      "execution_count": 1,
      "outputs": [
        {
          "output_type": "stream",
          "name": "stdout",
          "text": [
            "Disarium Number\n"
          ]
        }
      ]
    },
    {
      "cell_type": "markdown",
      "source": [
        "## Q.2\n",
        "## Write a Python Program to print all disarium numbers between 1 to 100.\n",
        "\n"
      ],
      "metadata": {
        "id": "pvYDxqHx3yKX"
      }
    },
    {
      "cell_type": "code",
      "source": [
        "# A.2\n",
        "\n",
        "def Disarium(num):\n",
        "    sum = 0\n",
        "    while(num>0):\n",
        "        l= len(str(num))\n",
        "        no = num%10\n",
        "        sum= sum + no**l   \n",
        "        l-=1\n",
        "        num = num//10\n",
        "    return sum\n",
        "\n",
        "print(\"Disarium no in range 1 to 100\")\n",
        "\n",
        "disno = []\n",
        "\n",
        "for i in range(1,101):\n",
        "    sum = 0\n",
        "    sum = Disarium(i)\n",
        "    if sum == i:\n",
        "        disno.append(i)        \n",
        "print(disno)"
      ],
      "metadata": {
        "colab": {
          "base_uri": "https://localhost:8080/"
        },
        "id": "xBMaCUq038Xz",
        "outputId": "7d99e78f-d77e-409d-a568-3bbff70ac287"
      },
      "execution_count": 2,
      "outputs": [
        {
          "output_type": "stream",
          "name": "stdout",
          "text": [
            "Disarium no in range 1 to 100\n",
            "[1, 2, 3, 4, 5, 6, 7, 8, 9, 89]\n"
          ]
        }
      ]
    },
    {
      "cell_type": "markdown",
      "source": [
        "## Q.3\n",
        "## Write a Python program to check if the given number is Happy Number?"
      ],
      "metadata": {
        "id": "Sa3FP6SK4RRz"
      }
    },
    {
      "cell_type": "code",
      "source": [
        "# A.3\n",
        "\n",
        "def Happy(num):\n",
        "    sum = 0\n",
        "    while(num>0):\n",
        "        dig = num%10\n",
        "        sum= sum + dig**2        \n",
        "        num = num//10\n",
        "    return sum\n",
        "\n",
        "num = int(input(\"Enter the number :\"))\n",
        "result = num\n",
        "\n",
        "\n",
        "while (result != 1 and result != 4):\n",
        "    result = Happy(result)\n",
        "\n",
        "if result == 1:\n",
        "    print(num,\"Is a Happy Number\")\n",
        "else:\n",
        "    print(num,\" Is a Unhappy Number\")\n",
        "   #A number is said to be happy if it yields 1 when replaced by the sum of squares of its digits repeatedly.\n",
        "   # If this process results in an endless cycle of numbers containing 4, then the number will be an unhappy number."
      ],
      "metadata": {
        "colab": {
          "base_uri": "https://localhost:8080/"
        },
        "id": "HTd8PjNy4XE9",
        "outputId": "e7be0be8-2724-4be1-9c6e-1f93e0c905bb"
      },
      "execution_count": 3,
      "outputs": [
        {
          "output_type": "stream",
          "name": "stdout",
          "text": [
            "Enter the number :10\n",
            "10 Is a Happy Number\n"
          ]
        }
      ]
    },
    {
      "cell_type": "markdown",
      "source": [
        "## Q.4\n",
        "## Write a Python program to print all happy numbers between 1 and 100?"
      ],
      "metadata": {
        "id": "oKarsRAZ4oQN"
      }
    },
    {
      "cell_type": "code",
      "source": [
        "# A.4\n",
        "def Happy(num):\n",
        "    sum = 0\n",
        "    while(num>0):\n",
        "        dig = num%10\n",
        "        sum= sum + dig**2        \n",
        "        num = num//10\n",
        "    return sum\n",
        "\n",
        "print(\"Happy numbers in range 1 to 100\")\n",
        "result=num=i=0\n",
        "happyNo = []\n",
        "for i in range(1,101):\n",
        "    result = i\n",
        "    while (result != 1 and result != 4):\n",
        "        result = Happy(result)    \n",
        "    if result == 1:\n",
        "        happyNo.append(i)\n",
        "print(happyNo)"
      ],
      "metadata": {
        "colab": {
          "base_uri": "https://localhost:8080/"
        },
        "id": "0fye2zM-4wIC",
        "outputId": "102679ec-bb3e-408c-93da-4dee660b9338"
      },
      "execution_count": 4,
      "outputs": [
        {
          "output_type": "stream",
          "name": "stdout",
          "text": [
            "Happy numbers in range 1 to 100\n",
            "[1, 7, 10, 13, 19, 23, 28, 31, 32, 44, 49, 68, 70, 79, 82, 86, 91, 94, 97, 100]\n"
          ]
        }
      ]
    },
    {
      "cell_type": "markdown",
      "source": [
        "## Q.5\n",
        "## Write a Python program to determine whether the given number is a Harshad Number"
      ],
      "metadata": {
        "id": "14TD3Gag41xV"
      }
    },
    {
      "cell_type": "code",
      "source": [
        "# A.5\n",
        "def digsum(num):\n",
        "    sum = 0\n",
        "    while(num>0):\n",
        "        dig = num%10\n",
        "        sum= sum + dig      \n",
        "        num = num//10\n",
        "    return sum\n",
        "\n",
        "num = int(input(\"Enter no. :\"))\n",
        "sum = digsum(num)\n",
        "\n",
        "if num % sum == 0:\n",
        "    print(num,\"Is a Harshad number\")\n",
        "else:\n",
        "    print(num,\"Is not a Harshad number\")\n",
        "\n",
        "#if a number is divisible by the sum of its digits, then it will be known as a Harshad Number"
      ],
      "metadata": {
        "colab": {
          "base_uri": "https://localhost:8080/"
        },
        "id": "OWlqmoxf47Ap",
        "outputId": "56cc797e-ade4-48d7-9ba4-0c239577bd5f"
      },
      "execution_count": 5,
      "outputs": [
        {
          "output_type": "stream",
          "name": "stdout",
          "text": [
            "Enter no. :50\n",
            "50 Is a Harshad number\n"
          ]
        }
      ]
    },
    {
      "cell_type": "markdown",
      "source": [
        "## Q.6\n",
        "## Write a Python program to print all pronic numbers between 1 and 100?"
      ],
      "metadata": {
        "id": "YXTxV95K5C-T"
      }
    },
    {
      "cell_type": "code",
      "source": [
        "# A.6\n",
        "def PronicNo(num):\n",
        "    Pronic = False\n",
        "    for i in range(1,num+1):\n",
        "        if i*(i+1) == num:\n",
        "            Pronic = True\n",
        "            break\n",
        "    return Pronic\n",
        "\n",
        "print(\"Pronic numbers in range 1 to 100\")\n",
        "pronicno = []\n",
        "for i in range(1,101):\n",
        "    if PronicNo(i):\n",
        "        pronicno.append(i)\n",
        "print(pronicno)"
      ],
      "metadata": {
        "colab": {
          "base_uri": "https://localhost:8080/"
        },
        "id": "82_fmT0V5Isv",
        "outputId": "cdd1dea5-bd5d-404b-cf7e-9eb29fccf9fd"
      },
      "execution_count": 6,
      "outputs": [
        {
          "output_type": "stream",
          "name": "stdout",
          "text": [
            "Pronic numbers in range 1 to 100\n",
            "[2, 6, 12, 20, 30, 42, 56, 72, 90]\n"
          ]
        }
      ]
    }
  ]
}