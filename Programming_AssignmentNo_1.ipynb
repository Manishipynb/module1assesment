{
  "nbformat": 4,
  "nbformat_minor": 0,
  "metadata": {
    "colab": {
      "provenance": [],
      "authorship_tag": "ABX9TyMset3Km3zitS+UAnb8Q2ar",
      "include_colab_link": true
    },
    "kernelspec": {
      "name": "python3",
      "display_name": "Python 3"
    },
    "language_info": {
      "name": "python"
    }
  },
  "cells": [
    {
      "cell_type": "markdown",
      "metadata": {
        "id": "view-in-github",
        "colab_type": "text"
      },
      "source": [
        "<a href=\"https://colab.research.google.com/github/Manishipynb/module1assesment/blob/main/Programming_AssignmentNo_1.ipynb\" target=\"_parent\"><img src=\"https://colab.research.google.com/assets/colab-badge.svg\" alt=\"Open In Colab\"/></a>"
      ]
    },
    {
      "cell_type": "code",
      "execution_count": 2,
      "metadata": {
        "colab": {
          "base_uri": "https://localhost:8080/"
        },
        "id": "jBNs4wD3-qOK",
        "outputId": "afd4b457-d36e-45d6-b2a5-a9e1433cf9d9"
      },
      "outputs": [
        {
          "output_type": "stream",
          "name": "stdout",
          "text": [
            "Hello Python\n",
            "Hello Python\n"
          ]
        }
      ],
      "source": [
        "# Q.1 Write a Python Program to Print \"Hello Python\"\n",
        "\n",
        "a = \"Hello Python\"\n",
        "print(a)\n",
        "\n",
        "a = (\"Hello Python\")\n",
        "print(a)"
      ]
    },
    {
      "cell_type": "code",
      "source": [
        "# Q.2 Write a Python Program to do Arithmetical Operations Addition and Division.\n",
        "\n",
        "a = 10\n",
        "b = 20\n",
        "\n",
        "print(a+b)\n",
        "print(a/b)\n"
      ],
      "metadata": {
        "colab": {
          "base_uri": "https://localhost:8080/"
        },
        "id": "oKYwtZAE_JQ4",
        "outputId": "b2f604ba-25e6-4371-848c-54eacc2c2906"
      },
      "execution_count": 3,
      "outputs": [
        {
          "output_type": "stream",
          "name": "stdout",
          "text": [
            "30\n",
            "0.5\n"
          ]
        }
      ]
    },
    {
      "cell_type": "code",
      "source": [
        "# Q.2 Write a Python Program to do Arithmetical Operations Addition and Division.\n",
        "\n",
        "a = int(input(\"Please Enter Number 1 of your choice :\"))\n",
        "b = int(input(\"Please Enter Number 2 of your choice :\"))\n",
        "\n",
        "print(f\"Total sum of the Num 1 & Num2 is : {a+b} \")\n",
        "print(f\"Divison of the Num1 & Num2 is : {a/b} \")"
      ],
      "metadata": {
        "colab": {
          "base_uri": "https://localhost:8080/"
        },
        "id": "ge3YyEUm_g55",
        "outputId": "0d628d97-c446-4255-c633-97b67c5f1ffb"
      },
      "execution_count": 4,
      "outputs": [
        {
          "output_type": "stream",
          "name": "stdout",
          "text": [
            "Please Enter Number 1 of your choice :20\n",
            "Please Enter Number 2 of your choice :10\n",
            "Total sum of the Num 1 & Num2 is : 30 \n",
            "Divison of the Num1 & Num2 is : 2.0 \n"
          ]
        }
      ]
    },
    {
      "cell_type": "code",
      "source": [
        "# Q.3 Write a Python Program to find the area of a Triangle.\n",
        "\n",
        "base  = int(input(\"Input the base : \"))\n",
        "height = int(input(\"Input the height : \"))\n",
        "\n",
        "print(f\"Area of the Triangle is : {base*height/2}  \")\n",
        "\n"
      ],
      "metadata": {
        "colab": {
          "base_uri": "https://localhost:8080/"
        },
        "id": "17g0qYWvAGGB",
        "outputId": "83774e51-765e-4cf0-d249-ce75522f2214"
      },
      "execution_count": 5,
      "outputs": [
        {
          "output_type": "stream",
          "name": "stdout",
          "text": [
            "Input the base : 40\n",
            "Input the height : 20\n",
            "Area of the Triangle is : 400.0  \n"
          ]
        }
      ]
    },
    {
      "cell_type": "code",
      "source": [
        "# Q.4 Write a Python Program to swap two variables.\n",
        "\n",
        "\n",
        "x = input('Enter value of x: ')\n",
        "y = input('Enter value of y: ')\n",
        "\n",
        "print(x)\n",
        "print(y)\n",
        "\n",
        "temp = x\n",
        "x = y\n",
        "y = temp\n",
        "\n",
        "print(f\"The value of x after swapping : {x}\" )\n",
        "print(f\"The value of y after swapping:  {y}\" )\n",
        "\n"
      ],
      "metadata": {
        "colab": {
          "base_uri": "https://localhost:8080/"
        },
        "id": "Ba3_XEFtBK-p",
        "outputId": "e11c6064-f5f5-4da0-bb04-b1eb1b6aae09"
      },
      "execution_count": 9,
      "outputs": [
        {
          "output_type": "stream",
          "name": "stdout",
          "text": [
            "Enter value of x: 10\n",
            "Enter value of y: 20\n",
            "10\n",
            "20\n",
            "The value of x after swapping : 20\n",
            "The value of y after swapping:  10\n"
          ]
        }
      ]
    },
    {
      "cell_type": "code",
      "source": [
        "# Q.5 Write a Python Program to generate a random number .\n",
        "\n",
        "import random\n",
        "num = random.random()\n",
        "print(num)\n",
        "\n"
      ],
      "metadata": {
        "colab": {
          "base_uri": "https://localhost:8080/"
        },
        "id": "1G6Gzr4VCXpo",
        "outputId": "0890bc96-9636-4a82-ed83-93dc4ff8fa7a"
      },
      "execution_count": 11,
      "outputs": [
        {
          "output_type": "stream",
          "name": "stdout",
          "text": [
            "0.9011044643722269\n"
          ]
        }
      ]
    }
  ]
}