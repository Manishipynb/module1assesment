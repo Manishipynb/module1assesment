{
  "nbformat": 4,
  "nbformat_minor": 0,
  "metadata": {
    "colab": {
      "provenance": [],
      "authorship_tag": "ABX9TyO5ehgqEXvPHzfCRm05quCl",
      "include_colab_link": true
    },
    "kernelspec": {
      "name": "python3",
      "display_name": "Python 3"
    },
    "language_info": {
      "name": "python"
    }
  },
  "cells": [
    {
      "cell_type": "markdown",
      "metadata": {
        "id": "view-in-github",
        "colab_type": "text"
      },
      "source": [
        "<a href=\"https://colab.research.google.com/github/Manishipynb/module1assesment/blob/main/EnergyAnalystAssignment.ipynb\" target=\"_parent\"><img src=\"https://colab.research.google.com/assets/colab-badge.svg\" alt=\"Open In Colab\"/></a>"
      ]
    },
    {
      "cell_type": "markdown",
      "source": [
        "## Q.1\n",
        "## Make a Python Program That Prints Your Name."
      ],
      "metadata": {
        "id": "1SSfqv8sb5L6"
      }
    },
    {
      "cell_type": "code",
      "source": [
        "# A.1\n",
        "\n",
        "name = \"manish\"\n",
        "print(name)"
      ],
      "metadata": {
        "colab": {
          "base_uri": "https://localhost:8080/"
        },
        "id": "WGnFrpJYcFs8",
        "outputId": "194b2647-b86e-497f-fe6b-0cdb5c21bd8b"
      },
      "execution_count": 2,
      "outputs": [
        {
          "output_type": "stream",
          "name": "stdout",
          "text": [
            "manish\n"
          ]
        }
      ]
    },
    {
      "cell_type": "code",
      "source": [
        "# A.1\n",
        "\n",
        "name = input(\"Please Enter Your Name :\")\n",
        "print(f\"Youur Name is : {name} \")"
      ],
      "metadata": {
        "colab": {
          "base_uri": "https://localhost:8080/"
        },
        "id": "AzEJoEZQcO3T",
        "outputId": "5a1895c5-9547-4ac8-ef18-69039d556d18"
      },
      "execution_count": 3,
      "outputs": [
        {
          "output_type": "stream",
          "name": "stdout",
          "text": [
            "Please Enter Your Name :Manish\n",
            "Youur Name is : Manish \n"
          ]
        }
      ]
    },
    {
      "cell_type": "markdown",
      "source": [
        "## Q.2\n",
        "## Make a Python Program that displays the lyrics of songs."
      ],
      "metadata": {
        "id": "8ujzJ_kscbyU"
      }
    },
    {
      "cell_type": "code",
      "source": [
        "# A.2\n",
        "\n",
        "\n",
        "from lyrics_extractor import SongLyrics\n",
        " \n",
        "\n",
        "extract_lyrics = SongLyrics(\"AIzaSewfsdfsdfOq0oTixw\",\"frewrewrfsac\")\n",
        " \n",
        "extract_lyrics.get_lyrics(\"Tujhse Naraz Nahi Zindagi Lyrics\")"
      ],
      "metadata": {
        "id": "eBz7-6LecnoD"
      },
      "execution_count": null,
      "outputs": []
    },
    {
      "cell_type": "markdown",
      "source": [
        "## Q.3\n",
        "## Make a Python Program that displays several numbers."
      ],
      "metadata": {
        "id": "SQbbqZZFdk_4"
      }
    },
    {
      "cell_type": "code",
      "source": [
        "# A.3\n",
        "\n",
        "for i in range(0,51):\n",
        "  print(i , end = \" \")"
      ],
      "metadata": {
        "colab": {
          "base_uri": "https://localhost:8080/"
        },
        "id": "rAdfhAqKdyxt",
        "outputId": "92f3820c-07ec-4ae1-88cd-00a050496e86"
      },
      "execution_count": 7,
      "outputs": [
        {
          "output_type": "stream",
          "name": "stdout",
          "text": [
            "0 1 2 3 4 5 6 7 8 9 10 11 12 13 14 15 16 17 18 19 20 21 22 23 24 25 26 27 28 29 30 31 32 33 34 35 36 37 38 39 40 41 42 43 44 45 46 47 48 49 50 "
          ]
        }
      ]
    },
    {
      "cell_type": "markdown",
      "source": [
        "\n",
        "\n",
        "## Q.4\n",
        "## Make a Python Program that shows and solves the summation of 64 + 32"
      ],
      "metadata": {
        "id": "n0x0drfOeAFV"
      }
    },
    {
      "cell_type": "code",
      "source": [
        "# A.4\n",
        "\n",
        "a = 64\n",
        "b = 32\n",
        "\n",
        "c = a+b\n",
        "\n",
        "print (c)"
      ],
      "metadata": {
        "colab": {
          "base_uri": "https://localhost:8080/"
        },
        "id": "wTATEDSaeQFS",
        "outputId": "38741867-ec0f-4ddf-9197-466f71e16330"
      },
      "execution_count": 8,
      "outputs": [
        {
          "output_type": "stream",
          "name": "stdout",
          "text": [
            "96\n"
          ]
        }
      ]
    },
    {
      "cell_type": "markdown",
      "source": [
        "## Q.5\n",
        "## Do the same as in 2 , but make it sum x + y"
      ],
      "metadata": {
        "id": "80pd5nhue31S"
      }
    },
    {
      "cell_type": "code",
      "source": [
        "# A.5\n",
        "\n",
        "x = int(input(\"please enter the number of your choice :\"))\n",
        "y = int(input(\"please enter the number of your choice :\"))\n",
        "\n",
        "z = x + y\n",
        "\n",
        "print(z)"
      ],
      "metadata": {
        "colab": {
          "base_uri": "https://localhost:8080/"
        },
        "id": "W42kBAHHeWxq",
        "outputId": "9b933a68-1a93-4e4f-ced6-ef3a031acf4a"
      },
      "execution_count": 12,
      "outputs": [
        {
          "output_type": "stream",
          "name": "stdout",
          "text": [
            "please enter the number of your choice :34\n",
            "please enter the number of your choice :56\n",
            "90\n"
          ]
        }
      ]
    },
    {
      "cell_type": "markdown",
      "source": [
        "## Q.6\n",
        "## Make a Program that displays your favourite actor/actress."
      ],
      "metadata": {
        "id": "kn0xzKZ0fGzK"
      }
    },
    {
      "cell_type": "code",
      "source": [
        "# A.6\n",
        "\n",
        "fav_star = input(\"Please Enter Your Favourite Actor / Actress :\")\n",
        "\n",
        "print(f\"Your Favourite Actor / Actress is : {fav_star} \")"
      ],
      "metadata": {
        "colab": {
          "base_uri": "https://localhost:8080/"
        },
        "id": "5aU6dPdufaOs",
        "outputId": "bac8871f-aece-4e9a-dddd-0c99fc1827f0"
      },
      "execution_count": 13,
      "outputs": [
        {
          "output_type": "stream",
          "name": "stdout",
          "text": [
            "Please Enter Your Favourite Actor / Actress :Akshay Kumar\n",
            "Your Favourite Actor / Actress is : Akshay Kumar \n"
          ]
        }
      ]
    },
    {
      "cell_type": "markdown",
      "source": [
        "## Q.7\n",
        "## Try to print the word lucky inside s."
      ],
      "metadata": {
        "id": "vc5iATOSf2Qh"
      }
    },
    {
      "cell_type": "code",
      "source": [
        "# A.7\n",
        "\n",
        "s = \"Lucky\"\n",
        "print(s)"
      ],
      "metadata": {
        "colab": {
          "base_uri": "https://localhost:8080/"
        },
        "id": "9gbNFdqCf-wD",
        "outputId": "5f30e23b-d919-4e1a-cd19-ef8fa85cece3"
      },
      "execution_count": 14,
      "outputs": [
        {
          "output_type": "stream",
          "name": "stdout",
          "text": [
            "Lucky\n"
          ]
        }
      ]
    },
    {
      "cell_type": "markdown",
      "source": [
        "## Q.8\n",
        "## Try to Print the day , month , year in the form \"today is 2/2/2016\""
      ],
      "metadata": {
        "id": "wttOwEl5gD2E"
      }
    },
    {
      "cell_type": "code",
      "source": [
        "# A.8\n",
        "\n",
        "date = input(\"Please Enter Today's date in formate D/M/YYYY : \")\n",
        "print(f\"Today's Date is : {date} \")"
      ],
      "metadata": {
        "colab": {
          "base_uri": "https://localhost:8080/"
        },
        "id": "EXvu6XZ9gfha",
        "outputId": "6d5b45e6-f0e7-4d00-d908-7720c3cb26de"
      },
      "execution_count": 16,
      "outputs": [
        {
          "output_type": "stream",
          "name": "stdout",
          "text": [
            "Please Enter Today's date in formate D/M/YYYY : 2/2/2016\n",
            "Today's Date is : 2/2/2016 \n"
          ]
        }
      ]
    },
    {
      "cell_type": "markdown",
      "source": [
        "## Q.9\n",
        "## Try the Replace Program.\n"
      ],
      "metadata": {
        "id": "gJKqZ05Sg84C"
      }
    },
    {
      "cell_type": "code",
      "source": [
        "# A.9\n",
        "\n",
        "a = \"Hellow World\"\n",
        "print(a)\n",
        "b = a.replace(\"World\" , \"Earth\")\n",
        "print(b)"
      ],
      "metadata": {
        "colab": {
          "base_uri": "https://localhost:8080/"
        },
        "id": "t6I9iOW1hHx0",
        "outputId": "c436accf-e0a8-406f-b80c-3362e96a57f0"
      },
      "execution_count": 19,
      "outputs": [
        {
          "output_type": "stream",
          "name": "stdout",
          "text": [
            "Hellow World\n",
            "Hellow Earth\n"
          ]
        }
      ]
    },
    {
      "cell_type": "markdown",
      "source": [
        "## Q.10\n",
        "## can a string replaced twice ?"
      ],
      "metadata": {
        "id": "v9xYzasnhujZ"
      }
    },
    {
      "cell_type": "code",
      "source": [
        "# A.10\n",
        "\n",
        "a = \"Hellow World\"\n",
        "print(a)\n",
        "b = a.replace(\"World\" , \"Earth\")\n",
        "print(b)\n",
        "c = b.replace(\"Earth\" , \"Planet\")\n",
        "print(c)"
      ],
      "metadata": {
        "colab": {
          "base_uri": "https://localhost:8080/"
        },
        "id": "nOw8lrBjh3DE",
        "outputId": "1a3f296d-39a2-4c5c-b30c-0c4935bdb699"
      },
      "execution_count": 21,
      "outputs": [
        {
          "output_type": "stream",
          "name": "stdout",
          "text": [
            "Hellow World\n",
            "Hellow Earth\n",
            "Hellow Planet\n"
          ]
        }
      ]
    },
    {
      "cell_type": "markdown",
      "source": [
        "## Q.11\n",
        "## Does Replacing Only work with words or also phrases ?"
      ],
      "metadata": {
        "id": "ikVseJ2miDYB"
      }
    },
    {
      "cell_type": "code",
      "source": [
        "# A.11\n",
        "\n",
        "a = \"I love My Country Very Much\"\n",
        "print(a)\n",
        "b = a.replace(\"I love My Country Very Much\" , \"World Is Great\")\n",
        "print(b)"
      ],
      "metadata": {
        "colab": {
          "base_uri": "https://localhost:8080/"
        },
        "id": "Ft1zuot0iXPi",
        "outputId": "c063cacd-67c9-4c34-ffdb-a8068cf15ff0"
      },
      "execution_count": 23,
      "outputs": [
        {
          "output_type": "stream",
          "name": "stdout",
          "text": [
            "I love My Country Very Much\n",
            "World Is Great\n"
          ]
        }
      ]
    },
    {
      "cell_type": "markdown",
      "source": [
        "## Q.12\n",
        "## Find our if String is Case Sensitive."
      ],
      "metadata": {
        "id": "H1uXJn3xis0-"
      }
    },
    {
      "cell_type": "code",
      "source": [
        "# A.12\n",
        "\n",
        "a = \"hello\"\n",
        "b = \"Hello\"\n",
        "\n",
        "a == b"
      ],
      "metadata": {
        "colab": {
          "base_uri": "https://localhost:8080/"
        },
        "id": "I8hW0Jyzi1xm",
        "outputId": "bb325cdc-cf3d-4e7f-8213-19a8debed130"
      },
      "execution_count": 24,
      "outputs": [
        {
          "output_type": "execute_result",
          "data": {
            "text/plain": [
              "False"
            ]
          },
          "metadata": {},
          "execution_count": 24
        }
      ]
    },
    {
      "cell_type": "code",
      "source": [
        "# A.12\n",
        "\n",
        "a = \"hello\"\n",
        "b = \"hello\"\n",
        "\n",
        "a == b"
      ],
      "metadata": {
        "colab": {
          "base_uri": "https://localhost:8080/"
        },
        "id": "d6xNiLDii-Fw",
        "outputId": "c69c09cb-e946-47d4-98ee-f1d18b6a4daf"
      },
      "execution_count": 25,
      "outputs": [
        {
          "output_type": "execute_result",
          "data": {
            "text/plain": [
              "True"
            ]
          },
          "metadata": {},
          "execution_count": 25
        }
      ]
    },
    {
      "cell_type": "markdown",
      "source": [
        "## Q.13\n",
        "## Create a List of words and join them"
      ],
      "metadata": {
        "id": "BUI7VORpjCwY"
      }
    },
    {
      "cell_type": "code",
      "source": [
        "# A.13\n",
        "\n",
        "a = [\"hello\"]\n",
        "b = [\"world\"]\n",
        "\n",
        "print(a+b)"
      ],
      "metadata": {
        "colab": {
          "base_uri": "https://localhost:8080/"
        },
        "id": "ZAAToAk1kCdA",
        "outputId": "c75f3405-01d9-43ad-c3e6-733fbf600e0f"
      },
      "execution_count": 26,
      "outputs": [
        {
          "output_type": "stream",
          "name": "stdout",
          "text": [
            "['hello', 'world']\n"
          ]
        }
      ]
    },
    {
      "cell_type": "code",
      "source": [
        "a = \"h e l l o\"\n",
        "b = a.replace(\" \" , \"_\")\n",
        "print(b)"
      ],
      "metadata": {
        "colab": {
          "base_uri": "https://localhost:8080/"
        },
        "id": "18fyK5oxkL9f",
        "outputId": "f666bef4-bdc7-4359-e02d-3fba4ea7014e"
      },
      "execution_count": 30,
      "outputs": [
        {
          "output_type": "stream",
          "name": "stdout",
          "text": [
            "h_e_l_l_o\n"
          ]
        }
      ]
    },
    {
      "cell_type": "code",
      "source": [
        "a = \"python\"\n",
        "for i in a:\n",
        "  print(i)"
      ],
      "metadata": {
        "colab": {
          "base_uri": "https://localhost:8080/"
        },
        "id": "I1Evs6F7lYU3",
        "outputId": "c2452d94-2671-4741-f524-fabab2493152"
      },
      "execution_count": 31,
      "outputs": [
        {
          "output_type": "stream",
          "name": "stdout",
          "text": [
            "p\n",
            "y\n",
            "t\n",
            "h\n",
            "o\n",
            "n\n"
          ]
        }
      ]
    }
  ]
}