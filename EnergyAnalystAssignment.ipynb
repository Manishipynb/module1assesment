{
  "nbformat": 4,
  "nbformat_minor": 0,
  "metadata": {
    "colab": {
      "provenance": [],
      "authorship_tag": "ABX9TyPWfZODaA22ZjNPuiC0/erC",
      "include_colab_link": true
    },
    "kernelspec": {
      "name": "python3",
      "display_name": "Python 3"
    },
    "language_info": {
      "name": "python"
    }
  },
  "cells": [
    {
      "cell_type": "markdown",
      "metadata": {
        "id": "view-in-github",
        "colab_type": "text"
      },
      "source": [
        "<a href=\"https://colab.research.google.com/github/Manishipynb/module1assesment/blob/main/EnergyAnalystAssignment.ipynb\" target=\"_parent\"><img src=\"https://colab.research.google.com/assets/colab-badge.svg\" alt=\"Open In Colab\"/></a>"
      ]
    },
    {
      "cell_type": "markdown",
      "source": [
        "## Q.1\n",
        "## Make a Python Program That Prints Your Name."
      ],
      "metadata": {
        "id": "1SSfqv8sb5L6"
      }
    },
    {
      "cell_type": "code",
      "source": [
        "# A.1\n",
        "\n",
        "name = \"manish\"\n",
        "print(name)"
      ],
      "metadata": {
        "colab": {
          "base_uri": "https://localhost:8080/"
        },
        "id": "WGnFrpJYcFs8",
        "outputId": "194b2647-b86e-497f-fe6b-0cdb5c21bd8b"
      },
      "execution_count": null,
      "outputs": [
        {
          "output_type": "stream",
          "name": "stdout",
          "text": [
            "manish\n"
          ]
        }
      ]
    },
    {
      "cell_type": "code",
      "source": [
        "# A.1\n",
        "\n",
        "name = input(\"Please Enter Your Name :\")\n",
        "print(f\"Youur Name is : {name} \")"
      ],
      "metadata": {
        "colab": {
          "base_uri": "https://localhost:8080/"
        },
        "id": "AzEJoEZQcO3T",
        "outputId": "5a1895c5-9547-4ac8-ef18-69039d556d18"
      },
      "execution_count": null,
      "outputs": [
        {
          "output_type": "stream",
          "name": "stdout",
          "text": [
            "Please Enter Your Name :Manish\n",
            "Youur Name is : Manish \n"
          ]
        }
      ]
    },
    {
      "cell_type": "markdown",
      "source": [
        "## Q.2\n",
        "## Make a Python Program that displays the lyrics of songs."
      ],
      "metadata": {
        "id": "8ujzJ_kscbyU"
      }
    },
    {
      "cell_type": "code",
      "source": [
        "# A.2\n",
        "\n",
        "\n",
        "from lyrics_extractor import SongLyrics\n",
        " \n",
        "\n",
        "extract_lyrics = SongLyrics(\"AIzaSewfsdfsdfOq0oTixw\",\"frewrewrfsac\")\n",
        " \n",
        "extract_lyrics.get_lyrics(\"Tujhse Naraz Nahi Zindagi Lyrics\")"
      ],
      "metadata": {
        "id": "eBz7-6LecnoD"
      },
      "execution_count": null,
      "outputs": []
    },
    {
      "cell_type": "markdown",
      "source": [
        "## Q.3\n",
        "## Make a Python Program that displays several numbers."
      ],
      "metadata": {
        "id": "SQbbqZZFdk_4"
      }
    },
    {
      "cell_type": "code",
      "source": [
        "# A.3\n",
        "\n",
        "for i in range(0,51):\n",
        "  print(i , end = \" \")"
      ],
      "metadata": {
        "colab": {
          "base_uri": "https://localhost:8080/"
        },
        "id": "rAdfhAqKdyxt",
        "outputId": "92f3820c-07ec-4ae1-88cd-00a050496e86"
      },
      "execution_count": null,
      "outputs": [
        {
          "output_type": "stream",
          "name": "stdout",
          "text": [
            "0 1 2 3 4 5 6 7 8 9 10 11 12 13 14 15 16 17 18 19 20 21 22 23 24 25 26 27 28 29 30 31 32 33 34 35 36 37 38 39 40 41 42 43 44 45 46 47 48 49 50 "
          ]
        }
      ]
    },
    {
      "cell_type": "markdown",
      "source": [
        "\n",
        "\n",
        "## Q.4\n",
        "## Make a Python Program that shows and solves the summation of 64 + 32"
      ],
      "metadata": {
        "id": "n0x0drfOeAFV"
      }
    },
    {
      "cell_type": "code",
      "source": [
        "# A.4\n",
        "\n",
        "a = 64\n",
        "b = 32\n",
        "\n",
        "c = a+b\n",
        "\n",
        "print (c)"
      ],
      "metadata": {
        "colab": {
          "base_uri": "https://localhost:8080/"
        },
        "id": "wTATEDSaeQFS",
        "outputId": "38741867-ec0f-4ddf-9197-466f71e16330"
      },
      "execution_count": null,
      "outputs": [
        {
          "output_type": "stream",
          "name": "stdout",
          "text": [
            "96\n"
          ]
        }
      ]
    },
    {
      "cell_type": "markdown",
      "source": [
        "## Q.5\n",
        "## Do the same as in 2 , but make it sum x + y"
      ],
      "metadata": {
        "id": "80pd5nhue31S"
      }
    },
    {
      "cell_type": "code",
      "source": [
        "# A.5\n",
        "\n",
        "x = int(input(\"please enter the number of your choice :\"))\n",
        "y = int(input(\"please enter the number of your choice :\"))\n",
        "\n",
        "z = x + y\n",
        "\n",
        "print(z)"
      ],
      "metadata": {
        "colab": {
          "base_uri": "https://localhost:8080/"
        },
        "id": "W42kBAHHeWxq",
        "outputId": "9b933a68-1a93-4e4f-ced6-ef3a031acf4a"
      },
      "execution_count": null,
      "outputs": [
        {
          "output_type": "stream",
          "name": "stdout",
          "text": [
            "please enter the number of your choice :34\n",
            "please enter the number of your choice :56\n",
            "90\n"
          ]
        }
      ]
    },
    {
      "cell_type": "markdown",
      "source": [
        "## Q.6\n",
        "## Make a Program that displays your favourite actor/actress."
      ],
      "metadata": {
        "id": "kn0xzKZ0fGzK"
      }
    },
    {
      "cell_type": "code",
      "source": [
        "# A.6\n",
        "\n",
        "fav_star = input(\"Please Enter Your Favourite Actor / Actress :\")\n",
        "\n",
        "print(f\"Your Favourite Actor / Actress is : {fav_star} \")"
      ],
      "metadata": {
        "colab": {
          "base_uri": "https://localhost:8080/"
        },
        "id": "5aU6dPdufaOs",
        "outputId": "bac8871f-aece-4e9a-dddd-0c99fc1827f0"
      },
      "execution_count": null,
      "outputs": [
        {
          "output_type": "stream",
          "name": "stdout",
          "text": [
            "Please Enter Your Favourite Actor / Actress :Akshay Kumar\n",
            "Your Favourite Actor / Actress is : Akshay Kumar \n"
          ]
        }
      ]
    },
    {
      "cell_type": "markdown",
      "source": [
        "## Q.7\n",
        "## Try to print the word lucky inside s."
      ],
      "metadata": {
        "id": "vc5iATOSf2Qh"
      }
    },
    {
      "cell_type": "code",
      "source": [
        "# A.7\n",
        "\n",
        "s = \"Lucky\"\n",
        "print(s)"
      ],
      "metadata": {
        "colab": {
          "base_uri": "https://localhost:8080/"
        },
        "id": "9gbNFdqCf-wD",
        "outputId": "5f30e23b-d919-4e1a-cd19-ef8fa85cece3"
      },
      "execution_count": null,
      "outputs": [
        {
          "output_type": "stream",
          "name": "stdout",
          "text": [
            "Lucky\n"
          ]
        }
      ]
    },
    {
      "cell_type": "markdown",
      "source": [
        "## Q.8\n",
        "## Try to Print the day , month , year in the form \"today is 2/2/2016\""
      ],
      "metadata": {
        "id": "wttOwEl5gD2E"
      }
    },
    {
      "cell_type": "code",
      "source": [
        "# A.8\n",
        "\n",
        "date = input(\"Please Enter Today's date in formate D/M/YYYY : \")\n",
        "print(f\"Today's Date is : {date} \")"
      ],
      "metadata": {
        "colab": {
          "base_uri": "https://localhost:8080/"
        },
        "id": "EXvu6XZ9gfha",
        "outputId": "6d5b45e6-f0e7-4d00-d908-7720c3cb26de"
      },
      "execution_count": null,
      "outputs": [
        {
          "output_type": "stream",
          "name": "stdout",
          "text": [
            "Please Enter Today's date in formate D/M/YYYY : 2/2/2016\n",
            "Today's Date is : 2/2/2016 \n"
          ]
        }
      ]
    },
    {
      "cell_type": "markdown",
      "source": [
        "## Q.9\n",
        "## Try the Replace Program.\n"
      ],
      "metadata": {
        "id": "gJKqZ05Sg84C"
      }
    },
    {
      "cell_type": "code",
      "source": [
        "# A.9\n",
        "\n",
        "a = \"Hellow World\"\n",
        "print(a)\n",
        "b = a.replace(\"World\" , \"Earth\")\n",
        "print(b)"
      ],
      "metadata": {
        "colab": {
          "base_uri": "https://localhost:8080/"
        },
        "id": "t6I9iOW1hHx0",
        "outputId": "c436accf-e0a8-406f-b80c-3362e96a57f0"
      },
      "execution_count": null,
      "outputs": [
        {
          "output_type": "stream",
          "name": "stdout",
          "text": [
            "Hellow World\n",
            "Hellow Earth\n"
          ]
        }
      ]
    },
    {
      "cell_type": "markdown",
      "source": [
        "## Q.10\n",
        "## can a string replaced twice ?"
      ],
      "metadata": {
        "id": "v9xYzasnhujZ"
      }
    },
    {
      "cell_type": "code",
      "source": [
        "# A.10\n",
        "\n",
        "a = \"Hellow World\"\n",
        "print(a)\n",
        "b = a.replace(\"World\" , \"Earth\")\n",
        "print(b)\n",
        "c = b.replace(\"Earth\" , \"Planet\")\n",
        "print(c)"
      ],
      "metadata": {
        "colab": {
          "base_uri": "https://localhost:8080/"
        },
        "id": "nOw8lrBjh3DE",
        "outputId": "1a3f296d-39a2-4c5c-b30c-0c4935bdb699"
      },
      "execution_count": null,
      "outputs": [
        {
          "output_type": "stream",
          "name": "stdout",
          "text": [
            "Hellow World\n",
            "Hellow Earth\n",
            "Hellow Planet\n"
          ]
        }
      ]
    },
    {
      "cell_type": "markdown",
      "source": [
        "## Q.11\n",
        "## Does Replacing Only work with words or also phrases ?"
      ],
      "metadata": {
        "id": "ikVseJ2miDYB"
      }
    },
    {
      "cell_type": "code",
      "source": [
        "# A.11\n",
        "\n",
        "a = \"I love My Country Very Much\"\n",
        "print(a)\n",
        "b = a.replace(\"I love My Country Very Much\" , \"World Is Great\")\n",
        "print(b)"
      ],
      "metadata": {
        "colab": {
          "base_uri": "https://localhost:8080/"
        },
        "id": "Ft1zuot0iXPi",
        "outputId": "c063cacd-67c9-4c34-ffdb-a8068cf15ff0"
      },
      "execution_count": null,
      "outputs": [
        {
          "output_type": "stream",
          "name": "stdout",
          "text": [
            "I love My Country Very Much\n",
            "World Is Great\n"
          ]
        }
      ]
    },
    {
      "cell_type": "markdown",
      "source": [
        "## Q.12\n",
        "## Find our if String is Case Sensitive."
      ],
      "metadata": {
        "id": "H1uXJn3xis0-"
      }
    },
    {
      "cell_type": "code",
      "source": [
        "# A.12\n",
        "\n",
        "a = \"hello\"\n",
        "b = \"Hello\"\n",
        "\n",
        "a == b"
      ],
      "metadata": {
        "colab": {
          "base_uri": "https://localhost:8080/"
        },
        "id": "I8hW0Jyzi1xm",
        "outputId": "bb325cdc-cf3d-4e7f-8213-19a8debed130"
      },
      "execution_count": null,
      "outputs": [
        {
          "output_type": "execute_result",
          "data": {
            "text/plain": [
              "False"
            ]
          },
          "metadata": {},
          "execution_count": 24
        }
      ]
    },
    {
      "cell_type": "code",
      "source": [
        "# A.12\n",
        "\n",
        "a = \"hello\"\n",
        "b = \"hello\"\n",
        "\n",
        "a == b"
      ],
      "metadata": {
        "colab": {
          "base_uri": "https://localhost:8080/"
        },
        "id": "d6xNiLDii-Fw",
        "outputId": "c69c09cb-e946-47d4-98ee-f1d18b6a4daf"
      },
      "execution_count": null,
      "outputs": [
        {
          "output_type": "execute_result",
          "data": {
            "text/plain": [
              "True"
            ]
          },
          "metadata": {},
          "execution_count": 25
        }
      ]
    },
    {
      "cell_type": "markdown",
      "source": [
        "## Q.13\n",
        "## Create a List of words and join them"
      ],
      "metadata": {
        "id": "BUI7VORpjCwY"
      }
    },
    {
      "cell_type": "code",
      "source": [
        "# A.13\n",
        "\n",
        "a = [\"hello\"]\n",
        "b = [\"world\"]\n",
        "\n",
        "print(a+b)"
      ],
      "metadata": {
        "colab": {
          "base_uri": "https://localhost:8080/"
        },
        "id": "ZAAToAk1kCdA",
        "outputId": "c75f3405-01d9-43ad-c3e6-733fbf600e0f"
      },
      "execution_count": null,
      "outputs": [
        {
          "output_type": "stream",
          "name": "stdout",
          "text": [
            "['hello', 'world']\n"
          ]
        }
      ]
    },
    {
      "cell_type": "code",
      "source": [
        "a = \"h e l l o\"\n",
        "b = a.replace(\" \" , \"_\")\n",
        "print(b)"
      ],
      "metadata": {
        "colab": {
          "base_uri": "https://localhost:8080/"
        },
        "id": "18fyK5oxkL9f",
        "outputId": "f666bef4-bdc7-4359-e02d-3fba4ea7014e"
      },
      "execution_count": null,
      "outputs": [
        {
          "output_type": "stream",
          "name": "stdout",
          "text": [
            "h_e_l_l_o\n"
          ]
        }
      ]
    },
    {
      "cell_type": "code",
      "source": [
        "a = \"python\"\n",
        "for i in a:\n",
        "  print(i)"
      ],
      "metadata": {
        "colab": {
          "base_uri": "https://localhost:8080/"
        },
        "id": "I1Evs6F7lYU3",
        "outputId": "c2452d94-2671-4741-f524-fabab2493152"
      },
      "execution_count": null,
      "outputs": [
        {
          "output_type": "stream",
          "name": "stdout",
          "text": [
            "p\n",
            "y\n",
            "t\n",
            "h\n",
            "o\n",
            "n\n"
          ]
        }
      ]
    },
    {
      "cell_type": "markdown",
      "source": [
        "## Q.14\n",
        "## Try changing the sepearator string from a space to an undersocre."
      ],
      "metadata": {
        "id": "JPky-kVxCfxj"
      }
    },
    {
      "cell_type": "code",
      "source": [
        "# A.14\n",
        "\n",
        "str_1 = \"Hello World World is Beautifull Let's make it Green\"\n",
        "print(str_1)\n",
        "\n",
        "result = str_1.replace(' ', '_')\n",
        "\n",
        "print(result)"
      ],
      "metadata": {
        "colab": {
          "base_uri": "https://localhost:8080/"
        },
        "id": "QqcpFDsCCs3O",
        "outputId": "ac47458a-0273-4aa9-8cda-9efa9c50ad33"
      },
      "execution_count": 2,
      "outputs": [
        {
          "output_type": "stream",
          "name": "stdout",
          "text": [
            "Hello World World is Beautifull Let's make it Green\n",
            "Hello_World_World_is_Beautifull_Let's_make_it_Green\n"
          ]
        }
      ]
    },
    {
      "cell_type": "markdown",
      "source": [
        "## Q.15\n",
        "## Can a String be split on multiple Characters ?"
      ],
      "metadata": {
        "id": "bHcTCVKfDJLi"
      }
    },
    {
      "cell_type": "code",
      "source": [
        "# A.15\n",
        "\n",
        "test_str = \"Hello_world_will_take_care_Bye)\"\n",
        " \n",
        "print(f\"The original string is : {test_str} \")\n",
        " \n",
        "result  = test_str.replace('_', ' ').replace(', ', ' ').split()\n",
        " \n",
        "print(\"The list after performing split functionality : \" + str(result))"
      ],
      "metadata": {
        "colab": {
          "base_uri": "https://localhost:8080/"
        },
        "id": "lWHoeQEqEXuS",
        "outputId": "ca06bd7f-fae4-4d75-b706-002c23da4d59"
      },
      "execution_count": 5,
      "outputs": [
        {
          "output_type": "stream",
          "name": "stdout",
          "text": [
            "The original string is : Hello_world_will_take_care_Bye) \n",
            "The list after performing split functionality : ['Hello', 'world', 'will', 'take', 'care', 'Bye)']\n"
          ]
        }
      ]
    },
    {
      "cell_type": "markdown",
      "source": [
        "## Q.16\n",
        "## Can you split a string ?\n",
        "## this string ?: World , Earth , Aamerica , Canada"
      ],
      "metadata": {
        "id": "9YGI5XgAFAAj"
      }
    },
    {
      "cell_type": "code",
      "source": [
        "# A.16\n",
        "\n",
        "string = \"World , Earth , America , Canada \"\n",
        "new_string = string.split(\",\")\n",
        "print(new_string)"
      ],
      "metadata": {
        "colab": {
          "base_uri": "https://localhost:8080/"
        },
        "id": "XNujCSTBFUZV",
        "outputId": "f6feccc3-792e-460c-fc2e-f878fb5b8e3c"
      },
      "execution_count": 6,
      "outputs": [
        {
          "output_type": "stream",
          "name": "stdout",
          "text": [
            "['World ', ' Earth ', ' America ', ' Canada ']\n"
          ]
        }
      ]
    },
    {
      "cell_type": "code",
      "source": [
        "# A.16\n",
        "\n",
        "string = \"World , Earth , America , Canada \"\n",
        "\n",
        "for i in string:\n",
        "  print(i , end=\" \")"
      ],
      "metadata": {
        "colab": {
          "base_uri": "https://localhost:8080/"
        },
        "id": "3B9S47KUFtJi",
        "outputId": "ec6a5923-ea40-4482-950d-9517f4f05fa8"
      },
      "execution_count": 8,
      "outputs": [
        {
          "output_type": "stream",
          "name": "stdout",
          "text": [
            "W o r l d   ,   E a r t h   ,   A m e r i c a   ,   C a n a d a   "
          ]
        }
      ]
    },
    {
      "cell_type": "markdown",
      "source": [
        "## Q.17\n",
        "## Give an Article , Can you split it on based on phreases ?"
      ],
      "metadata": {
        "id": "BoBzIbxgF3QO"
      }
    },
    {
      "cell_type": "markdown",
      "source": [
        "### A.17\n",
        "\n",
        "### yes , with help of split() method and  for loop we can split on phreases."
      ],
      "metadata": {
        "id": "U9GVRiwXGUE6"
      }
    },
    {
      "cell_type": "code",
      "source": [
        "# A.17\n",
        "\n",
        "s = \"Its to easy\"\n",
        "words = s.split()\n",
        "print(words)"
      ],
      "metadata": {
        "colab": {
          "base_uri": "https://localhost:8080/"
        },
        "id": "2QxP2h-1GDiJ",
        "outputId": "a18ab3aa-f35f-47c6-ee1d-3d3a82f55c76"
      },
      "execution_count": 9,
      "outputs": [
        {
          "output_type": "stream",
          "name": "stdout",
          "text": [
            "['Its', 'to', 'easy']\n"
          ]
        }
      ]
    },
    {
      "cell_type": "code",
      "source": [
        "# A.17\n",
        "\n",
        "s = \"Its to easy\"\n",
        "\n",
        "for i in s:\n",
        "  print(i , end = \" \")"
      ],
      "metadata": {
        "colab": {
          "base_uri": "https://localhost:8080/"
        },
        "id": "4N1O9O97GgLK",
        "outputId": "5132e098-fc50-412a-90d3-dae550b35ce4"
      },
      "execution_count": 10,
      "outputs": [
        {
          "output_type": "stream",
          "name": "stdout",
          "text": [
            "I t s   t o   e a s y "
          ]
        }
      ]
    },
    {
      "cell_type": "markdown",
      "source": [
        "## Q.18\n",
        "## Make A Program that creates a random number and stores it into x."
      ],
      "metadata": {
        "id": "VRRL7DqyHYIb"
      }
    },
    {
      "cell_type": "code",
      "source": [
        "# A.18\n",
        "\n",
        "import random\n",
        "\n",
        "x = random.randint(0,100)\n",
        "\n",
        "print(x)"
      ],
      "metadata": {
        "colab": {
          "base_uri": "https://localhost:8080/"
        },
        "id": "o77l96KyHm0J",
        "outputId": "a132c48c-d371-4753-c1fc-6a9ba4fc9ba7"
      },
      "execution_count": 13,
      "outputs": [
        {
          "output_type": "stream",
          "name": "stdout",
          "text": [
            "28\n"
          ]
        }
      ]
    },
    {
      "cell_type": "markdown",
      "source": [
        "## Q.19\n",
        "## Make a Program that prints 3 random numbders."
      ],
      "metadata": {
        "id": "LwpYD6TpIIRh"
      }
    },
    {
      "cell_type": "code",
      "source": [
        "# A.19\n",
        "\n",
        "import random\n",
        "randomlist = []\n",
        "for i in range(0,3):\n",
        " n = random.randint(1,30)\n",
        " randomlist.append(n)\n",
        "print(randomlist)"
      ],
      "metadata": {
        "colab": {
          "base_uri": "https://localhost:8080/"
        },
        "id": "FUBCxN_9IQMl",
        "outputId": "5de59952-643c-4f56-a158-7ef0201cbdf6"
      },
      "execution_count": 16,
      "outputs": [
        {
          "output_type": "stream",
          "name": "stdout",
          "text": [
            "[20, 10, 17]\n"
          ]
        }
      ]
    },
    {
      "cell_type": "markdown",
      "source": [
        "## Q.20\n",
        "## Create a Program that generates 100 random numbers and find the frequency of each numbers."
      ],
      "metadata": {
        "id": "r5mXnJCGJBCb"
      }
    },
    {
      "cell_type": "code",
      "source": [
        "# A.20\n",
        "\n",
        "import random\n",
        "randomlist = []\n",
        "for i in range(0,100):\n",
        " n = random.randint(1,1000)\n",
        " randomlist.append(n)\n",
        "print(randomlist)"
      ],
      "metadata": {
        "colab": {
          "base_uri": "https://localhost:8080/"
        },
        "id": "DK6AvLnSJP5y",
        "outputId": "18fefd43-3919-4595-c1cd-03c1f47bb90b"
      },
      "execution_count": 17,
      "outputs": [
        {
          "output_type": "stream",
          "name": "stdout",
          "text": [
            "[773, 296, 95, 464, 515, 184, 252, 612, 632, 157, 280, 486, 308, 872, 25, 407, 770, 953, 989, 139, 350, 219, 155, 424, 23, 934, 846, 59, 150, 814, 155, 342, 334, 662, 206, 84, 786, 448, 431, 627, 605, 334, 864, 191, 297, 38, 801, 140, 176, 724, 244, 983, 516, 128, 233, 511, 80, 972, 604, 997, 891, 843, 662, 37, 103, 350, 826, 963, 597, 805, 894, 385, 908, 995, 775, 921, 616, 233, 380, 673, 473, 797, 702, 40, 973, 966, 631, 645, 310, 547, 970, 608, 912, 367, 218, 980, 450, 177, 855, 603]\n"
          ]
        }
      ]
    },
    {
      "cell_type": "code",
      "source": [
        "def CountFrequency(my_list):\n",
        " \n",
        "    \n",
        "    freq = {}\n",
        "    for item in my_list:\n",
        "        if (item in freq):\n",
        "            freq[item] += 1\n",
        "        else:\n",
        "            freq[item] = 1\n",
        " \n",
        "    for key, value in freq.items():\n",
        "        print (\"% d : % d\"%(key, value))\n",
        " \n",
        "\n",
        "if __name__ == \"__main__\":\n",
        "    my_list = randomlist\n",
        " \n",
        "    CountFrequency(my_list)"
      ],
      "metadata": {
        "colab": {
          "base_uri": "https://localhost:8080/"
        },
        "id": "923v3qqpJmMt",
        "outputId": "09f0be48-2218-422c-eda9-cf774a5a7fef"
      },
      "execution_count": 18,
      "outputs": [
        {
          "output_type": "stream",
          "name": "stdout",
          "text": [
            " 773 :  1\n",
            " 296 :  1\n",
            " 95 :  1\n",
            " 464 :  1\n",
            " 515 :  1\n",
            " 184 :  1\n",
            " 252 :  1\n",
            " 612 :  1\n",
            " 632 :  1\n",
            " 157 :  1\n",
            " 280 :  1\n",
            " 486 :  1\n",
            " 308 :  1\n",
            " 872 :  1\n",
            " 25 :  1\n",
            " 407 :  1\n",
            " 770 :  1\n",
            " 953 :  1\n",
            " 989 :  1\n",
            " 139 :  1\n",
            " 350 :  2\n",
            " 219 :  1\n",
            " 155 :  2\n",
            " 424 :  1\n",
            " 23 :  1\n",
            " 934 :  1\n",
            " 846 :  1\n",
            " 59 :  1\n",
            " 150 :  1\n",
            " 814 :  1\n",
            " 342 :  1\n",
            " 334 :  2\n",
            " 662 :  2\n",
            " 206 :  1\n",
            " 84 :  1\n",
            " 786 :  1\n",
            " 448 :  1\n",
            " 431 :  1\n",
            " 627 :  1\n",
            " 605 :  1\n",
            " 864 :  1\n",
            " 191 :  1\n",
            " 297 :  1\n",
            " 38 :  1\n",
            " 801 :  1\n",
            " 140 :  1\n",
            " 176 :  1\n",
            " 724 :  1\n",
            " 244 :  1\n",
            " 983 :  1\n",
            " 516 :  1\n",
            " 128 :  1\n",
            " 233 :  2\n",
            " 511 :  1\n",
            " 80 :  1\n",
            " 972 :  1\n",
            " 604 :  1\n",
            " 997 :  1\n",
            " 891 :  1\n",
            " 843 :  1\n",
            " 37 :  1\n",
            " 103 :  1\n",
            " 826 :  1\n",
            " 963 :  1\n",
            " 597 :  1\n",
            " 805 :  1\n",
            " 894 :  1\n",
            " 385 :  1\n",
            " 908 :  1\n",
            " 995 :  1\n",
            " 775 :  1\n",
            " 921 :  1\n",
            " 616 :  1\n",
            " 380 :  1\n",
            " 673 :  1\n",
            " 473 :  1\n",
            " 797 :  1\n",
            " 702 :  1\n",
            " 40 :  1\n",
            " 973 :  1\n",
            " 966 :  1\n",
            " 631 :  1\n",
            " 645 :  1\n",
            " 310 :  1\n",
            " 547 :  1\n",
            " 970 :  1\n",
            " 608 :  1\n",
            " 912 :  1\n",
            " 367 :  1\n",
            " 218 :  1\n",
            " 980 :  1\n",
            " 450 :  1\n",
            " 177 :  1\n",
            " 855 :  1\n",
            " 603 :  1\n"
          ]
        }
      ]
    },
    {
      "cell_type": "markdown",
      "source": [
        "## Q.21\n",
        "## Make a Program that asks for a phone number."
      ],
      "metadata": {
        "id": "utRqMnDlJ3J-"
      }
    },
    {
      "cell_type": "code",
      "source": [
        "# A.21\n",
        "\n",
        "phone_number = input(\"Please Enter Your Phone Nummber : \")\n",
        "\n",
        "print(f\" Your Phone Number is : {phone_number} \")"
      ],
      "metadata": {
        "colab": {
          "base_uri": "https://localhost:8080/"
        },
        "id": "9n6TjgnfKLlq",
        "outputId": "a36c572f-a78a-4030-99f4-f6a0af543d6d"
      },
      "execution_count": 19,
      "outputs": [
        {
          "output_type": "stream",
          "name": "stdout",
          "text": [
            "Please Enter Your Phone Nummber : 9825316216\n",
            " Your Phone Number is : 9825316216 \n"
          ]
        }
      ]
    },
    {
      "cell_type": "markdown",
      "source": [
        "## Q.22\n",
        "## Make a Program That ask's the user's preferred programming language."
      ],
      "metadata": {
        "id": "6GO7MKi3KifT"
      }
    },
    {
      "cell_type": "code",
      "source": [
        "# A.22\n",
        "\n",
        "print(\"Please Select your Preferred Programming Language :\")\n",
        "print(\"1.Python 2. Java  3.C++ 4.SQL\")\n",
        "\n",
        "choice = input(\"Please Select Your Preferred Programming Language from List :\")\n",
        "\n",
        "print(f\"Your Preferred Programming Language from List is : {choice} \")"
      ],
      "metadata": {
        "colab": {
          "base_uri": "https://localhost:8080/"
        },
        "id": "eulNN8afKwuR",
        "outputId": "dd498c16-b43c-47e0-d65a-58dd55fd1f49"
      },
      "execution_count": 20,
      "outputs": [
        {
          "output_type": "stream",
          "name": "stdout",
          "text": [
            "Please Select your Preferred Programming Language :\n",
            "1.Python 2. Java  3.C++ 4.SQL\n",
            "Please Select Your Preferred Programming Language from List :python\n",
            "Your Preferred Programming Language from List is : python \n"
          ]
        }
      ]
    },
    {
      "cell_type": "markdown",
      "source": [
        "## Q.23\n",
        "## Make a Program that asks the number between 1 to 10.if number is out of the range the program should display \"Invalid Number\"."
      ],
      "metadata": {
        "id": "cXydrZoQLSvZ"
      }
    },
    {
      "cell_type": "code",
      "source": [
        "# A.23\n",
        "\n",
        "choice = int(input(\"Please Enter The Number Of Your Choice between 1 to 10 :\"))\n",
        "\n",
        "if choice > 10 or choice < 1:\n",
        "  print(\"INVALID NUMBER\")\n",
        "else:\n",
        "  print(\"VALID NUMBER\")"
      ],
      "metadata": {
        "colab": {
          "base_uri": "https://localhost:8080/"
        },
        "id": "hw8nR-rbLoQ2",
        "outputId": "7621f478-3398-4165-90fb-3f6365dfce9f"
      },
      "execution_count": 29,
      "outputs": [
        {
          "output_type": "stream",
          "name": "stdout",
          "text": [
            "Please Enter The Number Of Your Choice between 1 to 10 :15\n",
            "INVALID NUMBER\n"
          ]
        }
      ]
    },
    {
      "cell_type": "markdown",
      "source": [
        "## Q.24\n",
        "## Make a Program that asks for password"
      ],
      "metadata": {
        "id": "IjK2OEU1MwZ5"
      }
    },
    {
      "cell_type": "code",
      "source": [
        "# A.24\n",
        "\n",
        "password = input(\"Please Enter Your Valid Passowrd :\")\n",
        "\n",
        "print(f\"Your password is : {password} \")"
      ],
      "metadata": {
        "colab": {
          "base_uri": "https://localhost:8080/"
        },
        "id": "nCm9Kf0kM2sK",
        "outputId": "97848282-166f-4fa0-ada4-4c41d8e81962"
      },
      "execution_count": 30,
      "outputs": [
        {
          "output_type": "stream",
          "name": "stdout",
          "text": [
            "Please Enter Your Valid Passowrd :manishpatel\n",
            "Your password is : manishpatel \n"
          ]
        }
      ]
    },
    {
      "cell_type": "markdown",
      "source": [
        "## Q.25\n",
        "## Make a Program that list the countires in the set."
      ],
      "metadata": {
        "id": "PosYVMSoND4h"
      }
    },
    {
      "cell_type": "code",
      "source": [
        "# A.25\n",
        "\n",
        "clist = ['CANADA','USA' , 'MEXICO' , 'AUSTRALIA']\n",
        "\n",
        "for i in clist:\n",
        "  print(i)"
      ],
      "metadata": {
        "colab": {
          "base_uri": "https://localhost:8080/"
        },
        "id": "1FSAJVaWNSAB",
        "outputId": "eb2c5baa-c332-4c41-f314-2a36e80e92d5"
      },
      "execution_count": 31,
      "outputs": [
        {
          "output_type": "stream",
          "name": "stdout",
          "text": [
            "CANADA\n",
            "USA\n",
            "MEXICO\n",
            "AUSTRALIA\n"
          ]
        }
      ]
    },
    {
      "cell_type": "markdown",
      "source": [
        "## Q.26\n",
        "## Create a Loop that counts from 0 to 100."
      ],
      "metadata": {
        "id": "Dt8G2rNnNrUk"
      }
    },
    {
      "cell_type": "code",
      "source": [
        "# A.26\n",
        "\n",
        "for i in range(0,100):\n",
        "  print(i , end = \" \")"
      ],
      "metadata": {
        "colab": {
          "base_uri": "https://localhost:8080/"
        },
        "id": "tGOzRXyCOpJE",
        "outputId": "cc0f1a93-30db-4de9-c507-8b93a38c6d17"
      },
      "execution_count": 33,
      "outputs": [
        {
          "output_type": "stream",
          "name": "stdout",
          "text": [
            "0 1 2 3 4 5 6 7 8 9 10 11 12 13 14 15 16 17 18 19 20 21 22 23 24 25 26 27 28 29 30 31 32 33 34 35 36 37 38 39 40 41 42 43 44 45 46 47 48 49 50 51 52 53 54 55 56 57 58 59 60 61 62 63 64 65 66 67 68 69 70 71 72 73 74 75 76 77 78 79 80 81 82 83 84 85 86 87 88 89 90 91 92 93 94 95 96 97 98 99 "
          ]
        }
      ]
    },
    {
      "cell_type": "markdown",
      "source": [
        "## Q.27\n",
        "## Make a Multiplication table using loop.\n"
      ],
      "metadata": {
        "id": "lltfO3p-OyoR"
      }
    },
    {
      "cell_type": "code",
      "source": [
        "# A.27\n",
        "\n",
        "num = int(input(\"Display multiplication table of? \"))\n",
        "\n",
        "for i in range(1, 11):\n",
        "   print(num, 'x', i, '=', num*i)"
      ],
      "metadata": {
        "colab": {
          "base_uri": "https://localhost:8080/"
        },
        "id": "OdAAxts6O4qp",
        "outputId": "bcc6e793-a27f-4b5d-e1c4-f775cbe67914"
      },
      "execution_count": 34,
      "outputs": [
        {
          "output_type": "stream",
          "name": "stdout",
          "text": [
            "Display multiplication table of? 5\n",
            "5 x 1 = 5\n",
            "5 x 2 = 10\n",
            "5 x 3 = 15\n",
            "5 x 4 = 20\n",
            "5 x 5 = 25\n",
            "5 x 6 = 30\n",
            "5 x 7 = 35\n",
            "5 x 8 = 40\n",
            "5 x 9 = 45\n",
            "5 x 10 = 50\n"
          ]
        }
      ]
    },
    {
      "cell_type": "markdown",
      "source": [
        "## Q.28\n",
        "## output the numbers 1 to 10 backwards using a loop"
      ],
      "metadata": {
        "id": "Vf-4j1h3PLN5"
      }
    },
    {
      "cell_type": "code",
      "source": [
        "# A.28\n",
        "\n",
        "for num in reversed(range(1,11)) :\n",
        "    print(num, end = \" \")"
      ],
      "metadata": {
        "colab": {
          "base_uri": "https://localhost:8080/"
        },
        "id": "X7AR-UeJPV5s",
        "outputId": "f997c1db-c13a-4dc7-a33c-8bd2a1d6378d"
      },
      "execution_count": 36,
      "outputs": [
        {
          "output_type": "stream",
          "name": "stdout",
          "text": [
            "10 9 8 7 6 5 4 3 2 1 "
          ]
        }
      ]
    },
    {
      "cell_type": "markdown",
      "source": [
        "## Q.29\n",
        "## create a loop that counts all even numbers to 10"
      ],
      "metadata": {
        "id": "VkY5Ax6VP3q8"
      }
    },
    {
      "cell_type": "code",
      "source": [
        "# A.29\n",
        "\n",
        "for i in range(2,11 ,2):\n",
        "  print(i)"
      ],
      "metadata": {
        "colab": {
          "base_uri": "https://localhost:8080/"
        },
        "id": "YRGuzpiDQQC7",
        "outputId": "59a86160-0f54-47a1-b0f5-3c48acdb4d6d"
      },
      "execution_count": 37,
      "outputs": [
        {
          "output_type": "stream",
          "name": "stdout",
          "text": [
            "2\n",
            "4\n",
            "6\n",
            "8\n",
            "10\n"
          ]
        }
      ]
    },
    {
      "cell_type": "markdown",
      "source": [
        "## Q.30\n",
        "## create a loop that sums the numbers form 100 to 200"
      ],
      "metadata": {
        "id": "TFZIN8cvQZwC"
      }
    },
    {
      "cell_type": "code",
      "source": [
        "# A.30\n",
        "\n",
        "sum = 0.\n",
        "for num in range(100,201):\n",
        " sum = sum+num\n",
        "print(f\"Sum of Number 100 to 200 is : {sum}\")"
      ],
      "metadata": {
        "colab": {
          "base_uri": "https://localhost:8080/"
        },
        "id": "UO_9MRIhQjd6",
        "outputId": "7ae8fb6a-bbee-4f14-e72a-861ed7311f22"
      },
      "execution_count": 38,
      "outputs": [
        {
          "output_type": "stream",
          "name": "stdout",
          "text": [
            "Sum of Number 100 to 200 is : 15150.0\n"
          ]
        }
      ]
    },
    {
      "cell_type": "markdown",
      "source": [
        "## Q.31\n",
        "## Make a Program that lists the country in the set below using a while loop."
      ],
      "metadata": {
        "id": "83mutCLIRH1h"
      }
    },
    {
      "cell_type": "code",
      "source": [
        "# A.31\n",
        "\n",
        "clist = [\"CANADA\" ,\"USA\",\"MEXICO\"]\n",
        "\n",
        "i = 0\n",
        "while i < len(clist):\n",
        "  print(clist[i])\n",
        "  i = i + 1"
      ],
      "metadata": {
        "colab": {
          "base_uri": "https://localhost:8080/"
        },
        "id": "DaC_0-PfRUvp",
        "outputId": "bc247a12-bc36-4e5b-dc4f-5c4acddac762"
      },
      "execution_count": 42,
      "outputs": [
        {
          "output_type": "stream",
          "name": "stdout",
          "text": [
            "CANADA\n",
            "USA\n",
            "MEXICO\n"
          ]
        }
      ]
    },
    {
      "cell_type": "markdown",
      "source": [
        "## Q.32\n",
        "## What is the Difference between For loop and While loop in Python ?"
      ],
      "metadata": {
        "id": "DEUvJPQiSS7S"
      }
    },
    {
      "cell_type": "markdown",
      "source": [
        "### A.32 \n",
        "### For loop is used when the number of iterations is already known. While loop is used when the number of iterations is already Unknown. "
      ],
      "metadata": {
        "id": "OxeMvpfbSbjw"
      }
    },
    {
      "cell_type": "markdown",
      "source": [
        "## Q.33\n",
        "## Can you sum numbers in while loop ?"
      ],
      "metadata": {
        "id": "AtwXVj8jSoyi"
      }
    },
    {
      "cell_type": "markdown",
      "source": [
        "### A.33\n",
        "### YES"
      ],
      "metadata": {
        "id": "PKAu8oLQS6hJ"
      }
    },
    {
      "cell_type": "code",
      "source": [
        "# A.33\n",
        "\n",
        "n = 20\n",
        "total_numbers = n\n",
        "sum = 0\n",
        "while n >= 0:\n",
        "    sum += n\n",
        "    n -= 1\n",
        "print(\"sum =\", sum)"
      ],
      "metadata": {
        "colab": {
          "base_uri": "https://localhost:8080/"
        },
        "id": "Lx72SVIwS9Sw",
        "outputId": "eac26c6b-486f-48c4-a5de-d62c2de0a54f"
      },
      "execution_count": 43,
      "outputs": [
        {
          "output_type": "stream",
          "name": "stdout",
          "text": [
            "sum = 210\n"
          ]
        }
      ]
    },
    {
      "cell_type": "markdown",
      "source": [
        "## Q. 34\n",
        "## Can a For Loop be used inside a while loop in python ?"
      ],
      "metadata": {
        "id": "e5YP44j2TF6Z"
      }
    },
    {
      "cell_type": "markdown",
      "source": [
        "### A.34\n",
        "### You can put a for loop inside a while, or a while inside a for, or a for inside a for, or a while inside a while. Or you can put a loop inside a loop inside a loop. You can go as far as you want."
      ],
      "metadata": {
        "id": "nQIXJUiaTRDg"
      }
    },
    {
      "cell_type": "markdown",
      "source": [
        "## Q.35\n",
        "## Make a Function that sums the list ."
      ],
      "metadata": {
        "id": "YlUciol1TY7K"
      }
    },
    {
      "cell_type": "code",
      "source": [
        "# A.35\n",
        "\n",
        "mylist = [1,2,3,4,5]\n",
        "\n",
        "def sumOfList(list, size):\n",
        "    if (size == 0):\n",
        "        return 0\n",
        "    else:\n",
        "        return list[size - 1] + sumOfList(list, size - 1)\n",
        " \n",
        " \n",
        "\n",
        "total = sumOfList(mylist, len(mylist))\n",
        " \n",
        "print(\"Sum of all elements in given list: \", total)"
      ],
      "metadata": {
        "colab": {
          "base_uri": "https://localhost:8080/"
        },
        "id": "GASIq1kaTie5",
        "outputId": "4e120f12-6771-4903-992d-d38ea7dbd689"
      },
      "execution_count": 46,
      "outputs": [
        {
          "output_type": "stream",
          "name": "stdout",
          "text": [
            "Sum of all elements in given list:  15\n"
          ]
        }
      ]
    },
    {
      "cell_type": "markdown",
      "source": [
        "## Q.36\n",
        "## Can functions be called inside functions in python ?"
      ],
      "metadata": {
        "id": "vUroL9NUUMMg"
      }
    },
    {
      "cell_type": "markdown",
      "source": [
        "### A.36\n",
        "### In Python, any written function can be called by another function. Note that this could be the most elegant way of breaking a problem into chunks of small problems."
      ],
      "metadata": {
        "id": "nV6j4Z60UvCb"
      }
    },
    {
      "cell_type": "markdown",
      "source": [
        "## Q.37\n",
        "## can a function call itself in python ? "
      ],
      "metadata": {
        "id": "MVZj1R0qU4SB"
      }
    },
    {
      "cell_type": "markdown",
      "source": [
        "### A.37\n",
        "\n",
        "### Python also accepts function recursion, which means a defined function can call itself. Recursion is a common mathematical and programming concept. It means that a function calls itself. This has the benefit of meaning that you can loop through data to reach a result."
      ],
      "metadata": {
        "id": "kfo-LI9cU_gL"
      }
    },
    {
      "cell_type": "markdown",
      "source": [
        "## Q.38\n",
        "## Can Variables defined in a function be used in another function in python ?"
      ],
      "metadata": {
        "id": "yGDyW-p4VHrt"
      }
    },
    {
      "cell_type": "markdown",
      "source": [
        "### A.38\n",
        "### Variables defined inside functions are called local variables. Their value can only be used within the function where they are declared. You can change the scope of a local variable using the global keyword"
      ],
      "metadata": {
        "id": "x77zLhnhVTrh"
      }
    },
    {
      "cell_type": "markdown",
      "source": [
        "## Q.39\n",
        "## Make a Program that displays the states in us"
      ],
      "metadata": {
        "id": "c4nP0HnfVgrR"
      }
    },
    {
      "cell_type": "code",
      "source": [
        "# A.39\n",
        "\n",
        "state_names=[\"Alabama\", \"Alaska\", \"Arizona\", \"Arkansas\", \"California\", \"Colorado\", \"Connecticut\", \"Delaware\", \"Florida\", \"Georgia\", \"Hawaii\", \"Idaho\", \"Illinois\", \"Indiana\", \"Iowa\", \"Kansas\", \"Kentucky\", \"Louisiana\", \"Maine\", \"Maryland\", \"Massachusetts\", \"Michigan\", \"Minnesota\", \"Mississippi\", \"Missouri\", \"Montana\", \"Nebraska\", \"Nevada\", \"New Hampshire\", \"New Jersey\", \"New Mexico\", \"New York\", \"North Carolina\", \"North Dakota\", \"Ohio\", \"Oklahoma\", \"Oregon\", \"Pennsylvania\", \"Rhode Island\", \"South Carolina\", \"South Dakota\", \"Tennessee\", \"Texas\", \"Utah\", \"Vermont\", \"Virginia\", \"Washington\", \"West Virginia\", \"Wisconsin\", \"Wyoming\"]"
      ],
      "metadata": {
        "id": "8RAvit92VzAI"
      },
      "execution_count": 47,
      "outputs": []
    },
    {
      "cell_type": "markdown",
      "source": [
        "## Q.40\n",
        "## Display all states starting with letter M"
      ],
      "metadata": {
        "id": "LgjWBN7QWXcC"
      }
    },
    {
      "cell_type": "code",
      "source": [
        "# A.40\n",
        "\n",
        "state_names=[\"Alabama\", \"Alaska\", \"Arizona\", \"Arkansas\", \"California\", \"Colorado\", \"Connecticut\", \"Delaware\", \"Florida\", \"Georgia\", \"Hawaii\", \"Idaho\", \"Illinois\", \"Indiana\", \"Iowa\", \"Kansas\", \"Kentucky\", \"Louisiana\", \"Maine\", \"Maryland\", \"Massachusetts\", \"Michigan\", \"Minnesota\", \"Mississippi\", \"Missouri\", \"Montana\", \"Nebraska\", \"Nevada\", \"New Hampshire\", \"New Jersey\", \"New Mexico\", \"New York\", \"North Carolina\", \"North Dakota\", \"Ohio\", \"Oklahoma\", \"Oregon\", \"Pennsylvania\", \"Rhode Island\", \"South Carolina\", \"South Dakota\", \"Tennessee\", \"Texas\", \"Utah\", \"Vermont\", \"Virginia\", \"Washington\", \"West Virginia\", \"Wisconsin\", \"Wyoming\"]\n",
        "\n",
        "for letter in state_names:\n",
        "   if letter[0] == 'M' :\n",
        "     print(letter)"
      ],
      "metadata": {
        "colab": {
          "base_uri": "https://localhost:8080/"
        },
        "id": "Q75IYcwQWdiw",
        "outputId": "16d41103-efe8-4c36-fc79-85dbeb3ad93a"
      },
      "execution_count": 51,
      "outputs": [
        {
          "output_type": "stream",
          "name": "stdout",
          "text": [
            "Maine\n",
            "Maryland\n",
            "Massachusetts\n",
            "Michigan\n",
            "Minnesota\n",
            "Mississippi\n",
            "Missouri\n",
            "Montana\n"
          ]
        }
      ]
    },
    {
      "cell_type": "markdown",
      "source": [
        "## Q.41\n",
        "## given the list , add the items."
      ],
      "metadata": {
        "id": "ZGhWwENUXc_g"
      }
    },
    {
      "cell_type": "code",
      "source": [
        "# A.41\n",
        "\n",
        "y = [6,4,2]\n",
        "# add the item 12,8,4\n",
        "\n",
        "y.append(12)\n",
        "y.append(8)\n",
        "y.append(4)\n",
        "\n",
        "print(y)"
      ],
      "metadata": {
        "colab": {
          "base_uri": "https://localhost:8080/"
        },
        "id": "zH90IdxOXkzF",
        "outputId": "ccb09636-eaf2-432f-9fbf-794427661869"
      },
      "execution_count": 53,
      "outputs": [
        {
          "output_type": "stream",
          "name": "stdout",
          "text": [
            "[6, 4, 2, 12, 8, 4]\n"
          ]
        }
      ]
    },
    {
      "cell_type": "markdown",
      "source": [
        "## Q.42\n",
        "## change the list item.\n"
      ],
      "metadata": {
        "id": "u2cKL2jXX_84"
      }
    },
    {
      "cell_type": "code",
      "source": [
        "# A.42\n",
        "\n",
        "y = [6,4,2,12,8,4]\n",
        "y[2] = 3\n",
        "\n",
        "print(y)"
      ],
      "metadata": {
        "colab": {
          "base_uri": "https://localhost:8080/"
        },
        "id": "2kBD3Sg5YIfg",
        "outputId": "5c588039-9426-41fb-e7e7-7286f31f202c"
      },
      "execution_count": 56,
      "outputs": [
        {
          "output_type": "stream",
          "name": "stdout",
          "text": [
            "[6, 4, 3, 12, 8, 4]\n"
          ]
        }
      ]
    },
    {
      "cell_type": "markdown",
      "source": [
        "## Q.43\n",
        "## given a list with pairs , sort first element."
      ],
      "metadata": {
        "id": "Ws5JVmfXYe94"
      }
    },
    {
      "cell_type": "code",
      "source": [
        "# A.43\n",
        "\n",
        "x = [(23,34),(89,85),(12,321),(56,87), (56,34)]\n",
        "\n",
        "def takefirst(elem):\n",
        "    return elem[0]\n",
        "\n",
        "x.sort(key=takefirst)\n",
        "\n",
        "\n",
        "print('Sorted list:', x)\n"
      ],
      "metadata": {
        "colab": {
          "base_uri": "https://localhost:8080/"
        },
        "id": "T2NnYDhsZpl1",
        "outputId": "9195452d-f410-4802-f5a2-78a8e667c5e1"
      },
      "execution_count": 58,
      "outputs": [
        {
          "output_type": "stream",
          "name": "stdout",
          "text": [
            "Sorted list: [(12, 321), (23, 34), (56, 87), (56, 34), (89, 85)]\n"
          ]
        }
      ]
    },
    {
      "cell_type": "markdown",
      "source": [
        "## Q.44 \n",
        "## given a list with pairs , sort second element."
      ],
      "metadata": {
        "id": "SGA5Nye6aHps"
      }
    },
    {
      "cell_type": "code",
      "source": [
        "# A.44\n",
        "\n",
        "x = [(23,34),(89,85),(12,321),(56,87), (56,34)]\n",
        "\n",
        "def takeSecond(elem):\n",
        "    return elem[1]\n",
        "\n",
        "x.sort(key=takeSecond)\n",
        "\n",
        "\n",
        "print('Sorted list:', x)\n"
      ],
      "metadata": {
        "colab": {
          "base_uri": "https://localhost:8080/"
        },
        "id": "Ww3R2MQpYqtZ",
        "outputId": "bcb748bc-ef09-45aa-b4ae-b69debdeaece"
      },
      "execution_count": 57,
      "outputs": [
        {
          "output_type": "stream",
          "name": "stdout",
          "text": [
            "Sorted list: [(23, 34), (56, 34), (89, 85), (56, 87), (12, 321)]\n"
          ]
        }
      ]
    },
    {
      "cell_type": "markdown",
      "source": [
        "## Q.45\n",
        "## create a list of 1000 numbers."
      ],
      "metadata": {
        "id": "7snTzfrnaT5Q"
      }
    },
    {
      "cell_type": "code",
      "source": [
        "# A.45\n",
        "\n",
        "for i in range(1,1001):\n",
        "  print(i , end = \" , \")"
      ],
      "metadata": {
        "colab": {
          "base_uri": "https://localhost:8080/"
        },
        "id": "_150lwmEaeQC",
        "outputId": "53624e06-5016-4e9d-c56a-ba09b87be219"
      },
      "execution_count": 66,
      "outputs": [
        {
          "output_type": "stream",
          "name": "stdout",
          "text": [
            "1 , 2 , 3 , 4 , 5 , 6 , 7 , 8 , 9 , 10 , 11 , 12 , 13 , 14 , 15 , 16 , 17 , 18 , 19 , 20 , 21 , 22 , 23 , 24 , 25 , 26 , 27 , 28 , 29 , 30 , 31 , 32 , 33 , 34 , 35 , 36 , 37 , 38 , 39 , 40 , 41 , 42 , 43 , 44 , 45 , 46 , 47 , 48 , 49 , 50 , 51 , 52 , 53 , 54 , 55 , 56 , 57 , 58 , 59 , 60 , 61 , 62 , 63 , 64 , 65 , 66 , 67 , 68 , 69 , 70 , 71 , 72 , 73 , 74 , 75 , 76 , 77 , 78 , 79 , 80 , 81 , 82 , 83 , 84 , 85 , 86 , 87 , 88 , 89 , 90 , 91 , 92 , 93 , 94 , 95 , 96 , 97 , 98 , 99 , 100 , 101 , 102 , 103 , 104 , 105 , 106 , 107 , 108 , 109 , 110 , 111 , 112 , 113 , 114 , 115 , 116 , 117 , 118 , 119 , 120 , 121 , 122 , 123 , 124 , 125 , 126 , 127 , 128 , 129 , 130 , 131 , 132 , 133 , 134 , 135 , 136 , 137 , 138 , 139 , 140 , 141 , 142 , 143 , 144 , 145 , 146 , 147 , 148 , 149 , 150 , 151 , 152 , 153 , 154 , 155 , 156 , 157 , 158 , 159 , 160 , 161 , 162 , 163 , 164 , 165 , 166 , 167 , 168 , 169 , 170 , 171 , 172 , 173 , 174 , 175 , 176 , 177 , 178 , 179 , 180 , 181 , 182 , 183 , 184 , 185 , 186 , 187 , 188 , 189 , 190 , 191 , 192 , 193 , 194 , 195 , 196 , 197 , 198 , 199 , 200 , 201 , 202 , 203 , 204 , 205 , 206 , 207 , 208 , 209 , 210 , 211 , 212 , 213 , 214 , 215 , 216 , 217 , 218 , 219 , 220 , 221 , 222 , 223 , 224 , 225 , 226 , 227 , 228 , 229 , 230 , 231 , 232 , 233 , 234 , 235 , 236 , 237 , 238 , 239 , 240 , 241 , 242 , 243 , 244 , 245 , 246 , 247 , 248 , 249 , 250 , 251 , 252 , 253 , 254 , 255 , 256 , 257 , 258 , 259 , 260 , 261 , 262 , 263 , 264 , 265 , 266 , 267 , 268 , 269 , 270 , 271 , 272 , 273 , 274 , 275 , 276 , 277 , 278 , 279 , 280 , 281 , 282 , 283 , 284 , 285 , 286 , 287 , 288 , 289 , 290 , 291 , 292 , 293 , 294 , 295 , 296 , 297 , 298 , 299 , 300 , 301 , 302 , 303 , 304 , 305 , 306 , 307 , 308 , 309 , 310 , 311 , 312 , 313 , 314 , 315 , 316 , 317 , 318 , 319 , 320 , 321 , 322 , 323 , 324 , 325 , 326 , 327 , 328 , 329 , 330 , 331 , 332 , 333 , 334 , 335 , 336 , 337 , 338 , 339 , 340 , 341 , 342 , 343 , 344 , 345 , 346 , 347 , 348 , 349 , 350 , 351 , 352 , 353 , 354 , 355 , 356 , 357 , 358 , 359 , 360 , 361 , 362 , 363 , 364 , 365 , 366 , 367 , 368 , 369 , 370 , 371 , 372 , 373 , 374 , 375 , 376 , 377 , 378 , 379 , 380 , 381 , 382 , 383 , 384 , 385 , 386 , 387 , 388 , 389 , 390 , 391 , 392 , 393 , 394 , 395 , 396 , 397 , 398 , 399 , 400 , 401 , 402 , 403 , 404 , 405 , 406 , 407 , 408 , 409 , 410 , 411 , 412 , 413 , 414 , 415 , 416 , 417 , 418 , 419 , 420 , 421 , 422 , 423 , 424 , 425 , 426 , 427 , 428 , 429 , 430 , 431 , 432 , 433 , 434 , 435 , 436 , 437 , 438 , 439 , 440 , 441 , 442 , 443 , 444 , 445 , 446 , 447 , 448 , 449 , 450 , 451 , 452 , 453 , 454 , 455 , 456 , 457 , 458 , 459 , 460 , 461 , 462 , 463 , 464 , 465 , 466 , 467 , 468 , 469 , 470 , 471 , 472 , 473 , 474 , 475 , 476 , 477 , 478 , 479 , 480 , 481 , 482 , 483 , 484 , 485 , 486 , 487 , 488 , 489 , 490 , 491 , 492 , 493 , 494 , 495 , 496 , 497 , 498 , 499 , 500 , 501 , 502 , 503 , 504 , 505 , 506 , 507 , 508 , 509 , 510 , 511 , 512 , 513 , 514 , 515 , 516 , 517 , 518 , 519 , 520 , 521 , 522 , 523 , 524 , 525 , 526 , 527 , 528 , 529 , 530 , 531 , 532 , 533 , 534 , 535 , 536 , 537 , 538 , 539 , 540 , 541 , 542 , 543 , 544 , 545 , 546 , 547 , 548 , 549 , 550 , 551 , 552 , 553 , 554 , 555 , 556 , 557 , 558 , 559 , 560 , 561 , 562 , 563 , 564 , 565 , 566 , 567 , 568 , 569 , 570 , 571 , 572 , 573 , 574 , 575 , 576 , 577 , 578 , 579 , 580 , 581 , 582 , 583 , 584 , 585 , 586 , 587 , 588 , 589 , 590 , 591 , 592 , 593 , 594 , 595 , 596 , 597 , 598 , 599 , 600 , 601 , 602 , 603 , 604 , 605 , 606 , 607 , 608 , 609 , 610 , 611 , 612 , 613 , 614 , 615 , 616 , 617 , 618 , 619 , 620 , 621 , 622 , 623 , 624 , 625 , 626 , 627 , 628 , 629 , 630 , 631 , 632 , 633 , 634 , 635 , 636 , 637 , 638 , 639 , 640 , 641 , 642 , 643 , 644 , 645 , 646 , 647 , 648 , 649 , 650 , 651 , 652 , 653 , 654 , 655 , 656 , 657 , 658 , 659 , 660 , 661 , 662 , 663 , 664 , 665 , 666 , 667 , 668 , 669 , 670 , 671 , 672 , 673 , 674 , 675 , 676 , 677 , 678 , 679 , 680 , 681 , 682 , 683 , 684 , 685 , 686 , 687 , 688 , 689 , 690 , 691 , 692 , 693 , 694 , 695 , 696 , 697 , 698 , 699 , 700 , 701 , 702 , 703 , 704 , 705 , 706 , 707 , 708 , 709 , 710 , 711 , 712 , 713 , 714 , 715 , 716 , 717 , 718 , 719 , 720 , 721 , 722 , 723 , 724 , 725 , 726 , 727 , 728 , 729 , 730 , 731 , 732 , 733 , 734 , 735 , 736 , 737 , 738 , 739 , 740 , 741 , 742 , 743 , 744 , 745 , 746 , 747 , 748 , 749 , 750 , 751 , 752 , 753 , 754 , 755 , 756 , 757 , 758 , 759 , 760 , 761 , 762 , 763 , 764 , 765 , 766 , 767 , 768 , 769 , 770 , 771 , 772 , 773 , 774 , 775 , 776 , 777 , 778 , 779 , 780 , 781 , 782 , 783 , 784 , 785 , 786 , 787 , 788 , 789 , 790 , 791 , 792 , 793 , 794 , 795 , 796 , 797 , 798 , 799 , 800 , 801 , 802 , 803 , 804 , 805 , 806 , 807 , 808 , 809 , 810 , 811 , 812 , 813 , 814 , 815 , 816 , 817 , 818 , 819 , 820 , 821 , 822 , 823 , 824 , 825 , 826 , 827 , 828 , 829 , 830 , 831 , 832 , 833 , 834 , 835 , 836 , 837 , 838 , 839 , 840 , 841 , 842 , 843 , 844 , 845 , 846 , 847 , 848 , 849 , 850 , 851 , 852 , 853 , 854 , 855 , 856 , 857 , 858 , 859 , 860 , 861 , 862 , 863 , 864 , 865 , 866 , 867 , 868 , 869 , 870 , 871 , 872 , 873 , 874 , 875 , 876 , 877 , 878 , 879 , 880 , 881 , 882 , 883 , 884 , 885 , 886 , 887 , 888 , 889 , 890 , 891 , 892 , 893 , 894 , 895 , 896 , 897 , 898 , 899 , 900 , 901 , 902 , 903 , 904 , 905 , 906 , 907 , 908 , 909 , 910 , 911 , 912 , 913 , 914 , 915 , 916 , 917 , 918 , 919 , 920 , 921 , 922 , 923 , 924 , 925 , 926 , 927 , 928 , 929 , 930 , 931 , 932 , 933 , 934 , 935 , 936 , 937 , 938 , 939 , 940 , 941 , 942 , 943 , 944 , 945 , 946 , 947 , 948 , 949 , 950 , 951 , 952 , 953 , 954 , 955 , 956 , 957 , 958 , 959 , 960 , 961 , 962 , 963 , 964 , 965 , 966 , 967 , 968 , 969 , 970 , 971 , 972 , 973 , 974 , 975 , 976 , 977 , 978 , 979 , 980 , 981 , 982 , 983 , 984 , 985 , 986 , 987 , 988 , 989 , 990 , 991 , 992 , 993 , 994 , 995 , 996 , 997 , 998 , 999 , 1000 , "
          ]
        }
      ]
    },
    {
      "cell_type": "markdown",
      "source": [
        "## Q.46\n",
        "## Get the Largest and smallest numbers form the list."
      ],
      "metadata": {
        "id": "_wpUumNBamLg"
      }
    },
    {
      "cell_type": "code",
      "source": [
        "# A.46\n",
        "\n",
        "l = []\n",
        "\n",
        "for i in range(1,1001):\n",
        " l.append(i)\n",
        "\n",
        "print(l)\n",
        "\n",
        "largest = max(l)\n",
        "print(f\"largest number in list is : {largest}\" )\n",
        "\n",
        "smallest = min(l)\n",
        "print(f\"smallest number in list is : {smallest}\")"
      ],
      "metadata": {
        "colab": {
          "base_uri": "https://localhost:8080/"
        },
        "id": "DIqDWoHsas3o",
        "outputId": "056a3f98-62d7-459f-d058-c116d272e02e"
      },
      "execution_count": 67,
      "outputs": [
        {
          "output_type": "stream",
          "name": "stdout",
          "text": [
            "[1, 2, 3, 4, 5, 6, 7, 8, 9, 10, 11, 12, 13, 14, 15, 16, 17, 18, 19, 20, 21, 22, 23, 24, 25, 26, 27, 28, 29, 30, 31, 32, 33, 34, 35, 36, 37, 38, 39, 40, 41, 42, 43, 44, 45, 46, 47, 48, 49, 50, 51, 52, 53, 54, 55, 56, 57, 58, 59, 60, 61, 62, 63, 64, 65, 66, 67, 68, 69, 70, 71, 72, 73, 74, 75, 76, 77, 78, 79, 80, 81, 82, 83, 84, 85, 86, 87, 88, 89, 90, 91, 92, 93, 94, 95, 96, 97, 98, 99, 100, 101, 102, 103, 104, 105, 106, 107, 108, 109, 110, 111, 112, 113, 114, 115, 116, 117, 118, 119, 120, 121, 122, 123, 124, 125, 126, 127, 128, 129, 130, 131, 132, 133, 134, 135, 136, 137, 138, 139, 140, 141, 142, 143, 144, 145, 146, 147, 148, 149, 150, 151, 152, 153, 154, 155, 156, 157, 158, 159, 160, 161, 162, 163, 164, 165, 166, 167, 168, 169, 170, 171, 172, 173, 174, 175, 176, 177, 178, 179, 180, 181, 182, 183, 184, 185, 186, 187, 188, 189, 190, 191, 192, 193, 194, 195, 196, 197, 198, 199, 200, 201, 202, 203, 204, 205, 206, 207, 208, 209, 210, 211, 212, 213, 214, 215, 216, 217, 218, 219, 220, 221, 222, 223, 224, 225, 226, 227, 228, 229, 230, 231, 232, 233, 234, 235, 236, 237, 238, 239, 240, 241, 242, 243, 244, 245, 246, 247, 248, 249, 250, 251, 252, 253, 254, 255, 256, 257, 258, 259, 260, 261, 262, 263, 264, 265, 266, 267, 268, 269, 270, 271, 272, 273, 274, 275, 276, 277, 278, 279, 280, 281, 282, 283, 284, 285, 286, 287, 288, 289, 290, 291, 292, 293, 294, 295, 296, 297, 298, 299, 300, 301, 302, 303, 304, 305, 306, 307, 308, 309, 310, 311, 312, 313, 314, 315, 316, 317, 318, 319, 320, 321, 322, 323, 324, 325, 326, 327, 328, 329, 330, 331, 332, 333, 334, 335, 336, 337, 338, 339, 340, 341, 342, 343, 344, 345, 346, 347, 348, 349, 350, 351, 352, 353, 354, 355, 356, 357, 358, 359, 360, 361, 362, 363, 364, 365, 366, 367, 368, 369, 370, 371, 372, 373, 374, 375, 376, 377, 378, 379, 380, 381, 382, 383, 384, 385, 386, 387, 388, 389, 390, 391, 392, 393, 394, 395, 396, 397, 398, 399, 400, 401, 402, 403, 404, 405, 406, 407, 408, 409, 410, 411, 412, 413, 414, 415, 416, 417, 418, 419, 420, 421, 422, 423, 424, 425, 426, 427, 428, 429, 430, 431, 432, 433, 434, 435, 436, 437, 438, 439, 440, 441, 442, 443, 444, 445, 446, 447, 448, 449, 450, 451, 452, 453, 454, 455, 456, 457, 458, 459, 460, 461, 462, 463, 464, 465, 466, 467, 468, 469, 470, 471, 472, 473, 474, 475, 476, 477, 478, 479, 480, 481, 482, 483, 484, 485, 486, 487, 488, 489, 490, 491, 492, 493, 494, 495, 496, 497, 498, 499, 500, 501, 502, 503, 504, 505, 506, 507, 508, 509, 510, 511, 512, 513, 514, 515, 516, 517, 518, 519, 520, 521, 522, 523, 524, 525, 526, 527, 528, 529, 530, 531, 532, 533, 534, 535, 536, 537, 538, 539, 540, 541, 542, 543, 544, 545, 546, 547, 548, 549, 550, 551, 552, 553, 554, 555, 556, 557, 558, 559, 560, 561, 562, 563, 564, 565, 566, 567, 568, 569, 570, 571, 572, 573, 574, 575, 576, 577, 578, 579, 580, 581, 582, 583, 584, 585, 586, 587, 588, 589, 590, 591, 592, 593, 594, 595, 596, 597, 598, 599, 600, 601, 602, 603, 604, 605, 606, 607, 608, 609, 610, 611, 612, 613, 614, 615, 616, 617, 618, 619, 620, 621, 622, 623, 624, 625, 626, 627, 628, 629, 630, 631, 632, 633, 634, 635, 636, 637, 638, 639, 640, 641, 642, 643, 644, 645, 646, 647, 648, 649, 650, 651, 652, 653, 654, 655, 656, 657, 658, 659, 660, 661, 662, 663, 664, 665, 666, 667, 668, 669, 670, 671, 672, 673, 674, 675, 676, 677, 678, 679, 680, 681, 682, 683, 684, 685, 686, 687, 688, 689, 690, 691, 692, 693, 694, 695, 696, 697, 698, 699, 700, 701, 702, 703, 704, 705, 706, 707, 708, 709, 710, 711, 712, 713, 714, 715, 716, 717, 718, 719, 720, 721, 722, 723, 724, 725, 726, 727, 728, 729, 730, 731, 732, 733, 734, 735, 736, 737, 738, 739, 740, 741, 742, 743, 744, 745, 746, 747, 748, 749, 750, 751, 752, 753, 754, 755, 756, 757, 758, 759, 760, 761, 762, 763, 764, 765, 766, 767, 768, 769, 770, 771, 772, 773, 774, 775, 776, 777, 778, 779, 780, 781, 782, 783, 784, 785, 786, 787, 788, 789, 790, 791, 792, 793, 794, 795, 796, 797, 798, 799, 800, 801, 802, 803, 804, 805, 806, 807, 808, 809, 810, 811, 812, 813, 814, 815, 816, 817, 818, 819, 820, 821, 822, 823, 824, 825, 826, 827, 828, 829, 830, 831, 832, 833, 834, 835, 836, 837, 838, 839, 840, 841, 842, 843, 844, 845, 846, 847, 848, 849, 850, 851, 852, 853, 854, 855, 856, 857, 858, 859, 860, 861, 862, 863, 864, 865, 866, 867, 868, 869, 870, 871, 872, 873, 874, 875, 876, 877, 878, 879, 880, 881, 882, 883, 884, 885, 886, 887, 888, 889, 890, 891, 892, 893, 894, 895, 896, 897, 898, 899, 900, 901, 902, 903, 904, 905, 906, 907, 908, 909, 910, 911, 912, 913, 914, 915, 916, 917, 918, 919, 920, 921, 922, 923, 924, 925, 926, 927, 928, 929, 930, 931, 932, 933, 934, 935, 936, 937, 938, 939, 940, 941, 942, 943, 944, 945, 946, 947, 948, 949, 950, 951, 952, 953, 954, 955, 956, 957, 958, 959, 960, 961, 962, 963, 964, 965, 966, 967, 968, 969, 970, 971, 972, 973, 974, 975, 976, 977, 978, 979, 980, 981, 982, 983, 984, 985, 986, 987, 988, 989, 990, 991, 992, 993, 994, 995, 996, 997, 998, 999, 1000]\n",
            "largest number in list is : 1000\n",
            "smallest number in list is : 1\n"
          ]
        }
      ]
    },
    {
      "cell_type": "markdown",
      "source": [
        "## Q.47\n",
        "## create two lists , even and odd"
      ],
      "metadata": {
        "id": "NAaPVKt4bvAb"
      }
    },
    {
      "cell_type": "code",
      "source": [
        "# A.47\n",
        "\n",
        "l = []\n",
        "\n",
        "for i in range(1,1001):\n",
        " l.append(i)\n",
        "\n",
        "print(l)\n",
        "\n",
        "even = []\n",
        "\n",
        "for i in l:\n",
        "  if i%2 == 0:\n",
        "    even.append(i)\n",
        "\n",
        "print(even)\n",
        "\n",
        "odd = []\n",
        "\n",
        "for i in l:\n",
        "  if i%2 != 0:\n",
        "    odd.append(i)\n",
        "\n",
        "print(odd)\n"
      ],
      "metadata": {
        "colab": {
          "base_uri": "https://localhost:8080/"
        },
        "id": "rvTXkSyeb4Mw",
        "outputId": "f568616a-b8c8-4a20-f20e-a6c9c0734e05"
      },
      "execution_count": 70,
      "outputs": [
        {
          "output_type": "stream",
          "name": "stdout",
          "text": [
            "[1, 2, 3, 4, 5, 6, 7, 8, 9, 10, 11, 12, 13, 14, 15, 16, 17, 18, 19, 20, 21, 22, 23, 24, 25, 26, 27, 28, 29, 30, 31, 32, 33, 34, 35, 36, 37, 38, 39, 40, 41, 42, 43, 44, 45, 46, 47, 48, 49, 50, 51, 52, 53, 54, 55, 56, 57, 58, 59, 60, 61, 62, 63, 64, 65, 66, 67, 68, 69, 70, 71, 72, 73, 74, 75, 76, 77, 78, 79, 80, 81, 82, 83, 84, 85, 86, 87, 88, 89, 90, 91, 92, 93, 94, 95, 96, 97, 98, 99, 100, 101, 102, 103, 104, 105, 106, 107, 108, 109, 110, 111, 112, 113, 114, 115, 116, 117, 118, 119, 120, 121, 122, 123, 124, 125, 126, 127, 128, 129, 130, 131, 132, 133, 134, 135, 136, 137, 138, 139, 140, 141, 142, 143, 144, 145, 146, 147, 148, 149, 150, 151, 152, 153, 154, 155, 156, 157, 158, 159, 160, 161, 162, 163, 164, 165, 166, 167, 168, 169, 170, 171, 172, 173, 174, 175, 176, 177, 178, 179, 180, 181, 182, 183, 184, 185, 186, 187, 188, 189, 190, 191, 192, 193, 194, 195, 196, 197, 198, 199, 200, 201, 202, 203, 204, 205, 206, 207, 208, 209, 210, 211, 212, 213, 214, 215, 216, 217, 218, 219, 220, 221, 222, 223, 224, 225, 226, 227, 228, 229, 230, 231, 232, 233, 234, 235, 236, 237, 238, 239, 240, 241, 242, 243, 244, 245, 246, 247, 248, 249, 250, 251, 252, 253, 254, 255, 256, 257, 258, 259, 260, 261, 262, 263, 264, 265, 266, 267, 268, 269, 270, 271, 272, 273, 274, 275, 276, 277, 278, 279, 280, 281, 282, 283, 284, 285, 286, 287, 288, 289, 290, 291, 292, 293, 294, 295, 296, 297, 298, 299, 300, 301, 302, 303, 304, 305, 306, 307, 308, 309, 310, 311, 312, 313, 314, 315, 316, 317, 318, 319, 320, 321, 322, 323, 324, 325, 326, 327, 328, 329, 330, 331, 332, 333, 334, 335, 336, 337, 338, 339, 340, 341, 342, 343, 344, 345, 346, 347, 348, 349, 350, 351, 352, 353, 354, 355, 356, 357, 358, 359, 360, 361, 362, 363, 364, 365, 366, 367, 368, 369, 370, 371, 372, 373, 374, 375, 376, 377, 378, 379, 380, 381, 382, 383, 384, 385, 386, 387, 388, 389, 390, 391, 392, 393, 394, 395, 396, 397, 398, 399, 400, 401, 402, 403, 404, 405, 406, 407, 408, 409, 410, 411, 412, 413, 414, 415, 416, 417, 418, 419, 420, 421, 422, 423, 424, 425, 426, 427, 428, 429, 430, 431, 432, 433, 434, 435, 436, 437, 438, 439, 440, 441, 442, 443, 444, 445, 446, 447, 448, 449, 450, 451, 452, 453, 454, 455, 456, 457, 458, 459, 460, 461, 462, 463, 464, 465, 466, 467, 468, 469, 470, 471, 472, 473, 474, 475, 476, 477, 478, 479, 480, 481, 482, 483, 484, 485, 486, 487, 488, 489, 490, 491, 492, 493, 494, 495, 496, 497, 498, 499, 500, 501, 502, 503, 504, 505, 506, 507, 508, 509, 510, 511, 512, 513, 514, 515, 516, 517, 518, 519, 520, 521, 522, 523, 524, 525, 526, 527, 528, 529, 530, 531, 532, 533, 534, 535, 536, 537, 538, 539, 540, 541, 542, 543, 544, 545, 546, 547, 548, 549, 550, 551, 552, 553, 554, 555, 556, 557, 558, 559, 560, 561, 562, 563, 564, 565, 566, 567, 568, 569, 570, 571, 572, 573, 574, 575, 576, 577, 578, 579, 580, 581, 582, 583, 584, 585, 586, 587, 588, 589, 590, 591, 592, 593, 594, 595, 596, 597, 598, 599, 600, 601, 602, 603, 604, 605, 606, 607, 608, 609, 610, 611, 612, 613, 614, 615, 616, 617, 618, 619, 620, 621, 622, 623, 624, 625, 626, 627, 628, 629, 630, 631, 632, 633, 634, 635, 636, 637, 638, 639, 640, 641, 642, 643, 644, 645, 646, 647, 648, 649, 650, 651, 652, 653, 654, 655, 656, 657, 658, 659, 660, 661, 662, 663, 664, 665, 666, 667, 668, 669, 670, 671, 672, 673, 674, 675, 676, 677, 678, 679, 680, 681, 682, 683, 684, 685, 686, 687, 688, 689, 690, 691, 692, 693, 694, 695, 696, 697, 698, 699, 700, 701, 702, 703, 704, 705, 706, 707, 708, 709, 710, 711, 712, 713, 714, 715, 716, 717, 718, 719, 720, 721, 722, 723, 724, 725, 726, 727, 728, 729, 730, 731, 732, 733, 734, 735, 736, 737, 738, 739, 740, 741, 742, 743, 744, 745, 746, 747, 748, 749, 750, 751, 752, 753, 754, 755, 756, 757, 758, 759, 760, 761, 762, 763, 764, 765, 766, 767, 768, 769, 770, 771, 772, 773, 774, 775, 776, 777, 778, 779, 780, 781, 782, 783, 784, 785, 786, 787, 788, 789, 790, 791, 792, 793, 794, 795, 796, 797, 798, 799, 800, 801, 802, 803, 804, 805, 806, 807, 808, 809, 810, 811, 812, 813, 814, 815, 816, 817, 818, 819, 820, 821, 822, 823, 824, 825, 826, 827, 828, 829, 830, 831, 832, 833, 834, 835, 836, 837, 838, 839, 840, 841, 842, 843, 844, 845, 846, 847, 848, 849, 850, 851, 852, 853, 854, 855, 856, 857, 858, 859, 860, 861, 862, 863, 864, 865, 866, 867, 868, 869, 870, 871, 872, 873, 874, 875, 876, 877, 878, 879, 880, 881, 882, 883, 884, 885, 886, 887, 888, 889, 890, 891, 892, 893, 894, 895, 896, 897, 898, 899, 900, 901, 902, 903, 904, 905, 906, 907, 908, 909, 910, 911, 912, 913, 914, 915, 916, 917, 918, 919, 920, 921, 922, 923, 924, 925, 926, 927, 928, 929, 930, 931, 932, 933, 934, 935, 936, 937, 938, 939, 940, 941, 942, 943, 944, 945, 946, 947, 948, 949, 950, 951, 952, 953, 954, 955, 956, 957, 958, 959, 960, 961, 962, 963, 964, 965, 966, 967, 968, 969, 970, 971, 972, 973, 974, 975, 976, 977, 978, 979, 980, 981, 982, 983, 984, 985, 986, 987, 988, 989, 990, 991, 992, 993, 994, 995, 996, 997, 998, 999, 1000]\n",
            "[2, 4, 6, 8, 10, 12, 14, 16, 18, 20, 22, 24, 26, 28, 30, 32, 34, 36, 38, 40, 42, 44, 46, 48, 50, 52, 54, 56, 58, 60, 62, 64, 66, 68, 70, 72, 74, 76, 78, 80, 82, 84, 86, 88, 90, 92, 94, 96, 98, 100, 102, 104, 106, 108, 110, 112, 114, 116, 118, 120, 122, 124, 126, 128, 130, 132, 134, 136, 138, 140, 142, 144, 146, 148, 150, 152, 154, 156, 158, 160, 162, 164, 166, 168, 170, 172, 174, 176, 178, 180, 182, 184, 186, 188, 190, 192, 194, 196, 198, 200, 202, 204, 206, 208, 210, 212, 214, 216, 218, 220, 222, 224, 226, 228, 230, 232, 234, 236, 238, 240, 242, 244, 246, 248, 250, 252, 254, 256, 258, 260, 262, 264, 266, 268, 270, 272, 274, 276, 278, 280, 282, 284, 286, 288, 290, 292, 294, 296, 298, 300, 302, 304, 306, 308, 310, 312, 314, 316, 318, 320, 322, 324, 326, 328, 330, 332, 334, 336, 338, 340, 342, 344, 346, 348, 350, 352, 354, 356, 358, 360, 362, 364, 366, 368, 370, 372, 374, 376, 378, 380, 382, 384, 386, 388, 390, 392, 394, 396, 398, 400, 402, 404, 406, 408, 410, 412, 414, 416, 418, 420, 422, 424, 426, 428, 430, 432, 434, 436, 438, 440, 442, 444, 446, 448, 450, 452, 454, 456, 458, 460, 462, 464, 466, 468, 470, 472, 474, 476, 478, 480, 482, 484, 486, 488, 490, 492, 494, 496, 498, 500, 502, 504, 506, 508, 510, 512, 514, 516, 518, 520, 522, 524, 526, 528, 530, 532, 534, 536, 538, 540, 542, 544, 546, 548, 550, 552, 554, 556, 558, 560, 562, 564, 566, 568, 570, 572, 574, 576, 578, 580, 582, 584, 586, 588, 590, 592, 594, 596, 598, 600, 602, 604, 606, 608, 610, 612, 614, 616, 618, 620, 622, 624, 626, 628, 630, 632, 634, 636, 638, 640, 642, 644, 646, 648, 650, 652, 654, 656, 658, 660, 662, 664, 666, 668, 670, 672, 674, 676, 678, 680, 682, 684, 686, 688, 690, 692, 694, 696, 698, 700, 702, 704, 706, 708, 710, 712, 714, 716, 718, 720, 722, 724, 726, 728, 730, 732, 734, 736, 738, 740, 742, 744, 746, 748, 750, 752, 754, 756, 758, 760, 762, 764, 766, 768, 770, 772, 774, 776, 778, 780, 782, 784, 786, 788, 790, 792, 794, 796, 798, 800, 802, 804, 806, 808, 810, 812, 814, 816, 818, 820, 822, 824, 826, 828, 830, 832, 834, 836, 838, 840, 842, 844, 846, 848, 850, 852, 854, 856, 858, 860, 862, 864, 866, 868, 870, 872, 874, 876, 878, 880, 882, 884, 886, 888, 890, 892, 894, 896, 898, 900, 902, 904, 906, 908, 910, 912, 914, 916, 918, 920, 922, 924, 926, 928, 930, 932, 934, 936, 938, 940, 942, 944, 946, 948, 950, 952, 954, 956, 958, 960, 962, 964, 966, 968, 970, 972, 974, 976, 978, 980, 982, 984, 986, 988, 990, 992, 994, 996, 998, 1000]\n",
            "[1, 3, 5, 7, 9, 11, 13, 15, 17, 19, 21, 23, 25, 27, 29, 31, 33, 35, 37, 39, 41, 43, 45, 47, 49, 51, 53, 55, 57, 59, 61, 63, 65, 67, 69, 71, 73, 75, 77, 79, 81, 83, 85, 87, 89, 91, 93, 95, 97, 99, 101, 103, 105, 107, 109, 111, 113, 115, 117, 119, 121, 123, 125, 127, 129, 131, 133, 135, 137, 139, 141, 143, 145, 147, 149, 151, 153, 155, 157, 159, 161, 163, 165, 167, 169, 171, 173, 175, 177, 179, 181, 183, 185, 187, 189, 191, 193, 195, 197, 199, 201, 203, 205, 207, 209, 211, 213, 215, 217, 219, 221, 223, 225, 227, 229, 231, 233, 235, 237, 239, 241, 243, 245, 247, 249, 251, 253, 255, 257, 259, 261, 263, 265, 267, 269, 271, 273, 275, 277, 279, 281, 283, 285, 287, 289, 291, 293, 295, 297, 299, 301, 303, 305, 307, 309, 311, 313, 315, 317, 319, 321, 323, 325, 327, 329, 331, 333, 335, 337, 339, 341, 343, 345, 347, 349, 351, 353, 355, 357, 359, 361, 363, 365, 367, 369, 371, 373, 375, 377, 379, 381, 383, 385, 387, 389, 391, 393, 395, 397, 399, 401, 403, 405, 407, 409, 411, 413, 415, 417, 419, 421, 423, 425, 427, 429, 431, 433, 435, 437, 439, 441, 443, 445, 447, 449, 451, 453, 455, 457, 459, 461, 463, 465, 467, 469, 471, 473, 475, 477, 479, 481, 483, 485, 487, 489, 491, 493, 495, 497, 499, 501, 503, 505, 507, 509, 511, 513, 515, 517, 519, 521, 523, 525, 527, 529, 531, 533, 535, 537, 539, 541, 543, 545, 547, 549, 551, 553, 555, 557, 559, 561, 563, 565, 567, 569, 571, 573, 575, 577, 579, 581, 583, 585, 587, 589, 591, 593, 595, 597, 599, 601, 603, 605, 607, 609, 611, 613, 615, 617, 619, 621, 623, 625, 627, 629, 631, 633, 635, 637, 639, 641, 643, 645, 647, 649, 651, 653, 655, 657, 659, 661, 663, 665, 667, 669, 671, 673, 675, 677, 679, 681, 683, 685, 687, 689, 691, 693, 695, 697, 699, 701, 703, 705, 707, 709, 711, 713, 715, 717, 719, 721, 723, 725, 727, 729, 731, 733, 735, 737, 739, 741, 743, 745, 747, 749, 751, 753, 755, 757, 759, 761, 763, 765, 767, 769, 771, 773, 775, 777, 779, 781, 783, 785, 787, 789, 791, 793, 795, 797, 799, 801, 803, 805, 807, 809, 811, 813, 815, 817, 819, 821, 823, 825, 827, 829, 831, 833, 835, 837, 839, 841, 843, 845, 847, 849, 851, 853, 855, 857, 859, 861, 863, 865, 867, 869, 871, 873, 875, 877, 879, 881, 883, 885, 887, 889, 891, 893, 895, 897, 899, 901, 903, 905, 907, 909, 911, 913, 915, 917, 919, 921, 923, 925, 927, 929, 931, 933, 935, 937, 939, 941, 943, 945, 947, 949, 951, 953, 955, 957, 959, 961, 963, 965, 967, 969, 971, 973, 975, 977, 979, 981, 983, 985, 987, 989, 991, 993, 995, 997, 999]\n"
          ]
        }
      ]
    },
    {
      "cell_type": "markdown",
      "source": [
        "## Q.48\n",
        "## make a mapping from countires to country short codes."
      ],
      "metadata": {
        "id": "7-7BcFiXcVpg"
      }
    },
    {
      "cell_type": "code",
      "source": [
        "pip install pycountry"
      ],
      "metadata": {
        "colab": {
          "base_uri": "https://localhost:8080/"
        },
        "id": "BoXja7l8ebUd",
        "outputId": "c755570b-14a2-4e76-8b87-ab5a474856f1"
      },
      "execution_count": 75,
      "outputs": [
        {
          "output_type": "stream",
          "name": "stdout",
          "text": [
            "Looking in indexes: https://pypi.org/simple, https://us-python.pkg.dev/colab-wheels/public/simple/\n",
            "Collecting pycountry\n",
            "  Downloading pycountry-22.3.5.tar.gz (10.1 MB)\n",
            "\u001b[K     |████████████████████████████████| 10.1 MB 11.8 MB/s \n",
            "\u001b[?25h  Installing build dependencies ... \u001b[?25l\u001b[?25hdone\n",
            "  Getting requirements to build wheel ... \u001b[?25l\u001b[?25hdone\n",
            "    Preparing wheel metadata ... \u001b[?25l\u001b[?25hdone\n",
            "Requirement already satisfied: setuptools in /usr/local/lib/python3.7/dist-packages (from pycountry) (57.4.0)\n",
            "Building wheels for collected packages: pycountry\n",
            "  Building wheel for pycountry (PEP 517) ... \u001b[?25l\u001b[?25hdone\n",
            "  Created wheel for pycountry: filename=pycountry-22.3.5-py2.py3-none-any.whl size=10681845 sha256=22438efb779b774ebdcf684d20432a06d613ef1d0e6d599957a3fe8aa0a93838\n",
            "  Stored in directory: /root/.cache/pip/wheels/0e/06/e8/7ee176e95ea9a8a8c3b3afcb1869f20adbd42413d4611c6eb4\n",
            "Successfully built pycountry\n",
            "Installing collected packages: pycountry\n",
            "Successfully installed pycountry-22.3.5\n"
          ]
        }
      ]
    },
    {
      "cell_type": "code",
      "source": [
        "# A.48\n",
        "\n",
        "import pycountry\n",
        "\n",
        "input_countries = ['India', 'Canada', 'France']\n",
        "\n",
        "countries = {}\n",
        "for country in pycountry.countries:\n",
        "    countries[country.name] = country.alpha_2\n",
        "\n",
        "codes = [countries.get(country, 'Unknown code') for country in input_countries]\n",
        "\n",
        "print(codes) "
      ],
      "metadata": {
        "colab": {
          "base_uri": "https://localhost:8080/"
        },
        "id": "Uvaq_5ardxu5",
        "outputId": "4a8bc0d6-3f4c-4fdf-e551-7ca09ff962f1"
      },
      "execution_count": 78,
      "outputs": [
        {
          "output_type": "stream",
          "name": "stdout",
          "text": [
            "['IN', 'CA', 'FR']\n"
          ]
        }
      ]
    },
    {
      "cell_type": "markdown",
      "source": [
        "## Q.49\n",
        "## print each items by key: value"
      ],
      "metadata": {
        "id": "UiF3tuKzeoXt"
      }
    },
    {
      "cell_type": "code",
      "source": [
        "# A.49\n",
        "\n",
        "input_countries = ['India', 'Canada', 'France']\n",
        "codes = ['IN', 'CA', 'FR']\n",
        "\n",
        "print(\"Original Country list is : \" + str(input_countries))\n",
        "print(\"Original Codes list is : \" + str(codes))\n",
        " \n",
        "res = {}\n",
        "for key in input_countries:\n",
        "    for value in codes:\n",
        "        res[key] = value\n",
        "        codes.remove(value)\n",
        "        break\n",
        " \n",
        "print(\"Resultant dictionary is : \" + str(res))"
      ],
      "metadata": {
        "colab": {
          "base_uri": "https://localhost:8080/"
        },
        "id": "rrtgbl1Jey_w",
        "outputId": "53abab81-22aa-4639-fb3c-2d0593a5f06e"
      },
      "execution_count": 80,
      "outputs": [
        {
          "output_type": "stream",
          "name": "stdout",
          "text": [
            "Original Country list is : ['India', 'Canada', 'France']\n",
            "Original Codes list is : ['IN', 'CA', 'FR']\n",
            "Resultant dictionary is : {'India': 'IN', 'Canada': 'CA', 'France': 'FR'}\n"
          ]
        }
      ]
    },
    {
      "cell_type": "markdown",
      "source": [
        "## Q.50\n",
        "## Read a File and number every line."
      ],
      "metadata": {
        "id": "YYVWaSB8f3TH"
      }
    },
    {
      "cell_type": "code",
      "source": [
        "# A.50\n",
        "\n",
        "\n",
        "  \n",
        "L = [\"it\\n\" ,  \"is a long established\\n\" ,\"fact that a reader will be distracted\\n\" , \"by the readable content of a page when looking at\\n\" , \"its layout. The point of using Lorem\\n\",  \"Ipsum is that it has a more-or-less normal distribution\\n\" , \"of letters, as opposed to using 'Content here, content here\\n\" ,\"making it look like readable English\\n\"]\n",
        "file1 = open('myfile.txt', 'w')\n",
        "file1.writelines(L)\n",
        "file1.close()\n",
        "  \n",
        "\n",
        "file1 = open('myfile.txt', 'r')\n",
        "Lines = file1.readlines()\n",
        "  \n",
        "count = 0\n",
        "\n",
        "for line in Lines:\n",
        "    count += 1\n",
        "    print(\"Line{}: {}\".format(count, line.strip()))"
      ],
      "metadata": {
        "colab": {
          "base_uri": "https://localhost:8080/"
        },
        "id": "vyM0pSUIhr5I",
        "outputId": "357fb7d2-331c-443c-afc5-653e3fdf264a"
      },
      "execution_count": 88,
      "outputs": [
        {
          "output_type": "stream",
          "name": "stdout",
          "text": [
            "Line1: it\n",
            "Line2: is a long established\n",
            "Line3: fact that a reader will be distracted\n",
            "Line4: by the readable content of a page when looking at\n",
            "Line5: its layout. The point of using Lorem\n",
            "Line6: Ipsum is that it has a more-or-less normal distribution\n",
            "Line7: of letters, as opposed to using 'Content here, content here\n",
            "Line8: making it look like readable English\n"
          ]
        }
      ]
    },
    {
      "cell_type": "markdown",
      "source": [
        "## Q.51\n",
        "## find out what the programe does if the file dosen't exit."
      ],
      "metadata": {
        "id": "efFYl8V4uODg"
      }
    },
    {
      "cell_type": "markdown",
      "source": [
        "### A.51\n",
        "### If you reference a file that does not exist, Python will return an error. One type of error is the FileNotFoundError, which is raised when referencing a file that does not exist using the os library."
      ],
      "metadata": {
        "id": "KsJ-N9XyuYfK"
      }
    },
    {
      "cell_type": "markdown",
      "source": [
        "## Q.52\n",
        "## what happens if you create a file with another user and try to open it in python ?"
      ],
      "metadata": {
        "id": "sJ5qRwEgurdG"
      }
    },
    {
      "cell_type": "markdown",
      "source": [
        "### A.52\n",
        "### it will ask for your password. then after you enter your password it will open python like normal. "
      ],
      "metadata": {
        "id": "7x5FlytEvHEi"
      }
    },
    {
      "cell_type": "markdown",
      "source": [
        "## Q.53\n",
        "## write the text\"Take is easy \" to a file."
      ],
      "metadata": {
        "id": "zu0GNvZvvPjp"
      }
    },
    {
      "cell_type": "code",
      "source": [
        "# A.53\n",
        "L = [\"Take It Easy\"]\n",
        "file1 = open('myfile.txt', 'w')\n",
        "file1.writelines(L)\n",
        "file1.close()\n",
        "  \n",
        "\n",
        "file1 = open('myfile.txt', 'r')\n",
        "Lines = file1.readlines()\n",
        "  \n",
        "count = 0\n",
        "\n",
        "for line in Lines:\n",
        "    count += 1\n",
        "    print(\"Line{}: {}\".format(count, line.strip()))"
      ],
      "metadata": {
        "colab": {
          "base_uri": "https://localhost:8080/"
        },
        "id": "SNpUIXQPvZt2",
        "outputId": "d7b13a98-2071-47bd-afcf-45df6f8ac7c3"
      },
      "execution_count": 89,
      "outputs": [
        {
          "output_type": "stream",
          "name": "stdout",
          "text": [
            "Line1: Take It Easy\n"
          ]
        }
      ]
    },
    {
      "cell_type": "markdown",
      "source": [
        "## Q.54\n",
        "## write the line open(\"text.txt\")to a file in a python."
      ],
      "metadata": {
        "id": "ZOUHhaq-vqv_"
      }
    },
    {
      "cell_type": "code",
      "source": [
        "# A.54\n",
        "\n",
        "open(\"text.txt\")\n",
        "\n"
      ],
      "metadata": {
        "id": "cG4xPbzuv5KH"
      },
      "execution_count": null,
      "outputs": []
    },
    {
      "cell_type": "markdown",
      "source": [
        "### A.54\n",
        "### **If the text file and your current file are in the same directory (\"folder\"), then you can just reference the file name in the open() function.**"
      ],
      "metadata": {
        "id": "zEDvZVU2wq0O"
      }
    },
    {
      "cell_type": "markdown",
      "source": [
        "## Q.55\n",
        "## Given tic-tac-toe board of 3x3 , print every position."
      ],
      "metadata": {
        "id": "X9UDWwBywvUN"
      }
    },
    {
      "cell_type": "code",
      "source": [
        "# A.55\n",
        "\n",
        "def draw():\n",
        "    board = ''\n",
        "\n",
        "    for i in range(-1,6):\n",
        "\n",
        "        if i%2==0:\n",
        "            board += '|      ' * 4\n",
        "            board += '\\n|      |      |      |'\n",
        "\n",
        "        else:\n",
        "            board += ' _____ ' * 3\n",
        "\n",
        "        board += '\\n'\n",
        "    print (board)\n",
        "\n",
        "draw()"
      ],
      "metadata": {
        "colab": {
          "base_uri": "https://localhost:8080/"
        },
        "id": "zfxR3uxKw_Kg",
        "outputId": "54523ad8-334b-4aa2-8116-e9d140e6c4d6"
      },
      "execution_count": 91,
      "outputs": [
        {
          "output_type": "stream",
          "name": "stdout",
          "text": [
            " _____  _____  _____ \n",
            "|      |      |      |      \n",
            "|      |      |      |\n",
            " _____  _____  _____ \n",
            "|      |      |      |      \n",
            "|      |      |      |\n",
            " _____  _____  _____ \n",
            "|      |      |      |      \n",
            "|      |      |      |\n",
            " _____  _____  _____ \n",
            "\n"
          ]
        }
      ]
    },
    {
      "cell_type": "markdown",
      "source": [
        "## Q.56\n",
        "## Create A program Where every person meets the other person ."
      ],
      "metadata": {
        "id": "QoDxdvsDxnon"
      }
    },
    {
      "cell_type": "code",
      "source": [
        "# A.56\n",
        "\n",
        "persons = [\"John\", \"Marissa\", \"Pete\", \"Dayton\"]\n",
        "\n",
        "them = [\"Dayton\", \"Pete\", \"Marissa\", \"John\"]\n",
        "\n",
        "for x in persons:\n",
        "    for y in them:\n",
        "        if not x==y:\n",
        "            print(x, \"Meets\", y)\n",
        "\n"
      ],
      "metadata": {
        "colab": {
          "base_uri": "https://localhost:8080/"
        },
        "id": "WuhXXM8qx1ay",
        "outputId": "33049636-cca8-4447-cb78-7ee2b395a9c6"
      },
      "execution_count": 92,
      "outputs": [
        {
          "output_type": "stream",
          "name": "stdout",
          "text": [
            "John Meets Dayton\n",
            "John Meets Pete\n",
            "John Meets Marissa\n",
            "Marissa Meets Dayton\n",
            "Marissa Meets Pete\n",
            "Marissa Meets John\n",
            "Pete Meets Dayton\n",
            "Pete Meets Marissa\n",
            "Pete Meets John\n",
            "Dayton Meets Pete\n",
            "Dayton Meets Marissa\n",
            "Dayton Meets John\n"
          ]
        }
      ]
    },
    {
      "cell_type": "markdown",
      "source": [
        "## Q.57\n",
        "## if normal for loop finish in n steps 0(n),how many steps has a nested loop ? "
      ],
      "metadata": {
        "id": "D20rjMZrysc4"
      }
    },
    {
      "cell_type": "markdown",
      "source": [
        "### A.57\n",
        "### **For loops are used when you have a block of code which you want to repeat a fixed number of times.**\n",
        "\n",
        "### In the case of nested loops, the above three steps are checked for each loop inside it. Thus with each flow of the outer loop, the inner loop executes completely, which means if we have m flows for the outer loop and n number of flows for the outer loop, then this loop together will be executed m*n times."
      ],
      "metadata": {
        "id": "wcJdgNUbzN69"
      }
    },
    {
      "cell_type": "markdown",
      "source": [
        "## Q.58\n",
        "## Take a slice of the below list :"
      ],
      "metadata": {
        "id": "qq2ur55F0FJh"
      }
    },
    {
      "cell_type": "code",
      "source": [
        "# A.58\n",
        "\n",
        "pizzas = [\"Hawaii\" , \"Peproni\" , \"Formaggi\" , \"Napolitana\" , \"Diavoli\"]\n",
        "\n",
        "pizzas[:3]\n"
      ],
      "metadata": {
        "colab": {
          "base_uri": "https://localhost:8080/"
        },
        "id": "QAuy3kTf0Nqw",
        "outputId": "f44de3ce-9f31-469b-aa7d-04a177152049"
      },
      "execution_count": 94,
      "outputs": [
        {
          "output_type": "execute_result",
          "data": {
            "text/plain": [
              "['Napolitana', 'Diavoli']"
            ]
          },
          "metadata": {},
          "execution_count": 94
        }
      ]
    },
    {
      "cell_type": "code",
      "source": [
        "pizzas = [\"Hawaii\" , \"Peproni\" , \"Formaggi\" , \"Napolitana\" , \"Diavoli\"]\n",
        "\n",
        "pizzas[2:]"
      ],
      "metadata": {
        "colab": {
          "base_uri": "https://localhost:8080/"
        },
        "id": "W7SgfJ1i0phW",
        "outputId": "17d15f1d-1144-4319-ecfd-c5c8065303b7"
      },
      "execution_count": 95,
      "outputs": [
        {
          "output_type": "execute_result",
          "data": {
            "text/plain": [
              "['Formaggi', 'Napolitana', 'Diavoli']"
            ]
          },
          "metadata": {},
          "execution_count": 95
        }
      ]
    },
    {
      "cell_type": "code",
      "source": [
        "pizzas = [\"Hawaii\" , \"Peproni\" , \"Formaggi\" , \"Napolitana\" , \"Diavoli\"]\n",
        "\n",
        "pizzas[-1]"
      ],
      "metadata": {
        "colab": {
          "base_uri": "https://localhost:8080/",
          "height": 36
        },
        "id": "PKEg-xhi0tmA",
        "outputId": "f50dd4ba-7877-4895-83b8-3c80198a35c8"
      },
      "execution_count": 96,
      "outputs": [
        {
          "output_type": "execute_result",
          "data": {
            "text/plain": [
              "'Diavoli'"
            ],
            "application/vnd.google.colaboratory.intrinsic+json": {
              "type": "string"
            }
          },
          "metadata": {},
          "execution_count": 96
        }
      ]
    },
    {
      "cell_type": "code",
      "source": [
        "pizzas = [\"Hawaii\" , \"Peproni\" , \"Formaggi\" , \"Napolitana\" , \"Diavoli\"]\n",
        "\n",
        "pizzas[1:3]"
      ],
      "metadata": {
        "colab": {
          "base_uri": "https://localhost:8080/"
        },
        "id": "_SuDcOez0ylF",
        "outputId": "19038de8-3166-43cf-94da-e15f318fb36e"
      },
      "execution_count": 97,
      "outputs": [
        {
          "output_type": "execute_result",
          "data": {
            "text/plain": [
              "['Peproni', 'Formaggi']"
            ]
          },
          "metadata": {},
          "execution_count": 97
        }
      ]
    },
    {
      "cell_type": "markdown",
      "source": [
        "## Q.59\n",
        "## Given the Text\"hello world\" take the slice \"world\""
      ],
      "metadata": {
        "id": "TXPr1Ig103JO"
      }
    },
    {
      "cell_type": "code",
      "source": [
        "# A.59\n",
        "\n",
        "a = \"hello world\"\n",
        "a[6:]"
      ],
      "metadata": {
        "colab": {
          "base_uri": "https://localhost:8080/",
          "height": 36
        },
        "id": "EPCL2GeL1F06",
        "outputId": "c4bc0439-4c0b-4977-d627-27fbd0c046fe"
      },
      "execution_count": 99,
      "outputs": [
        {
          "output_type": "execute_result",
          "data": {
            "text/plain": [
              "'world'"
            ],
            "application/vnd.google.colaboratory.intrinsic+json": {
              "type": "string"
            }
          },
          "metadata": {},
          "execution_count": 99
        }
      ]
    },
    {
      "cell_type": "markdown",
      "source": [
        "## Q.60\n",
        "## create a function that returns a,b and a+b"
      ],
      "metadata": {
        "id": "1geewA9u1RY-"
      }
    },
    {
      "cell_type": "code",
      "source": [
        "# A.60\n",
        "\n",
        "def my_function(a,b):\n",
        "  c = a+b\n",
        "  return(c)"
      ],
      "metadata": {
        "id": "a9aHr_KD1aDJ"
      },
      "execution_count": 100,
      "outputs": []
    },
    {
      "cell_type": "code",
      "source": [
        "my_function(10 , 20)"
      ],
      "metadata": {
        "colab": {
          "base_uri": "https://localhost:8080/"
        },
        "id": "6pMQTu351pKC",
        "outputId": "f87e27f7-ed4a-47d2-9d3f-d8296e01c1b8"
      },
      "execution_count": 101,
      "outputs": [
        {
          "output_type": "execute_result",
          "data": {
            "text/plain": [
              "30"
            ]
          },
          "metadata": {},
          "execution_count": 101
        }
      ]
    },
    {
      "cell_type": "markdown",
      "source": [
        "## Q.61\n",
        "## Create a function that returns 5 variables."
      ],
      "metadata": {
        "id": "pHHTlWzs1s8d"
      }
    },
    {
      "cell_type": "code",
      "source": [
        "# A.61\n",
        "\n",
        "class Test:\n",
        "    def __init__(self):\n",
        "        self.str = \"world is beautifull and lovely\"\n",
        "        self.x = 50  \n",
        "        self.y = 100\n",
        "        self.z = \"hello world\"\n",
        "        self.u = \"manish\"\n",
        "  \n",
        "\n",
        "def fun():\n",
        "    return Test()\n",
        "      \n",
        "\n",
        "t = fun() \n",
        "print(t.str)\n",
        "print(t.x)\n",
        "print(t.y)\n",
        "print(t.z)\n",
        "print(t.u)"
      ],
      "metadata": {
        "colab": {
          "base_uri": "https://localhost:8080/"
        },
        "id": "RHfTAi8H2MaK",
        "outputId": "bd1fa062-453f-4044-adb1-6042557c4944"
      },
      "execution_count": 104,
      "outputs": [
        {
          "output_type": "stream",
          "name": "stdout",
          "text": [
            "world is beautifull and lovely\n",
            "50\n",
            "100\n",
            "hello world\n",
            "manish\n"
          ]
        }
      ]
    },
    {
      "cell_type": "markdown",
      "source": [
        "## Q.62\n",
        "## add a function reduce amount that changes the variable balance."
      ],
      "metadata": {
        "id": "nX0Z5w8Q2xW2"
      }
    },
    {
      "cell_type": "code",
      "source": [
        "# A.62\n",
        "\n",
        "def my_add(a, b):\n",
        "   result = a + b\n",
        "   print(f\"{a} + {b} = {result}\")\n",
        "   return result\n",
        "   \n",
        "from functools import reduce\n",
        "\n",
        "numbers = [0, 1, 2, 3, 4]\n",
        "\n",
        "reduce(my_add, numbers)\n",
        " "
      ],
      "metadata": {
        "colab": {
          "base_uri": "https://localhost:8080/"
        },
        "id": "YU5MY_uvGNzH",
        "outputId": "598b7517-a2a9-44be-df26-ef2ee5dd717f"
      },
      "execution_count": 108,
      "outputs": [
        {
          "output_type": "stream",
          "name": "stdout",
          "text": [
            "0 + 1 = 1\n",
            "1 + 2 = 3\n",
            "3 + 3 = 6\n",
            "6 + 4 = 10\n"
          ]
        },
        {
          "output_type": "execute_result",
          "data": {
            "text/plain": [
              "10"
            ]
          },
          "metadata": {},
          "execution_count": 108
        }
      ]
    },
    {
      "cell_type": "markdown",
      "source": [
        "## Q.63\n",
        "## Create a function with a local variable"
      ],
      "metadata": {
        "id": "BpuukK6fHuaU"
      }
    },
    {
      "cell_type": "code",
      "source": [
        "# A.63\n",
        "\n",
        "def f():\n",
        "  \n",
        "    \n",
        "    s = \"Hellow World\"\n",
        "    print(s)\n",
        "  \n",
        "  \n",
        "\n",
        "f()"
      ],
      "metadata": {
        "colab": {
          "base_uri": "https://localhost:8080/"
        },
        "id": "VFqVZN-iH3sx",
        "outputId": "2b292d6f-47f9-4868-c8f2-c77c0e18650a"
      },
      "execution_count": 110,
      "outputs": [
        {
          "output_type": "stream",
          "name": "stdout",
          "text": [
            "Hellow World\n"
          ]
        }
      ]
    },
    {
      "cell_type": "markdown",
      "source": [
        "## Q.64\n",
        "## print the date in format year-month-day"
      ],
      "metadata": {
        "id": "vaexPR2GIL6N"
      }
    },
    {
      "cell_type": "code",
      "source": [
        "# A.64\n",
        "\n",
        "import datetime\n",
        "\n",
        "datetime_object = datetime.datetime.now()\n",
        "print(datetime_object)"
      ],
      "metadata": {
        "colab": {
          "base_uri": "https://localhost:8080/"
        },
        "id": "2LhvnLBWIRt8",
        "outputId": "acdf0728-a063-437f-f381-780d15e3e0ff"
      },
      "execution_count": 111,
      "outputs": [
        {
          "output_type": "stream",
          "name": "stdout",
          "text": [
            "2022-11-30 10:42:54.877223\n"
          ]
        }
      ]
    }
  ]
}