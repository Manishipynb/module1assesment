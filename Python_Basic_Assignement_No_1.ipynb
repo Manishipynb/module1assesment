{
  "nbformat": 4,
  "nbformat_minor": 0,
  "metadata": {
    "colab": {
      "provenance": [],
      "authorship_tag": "ABX9TyMLVJMnzL0ikzmVXq7KUkGs",
      "include_colab_link": true
    },
    "kernelspec": {
      "name": "python3",
      "display_name": "Python 3"
    },
    "language_info": {
      "name": "python"
    }
  },
  "cells": [
    {
      "cell_type": "markdown",
      "metadata": {
        "id": "view-in-github",
        "colab_type": "text"
      },
      "source": [
        "<a href=\"https://colab.research.google.com/github/Manishipynb/module1assesment/blob/main/Python_Basic_Assignement_No_1.ipynb\" target=\"_parent\"><img src=\"https://colab.research.google.com/assets/colab-badge.svg\" alt=\"Open In Colab\"/></a>"
      ]
    },
    {
      "cell_type": "code",
      "execution_count": null,
      "metadata": {
        "id": "R-gWPO0wXOUG"
      },
      "outputs": [],
      "source": []
    },
    {
      "cell_type": "markdown",
      "source": [
        "### Q.1 In the below elements which of them are values or an expression ?\n",
        "### Values can be Integer or String\n",
        "### Expression will be Mathematical Operators."
      ],
      "metadata": {
        "id": "9y9LkBJXXVuB"
      }
    },
    {
      "cell_type": "markdown",
      "source": [
        "### A.1\n",
        "### 1] * = Is a Mathematical Operatos of Multiplication.\n",
        "### 2] 'hello' = Is a String.\n",
        "### 3] -87.8 = Is a Integer.\n",
        "### 4] - = Is a Mathematical Operators of Substraction.\n",
        "### 5] / = Is a Mathematical Operator of Division.\n",
        "### 6] + = Is a mathematical Operator of Addition.\n",
        "### 7] 6 = Is a Integer.\n",
        "\n"
      ],
      "metadata": {
        "id": "MLIJW0yIXp2O"
      }
    },
    {
      "cell_type": "markdown",
      "source": [
        "### Q.2 \n",
        "### What is the Difference between String and Variable ?"
      ],
      "metadata": {
        "id": "yv5hCyJkYr72"
      }
    },
    {
      "cell_type": "markdown",
      "source": [
        "### A.2 \n",
        "### Variable are Symbols that you can use to store the data in a program.\n",
        "### String are Data , so we can use them to fill up a Variable.\n",
        "### think of Empty Box ( VARIABLE ) that can be fill with some Data or Value ( STRING )."
      ],
      "metadata": {
        "id": "Nc8XRzehY1KW"
      }
    },
    {
      "cell_type": "markdown",
      "source": [
        "### Q.3 \n",
        "### Describe Three Different Data Types."
      ],
      "metadata": {
        "id": "wCrSvJ8qaBcD"
      }
    },
    {
      "cell_type": "markdown",
      "source": [
        "### A.3\n",
        "### 1] Integers = Whole Numbers\n",
        "### 2] Floats = Decimal Numbers\n",
        "### 3] Booleans = Truth Value ( Yes / No )\n",
        "### 4] Strings = Text Data"
      ],
      "metadata": {
        "id": "g1eoQpXVaMqu"
      }
    },
    {
      "cell_type": "markdown",
      "source": [],
      "metadata": {
        "id": "1AS-01u4bcr5"
      }
    },
    {
      "cell_type": "markdown",
      "source": [
        "### Q.4\n",
        "### What is an Expression made up of ?\n",
        "### What do all expressions do ?"
      ],
      "metadata": {
        "id": "FoF1jYpGbgCY"
      }
    },
    {
      "cell_type": "markdown",
      "source": [
        "### A.4\n",
        "### An Expression is a combination of Operators and Operand that is interpreted to produce some of the Values.\n",
        "### If there is more that one Operator in an Expressions their precedence decides which operation will be  performed first.\n",
        "### Python have many different types of Expressions.\n",
        "### \n",
        "\n",
        "1.   Constant Expressions\n",
        "2.   Arithmetic Expressions\n",
        "3.   Integral Expressions\n",
        "4.   Floating Expressions\n",
        "5.   Relational Expressions\n",
        "6.   Logical Expressions\n",
        "7.   Bitwise Expressions\n",
        "8.   Combinational Expressions\n",
        "\n"
      ],
      "metadata": {
        "id": "twD7GQoWbq4X"
      }
    },
    {
      "cell_type": "markdown",
      "source": [
        "### Q.5 \n",
        "### This assignments statements , like spam = 10.\n",
        "### What is the difference between an expressions and a statement ?"
      ],
      "metadata": {
        "id": "BtYuDue7eHUZ"
      }
    },
    {
      "cell_type": "markdown",
      "source": [
        "### A.5\n",
        "### Here spam = 10 , is a Statement.\n",
        "### Statement is like creating a variable or displaying a value.\n",
        "### statement which is just a standalone unit of execution and dosen't return anything.\n",
        "\n",
        "### An Expression always evalutes to a value.\n",
        "### An Expression is a combination of values and functions that combined and interpreted by the compiler to create a new value."
      ],
      "metadata": {
        "id": "NozxeqJoeYRu"
      }
    },
    {
      "cell_type": "markdown",
      "source": [
        "### Q.6\n",
        "### After running the following code , what does the variable bacon contain ?\n",
        "\n",
        "### bacon = 22\n",
        "### bacon + 1\n",
        "\n",
        "# bacon variable will contain the same value of 22. there will not be any change in value of bacon.\n",
        "\n",
        "# yes , if you run the program it will give you value of 23 , but will not change value of bacon."
      ],
      "metadata": {
        "id": "LsQd8LO0gRcx"
      }
    },
    {
      "cell_type": "code",
      "source": [
        " bacon = 22\n",
        " bacon + 1\n",
        " print(bacon)\n",
        "\n",
        " # bacon variable contain the same valule of 22."
      ],
      "metadata": {
        "colab": {
          "base_uri": "https://localhost:8080/"
        },
        "id": "ouhKKUj8gmuK",
        "outputId": "7071648b-789e-4315-8b5f-119fc86c741d"
      },
      "execution_count": 5,
      "outputs": [
        {
          "output_type": "stream",
          "name": "stdout",
          "text": [
            "22\n"
          ]
        }
      ]
    },
    {
      "cell_type": "code",
      "source": [
        "bacon = 22\n",
        "bacon + 1\n",
        " \n",
        "\n",
        " # this program will return value 23 , but bacon variable value won't change."
      ],
      "metadata": {
        "colab": {
          "base_uri": "https://localhost:8080/"
        },
        "id": "Bl-o08XPhg9C",
        "outputId": "274b08af-fbab-4388-8cf8-6b6947886c17"
      },
      "execution_count": 6,
      "outputs": [
        {
          "output_type": "execute_result",
          "data": {
            "text/plain": [
              "23"
            ]
          },
          "metadata": {},
          "execution_count": 6
        }
      ]
    },
    {
      "cell_type": "markdown",
      "source": [
        "### Q.7\n",
        "### what should be the values of the following two terms be ?\n",
        "### 1. 'spam' + 'spamspam'\n",
        "### 2. 'spam'*3"
      ],
      "metadata": {
        "id": "AojEQnbqhxsj"
      }
    },
    {
      "cell_type": "code",
      "source": [
        "# A.7 , CASE - 1\n",
        "\n",
        "'spam' + 'spamspam'"
      ],
      "metadata": {
        "colab": {
          "base_uri": "https://localhost:8080/",
          "height": 36
        },
        "id": "STmFORCOiBvK",
        "outputId": "2a5303f6-062e-4329-eab5-2484aa0f17bf"
      },
      "execution_count": 7,
      "outputs": [
        {
          "output_type": "execute_result",
          "data": {
            "text/plain": [
              "'spamspamspam'"
            ],
            "application/vnd.google.colaboratory.intrinsic+json": {
              "type": "string"
            }
          },
          "metadata": {},
          "execution_count": 7
        }
      ]
    },
    {
      "cell_type": "code",
      "source": [
        "# A.7 , CASE - 2\n",
        "\n",
        "'spam'*3"
      ],
      "metadata": {
        "colab": {
          "base_uri": "https://localhost:8080/",
          "height": 36
        },
        "id": "uMrsTNNnias4",
        "outputId": "2412295c-db0b-453f-9f4f-3c22e76d9286"
      },
      "execution_count": 8,
      "outputs": [
        {
          "output_type": "execute_result",
          "data": {
            "text/plain": [
              "'spamspamspam'"
            ],
            "application/vnd.google.colaboratory.intrinsic+json": {
              "type": "string"
            }
          },
          "metadata": {},
          "execution_count": 8
        }
      ]
    },
    {
      "cell_type": "markdown",
      "source": [
        "### Both Case have same output."
      ],
      "metadata": {
        "id": "TJPxLLnzijuk"
      }
    },
    {
      "cell_type": "markdown",
      "source": [
        "### Q.8 \n",
        "### Why eggs a valid variable name while 100 is invalid ?"
      ],
      "metadata": {
        "id": "yGlbidRfiszH"
      }
    },
    {
      "cell_type": "markdown",
      "source": [
        "### A.8 \n",
        "### eggs  = is a valid variable name because its fullfill all the condition by python to be variable name like , 1 ] name must start with letter , 2] can contain alphabatic characters.\n",
        "\n",
        "### 100 = is a invalid variable name because it is not fullfilling the basic and first condition of python to be variable name like , 1] A Variable Name CANNOT START WITH A NUMBER."
      ],
      "metadata": {
        "id": "ReXHgzGOi2qm"
      }
    },
    {
      "cell_type": "markdown",
      "source": [
        "### Q.9 \n",
        "### What three functions can be used to get the integer , floating-point number or a string versions of a value."
      ],
      "metadata": {
        "id": "BTEijhbcj19g"
      }
    },
    {
      "cell_type": "markdown",
      "source": [
        "### A.9 \n",
        "\n",
        "### Integer = int()\n",
        "### Floating-point number = float()\n",
        "### string = str()\n",
        "\n"
      ],
      "metadata": {
        "id": "YFT9I4XwkGxv"
      }
    },
    {
      "cell_type": "markdown",
      "source": [
        "### Q.10\n",
        "### Why does this expression cause an error ? How can you fix it ?\n",
        "\n"
      ],
      "metadata": {
        "id": "5uJqngu7knum"
      }
    },
    {
      "cell_type": "code",
      "source": [
        "# A.10 \n",
        "\n",
        "'i have eaten' + 99 + 'burritos'\n",
        "\n",
        "# this is wrong typeerror. cant add string with integer, not possible."
      ],
      "metadata": {
        "colab": {
          "base_uri": "https://localhost:8080/",
          "height": 200
        },
        "id": "_9tcXxj6k1lx",
        "outputId": "6ad39769-73fb-4a60-c011-33ac752aa652"
      },
      "execution_count": 9,
      "outputs": [
        {
          "output_type": "error",
          "ename": "TypeError",
          "evalue": "ignored",
          "traceback": [
            "\u001b[0;31m---------------------------------------------------------------------------\u001b[0m",
            "\u001b[0;31mTypeError\u001b[0m                                 Traceback (most recent call last)",
            "\u001b[0;32m<ipython-input-9-94815f88f422>\u001b[0m in \u001b[0;36m<module>\u001b[0;34m\u001b[0m\n\u001b[1;32m      1\u001b[0m \u001b[0;31m# A.10\u001b[0m\u001b[0;34m\u001b[0m\u001b[0;34m\u001b[0m\u001b[0;34m\u001b[0m\u001b[0m\n\u001b[1;32m      2\u001b[0m \u001b[0;34m\u001b[0m\u001b[0m\n\u001b[0;32m----> 3\u001b[0;31m \u001b[0;34m'i have eaten'\u001b[0m \u001b[0;34m+\u001b[0m \u001b[0;36m99\u001b[0m \u001b[0;34m+\u001b[0m \u001b[0;34m'burritos'\u001b[0m\u001b[0;34m\u001b[0m\u001b[0;34m\u001b[0m\u001b[0m\n\u001b[0m",
            "\u001b[0;31mTypeError\u001b[0m: can only concatenate str (not \"int\") to str"
          ]
        }
      ]
    },
    {
      "cell_type": "code",
      "source": [
        "# A.10 \n",
        "\n",
        "' i have eaten ' + ' 99 ' + ' burritos '\n",
        "\n",
        "# THIS IS CORRECT ONE. WE HAVE TO CONVERT 99 ( INTEGER ) TO '99' (STRING)."
      ],
      "metadata": {
        "colab": {
          "base_uri": "https://localhost:8080/",
          "height": 36
        },
        "id": "Ahm_tJuIlJQ3",
        "outputId": "46010e82-a6c0-4c86-c3bb-78f435001c39"
      },
      "execution_count": 11,
      "outputs": [
        {
          "output_type": "execute_result",
          "data": {
            "text/plain": [
              "' i have eaten  99  burritos '"
            ],
            "application/vnd.google.colaboratory.intrinsic+json": {
              "type": "string"
            }
          },
          "metadata": {},
          "execution_count": 11
        }
      ]
    }
  ]
}