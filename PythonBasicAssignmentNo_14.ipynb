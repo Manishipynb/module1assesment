{
  "nbformat": 4,
  "nbformat_minor": 0,
  "metadata": {
    "colab": {
      "provenance": [],
      "authorship_tag": "ABX9TyMK0ZAO5a7+2rg+ZNZm+l9l",
      "include_colab_link": true
    },
    "kernelspec": {
      "name": "python3",
      "display_name": "Python 3"
    },
    "language_info": {
      "name": "python"
    }
  },
  "cells": [
    {
      "cell_type": "markdown",
      "metadata": {
        "id": "view-in-github",
        "colab_type": "text"
      },
      "source": [
        "<a href=\"https://colab.research.google.com/github/Manishipynb/module1assesment/blob/main/PythonBasicAssignmentNo_14.ipynb\" target=\"_parent\"><img src=\"https://colab.research.google.com/assets/colab-badge.svg\" alt=\"Open In Colab\"/></a>"
      ]
    },
    {
      "cell_type": "markdown",
      "source": [
        "## Q.1\n",
        "## What Does RGBA Stand for ?"
      ],
      "metadata": {
        "id": "puKYhmlCmKqt"
      }
    },
    {
      "cell_type": "markdown",
      "source": [
        "### A.1\n",
        "### The RGB color model is extended in this specification to include “alpha” to allow specification of the opacity of a color.\n",
        "\n",
        "###  The RGBA color format is an extension of the RGB scheme with an added alpha channel that specifies the opacity of the color"
      ],
      "metadata": {
        "id": "DFmZ-K7qmQrk"
      }
    },
    {
      "cell_type": "markdown",
      "source": [
        "## Q.2\n",
        "## From the Pillow module , how do you get the RGBA value of any images ?"
      ],
      "metadata": {
        "id": "scZnJrLUmri8"
      }
    },
    {
      "cell_type": "code",
      "source": [
        "# A.2\n",
        "\n",
        "img = Image.open(‘image.png’)\n",
        "\n",
        "rgba = img.convert(“RGBA”)\n",
        "\n",
        "datas = rgba.getdata()"
      ],
      "metadata": {
        "id": "atK79S_tnLxU"
      },
      "execution_count": null,
      "outputs": []
    },
    {
      "cell_type": "markdown",
      "source": [
        "## Q.3\n",
        "## What is a Box Tuple ? and how does it work ?"
      ],
      "metadata": {
        "id": "0LNhCmucnPyE"
      }
    },
    {
      "cell_type": "markdown",
      "source": [
        "### A.3\n",
        "### Python Tuple is a collection of objects separated by commas. In some ways, a tuple is similar to a list in terms of indexing, nested objects, and repetition but a tuple is immutable, unlike lists which are mutable.\n",
        "\n",
        "### The box. tuple submodule provides read-only access for the tuple userdata type. It allows, for a single tuple: selective retrieval of the field contents, retrieval of information about size, iteration over all the fields, and conversion to a Lua table. Below is a list of all box."
      ],
      "metadata": {
        "id": "d8fuRhN7navU"
      }
    },
    {
      "cell_type": "markdown",
      "source": [
        "## Q.4\n",
        "## Use your image and load in notebook then , how can you find out the width and height of an image object ?"
      ],
      "metadata": {
        "id": "Rj16KkBInuZE"
      }
    },
    {
      "cell_type": "code",
      "source": [
        "# A.4\n",
        "\n",
        "\n",
        "from PIL import Image\n",
        "  \n",
        "\n",
        "filepath = \"geeksforgeeks.png\"\n",
        "img = Image.open(filepath)\n",
        "  \n",
        "\n",
        "width = img.width\n",
        "height = img.height\n",
        " \n",
        "print(\"The height of the image is: \", height)\n",
        "print(\"The width of the image is: \", width)"
      ],
      "metadata": {
        "id": "8kLKCIXhoK_M"
      },
      "execution_count": null,
      "outputs": []
    },
    {
      "cell_type": "markdown",
      "source": [
        "## Q.5\n",
        "## What method would you call to get image object for a 100x100 image , excluding the lower-left quater of it ?"
      ],
      "metadata": {
        "id": "Lpx_IS1koX0t"
      }
    },
    {
      "cell_type": "code",
      "source": [
        "# A.5\n",
        "\n",
        "rom PIL import Image\n",
        "import numpy as np      \n",
        "  \n",
        "\n",
        "img = Image.open(r\"IMAGE_PATH\").convert('RGB')\n",
        "  \n",
        "\n",
        "img_arr = np.array(img)\n",
        "  \n",
        "\n",
        "img_arr[0 : 400, 0 : 400] = (0, 0, 0)\n",
        "  \n",
        "\n",
        "img = Image.fromarray(img_arr)\n",
        "  \n",
        "\n",
        "img.show()"
      ],
      "metadata": {
        "id": "DAy_rMJYo5ys"
      },
      "execution_count": null,
      "outputs": []
    },
    {
      "cell_type": "markdown",
      "source": [
        "## Q.6\n",
        "## After making changes to an image object , how could you save it as an image file ?"
      ],
      "metadata": {
        "id": "HynHtVMEpCJ8"
      }
    },
    {
      "cell_type": "code",
      "source": [
        "# A.6\n",
        "\n",
        "\n",
        "from PIL import Image \n",
        "import PIL \n",
        "  \n",
        "\n",
        "im1 = Image.open(r\"C:\\Users\\System-Pc\\Desktop\\flower1.jpg\") \n",
        "  \n",
        "\n",
        "im1 = im1.save(\"geeks.jpg\")"
      ],
      "metadata": {
        "id": "TBvPlMV-pRi9"
      },
      "execution_count": null,
      "outputs": []
    },
    {
      "cell_type": "markdown",
      "source": [
        "## Q.7\n",
        "## What module contains Pillow's shape-drawing code ?"
      ],
      "metadata": {
        "id": "uLMHVvTCpiwE"
      }
    },
    {
      "cell_type": "markdown",
      "source": [
        "## A.7\n",
        "## he 'ImageDraw' module provides simple 2D graphics support for Image Object. Generally, we use this module to create new images, annotate or retouch existing images and to generate graphics on the fly for web use. The graphics commands support the drawing of shapes and annotation of text."
      ],
      "metadata": {
        "id": "oN9xHMxEp4jc"
      }
    },
    {
      "cell_type": "code",
      "source": [
        "# A.7\n",
        "\n",
        "\n",
        "from PIL import Image, ImageDraw\n",
        "  \n",
        "\n",
        "img = Image.open('img_path.png')\n",
        "img.show()"
      ],
      "metadata": {
        "id": "piPe-ZyEprx0"
      },
      "execution_count": null,
      "outputs": []
    },
    {
      "cell_type": "code",
      "source": [
        "# A.7\n",
        "\n",
        "\n",
        "from PIL import Image, ImageDraw\n",
        "  \n",
        "\n",
        "img = Image.open('img_path.png')\n",
        "  \n",
        "\n",
        "draw = ImageDraw.Draw(img)\n",
        "  \n",
        "\n",
        "draw.rectangle(xy = (50, 50, 150, 150),\n",
        "               fill = (0, 127, 0),\n",
        "               outline = (255, 255, 255),\n",
        "               width = 5)\n",
        "  \n",
        "\n",
        "img.show()"
      ],
      "metadata": {
        "id": "S1bpkig7qJjc"
      },
      "execution_count": null,
      "outputs": []
    },
    {
      "cell_type": "markdown",
      "source": [
        "## Q.8\n",
        "## Image Objects do not have drawing methods. What kind of objects does ? How do you get this kind of objects ?"
      ],
      "metadata": {
        "id": "2W7OI9HyqR9s"
      }
    },
    {
      "cell_type": "code",
      "source": [
        "# A.8\n",
        "\n",
        "from shapes import Paper, Triangle, Rectangle, Oval\n",
        "paper = Paper()\n",
        "rect1 = Rectangle()\n",
        "rect1.set_width(200)\n",
        "rect1.set_height(100)\n",
        "rect1.set_color(\"blue\")\n",
        "rect1.draw()\n",
        "paper.display()"
      ],
      "metadata": {
        "id": "Vc0_a_ldq2yG"
      },
      "execution_count": null,
      "outputs": []
    }
  ]
}