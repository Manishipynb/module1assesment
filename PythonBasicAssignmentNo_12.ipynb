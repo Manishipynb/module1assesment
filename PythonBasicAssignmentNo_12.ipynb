{
  "nbformat": 4,
  "nbformat_minor": 0,
  "metadata": {
    "colab": {
      "provenance": [],
      "authorship_tag": "ABX9TyNwN76cHN88dMQ6Dgh6d7ry",
      "include_colab_link": true
    },
    "kernelspec": {
      "name": "python3",
      "display_name": "Python 3"
    },
    "language_info": {
      "name": "python"
    }
  },
  "cells": [
    {
      "cell_type": "markdown",
      "metadata": {
        "id": "view-in-github",
        "colab_type": "text"
      },
      "source": [
        "<a href=\"https://colab.research.google.com/github/Manishipynb/module1assesment/blob/main/PythonBasicAssignmentNo_12.ipynb\" target=\"_parent\"><img src=\"https://colab.research.google.com/assets/colab-badge.svg\" alt=\"Open In Colab\"/></a>"
      ]
    },
    {
      "cell_type": "markdown",
      "source": [
        "## Q.1\n",
        "## In what modes should the PdfFileReader() and PdfFileWriter() File objects will be opened ?"
      ],
      "metadata": {
        "id": "-Bzwor16wMvO"
      }
    },
    {
      "cell_type": "markdown",
      "source": [
        "### A.1\n",
        "### PdfFileReader() needs to be opened in read-binary mode by passing 'rb' as the second argument to open(). Likewise, the File object passed to PyPDF2. PdfFileWriter() needs to be opened in write-binary mode with 'wb'.\n",
        "\n"
      ],
      "metadata": {
        "id": "xMUJwnNawjdP"
      }
    },
    {
      "cell_type": "markdown",
      "source": [
        "## Q.2\n",
        "## From a PdfFileReader object , how do you get a Page object for page 5?"
      ],
      "metadata": {
        "id": "DH9KY2gEw6SR"
      }
    },
    {
      "cell_type": "markdown",
      "source": [
        "### A.2\n",
        "### PdfFileReader class provides a method called getPage(page_no) to get a page object. Calling getPage(4) will return a Page object for page 5 since page 0 is the first page"
      ],
      "metadata": {
        "id": "d23ZULdzxGGA"
      }
    },
    {
      "cell_type": "code",
      "source": [
        "# Example Code:\n",
        "from PyPDF2 import PdfFileReader\n",
        "pdf_reader = PdfFileReader(file_path)\n",
        "for page in pdf_reader.getNumPages():\n",
        "    pdf_reader.getPage(page)"
      ],
      "metadata": {
        "id": "kezkHVjky6qN"
      },
      "execution_count": null,
      "outputs": []
    },
    {
      "cell_type": "markdown",
      "source": [
        "## Q.3\n",
        "## What PdfFileReader variable stores the number of pages in the PDF document?"
      ],
      "metadata": {
        "id": "FEUaaOAZxt6Y"
      }
    },
    {
      "cell_type": "markdown",
      "source": [
        "### A.3\n",
        "### getNumPages() method of PdfFileReader class stores the no pages in a PDF document"
      ],
      "metadata": {
        "id": "ecSlyaLGx1e9"
      }
    },
    {
      "cell_type": "code",
      "source": [
        "#Example Code:\n",
        "from PyPDF2 import PdfFileReader\n",
        "pdf_reader = PdfFileReader(file_path)\n",
        "print(pdf_reader.getNumPages()) # Prints the no of pages in a input document"
      ],
      "metadata": {
        "id": "Pd71uh3OyzkR"
      },
      "execution_count": null,
      "outputs": []
    },
    {
      "cell_type": "markdown",
      "source": [
        "## Q.4\n",
        "## If a PdfFileReader object’s PDF is encrypted with the password swordfish, what must you do before you can obtain Page objects from it?"
      ],
      "metadata": {
        "id": "X9LRKhw5yAn6"
      }
    },
    {
      "cell_type": "markdown",
      "source": [
        "### A.4\n",
        "### If a PdfFileReader object’s PDF is encrypted with the password swordfish and you're not aware of it. first read the Pdf using the PdfFileReader Class. PdfFileReader class provides a attribute called isEncrypted to check whether a pdf is encrypted or not. the method returns true if a pdf is encrypted and vice versa.\n",
        "### if pdf is encrypted use the decrypt() method provided by PdfFileReader class first then try to read the contents/pages of the pdf, else PyPDF2 will raise the following error PyPDF2.utils.PdfReadError: file has not been decrypted"
      ],
      "metadata": {
        "id": "DRDzl-XwyO6i"
      }
    },
    {
      "cell_type": "code",
      "source": [
        "#Example Code:\n",
        "from PyPDF2 import PdfFileReader\n",
        "pdf_reader = PdfFileReader(file_path)\n",
        "if pdf_reader.isEncrypted: # to check whether the pdf is encrypted or not\n",
        "    pdf_reader.decrypt(\"swordfish\")\n",
        "for page in pdf_reader.pages:\n",
        "    print(page.extractText()) # to print the text data of a page from pdf"
      ],
      "metadata": {
        "id": "Jfx4IRNpyuxK"
      },
      "execution_count": null,
      "outputs": []
    },
    {
      "cell_type": "markdown",
      "source": [
        "## Q.5\n",
        "## What methods do you use to rotate a page?"
      ],
      "metadata": {
        "id": "46R8_HRhyc9M"
      }
    },
    {
      "cell_type": "markdown",
      "source": [
        "###  A.5\n",
        "###  PyPDF2 Package provides 2 methods to rotate a page:\n",
        "\n",
        "###  rotateClockWise() -> For Clockwise rotation\n",
        "###  rotateCounterClockWise() -> For Counter Clockwise rotation\n",
        "###  The PyPDF2 package only allows you to rotate a page in increments of 90 degrees. You will receive an AssertionError otherwise."
      ],
      "metadata": {
        "id": "8S__YUFKzEnf"
      }
    },
    {
      "cell_type": "markdown",
      "source": [
        "## Q.6\n",
        "## What is the difference between a Run object and a Paragraph object?"
      ],
      "metadata": {
        "id": "b8V0--w4zT-f"
      }
    },
    {
      "cell_type": "markdown",
      "source": [
        "### A.6\n",
        "### The structure of a document is represented by three different data types in python-Docx. At the highest level, a Document object represents the entire document. The Document object contains a list of Paragraph objects for the paragraphs in the document. (A new paragraph begins whenever the user presses ENTER or RETURN while typing in a Word document.) Each of these Paragraph objects contains a list of one or more Run objects.\n",
        "\n",
        "### The text in a Word document is more than just a string. It has font, size, color, and other styling information associated with it. A style in Word is a collection of these attributes. A Run object is a contiguous run of text with the same style. A new Run object is needed whenever the text style changes."
      ],
      "metadata": {
        "id": "F_OFlzbLzceK"
      }
    },
    {
      "cell_type": "markdown",
      "source": [
        "## Q.7\n",
        "## How do you obtain a list of Paragraph objects for a Document object that’s stored in a variable named doc?"
      ],
      "metadata": {
        "id": "eeHyeZRPzogZ"
      }
    },
    {
      "cell_type": "code",
      "source": [
        "# A.7\n",
        "# Example Program\n",
        "from docx import Document\n",
        "doc = Document(\"sample_file.docx\") # Path of the Docx file\n",
        "print(doc.paragraphs) # Prints the list of Paragraph objects for a Document\n",
        "for paragraph in doc.paragraphs:\n",
        "    print(paragraph.text) # Prints the text in the paragraph"
      ],
      "metadata": {
        "id": "C6QM-F_gzxUr"
      },
      "execution_count": null,
      "outputs": []
    },
    {
      "cell_type": "markdown",
      "source": [
        "## Q.8\n",
        "## What type of object has bold, underline, italic, strike, and outline variables?"
      ],
      "metadata": {
        "id": "_p8ijlHtz64v"
      }
    },
    {
      "cell_type": "markdown",
      "source": [
        "### A.8\n",
        "### Run object has bold, underline, italic, strike, and outline variables. The text in a Word document is more than just a string. It has font, size, color, and other styling information associated with it.\n",
        "\n",
        "### A style in Word is a collection of these attributes. A Run object is a contiguous run of text with the same style. A new Run object is needed whenever the text style changes."
      ],
      "metadata": {
        "id": "RdqRBR0d0B-Y"
      }
    },
    {
      "cell_type": "markdown",
      "source": [
        "## Q.9\n",
        "##  What is the difference between False, True, and None for the bold variable?"
      ],
      "metadata": {
        "id": "sYSFEvUV0J2-"
      }
    },
    {
      "cell_type": "markdown",
      "source": [
        "### A.9\n",
        "### bold = True  #  Style Set to Bold\n",
        "### bold = False #  Style Not Set to Bold\n",
        "### bold = None  #   Style is Not Applicable"
      ],
      "metadata": {
        "id": "tZTU4CHM0P9Y"
      }
    },
    {
      "cell_type": "markdown",
      "source": [
        "## Q.10\n",
        "## How do you create a Document object for a new Word document?"
      ],
      "metadata": {
        "id": "yXL183yA0acn"
      }
    },
    {
      "cell_type": "code",
      "source": [
        "# A.10\n",
        "# Example Program\n",
        "from docx import Document\n",
        "document = Document()\n",
        "document.add_paragraph(\"Learn python programming\")\n",
        "document.save('mydocument.docx')"
      ],
      "metadata": {
        "id": "KuFdYayM0iiG"
      },
      "execution_count": null,
      "outputs": []
    },
    {
      "cell_type": "markdown",
      "source": [
        "## Q.11\n",
        "## How do you add a paragraph with the text 'Hello, there!' to a Document object stored in a variable named doc?"
      ],
      "metadata": {
        "id": "y7VfWjvo0qsf"
      }
    },
    {
      "cell_type": "code",
      "source": [
        "# A.11\n",
        "# Example Program\n",
        "from docx import Document\n",
        "doc = Document()\n",
        "doc.add_paragraph('Hello, there!')\n",
        "doc.save('hello.docx')"
      ],
      "metadata": {
        "id": "JUeekX0q0x0g"
      },
      "execution_count": null,
      "outputs": []
    },
    {
      "cell_type": "markdown",
      "source": [
        "## Q.12\n",
        "## What integers represent the levels of headings available in Word documents?"
      ],
      "metadata": {
        "id": "pZ7Dp8GH023t"
      }
    },
    {
      "cell_type": "markdown",
      "source": [
        "### A.12\n",
        "### The levels for a heading in a word document can be specified by using the level attribute inside the add_heading method. There are a total of 5 levels statring for 0 t0 4. where level 0 makes a headline with the horizontal line below the text, whereas the heading level 1 is the main heading. Similarly, the other headings are sub-heading with their's font-sizes in decreasing order."
      ],
      "metadata": {
        "id": "U8xbWPiQ1CgX"
      }
    }
  ]
}