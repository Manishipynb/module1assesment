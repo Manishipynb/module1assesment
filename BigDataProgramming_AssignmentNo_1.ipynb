{
  "nbformat": 4,
  "nbformat_minor": 0,
  "metadata": {
    "colab": {
      "provenance": [],
      "authorship_tag": "ABX9TyMqXPy39bwy7wygHKg+r7PJ",
      "include_colab_link": true
    },
    "kernelspec": {
      "name": "python3",
      "display_name": "Python 3"
    },
    "language_info": {
      "name": "python"
    }
  },
  "cells": [
    {
      "cell_type": "markdown",
      "metadata": {
        "id": "view-in-github",
        "colab_type": "text"
      },
      "source": [
        "<a href=\"https://colab.research.google.com/github/Manishipynb/module1assesment/blob/main/BigDataProgramming_AssignmentNo_1.ipynb\" target=\"_parent\"><img src=\"https://colab.research.google.com/assets/colab-badge.svg\" alt=\"Open In Colab\"/></a>"
      ]
    },
    {
      "cell_type": "markdown",
      "source": [
        "## Q 1. Write a Python program to print \"Hello Python\"."
      ],
      "metadata": {
        "id": "EYhb-G7bHDRj"
      }
    },
    {
      "cell_type": "code",
      "source": [
        "print(\"Hello Python\")"
      ],
      "metadata": {
        "colab": {
          "base_uri": "https://localhost:8080/"
        },
        "id": "Ngvocr2jHGTW",
        "outputId": "40c2dcc3-aca7-4fd7-cace-9c170a1bc4b5"
      },
      "execution_count": 1,
      "outputs": [
        {
          "output_type": "stream",
          "name": "stdout",
          "text": [
            "Hello Python\n"
          ]
        }
      ]
    },
    {
      "cell_type": "markdown",
      "source": [
        "## Q 2. Write a Python program to do arithmetical operations addition and division."
      ],
      "metadata": {
        "id": "lRIEjx6FHJ6D"
      }
    },
    {
      "cell_type": "code",
      "source": [
        "a = 20\n",
        "b = 10\n",
        "\n",
        "## Addition\n",
        "add = a + b\n",
        "## Division\n",
        "div = a/b\n",
        "\n",
        "print(add)\n",
        "print(div)"
      ],
      "metadata": {
        "colab": {
          "base_uri": "https://localhost:8080/"
        },
        "id": "UNtd08azHNuI",
        "outputId": "68375e34-0733-4cb4-df5e-af0bfe9cc5c9"
      },
      "execution_count": 2,
      "outputs": [
        {
          "output_type": "stream",
          "name": "stdout",
          "text": [
            "30\n",
            "2.0\n"
          ]
        }
      ]
    },
    {
      "cell_type": "markdown",
      "source": [
        "## Q 3. Write a Python program to find the area of a triangle?\n"
      ],
      "metadata": {
        "id": "H8dTWDX7HSyr"
      }
    },
    {
      "cell_type": "code",
      "source": [
        "height = 200\n",
        "base = 25\n",
        "\n",
        "area = height*base/2\n",
        "\n",
        "print(\"Area of triangle:\", area)"
      ],
      "metadata": {
        "colab": {
          "base_uri": "https://localhost:8080/"
        },
        "id": "SdOBxd7AHZta",
        "outputId": "3003531e-71dc-40b9-8876-db99fbdf8b08"
      },
      "execution_count": 3,
      "outputs": [
        {
          "output_type": "stream",
          "name": "stdout",
          "text": [
            "Area of triangle: 2500.0\n"
          ]
        }
      ]
    },
    {
      "cell_type": "markdown",
      "source": [
        "## Q 4. Write a Python program to swap two variables?\n"
      ],
      "metadata": {
        "id": "BtwYJlNnHczF"
      }
    },
    {
      "cell_type": "code",
      "source": [
        "var1 = 789\n",
        "var2 = 324\n",
        "\n",
        "print('Before swap:\\nvar1 = {} and var2 = {}'.format(var1, var2))\n",
        "\n",
        "temp = var1\n",
        "var1 = var2\n",
        "var2 = temp\n",
        "print('\\nAfter swap:\\nvar1 = {} and var2 = {}'.format(var1, var2))"
      ],
      "metadata": {
        "colab": {
          "base_uri": "https://localhost:8080/"
        },
        "id": "hDpFx5Y9HiTx",
        "outputId": "05310deb-a55b-4724-b351-fd2885f9c116"
      },
      "execution_count": 4,
      "outputs": [
        {
          "output_type": "stream",
          "name": "stdout",
          "text": [
            "Before swap:\n",
            "var1 = 789 and var2 = 324\n",
            "\n",
            "After swap:\n",
            "var1 = 324 and var2 = 789\n"
          ]
        }
      ]
    },
    {
      "cell_type": "markdown",
      "source": [
        "## Q 5. Write a Python program to generate a random number?\n"
      ],
      "metadata": {
        "id": "4U2xL2kbHqRw"
      }
    },
    {
      "cell_type": "code",
      "source": [
        "import random\n",
        "\n",
        "print(random.random())\n",
        "print(random.randint(1, 1000))"
      ],
      "metadata": {
        "colab": {
          "base_uri": "https://localhost:8080/"
        },
        "id": "48HnnOHtHwHg",
        "outputId": "a4524db6-eb6b-4e5e-def5-deeaf6c4a801"
      },
      "execution_count": 5,
      "outputs": [
        {
          "output_type": "stream",
          "name": "stdout",
          "text": [
            "0.7090301449309658\n",
            "754\n"
          ]
        }
      ]
    }
  ]
}