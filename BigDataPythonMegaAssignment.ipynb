{
  "nbformat": 4,
  "nbformat_minor": 0,
  "metadata": {
    "colab": {
      "provenance": [],
      "authorship_tag": "ABX9TyOIMjswksun2z175fXZXVrd",
      "include_colab_link": true
    },
    "kernelspec": {
      "name": "python3",
      "display_name": "Python 3"
    },
    "language_info": {
      "name": "python"
    }
  },
  "cells": [
    {
      "cell_type": "markdown",
      "metadata": {
        "id": "view-in-github",
        "colab_type": "text"
      },
      "source": [
        "<a href=\"https://colab.research.google.com/github/Manishipynb/module1assesment/blob/main/BigDataPythonMegaAssignment.ipynb\" target=\"_parent\"><img src=\"https://colab.research.google.com/assets/colab-badge.svg\" alt=\"Open In Colab\"/></a>"
      ]
    },
    {
      "cell_type": "markdown",
      "source": [
        "## Q.1\n",
        "## Why do we call Python as a general purpose and high-level programming language?"
      ],
      "metadata": {
        "id": "hhwJhOoGKpfF"
      }
    },
    {
      "cell_type": "markdown",
      "source": [
        "### A.1\n",
        "### Python is an object-oriented, high-level programming language. Object-oriented means this language is based around objects (such as data) rather than functions, and high-level means it's easy for humans to understand.\n",
        "\n",
        "### Because they are not written in machine-readable language, Python programs need to be processed before machines can run them. Python is an interpreted language. This means that every time a program is run, its interpreter runs through the code and translates it into machine-readable byte code"
      ],
      "metadata": {
        "id": "iWFLZsELKwUd"
      }
    },
    {
      "cell_type": "markdown",
      "source": [
        "## Q.2\n",
        "## Why is Python called a dynamically typed language?"
      ],
      "metadata": {
        "id": "LtpHFbosLBEF"
      }
    },
    {
      "cell_type": "markdown",
      "source": [
        "### A.2\n",
        "### Python is both a strongly typed and a dynamically typed language. Strong typing means that variables do have a type and that the type matters when performing operations on a variable. Dynamic typing means that the type of the variable is determined only during runtime.\n",
        "\n",
        "### A language is dynamically typed if the type is associated with run-time values, and not named variables/fields/etc. This means that you as a programmer can write a little quicker because you do not have to specify types every time (unless using a statically-typed language with type inference)."
      ],
      "metadata": {
        "id": "F8LLPrhMLGaF"
      }
    },
    {
      "cell_type": "markdown",
      "source": [
        "## Q.3\n",
        "## List some pros and cons of Python programming language?"
      ],
      "metadata": {
        "id": "OuhgmpkYLS6k"
      }
    },
    {
      "cell_type": "markdown",
      "source": [
        "### A.3\n",
        "### **The pros of Python**\n",
        "### Python is easy to learn and read\n",
        "### Python enhances productivity\n",
        "### Python has a vast collection of libraries\n",
        "### Python is free, open-source, and has a vibrant community\n",
        "### Python is a portable programming language\n",
        "### Python is an interpreted language\n",
        "\n",
        "### **The cons of python programming language**\n",
        "### Python has speed limitations\n",
        "### Python is not so strong with mobile computing\n",
        "### Python can have runtime errors\n",
        "### Python consumes a lot of memory space\n",
        "### Python is not easy to test"
      ],
      "metadata": {
        "id": "CsSyqhKSLYJ0"
      }
    },
    {
      "cell_type": "markdown",
      "source": [
        "## Q.4\n",
        "## In what all domains can we use Python?"
      ],
      "metadata": {
        "id": "xbBqD4aKMNjF"
      }
    },
    {
      "cell_type": "markdown",
      "source": [
        "### A.4\n",
        "\n",
        "### Machine learning / Artificial intelligence\n",
        "### Desktop GUI\n",
        "### Data analytics and data visualization \n",
        "### Web development\n",
        "### Game development\n",
        "### Mobile app development\n",
        "### Embedded systems"
      ],
      "metadata": {
        "id": "S1P3klWRMUKl"
      }
    },
    {
      "cell_type": "markdown",
      "source": [
        "## Q.5\n",
        "## What are variable and how can we declare them?"
      ],
      "metadata": {
        "id": "g8WrxaudMvK1"
      }
    },
    {
      "cell_type": "markdown",
      "source": [
        "## A.5\n",
        "## A variable declaration always contains two components: the type of the variable and its name. Also, the location of the variable declaration, that is, where the declaration appears in relation to other code elements, determines the scope of the variable.\n",
        "\n"
      ],
      "metadata": {
        "id": "qEE9elNQM09N"
      }
    },
    {
      "cell_type": "markdown",
      "source": [
        "## Q.6\n",
        "## How can we take an input from the user in Python?"
      ],
      "metadata": {
        "id": "K-_HdNNYNXb0"
      }
    },
    {
      "cell_type": "markdown",
      "source": [
        "## A.6\n",
        "## input (): This function first takes the input from the user and converts it into a string. The type of the returned object always will be <type ‘str’>. It does not evaluate the expression it just returns the complete statement as String. For example, Python provides a built-in function called input which takes the input from the user. When the input function is called it stops the program and waits for the user’s input. When the user presses enter, the program resumes and returns what the user typed. \n",
        "\n",
        "### Syntax:\n",
        "\n",
        "### inp = input('STATEMENT')"
      ],
      "metadata": {
        "id": "ZFv1BsYhNdwV"
      }
    },
    {
      "cell_type": "markdown",
      "source": [
        "## Q.7\n",
        "## What is the default datatype of the value that has been taken as an input using input() function?"
      ],
      "metadata": {
        "id": "NBmKrqDGN1jN"
      }
    },
    {
      "cell_type": "markdown",
      "source": [
        "### A.7\n",
        "###  The input() function by default returns the value as string data type"
      ],
      "metadata": {
        "id": "3CSmA1oNN791"
      }
    },
    {
      "cell_type": "markdown",
      "source": [
        "## Q.8\n",
        "## What is type casting?"
      ],
      "metadata": {
        "id": "-JxxttbBOGst"
      }
    },
    {
      "cell_type": "markdown",
      "source": [
        "### A.8\n",
        "### Type Casting is the method to convert the variable data type into a certain data type in order to the operation required to be performed by users. In this article, we will see the various technique for typecasting. There can be two types of Type Casting in Python – Implicit Type Casting. Explicit Type Casting"
      ],
      "metadata": {
        "id": "f5GWybquONXl"
      }
    },
    {
      "cell_type": "markdown",
      "source": [
        "## Q.9\n",
        "## Can we take more than one input from the user using single input() function? If yes, how? If no, why?"
      ],
      "metadata": {
        "id": "3wLDeJgjPlLt"
      }
    },
    {
      "cell_type": "markdown",
      "source": [
        "### A.9\n",
        "### With the help of the split () function, developers can easily collect multiple inputs in Python from the user and assign all the inputs to the respective variables. Developers can specify a character that will be used as a separator to break the input provided by the user.\n",
        "\n",
        "### In Python user can take multiple values or inputs in one line by two methods. \n",
        "\n",
        "### Using split() method\n",
        "### Using List comprehension"
      ],
      "metadata": {
        "id": "kYM4PJ7HPsMU"
      }
    },
    {
      "cell_type": "markdown",
      "source": [
        "## Q.10\n",
        "## What are keywords?"
      ],
      "metadata": {
        "id": "6jn7C7sNQIy9"
      }
    },
    {
      "cell_type": "markdown",
      "source": [
        "### A.10\n",
        "### Python keywords are special reserved words that have specific meanings and purposes and can't be used for anything but those specific purposes. These keywords are always available—you'll never have to import them into your code. Python keywords are different from Python's built-in functions and types."
      ],
      "metadata": {
        "id": "POFVrvBnQ7Tt"
      }
    },
    {
      "cell_type": "markdown",
      "source": [
        "## Q.11\n",
        "## Can we use keywords as a variable? Support your answer with reason."
      ],
      "metadata": {
        "id": "ihB6E8zYRHwd"
      }
    },
    {
      "cell_type": "markdown",
      "source": [
        "### A.11\n",
        "### Keywords are used to define the syntax of the coding. The keyword cannot be used as an identifier, function, and variable name.\n",
        "\n",
        "### You cannot use keywords as variable names. It's because keywords have predefined meanings.\n",
        "\n"
      ],
      "metadata": {
        "id": "1U1iTPjwRP1t"
      }
    },
    {
      "cell_type": "markdown",
      "source": [
        "## Q.12\n",
        "## What is indentation? What's the use of indentaion in Python?"
      ],
      "metadata": {
        "id": "pxruuYKURj_N"
      }
    },
    {
      "cell_type": "markdown",
      "source": [
        "### A.12\n",
        "### Indentation refers to the spaces at the beginning of a code line. Where in other programming languages the indentation in code is for readability only, the indentation in Python is very important. Python uses indentation to indicate a block of code.\n",
        "\n",
        "### Indentation is a very important concept of Python because without properly indenting the Python code, you will end up seeing IndentationError and the code will not get compiled.\n",
        "\n",
        "### Python indentation refers to adding white space before a statement to a particular block of code. In another word, all the statements with the same space to the right, belong to the same code block."
      ],
      "metadata": {
        "id": "EK1KJ3jTRo2l"
      }
    },
    {
      "cell_type": "markdown",
      "source": [
        "## Q.13\n",
        "## How can we throw some output in Python?"
      ],
      "metadata": {
        "id": "uXEDsHf7R77-"
      }
    },
    {
      "cell_type": "markdown",
      "source": [
        "### A.13\n",
        "### The basic way to do output is the print statement. To end the printed line with a newline, add a print statement without any objects. This will print to any object that implements write(), which includes file objects."
      ],
      "metadata": {
        "id": "s2WRieJuSAHF"
      }
    },
    {
      "cell_type": "markdown",
      "source": [
        "## Q.14\n",
        "## What are operators in Python?"
      ],
      "metadata": {
        "id": "Ib13SkZYSc39"
      }
    },
    {
      "cell_type": "markdown",
      "source": [
        "### A.14\n",
        "### In Python, operators are special symbols that designate that some sort of computation should be performed. The values that an operator acts on are called operands. Here is an example: >>> >>> a = 10 >>> b = 20 >>> a + b 30. In this case, the + operator adds the operands a and b together.\n",
        "\n",
        "### In Python, there are seven different types of operators: **arithmetic operators, assignment operators, comparison operators, logical operators, identity operators, membership operators, and boolean operators.**"
      ],
      "metadata": {
        "id": "F4dJkz3qSlVd"
      }
    },
    {
      "cell_type": "markdown",
      "source": [
        "## Q.15\n",
        "## What is difference between / and // operators?"
      ],
      "metadata": {
        "id": "YzsjaZpzSzUU"
      }
    },
    {
      "cell_type": "markdown",
      "source": [
        "### A.15\n",
        "### ** '/' is the division operator. '//' is the floor division operator.**"
      ],
      "metadata": {
        "id": "lpQOiWIAS4G9"
      }
    },
    {
      "cell_type": "markdown",
      "source": [
        "## Q.16\n",
        "## Write a code that gives following as an output.\n",
        "## iNeuroniNeuroniNeuroniNeuron"
      ],
      "metadata": {
        "id": "T-sTMTrKTGbV"
      }
    },
    {
      "cell_type": "code",
      "source": [
        "# A.16\n",
        "\n",
        "a = \"iNeuron\"\n",
        "b = a*4\n",
        "print(b)"
      ],
      "metadata": {
        "colab": {
          "base_uri": "https://localhost:8080/"
        },
        "id": "_KhG0CEbTUhf",
        "outputId": "dd0e46cd-eaff-4036-fd3d-75ec65cf62d0"
      },
      "execution_count": 66,
      "outputs": [
        {
          "output_type": "stream",
          "name": "stdout",
          "text": [
            "iNeuroniNeuroniNeuroniNeuron\n"
          ]
        }
      ]
    },
    {
      "cell_type": "markdown",
      "source": [
        "## Q.17\n",
        "## Write a code to take a number as an input from the user and check if the number is odd or even."
      ],
      "metadata": {
        "id": "VUQcra8tTcUV"
      }
    },
    {
      "cell_type": "code",
      "source": [
        "# A.17\n",
        "\n",
        "num = int(input(\"Enter a number: \"))\n",
        "if (num % 2) == 0:\n",
        "   print(\"{0} is Even\".format(num))\n",
        "else:\n",
        "   print(\"{0} is Odd\".format(num))"
      ],
      "metadata": {
        "colab": {
          "base_uri": "https://localhost:8080/"
        },
        "id": "htKuqo2oUyCu",
        "outputId": "680fe4cf-a752-4dd0-fc6c-58309de9e5a4"
      },
      "execution_count": 67,
      "outputs": [
        {
          "output_type": "stream",
          "name": "stdout",
          "text": [
            "Enter a number: 12\n",
            "12 is Even\n"
          ]
        }
      ]
    },
    {
      "cell_type": "markdown",
      "source": [
        "## Q.18\n",
        "## What are boolean operator?"
      ],
      "metadata": {
        "id": "55UZ-9tAU81V"
      }
    },
    {
      "cell_type": "markdown",
      "source": [
        "### A.18\n",
        "### The logical operators and, or and not are also referred to as boolean operators. While and as well as or operator needs two operands, which may evaluate to true or false, not operator needs one operand evaluating to true or false. Boolean and operator returns true if both operands return true."
      ],
      "metadata": {
        "id": "TrC9HJJTVFGe"
      }
    },
    {
      "cell_type": "markdown",
      "source": [
        "## Q.19\n",
        "\n",
        "## What will the output of the following?\n",
        "\n",
        "### 1 or 0\n",
        "\n",
        "### 0 and 0\n",
        "\n",
        "### True and False and True\n",
        "\n",
        "### 1 or 0 or 0"
      ],
      "metadata": {
        "id": "J-hH3jmrVL4F"
      }
    },
    {
      "cell_type": "code",
      "source": [
        "# A.19\n",
        "\n",
        "1 or 0 "
      ],
      "metadata": {
        "colab": {
          "base_uri": "https://localhost:8080/"
        },
        "id": "2NH49V-0VYAv",
        "outputId": "19dadd5f-475b-4481-a763-7aa01d2a7e6d"
      },
      "execution_count": 4,
      "outputs": [
        {
          "output_type": "execute_result",
          "data": {
            "text/plain": [
              "1"
            ]
          },
          "metadata": {},
          "execution_count": 4
        }
      ]
    },
    {
      "cell_type": "code",
      "source": [
        "0 and 0"
      ],
      "metadata": {
        "colab": {
          "base_uri": "https://localhost:8080/"
        },
        "id": "QK91tXEsVeAV",
        "outputId": "9c94ea44-865b-4c2d-f729-bad8929a5c67"
      },
      "execution_count": 5,
      "outputs": [
        {
          "output_type": "execute_result",
          "data": {
            "text/plain": [
              "0"
            ]
          },
          "metadata": {},
          "execution_count": 5
        }
      ]
    },
    {
      "cell_type": "code",
      "source": [
        "True and False and True"
      ],
      "metadata": {
        "colab": {
          "base_uri": "https://localhost:8080/"
        },
        "id": "1b0gllFZVgLd",
        "outputId": "f573e1c8-caed-422f-c0d5-9e32174be299"
      },
      "execution_count": 6,
      "outputs": [
        {
          "output_type": "execute_result",
          "data": {
            "text/plain": [
              "False"
            ]
          },
          "metadata": {},
          "execution_count": 6
        }
      ]
    },
    {
      "cell_type": "code",
      "source": [
        "1 or 0 or 0"
      ],
      "metadata": {
        "colab": {
          "base_uri": "https://localhost:8080/"
        },
        "id": "8qXqOtSkVjMF",
        "outputId": "5ff6bba9-3b4c-415c-daa9-d6539c922dd6"
      },
      "execution_count": 7,
      "outputs": [
        {
          "output_type": "execute_result",
          "data": {
            "text/plain": [
              "1"
            ]
          },
          "metadata": {},
          "execution_count": 7
        }
      ]
    },
    {
      "cell_type": "markdown",
      "source": [
        "## Q.20\n",
        "## What are conditional statements in Python?"
      ],
      "metadata": {
        "id": "Kq9oFc7MVn2l"
      }
    },
    {
      "cell_type": "markdown",
      "source": [
        "### A.20\n",
        "### Like every other programming language, Python also has some predefined conditional statements. A conditional statement as the name suggests itself, is used to handle conditions in your program. These statements guide the program while making decisions based on the conditions encountered by the program.\n",
        "\n",
        "### Python has 3 key Conditional Statements that you should know:\n",
        "\n",
        "### if statement\n",
        "### if-else statement\n",
        "### if-elif-else ladder"
      ],
      "metadata": {
        "id": "2H8bZoY7Vs6l"
      }
    },
    {
      "cell_type": "markdown",
      "source": [
        "## Q.21\n",
        "## What is use of 'if', 'elif' and 'else' keywords?"
      ],
      "metadata": {
        "id": "E_eAuZUKV8Is"
      }
    },
    {
      "cell_type": "markdown",
      "source": [
        "### A.21\n",
        "### if… elif…else are conditional statements that provide you with the decision making that is required when you want to execute code based on a particular condition. The if… elif…else statement used in Python helps automate that decision making process."
      ],
      "metadata": {
        "id": "OCTgAso7WByl"
      }
    },
    {
      "cell_type": "markdown",
      "source": [
        "## Q.22\n",
        "## Write a code to take the age of person as an input and if age >= 18 display \"I can vote\". If age is < 18 display \"I can't vote\"."
      ],
      "metadata": {
        "id": "GKj0ZIObWQSF"
      }
    },
    {
      "cell_type": "code",
      "source": [
        "# A.22\n",
        "\n",
        "age = int(input(\"Please Enter Your Age :\"))\n",
        "if age >= 18:\n",
        "  print(\"You Can Vote\")\n",
        "if age < 18:\n",
        "  print(\"You Can't Vote\")"
      ],
      "metadata": {
        "colab": {
          "base_uri": "https://localhost:8080/"
        },
        "id": "Flz76Gz4WWLA",
        "outputId": "48f79390-e28d-43a0-81a3-4eb1eb9b26f9"
      },
      "execution_count": 9,
      "outputs": [
        {
          "output_type": "stream",
          "name": "stdout",
          "text": [
            "Please Enter Your Age :45\n",
            "You Can Vote\n"
          ]
        }
      ]
    },
    {
      "cell_type": "markdown",
      "source": [
        "## Q.23\n",
        "## Write a code that displays the sum of all the even numbers from the given list.\n",
        "\n",
        "# numbers = [12, 75, 150, 180, 145, 525, 50]"
      ],
      "metadata": {
        "id": "1xUAe93-W6aE"
      }
    },
    {
      "cell_type": "code",
      "source": [
        "# A.23\n",
        "\n",
        "numbers = [12, 75, 150, 180, 145, 525, 50]\n",
        "sum = 0\n",
        "for num in numbers:\n",
        "  if num % 2 == 0:\n",
        "    sum = sum + num\n",
        "print(sum)"
      ],
      "metadata": {
        "colab": {
          "base_uri": "https://localhost:8080/"
        },
        "id": "7PXOWPYCXATf",
        "outputId": "37b53ddb-baa7-4246-bd38-144b103ad97f"
      },
      "execution_count": 10,
      "outputs": [
        {
          "output_type": "stream",
          "name": "stdout",
          "text": [
            "392\n"
          ]
        }
      ]
    },
    {
      "cell_type": "markdown",
      "source": [
        "## Q.24\n",
        "## Write a code to take 3 numbers as an input from the user and display the greatest no as output."
      ],
      "metadata": {
        "id": "aqy9AK4sYFIt"
      }
    },
    {
      "cell_type": "code",
      "source": [
        "# A.24\n",
        "\n",
        "\n",
        "num1 = int(input(\"Please Enter Number Of Your Choice From 0-100 :\"))\n",
        "num2 = int(input(\"Please Enter Number Of Your Choice From 0-100 :\"))\n",
        "num3 = int(input(\"Please Enter Number Of Your Choice From 0-100 :\"))\n",
        "\n",
        "if (num1 >= num2) and (num1 >= num3):\n",
        "   largest = num1\n",
        "elif (num2 >= num1) and (num2 >= num3):\n",
        "   largest = num2\n",
        "else:\n",
        "   largest = num3\n",
        "\n",
        "print(\"The largest number is\", largest)"
      ],
      "metadata": {
        "colab": {
          "base_uri": "https://localhost:8080/"
        },
        "id": "tIXx2NP1YKQZ",
        "outputId": "bb4a62ac-3182-4aae-de01-2ba69dbfca1f"
      },
      "execution_count": 11,
      "outputs": [
        {
          "output_type": "stream",
          "name": "stdout",
          "text": [
            "Please Enter Number Of Your Choice From 0-100 :45\n",
            "Please Enter Number Of Your Choice From 0-100 :34\n",
            "Please Enter Number Of Your Choice From 0-100 :12\n",
            "The largest number is 45\n"
          ]
        }
      ]
    },
    {
      "cell_type": "markdown",
      "source": [
        "## Q.25\n",
        "## Write a program to display only those numbers from a list that satisfy the following conditions\n",
        "\n",
        "## The number must be divisible by five\n",
        "\n",
        "## If the number is greater than 150, then skip it and move to the next number\n",
        "\n",
        "## If the number is greater than 500, then stop the loop\n",
        "\n",
        "## numbers = [12, 75, 150, 180, 145, 525, 50]"
      ],
      "metadata": {
        "id": "GKfADag5YzQF"
      }
    },
    {
      "cell_type": "code",
      "source": [
        "# A.25\n",
        "\n",
        "a = [12, 75, 150, 180, 145, 525, 50]\n",
        "b = []\n",
        "for i in a:\n",
        "    if i > 150:\n",
        "        if i > 500:\n",
        "            break\n",
        "        continue\n",
        "    if i % 5 == 0:\n",
        "        b.append(i)\n",
        "        \n",
        "print(b)"
      ],
      "metadata": {
        "colab": {
          "base_uri": "https://localhost:8080/"
        },
        "id": "-a4TYz_8YwcF",
        "outputId": "0c3d4c10-caa8-4f19-8d93-2134fdb8d6a2"
      },
      "execution_count": 12,
      "outputs": [
        {
          "output_type": "stream",
          "name": "stdout",
          "text": [
            "[75, 150, 145]\n"
          ]
        }
      ]
    },
    {
      "cell_type": "markdown",
      "source": [
        "## Q.26\n",
        "## What is a string? How can we declare string in Python?"
      ],
      "metadata": {
        "id": "obl-lgO8ZStd"
      }
    },
    {
      "cell_type": "markdown",
      "source": [
        "### A.26\n",
        "### Like many other popular programming languages, strings in Python are arrays of bytes representing unicode characters. However, Python does not have a character data type, a single character is simply a string with a length of 1. Square brackets can be used to access elements of the string."
      ],
      "metadata": {
        "id": "279nTyU9ZYM9"
      }
    },
    {
      "cell_type": "markdown",
      "source": [
        "## Q.27\n",
        "## How can we access the string using its index?"
      ],
      "metadata": {
        "id": "nJYFH9nuZf7U"
      }
    },
    {
      "cell_type": "markdown",
      "source": [
        "### A.27\n",
        "### Individual characters in a string can be accessed by specifying the string name followed by a number in square brackets ( [] ). String indexing in Python is zero-based: the first character in the string has index 0 , the next has index 1 , and so on."
      ],
      "metadata": {
        "id": "NM8C35y4ZmFl"
      }
    },
    {
      "cell_type": "markdown",
      "source": [
        "## Q.28\n",
        "## Write a code to get the desired output of the following\n",
        "\n",
        "### string = \"Big Data iNeuron\"\n",
        "### desired_output = \"iNeuron\""
      ],
      "metadata": {
        "id": "Vx3ohpYTZsYe"
      }
    },
    {
      "cell_type": "code",
      "source": [
        "# A.28\n",
        "\n",
        "string = \"Big Data iNeuron\"\n",
        "string[-7:]"
      ],
      "metadata": {
        "colab": {
          "base_uri": "https://localhost:8080/",
          "height": 36
        },
        "id": "gPgJmb0RZ0iA",
        "outputId": "faa51824-540e-410f-e7ce-7eeb9037d9d4"
      },
      "execution_count": 68,
      "outputs": [
        {
          "output_type": "execute_result",
          "data": {
            "text/plain": [
              "'iNeuron'"
            ],
            "application/vnd.google.colaboratory.intrinsic+json": {
              "type": "string"
            }
          },
          "metadata": {},
          "execution_count": 68
        }
      ]
    },
    {
      "cell_type": "markdown",
      "source": [
        "## Q.29\n",
        "## Write a code to get the desired output of the following\n",
        "\n",
        "## string = \"Big Data iNeuron\"\n",
        "## desired_output = \"norueNi\""
      ],
      "metadata": {
        "id": "zyLM9bnTaIrF"
      }
    },
    {
      "cell_type": "code",
      "source": [
        "# A.29\n",
        "\n",
        "string = \"Big Data iNeuron\"\n",
        "new_string = string[-7:]\n",
        "new_string[::-1]\n",
        "\n"
      ],
      "metadata": {
        "colab": {
          "base_uri": "https://localhost:8080/",
          "height": 36
        },
        "id": "YlWH1gXhaYJu",
        "outputId": "ff40eb8d-582c-4130-a789-16c33f4d6c44"
      },
      "execution_count": 69,
      "outputs": [
        {
          "output_type": "execute_result",
          "data": {
            "text/plain": [
              "'norueNi'"
            ],
            "application/vnd.google.colaboratory.intrinsic+json": {
              "type": "string"
            }
          },
          "metadata": {},
          "execution_count": 69
        }
      ]
    },
    {
      "cell_type": "markdown",
      "source": [
        "## Q.30\n",
        "## Resverse the string given in the above question.\n",
        "## string = \"Big Data iNeuron\""
      ],
      "metadata": {
        "id": "p7JRnQ7ua44d"
      }
    },
    {
      "cell_type": "code",
      "source": [
        "# A.30\n",
        "\n",
        "string = \"Big Data iNeuron\"\n",
        "string[::-1]"
      ],
      "metadata": {
        "colab": {
          "base_uri": "https://localhost:8080/",
          "height": 36
        },
        "id": "HIcEXsrvbCJV",
        "outputId": "1ff18608-0ba0-4c4e-a886-6afc9e0f9704"
      },
      "execution_count": 70,
      "outputs": [
        {
          "output_type": "execute_result",
          "data": {
            "text/plain": [
              "'norueNi ataD giB'"
            ],
            "application/vnd.google.colaboratory.intrinsic+json": {
              "type": "string"
            }
          },
          "metadata": {},
          "execution_count": 70
        }
      ]
    },
    {
      "cell_type": "markdown",
      "source": [
        "## Q.31\n",
        "##  How can you delete entire string at once?"
      ],
      "metadata": {
        "id": "L3_Wk1vXbOzl"
      }
    },
    {
      "cell_type": "markdown",
      "source": [
        "### A.31\n",
        "### Python Remove Character from String using translate()\n",
        "\n",
        "### Python string translate() function replace each character in the string using the given translation table. We have to specify the Unicode code point for the character and 'None' as a replacement to remove it from the result string.\n",
        "\n",
        "### The del keyword is used to delete objects. In Python everything is an object, so the del keyword can also be used to delete variables, lists, or parts of a list etc."
      ],
      "metadata": {
        "id": "ELmZgBYrbS_2"
      }
    },
    {
      "cell_type": "markdown",
      "source": [
        "## Q.32\n",
        "## What is escape sequence?"
      ],
      "metadata": {
        "id": "xOOgNdkqgPUO"
      }
    },
    {
      "cell_type": "markdown",
      "source": [
        "### A.32\n",
        "### An escape sequence is a sequence of characters that, when used inside a character or string, does not represent itself but is converted into another character or series of characters\n",
        "\n",
        "### Character combinations consisting of a backslash (\\) followed by a letter or by a combination of digits are called \"escape sequences.\" To represent a newline character, single quotation mark, or certain other characters in a character constant, you must use escape sequences"
      ],
      "metadata": {
        "id": "E4IJYi-QgV9N"
      }
    },
    {
      "cell_type": "markdown",
      "source": [
        "## Q.33\n",
        "## How can you print the below string?\n",
        "\n",
        "## 'iNeuron's Big Data Course'"
      ],
      "metadata": {
        "id": "95SNTO9Vgl89"
      }
    },
    {
      "cell_type": "code",
      "source": [
        "# A.33\n",
        "\n",
        "string = \"iNeuron's Big Data Course\"\n",
        "\n",
        "string"
      ],
      "metadata": {
        "colab": {
          "base_uri": "https://localhost:8080/",
          "height": 36
        },
        "id": "-EQ5DmuygsZw",
        "outputId": "7a0a0ce3-2575-44df-a419-d6e854bc62c9"
      },
      "execution_count": 71,
      "outputs": [
        {
          "output_type": "execute_result",
          "data": {
            "text/plain": [
              "\"iNeuron's Big Data Course\""
            ],
            "application/vnd.google.colaboratory.intrinsic+json": {
              "type": "string"
            }
          },
          "metadata": {},
          "execution_count": 71
        }
      ]
    },
    {
      "cell_type": "markdown",
      "source": [
        "## Q.34\n",
        "## What is a list in Python?"
      ],
      "metadata": {
        "id": "MhJK3cAjg-Au"
      }
    },
    {
      "cell_type": "markdown",
      "source": [
        "### A.34\n",
        "### List. Lists are used to store multiple items in a single variable. Lists are one of 4 built-in data types in Python used to store collections of data, the other 3 are Tuple, Set, and Dictionary, all with different qualities and usage.\n",
        "\n",
        "### In Python, a list is created by placing elements inside square brackets [] , separated by commas. A list can have any number of items and they may be of different types (integer, float, string, etc.). A list can also have another list as an item. This is called a nested list."
      ],
      "metadata": {
        "id": "lizeca2AhJiD"
      }
    },
    {
      "cell_type": "markdown",
      "source": [
        "## Q.35\n",
        "\n",
        "## How can you create a list in Python?"
      ],
      "metadata": {
        "id": "tWn-yEvzhXUt"
      }
    },
    {
      "cell_type": "markdown",
      "source": [
        "### A.35\n",
        "### In Python, a list is created by placing elements inside square brackets [] , separated by commas. A list can have any number of items and they may be of different types (integer, float, string, etc.). A list can also have another list as an item. This is called a nested list."
      ],
      "metadata": {
        "id": "SkXVT--yhkSF"
      }
    },
    {
      "cell_type": "markdown",
      "source": [
        "## Q.36\n",
        "## How can we access the elements in a list?"
      ],
      "metadata": {
        "id": "bg8CMKIxhsed"
      }
    },
    {
      "cell_type": "markdown",
      "source": [
        "### A.36\n",
        "### List literals are written within square brackets [ ]. Lists work similarly to strings -- use the len() function and square brackets [ ] to access data, with the first element at index 0\n",
        "\n"
      ],
      "metadata": {
        "id": "1LEA5IvBhx7W"
      }
    },
    {
      "cell_type": "markdown",
      "source": [
        "## Q.37\n",
        "## Write a code to access the word \"iNeuron\" from the given list.\n",
        "\n",
        "## lst = [1,2,3,\"Hi\",[45,54, \"iNeuron\"], \"Big Data\"]"
      ],
      "metadata": {
        "id": "b_pvHXKyiDjV"
      }
    },
    {
      "cell_type": "code",
      "source": [
        "# A.37\n",
        "\n",
        "lst = [1,2,3,\"Hi\",[45,54, \"iNeuron\"], \"Big Data\"]\n",
        "lst[4][2]"
      ],
      "metadata": {
        "colab": {
          "base_uri": "https://localhost:8080/",
          "height": 36
        },
        "id": "dWwzuvSliLNG",
        "outputId": "96482b49-03db-489e-e924-5660a94ff586"
      },
      "execution_count": 72,
      "outputs": [
        {
          "output_type": "execute_result",
          "data": {
            "text/plain": [
              "'iNeuron'"
            ],
            "application/vnd.google.colaboratory.intrinsic+json": {
              "type": "string"
            }
          },
          "metadata": {},
          "execution_count": 72
        }
      ]
    },
    {
      "cell_type": "markdown",
      "source": [
        "## Q.38\n",
        "## Take a list as an input from the user and find the length of the list."
      ],
      "metadata": {
        "id": "16uYmv0si1C1"
      }
    },
    {
      "cell_type": "code",
      "source": [
        "## A.38\n",
        "\n",
        "ListName = [\"Hello\", \"Edureka\", 1, 2, 3]\n",
        "print (\"Number of items in the list = \", len(ListName))"
      ],
      "metadata": {
        "colab": {
          "base_uri": "https://localhost:8080/"
        },
        "id": "kjzTe0TAjhnF",
        "outputId": "c13ffa39-c059-47aa-e909-2c3869070564"
      },
      "execution_count": 73,
      "outputs": [
        {
          "output_type": "stream",
          "name": "stdout",
          "text": [
            "Number of items in the list =  5\n"
          ]
        }
      ]
    },
    {
      "cell_type": "code",
      "source": [
        "2# A.38\n",
        "\n",
        "lst = []\n",
        "  \n",
        "n = int(input(\"Enter number of elements : \"))\n",
        "  \n",
        "for i in range(0, n):\n",
        "    ele = int(input())\n",
        "  \n",
        "    lst.append(ele) \n",
        "    \n",
        "\n",
        "\n",
        "print(lst)\n",
        "print(len(lst))"
      ],
      "metadata": {
        "colab": {
          "base_uri": "https://localhost:8080/"
        },
        "id": "oN41APrRkm4g",
        "outputId": "a89fb146-71cc-49e7-ce29-8e890f5c589b"
      },
      "execution_count": 75,
      "outputs": [
        {
          "output_type": "stream",
          "name": "stdout",
          "text": [
            "Enter number of elements : 3\n",
            "1\n",
            "2\n",
            "3\n",
            "[1, 2, 3]\n",
            "3\n"
          ]
        }
      ]
    },
    {
      "cell_type": "markdown",
      "source": [
        "## Q.39\n",
        "## Add the word \"Big\" in the 3rd index of the given list.\n",
        "\n",
        "## lst = [\"Welcome\", \"to\", \"Data\", \"course\"]"
      ],
      "metadata": {
        "id": "dTCrtMxdlCSN"
      }
    },
    {
      "cell_type": "code",
      "source": [
        "# A.39\n",
        "\n",
        "lst = [\"Welcome\", \"to\", \"Data\", \"course\"]\n",
        "lst.insert(2 , \"Big\")\n",
        "lst"
      ],
      "metadata": {
        "colab": {
          "base_uri": "https://localhost:8080/"
        },
        "id": "bbsE1Qc8lIlP",
        "outputId": "e2d66cfd-890b-4012-d2ac-8c350fe60be4"
      },
      "execution_count": 76,
      "outputs": [
        {
          "output_type": "execute_result",
          "data": {
            "text/plain": [
              "['Welcome', 'to', 'Big', 'Data', 'course']"
            ]
          },
          "metadata": {},
          "execution_count": 76
        }
      ]
    },
    {
      "cell_type": "markdown",
      "source": [
        "## Q.40\n",
        "##  What is a tuple? How is it different from list?"
      ],
      "metadata": {
        "id": "9utQc26TloZN"
      }
    },
    {
      "cell_type": "markdown",
      "source": [
        "### A.40\n",
        "### The primary difference between tuples and lists is that tuples are immutable as opposed to lists which are mutable. Therefore, it is possible to change a list but not a tuple. The contents of a tuple cannot change once they have been created in Python due to the immutability of tuples.\n",
        "\n",
        "### \tLIST |\tTUPLE\n",
        "### 1\t**Lists** are mutable\t| **Tuples** are immutable\n",
        "### 2\tThe implication of iterations is Time-consuming | \tThe implication of iterations is comparatively Faster\n",
        "### 3\tThe **list** is better for performing operations, such as insertion and deletion.\t|  **Tuple** data type is appropriate for accessing the elements\n",
        "### 4\t**Lists** consume more memory\t| **Tuple** consumes less memory as compared to the list\n",
        "### 5\t**Lists** have several built-in methods\t| **Tuple** does not have many built-in methods.\n",
        "### 6\tThe unexpected changes and errors are more likely to occur| \tIn **tuple**, it is hard to take place."
      ],
      "metadata": {
        "id": "Lby8ByCNltTN"
      }
    },
    {
      "cell_type": "markdown",
      "source": [
        "## Q.41\n",
        "## How can you create a tuple in Python?"
      ],
      "metadata": {
        "id": "-3K4hx-LqRR1"
      }
    },
    {
      "cell_type": "markdown",
      "source": [
        "### A.41\n",
        "### A tuple in Python can be created by enclosing all the comma-separated elements inside the parenthesis (). Elements of the tuple are immutable and ordered. It allows duplicate values and can have any number of elements. You can even create an empty tuple"
      ],
      "metadata": {
        "id": "JjDM5jSBqbIm"
      }
    },
    {
      "cell_type": "markdown",
      "source": [
        "## Q.42\n",
        "## Create a tuple and try to add your name in the tuple. Are you able to do it? Support your answer with reason."
      ],
      "metadata": {
        "id": "ZOUlXq_cqhm2"
      }
    },
    {
      "cell_type": "markdown",
      "source": [
        "### A.42\n",
        "### You can't add elements to a tuple because of their immutable property. There's no append() or extend() method for tuples, You can't remove elements from a tuple, also because of their immutability."
      ],
      "metadata": {
        "id": "1rFE2vTeq3Xd"
      }
    },
    {
      "cell_type": "code",
      "source": [
        "# A.42\n",
        "\n",
        "s = ('black','red')\n",
        "print(s)\n",
        "print(type(s))"
      ],
      "metadata": {
        "colab": {
          "base_uri": "https://localhost:8080/"
        },
        "id": "C_Ndj3jgqo5H",
        "outputId": "78f12710-de7f-4292-96eb-dae56abe1ac5"
      },
      "execution_count": 64,
      "outputs": [
        {
          "output_type": "stream",
          "name": "stdout",
          "text": [
            "('black', 'red')\n",
            "<class 'tuple'>\n"
          ]
        }
      ]
    },
    {
      "cell_type": "code",
      "source": [
        "s=('manish')\n",
        "s_append = s + (8, 16, 67)\n",
        "print(s_append)\n",
        "print(s)"
      ],
      "metadata": {
        "colab": {
          "base_uri": "https://localhost:8080/",
          "height": 217
        },
        "id": "sgeqv7tzrJAW",
        "outputId": "886a06a9-50a9-4a3b-b003-4886cafc8397"
      },
      "execution_count": 77,
      "outputs": [
        {
          "output_type": "error",
          "ename": "TypeError",
          "evalue": "ignored",
          "traceback": [
            "\u001b[0;31m---------------------------------------------------------------------------\u001b[0m",
            "\u001b[0;31mTypeError\u001b[0m                                 Traceback (most recent call last)",
            "\u001b[0;32m<ipython-input-77-13a7e79da56c>\u001b[0m in \u001b[0;36m<module>\u001b[0;34m\u001b[0m\n\u001b[1;32m      1\u001b[0m \u001b[0ms\u001b[0m\u001b[0;34m=\u001b[0m\u001b[0;34m(\u001b[0m\u001b[0;34m'manish'\u001b[0m\u001b[0;34m)\u001b[0m\u001b[0;34m\u001b[0m\u001b[0;34m\u001b[0m\u001b[0m\n\u001b[0;32m----> 2\u001b[0;31m \u001b[0ms_append\u001b[0m \u001b[0;34m=\u001b[0m \u001b[0ms\u001b[0m \u001b[0;34m+\u001b[0m \u001b[0;34m(\u001b[0m\u001b[0;36m8\u001b[0m\u001b[0;34m,\u001b[0m \u001b[0;36m16\u001b[0m\u001b[0;34m,\u001b[0m \u001b[0;36m67\u001b[0m\u001b[0;34m)\u001b[0m\u001b[0;34m\u001b[0m\u001b[0;34m\u001b[0m\u001b[0m\n\u001b[0m\u001b[1;32m      3\u001b[0m \u001b[0mprint\u001b[0m\u001b[0;34m(\u001b[0m\u001b[0ms_append\u001b[0m\u001b[0;34m)\u001b[0m\u001b[0;34m\u001b[0m\u001b[0;34m\u001b[0m\u001b[0m\n\u001b[1;32m      4\u001b[0m \u001b[0mprint\u001b[0m\u001b[0;34m(\u001b[0m\u001b[0ms\u001b[0m\u001b[0;34m)\u001b[0m\u001b[0;34m\u001b[0m\u001b[0;34m\u001b[0m\u001b[0m\n",
            "\u001b[0;31mTypeError\u001b[0m: can only concatenate str (not \"tuple\") to str"
          ]
        }
      ]
    },
    {
      "cell_type": "markdown",
      "source": [
        "## Q.43\n",
        "##  Can two tuple be appended. If yes, write a code for it. If not, why?"
      ],
      "metadata": {
        "id": "IM7KjbOdrgWu"
      }
    },
    {
      "cell_type": "markdown",
      "source": [
        "### A.43\n",
        "### The primary way in which tuples are different from lists is that they cannot be modified. This means that items cannot be added to or removed from tuples, and items cannot be replaced within tuples. You can, however, concatenate 2 or more tuples to form a new tuple. This is because tuples cannot be modified"
      ],
      "metadata": {
        "id": "apxykIwrru2e"
      }
    },
    {
      "cell_type": "code",
      "source": [
        "# A.43\n",
        "s = (4,5,6)\n",
        "print(s)\n",
        "print(type(s))"
      ],
      "metadata": {
        "colab": {
          "base_uri": "https://localhost:8080/"
        },
        "id": "_S-R7h6Rr4sO",
        "outputId": "455b8a1b-5b3c-4e5c-e447-91340c8adf5e"
      },
      "execution_count": 78,
      "outputs": [
        {
          "output_type": "stream",
          "name": "stdout",
          "text": [
            "(4, 5, 6)\n",
            "<class 'tuple'>\n"
          ]
        }
      ]
    },
    {
      "cell_type": "code",
      "source": [
        "s=(2,5,8)\n",
        "s_append = s + (8, 16, 67)\n",
        "print(s_append)\n",
        "print(s)"
      ],
      "metadata": {
        "colab": {
          "base_uri": "https://localhost:8080/"
        },
        "id": "ZY9efVWHr_k2",
        "outputId": "d0785dbe-0eba-4428-bdfb-f6e3a40d6677"
      },
      "execution_count": 79,
      "outputs": [
        {
          "output_type": "stream",
          "name": "stdout",
          "text": [
            "(2, 5, 8, 8, 16, 67)\n",
            "(2, 5, 8)\n"
          ]
        }
      ]
    },
    {
      "cell_type": "markdown",
      "source": [
        "## Q.44\n",
        "## Take a tuple as an input and print the count of elements in it."
      ],
      "metadata": {
        "id": "1rg535VNsIiG"
      }
    },
    {
      "cell_type": "code",
      "source": [
        "# A.44\n",
        "\n",
        "import ast\n",
        "\n",
        "my_tuple = tuple(input('Enter space-separated words: ').split())\n",
        "\n",
        "print(my_tuple)\n",
        "print(len(my_tuple))"
      ],
      "metadata": {
        "colab": {
          "base_uri": "https://localhost:8080/"
        },
        "id": "_1bKSAgFsPG2",
        "outputId": "608eb379-d8ff-4269-9a42-86e3d09b4731"
      },
      "execution_count": 63,
      "outputs": [
        {
          "output_type": "stream",
          "name": "stdout",
          "text": [
            "Enter space-separated words: m a n i s h \n",
            "('m', 'a', 'n', 'i', 's', 'h')\n",
            "6\n"
          ]
        }
      ]
    },
    {
      "cell_type": "markdown",
      "source": [
        "## Q. 45\n",
        "\n",
        "## What are sets in Python?"
      ],
      "metadata": {
        "id": "zastv8BCtrbO"
      }
    },
    {
      "cell_type": "markdown",
      "source": [
        "### A.45\n",
        "### Sets are used to store multiple items in a single variable. Set is one of 4 built-in data types in Python used to store collections of data, the other 3 are List, Tuple, and Dictionary, all with different qualities and usage. A set is a collection which is unordered, unchangeable*, and unindexed."
      ],
      "metadata": {
        "id": "25xh93Kvtw6m"
      }
    },
    {
      "cell_type": "markdown",
      "source": [
        "## Q.46\n",
        "## How can you create a set?"
      ],
      "metadata": {
        "id": "V_rYJUI_t402"
      }
    },
    {
      "cell_type": "markdown",
      "source": [
        "## A.46\n",
        "## A set is created by placing all the items (elements) inside curly braces {} , separated by comma, or by using the built-in set() function. It can have any number of items and they may be of different types (integer, float, tuple, string etc.)."
      ],
      "metadata": {
        "id": "VVp9dDrat9SN"
      }
    },
    {
      "cell_type": "markdown",
      "source": [
        "## Q.47\n",
        "## Create a set and add \"iNeuron\" in your set."
      ],
      "metadata": {
        "id": "jarciswRuCZV"
      }
    },
    {
      "cell_type": "code",
      "source": [
        "# A.47\n",
        "\n",
        "my_set = {\"black\" , \"red\" , \"white\"}\n",
        "my_set.add(\"iNeuron\")\n",
        "my_set"
      ],
      "metadata": {
        "colab": {
          "base_uri": "https://localhost:8080/"
        },
        "id": "KQC6cSIGuGb4",
        "outputId": "56e8dbd5-1047-41ad-a29a-b1989630e0d3"
      },
      "execution_count": null,
      "outputs": [
        {
          "output_type": "execute_result",
          "data": {
            "text/plain": [
              "{'black', 'iNeuron', 'red', 'white'}"
            ]
          },
          "metadata": {},
          "execution_count": 66
        }
      ]
    },
    {
      "cell_type": "markdown",
      "source": [
        "## Q.48\n",
        "## Try to add multiple values using add() function."
      ],
      "metadata": {
        "id": "67TvzfxhuhGF"
      }
    },
    {
      "cell_type": "code",
      "source": [
        "# A.48\n",
        "\n",
        "my_set = {\"black\" , \"red\" , \"white\"}\n",
        "my_set.add(\"iNeuron\")\n",
        "my_set.add(\"BigData\")\n",
        "my_set.add(\"DataEngineering\")\n",
        "\n",
        "my_set"
      ],
      "metadata": {
        "colab": {
          "base_uri": "https://localhost:8080/"
        },
        "id": "x5wDPn_1ums4",
        "outputId": "4e63d77d-b9c5-4fc5-cc93-901e6212347c"
      },
      "execution_count": 62,
      "outputs": [
        {
          "output_type": "execute_result",
          "data": {
            "text/plain": [
              "{'BigData', 'DataEngineering', 'black', 'iNeuron', 'red', 'white'}"
            ]
          },
          "metadata": {},
          "execution_count": 62
        }
      ]
    },
    {
      "cell_type": "markdown",
      "source": [
        "## Q.49\n",
        "\n",
        "## How is update() different from add()?"
      ],
      "metadata": {
        "id": "Ac3HkspAu4d3"
      }
    },
    {
      "cell_type": "markdown",
      "source": [
        "### A.49\n",
        "\n",
        "### . add() is intended for a single element , while . update() is for the introduction of other sets.\n",
        "\n",
        "### As add() function add a single element to the set, whereas update() function iterates over the given sequences and adds them to the set."
      ],
      "metadata": {
        "id": "McVPwjfhu8qx"
      }
    },
    {
      "cell_type": "markdown",
      "source": [
        "## Q.50\n",
        "\n",
        "## What is clear() in sets?"
      ],
      "metadata": {
        "id": "EBfoqWimvKea"
      }
    },
    {
      "cell_type": "markdown",
      "source": [
        "### A.50\n",
        "### Set. clear() method is used to remove all the elements from a Set. Using the clear() method only clears all the element from the set and not deletes the set. In other words, we can say that the clear() method is used to only empty an existing Set.\n",
        "\n",
        "### The clear() method removes all elements in a set.\n",
        "\n"
      ],
      "metadata": {
        "id": "bIWIb8JevOcy"
      }
    },
    {
      "cell_type": "markdown",
      "source": [
        "## Q.51\n",
        "\n",
        "## What is frozen set?"
      ],
      "metadata": {
        "id": "nSGKuJNEvkSe"
      }
    },
    {
      "cell_type": "markdown",
      "source": [
        "### A.51\n",
        "### frozenset() in Python\n",
        "### Python frozenset() Method creates an immutable Set object from an iterable. It is a built-in Python function. As it is a set object therefore we cannot have duplicate values in the frozenset.\n",
        "\n",
        "### In Python, frozenset() is a function that takes an iterable and returns its frozenset object counterpart. A frozenset object is an immutable, unordered data type. A frozenset contains unique values, which makes it very similar to set data type. It is immutable like tuples"
      ],
      "metadata": {
        "id": "9arRmyIAvo6e"
      }
    },
    {
      "cell_type": "markdown",
      "source": [
        "## Q.52\n",
        "##  How is frozen set different from set?"
      ],
      "metadata": {
        "id": "R9GflWIfv3dN"
      }
    },
    {
      "cell_type": "markdown",
      "source": [
        "###  A.52\n",
        "###  Frozenset is similar to set in Python, except that frozensets are immutable, which implies that once generated, elements from the frozenset cannot be added or removed. This function accepts any iterable object as input and transforms it into an immutable object."
      ],
      "metadata": {
        "id": "QAbNDHwvv8Qd"
      }
    },
    {
      "cell_type": "markdown",
      "source": [
        "## Q.53\n",
        "## What is union() in sets? Explain via code."
      ],
      "metadata": {
        "id": "hfVn0YAXwFg2"
      }
    },
    {
      "cell_type": "markdown",
      "source": [
        "### A.53\n",
        "### Python Set union() Method\n",
        "### The union() method returns a set that contains all items from the original set, and all items from the specified set(s). You can specify as many sets you want, separated by commas. It does not have to be a set, it can be any iterable object."
      ],
      "metadata": {
        "id": "YgKKE4XAwJzt"
      }
    },
    {
      "cell_type": "code",
      "source": [
        "# A.53\n",
        "\n",
        "A = {2, 3, 5}\n",
        "B = {1, 3, 5}\n",
        "\n",
        "print('A U B = ', A.union(B))"
      ],
      "metadata": {
        "colab": {
          "base_uri": "https://localhost:8080/"
        },
        "id": "Pe3JaF5_wSZG",
        "outputId": "4cd6b51b-9f2f-422b-ccd1-b062ef150125"
      },
      "execution_count": 61,
      "outputs": [
        {
          "output_type": "stream",
          "name": "stdout",
          "text": [
            "A U B =  {1, 2, 3, 5}\n"
          ]
        }
      ]
    },
    {
      "cell_type": "markdown",
      "source": [
        "## Q.54\n",
        "## What is intersection() in sets? Explain via code."
      ],
      "metadata": {
        "id": "Dhqz1VzswiwN"
      }
    },
    {
      "cell_type": "markdown",
      "source": [
        "### A.54\n",
        "### Python Set intersection() Method\n",
        "### The intersection() method returns a set that contains the similarity between two or more sets. Meaning: The returned set contains only items that exist in both sets, or in all sets if the comparison is done with more than two sets."
      ],
      "metadata": {
        "id": "RWXi7UOawqMF"
      }
    },
    {
      "cell_type": "code",
      "source": [
        "# A.54\n",
        "\n",
        "A = {2, 3, 5}\n",
        "B = {1, 3, 5}\n",
        "\n",
        "print(A.intersection(B))"
      ],
      "metadata": {
        "colab": {
          "base_uri": "https://localhost:8080/"
        },
        "id": "OCBWuVi9w1cD",
        "outputId": "0da3d894-99ee-4f34-c66e-440b97b7a3ff"
      },
      "execution_count": 80,
      "outputs": [
        {
          "output_type": "stream",
          "name": "stdout",
          "text": [
            "{3, 5}\n"
          ]
        }
      ]
    },
    {
      "cell_type": "markdown",
      "source": [
        "## Q.55\n",
        "## What is dictionary in Python?"
      ],
      "metadata": {
        "id": "mwqzLOHwxJlm"
      }
    },
    {
      "cell_type": "markdown",
      "source": [
        "### A.55\n",
        "### Dictionaries are used to store data values in key:value pairs. A dictionary is a collection which is ordered*, changeable and do not allow duplicates. As of Python version 3.7, dictionaries are ordered. In Python 3.6 and earlier, dictionaries are unordered."
      ],
      "metadata": {
        "id": "B3IJvun9xO__"
      }
    },
    {
      "cell_type": "markdown",
      "source": [
        "## Q.56\n",
        "##  How is dictionary different from all other data structures ?"
      ],
      "metadata": {
        "id": "6yv1DkE7xbw-"
      }
    },
    {
      "cell_type": "markdown",
      "source": [
        "### A.56\n",
        "### The dictionary Data Structure in Python is an unordered collection of items. While other Data Structures use only one value as the element, the dictionary is a slightly more compound data structure. It makes use of two elements i.e. a pair of elements, namely, a key and a value."
      ],
      "metadata": {
        "id": "7HWEx7zlxlg3"
      }
    },
    {
      "cell_type": "markdown",
      "source": [
        "## Q.57\n",
        "## How can we declare a dictionary in Python?"
      ],
      "metadata": {
        "id": "PlJ_gfvwyCyN"
      }
    },
    {
      "cell_type": "markdown",
      "source": [
        "### A.57\n",
        "### A dictionary in Python is made up of key-value pairs. In the two sections that follow you will see two ways of creating a dictionary. The first way is by using a set of curly braces, {} , and the second way is by using the built-in dict() function."
      ],
      "metadata": {
        "id": "P-Plyd65yHzN"
      }
    },
    {
      "cell_type": "markdown",
      "source": [
        "## Q.58\n",
        "## What will the output of the following?\n",
        "\n",
        "### var = {}\n",
        "### print(type(var)"
      ],
      "metadata": {
        "id": "9wjun5AvyPjV"
      }
    },
    {
      "cell_type": "code",
      "source": [
        "# A.58\n",
        "\n",
        "var = {}\n",
        "print(type(var))"
      ],
      "metadata": {
        "colab": {
          "base_uri": "https://localhost:8080/"
        },
        "id": "nVen1hrzyWCY",
        "outputId": "5b52cabe-2abf-4571-bcc4-ac2990a35232"
      },
      "execution_count": 60,
      "outputs": [
        {
          "output_type": "stream",
          "name": "stdout",
          "text": [
            "<class 'dict'>\n"
          ]
        }
      ]
    },
    {
      "cell_type": "markdown",
      "source": [
        "## Q.59\n",
        "## How can we add an element in a dictionary?"
      ],
      "metadata": {
        "id": "0R2F1rC-ydSe"
      }
    },
    {
      "cell_type": "markdown",
      "source": [
        "### A.59\n",
        "### There is no add() , append() , or insert() method you can use to add an item to a dictionary in Python. Instead, you add an item to a dictionary by inserting a new index key into the dictionary, then assigning it a particular value."
      ],
      "metadata": {
        "id": "HRnS0ti_yih2"
      }
    },
    {
      "cell_type": "markdown",
      "source": [
        "## Q.60\n",
        "## Create a dictionary and access all the values in that dictionary."
      ],
      "metadata": {
        "id": "i4OILGIRyrj2"
      }
    },
    {
      "cell_type": "code",
      "source": [
        "# A.60\n",
        "\n",
        "thisdict = {\n",
        "  \"brand\": \"Ford\",\n",
        "  \"model\": \"Mustang\",\n",
        "  \"year\": 1964\n",
        "}\n",
        "thisdict"
      ],
      "metadata": {
        "colab": {
          "base_uri": "https://localhost:8080/"
        },
        "id": "jHUz0lYYywOk",
        "outputId": "1c89b88c-3a65-4f53-a3f1-ac7bd7b9098c"
      },
      "execution_count": 59,
      "outputs": [
        {
          "output_type": "execute_result",
          "data": {
            "text/plain": [
              "{'brand': 'Ford', 'model': 'Mustang', 'year': 1964}"
            ]
          },
          "metadata": {},
          "execution_count": 59
        }
      ]
    },
    {
      "cell_type": "code",
      "source": [
        "x = thisdict[\"model\"]\n",
        "x"
      ],
      "metadata": {
        "colab": {
          "base_uri": "https://localhost:8080/",
          "height": 36
        },
        "id": "gJ_foLDmy_Md",
        "outputId": "698f7603-80eb-4f3a-9f5b-8820400ffe10"
      },
      "execution_count": null,
      "outputs": [
        {
          "output_type": "execute_result",
          "data": {
            "text/plain": [
              "'Mustang'"
            ],
            "application/vnd.google.colaboratory.intrinsic+json": {
              "type": "string"
            }
          },
          "metadata": {},
          "execution_count": 75
        }
      ]
    },
    {
      "cell_type": "code",
      "source": [
        "x = thisdict.get(\"model\")"
      ],
      "metadata": {
        "id": "RNho1X5szDXu"
      },
      "execution_count": null,
      "outputs": []
    },
    {
      "cell_type": "code",
      "source": [
        "print(thisdict.values())  \n",
        "  "
      ],
      "metadata": {
        "colab": {
          "base_uri": "https://localhost:8080/"
        },
        "id": "jMOTc8bkzWPW",
        "outputId": "3ba041b4-eb54-45b8-82a7-6e6bc99f18b5"
      },
      "execution_count": null,
      "outputs": [
        {
          "output_type": "stream",
          "name": "stdout",
          "text": [
            "dict_values(['Ford', 'Mustang', 1964])\n"
          ]
        }
      ]
    },
    {
      "cell_type": "markdown",
      "source": [
        "## Q.61\n",
        "## Create a nested dictionary and access all the element in the inner dictionary."
      ],
      "metadata": {
        "id": "ubnHr8aQzaCe"
      }
    },
    {
      "cell_type": "code",
      "source": [
        "# A.61\n",
        "\n",
        "myfamily = {\n",
        "  \"child1\" : {\n",
        "    \"name\" : \"Emil\",\n",
        "    \"year\" : 2004\n",
        "  },\n",
        "  \"child2\" : {\n",
        "    \"name\" : \"Tobias\",\n",
        "    \"year\" : 2007\n",
        "  },\n",
        "  \"child3\" : {\n",
        "    \"name\" : \"Linus\",\n",
        "    \"year\" : 2011\n",
        "  }\n",
        "}\n",
        "\n",
        "myfamily"
      ],
      "metadata": {
        "colab": {
          "base_uri": "https://localhost:8080/"
        },
        "id": "towwsuz2zgJ6",
        "outputId": "281bf75d-0701-48e6-b671-6063a51c0255"
      },
      "execution_count": 57,
      "outputs": [
        {
          "output_type": "execute_result",
          "data": {
            "text/plain": [
              "{'child1': {'name': 'Emil', 'year': 2004},\n",
              " 'child2': {'name': 'Tobias', 'year': 2007},\n",
              " 'child3': {'name': 'Linus', 'year': 2011}}"
            ]
          },
          "metadata": {},
          "execution_count": 57
        }
      ]
    },
    {
      "cell_type": "code",
      "source": [
        "print(myfamily['child1']['name'])\n",
        "print(myfamily['child2']['year'])\n"
      ],
      "metadata": {
        "colab": {
          "base_uri": "https://localhost:8080/"
        },
        "id": "PSNLbxLvz9rW",
        "outputId": "a5954bc0-7070-4a27-d725-f032513bc290"
      },
      "execution_count": 58,
      "outputs": [
        {
          "output_type": "stream",
          "name": "stdout",
          "text": [
            "Emil\n",
            "2007\n"
          ]
        }
      ]
    },
    {
      "cell_type": "markdown",
      "source": [
        "## Q.62\n",
        "## What is the use of get() function?"
      ],
      "metadata": {
        "id": "d3hEC2yv0a_2"
      }
    },
    {
      "cell_type": "markdown",
      "source": [
        "### A.62\n",
        "### The get() method returns the value of the item with the specified key.\n",
        "\n",
        "### The get() method returns the value of the item with the specified key."
      ],
      "metadata": {
        "id": "BGVp3AfPh9c0"
      }
    },
    {
      "cell_type": "markdown",
      "source": [
        "## Q.63\n",
        "## What is the use of items() function?"
      ],
      "metadata": {
        "id": "kcYes8j7iOQ0"
      }
    },
    {
      "cell_type": "markdown",
      "source": [
        "### A.63\n",
        "### In Python Dictionary, items() method is used to return the list with all dictionary keys with values. Parameters: This method takes no parameters. Returns: A view object that displays a list of a given dictionary's (key, value) tuple pair."
      ],
      "metadata": {
        "id": "NfSrkCgtiTRS"
      }
    },
    {
      "cell_type": "markdown",
      "source": [
        "## Q.64\n",
        "## What is the use of pop() function?"
      ],
      "metadata": {
        "id": "nGcSIQDfilTs"
      }
    },
    {
      "cell_type": "markdown",
      "source": [
        "## A.64\n",
        "## The pop() method removes the element at the specified position."
      ],
      "metadata": {
        "id": "j6HWApxWiptg"
      }
    },
    {
      "cell_type": "markdown",
      "source": [
        "## Q.65\n",
        "## What is the use of popitems() function?"
      ],
      "metadata": {
        "id": "GaEuiyd-ixUv"
      }
    },
    {
      "cell_type": "markdown",
      "source": [
        "### A.65\n",
        "### The popitem() method removes the item that was last inserted into the dictionary. In versions before 3.7, the popitem() method removes a random item. The removed item is the return value of the popitem() method, as a tuple."
      ],
      "metadata": {
        "id": "qgDblRN_i13y"
      }
    },
    {
      "cell_type": "markdown",
      "source": [
        "## Q.66\n",
        "## What is the use of keys() function?"
      ],
      "metadata": {
        "id": "uCnhDXB1i_RE"
      }
    },
    {
      "cell_type": "markdown",
      "source": [
        "### A.66\n",
        "### The keys() method in Python Dictionary, returns a view object that displays a list of all the keys in the dictionary in order of insertion using Python. Parameters: There are no parameters. Returns: A view object is returned that displays all the keys."
      ],
      "metadata": {
        "id": "Vb2-dcU4jDBS"
      }
    },
    {
      "cell_type": "markdown",
      "source": [
        "## Q.67\n",
        "## What is the use of values() function?"
      ],
      "metadata": {
        "id": "jtVMPbl_jLTo"
      }
    },
    {
      "cell_type": "markdown",
      "source": [
        "### A.67\n",
        "### values() is an inbuilt method in Python programming language that returns a view object. The view object contains the values of the dictionary, as a list. If you use the type() method on the return value, you get “dict_values object”. It must be cast to obtain the actual list."
      ],
      "metadata": {
        "id": "ejJ090-jjRZf"
      }
    },
    {
      "cell_type": "markdown",
      "source": [
        "## Q.68\n",
        "## What are loops in Python?"
      ],
      "metadata": {
        "id": "Fd4xhScMjatl"
      }
    },
    {
      "cell_type": "markdown",
      "source": [
        "### A.68\n",
        "### Looping means repeating something over and over until a particular condition is satisfied. A for loop in Python is a control flow statement that is used to repeatedly execute a group of statements as long as the condition is satisfied. Such a type of statement is also known as an iterative statement."
      ],
      "metadata": {
        "id": "uqmN_Ib4jfXV"
      }
    },
    {
      "cell_type": "markdown",
      "source": [
        "## Q.69\n",
        "## How many type of loop are there in Python?"
      ],
      "metadata": {
        "id": "tB3aoNJJjnXv"
      }
    },
    {
      "cell_type": "markdown",
      "source": [
        "### A.69\n",
        "### There are two types of loops in Python, for and while."
      ],
      "metadata": {
        "id": "yvuMry6ujtjr"
      }
    },
    {
      "cell_type": "markdown",
      "source": [
        "## Q.70\n",
        "## What is the difference between for and while loops?"
      ],
      "metadata": {
        "id": "b3GOD9Zejz3s"
      }
    },
    {
      "cell_type": "markdown",
      "source": [
        "### A.70\n",
        "### For loop is used when the number of iterations is already known. While loop is used when the number of iterations is already Unknown."
      ],
      "metadata": {
        "id": "_Lk8UGQoj4ZK"
      }
    },
    {
      "cell_type": "markdown",
      "source": [
        "## Q.71\n",
        "## What is the use of continue statement?"
      ],
      "metadata": {
        "id": "gqCWW9rNkA6U"
      }
    },
    {
      "cell_type": "markdown",
      "source": [
        "### A.71\n",
        "### The continue keyword is used to end the current iteration in a for loop (or a while loop), and continues to the next iteration."
      ],
      "metadata": {
        "id": "lIS8lsQwkFST"
      }
    },
    {
      "cell_type": "markdown",
      "source": [
        "## Q.72\n",
        "## What is the use of break statement?"
      ],
      "metadata": {
        "id": "TDiWZzj_kQ57"
      }
    },
    {
      "cell_type": "markdown",
      "source": [
        "### A.72\n",
        "### 'Break' in Python is a loop control statement. It is used to control the sequence of the loop. Suppose you want to terminate a loop and skip to the next code after the loop; break will help you do that. A typical scenario of using the Break in Python is when an external condition triggers the loop's termination."
      ],
      "metadata": {
        "id": "HYJqaThdkUtM"
      }
    },
    {
      "cell_type": "markdown",
      "source": [
        "## Q.73\n",
        "## What is the use of pass statement?"
      ],
      "metadata": {
        "id": "tHRI2IZ0kdEC"
      }
    },
    {
      "cell_type": "markdown",
      "source": [
        "### A.73\n",
        "### The pass statement is used as a placeholder for future code. When the pass statement is executed, nothing happens, but you avoid getting an error when empty code is not allowed. Empty code is not allowed in loops, function definitions, class definitions, or in if statements."
      ],
      "metadata": {
        "id": "VFLkZjXnkg2q"
      }
    },
    {
      "cell_type": "markdown",
      "source": [
        "## Q.74\n",
        "## What is the use of range() function?"
      ],
      "metadata": {
        "id": "emtpQyoqkoS-"
      }
    },
    {
      "cell_type": "markdown",
      "source": [
        "### A.74\n",
        "### The range() function returns a sequence of numbers, starting from 0 by default, and increments by 1 (by default), and stops before a specified number."
      ],
      "metadata": {
        "id": "oUWJS7FPksqQ"
      }
    },
    {
      "cell_type": "markdown",
      "source": [
        "## Q.75\n",
        "## How can you loop over a dictionary?"
      ],
      "metadata": {
        "id": "6TylC4zck3oh"
      }
    },
    {
      "cell_type": "markdown",
      "source": [
        "### A.75\n",
        "### Dictionary in Python is an unordered collection of data values, used to store data values like a map, unlike other Data Types that hold only a single value as an element, Dictionary holds the key: value pair. \n",
        "\n",
        "### There are multiple ways to iterate over a dictionary in Python.\n",
        "\n",
        "### Access key using the build .keys() \n",
        "### Access key without using a key() \n",
        "### Iterate through all values using .values()\n",
        "### Iterate through all key, and value pairs using items()\n",
        "### Access both key and value without using items()\n",
        "### Print items in Key-Value in pair "
      ],
      "metadata": {
        "id": "ZKt4mF5GlBjT"
      }
    },
    {
      "cell_type": "markdown",
      "source": [
        "## Q.76\n",
        "## Write a Python program to find the factorial of a given number."
      ],
      "metadata": {
        "id": "QIPQejYflYjT"
      }
    },
    {
      "cell_type": "code",
      "source": [
        "# A.76\n",
        "\n",
        "def factorial(n):\n",
        "     return 1 if (n==1 or n==0) else n * factorial(n - 1);\n",
        " \n",
        "num = 5;\n",
        "print(\"Factorial of\",num,\"is\",\n",
        "factorial(num))"
      ],
      "metadata": {
        "colab": {
          "base_uri": "https://localhost:8080/"
        },
        "id": "3LfG_hldldCm",
        "outputId": "8c75a9c1-02ea-4a36-c7e0-dfe5f2e0eeae"
      },
      "execution_count": 13,
      "outputs": [
        {
          "output_type": "stream",
          "name": "stdout",
          "text": [
            "Factorial of 5 is 120\n"
          ]
        }
      ]
    },
    {
      "cell_type": "markdown",
      "source": [
        "## Q.77\n",
        "## Write a Python program to calculate the simple interest. Formula to calculate simple interest is SI = (PRT)/100"
      ],
      "metadata": {
        "id": "7KP92hmkl8J5"
      }
    },
    {
      "cell_type": "code",
      "source": [
        "# A.77\n",
        "\n",
        "def simple_interest(p,t,r):\n",
        "    print('The principal is', p)\n",
        "    print('The time period is', t)\n",
        "    print('The rate of interest is',r)\n",
        "     \n",
        "    si = (p * t * r)/100\n",
        "     \n",
        "    print('The Simple Interest is', si)\n",
        "    return si\n",
        "     \n",
        "\n",
        "simple_interest(8, 6, 8)"
      ],
      "metadata": {
        "colab": {
          "base_uri": "https://localhost:8080/"
        },
        "id": "LHEVQiwemC90",
        "outputId": "dfcadbc0-3463-41b2-c580-324c9f4adddc"
      },
      "execution_count": 14,
      "outputs": [
        {
          "output_type": "stream",
          "name": "stdout",
          "text": [
            "The principal is 8\n",
            "The time period is 6\n",
            "The rate of interest is 8\n",
            "The Simple Interest is 3.84\n"
          ]
        },
        {
          "output_type": "execute_result",
          "data": {
            "text/plain": [
              "3.84"
            ]
          },
          "metadata": {},
          "execution_count": 14
        }
      ]
    },
    {
      "cell_type": "markdown",
      "source": [
        "## Q.78\n",
        "## Write a Python program to calculate the compound interest. Formula of compound interest is A = P(1+ R/100)^t."
      ],
      "metadata": {
        "id": "Ad_nP7-fmR8Y"
      }
    },
    {
      "cell_type": "code",
      "source": [
        "# A.78\n",
        "\n",
        "def compound_interest(principle, rate, time):\n",
        " \n",
        "    Amount = principle * (pow((1 + rate / 100), time))\n",
        "    CI = Amount - principle\n",
        "    print(\"Compound interest is\", CI)\n",
        " \n",
        "compound_interest(10000, 10.25, 5)"
      ],
      "metadata": {
        "colab": {
          "base_uri": "https://localhost:8080/"
        },
        "id": "c7ZXRDTUmZEP",
        "outputId": "c8d164fb-b43f-4791-d92a-bfd6f34923e9"
      },
      "execution_count": 15,
      "outputs": [
        {
          "output_type": "stream",
          "name": "stdout",
          "text": [
            "Compound interest is 6288.946267774416\n"
          ]
        }
      ]
    },
    {
      "cell_type": "markdown",
      "source": [
        "## Q.79\n",
        "## Write a Python program to check if a number is prime or not."
      ],
      "metadata": {
        "id": "whpbmlIVmnEP"
      }
    },
    {
      "cell_type": "code",
      "source": [
        "# A.79\n",
        "\n",
        "num = 11\n",
        "\n",
        "if num > 1:\n",
        "   \n",
        "    for i in range(2, int(num/2)+1):\n",
        "       \n",
        "        if (num % i) == 0:\n",
        "            print(num, \"is not a prime number\")\n",
        "            break\n",
        "    else:\n",
        "        print(num, \"is a prime number\")\n",
        "else:\n",
        "    print(num, \"is not a prime number\")"
      ],
      "metadata": {
        "colab": {
          "base_uri": "https://localhost:8080/"
        },
        "id": "a-qfg4WSms7Z",
        "outputId": "aca8f9c1-30af-45c7-f363-e1167c0fef90"
      },
      "execution_count": 16,
      "outputs": [
        {
          "output_type": "stream",
          "name": "stdout",
          "text": [
            "11 is a prime number\n"
          ]
        }
      ]
    },
    {
      "cell_type": "markdown",
      "source": [
        "## Q.80\n",
        "## Write a Python program to check Armstrong Number."
      ],
      "metadata": {
        "id": "ZmzX4ZKanGI_"
      }
    },
    {
      "cell_type": "code",
      "source": [
        "# A.80\n",
        "\n",
        "n = 153  \n",
        "s = n  \n",
        "b = len(str(n))\n",
        "sum1 = 0\n",
        "while n != 0:\n",
        "    r = n % 10\n",
        "    sum1 = sum1+(r**b)\n",
        "    n = n//10\n",
        "if s == sum1:\n",
        "    print(\"The given number\", s, \"is armstrong number\")\n",
        "else:\n",
        "    print(\"The given number\", s, \"is not armstrong number\")\n",
        " \n"
      ],
      "metadata": {
        "colab": {
          "base_uri": "https://localhost:8080/"
        },
        "id": "EfuIzJvPnKx0",
        "outputId": "092174d6-eefa-4bb5-d477-f625f157c76e"
      },
      "execution_count": 17,
      "outputs": [
        {
          "output_type": "stream",
          "name": "stdout",
          "text": [
            "The given number 153 is armstrong number\n"
          ]
        }
      ]
    },
    {
      "cell_type": "markdown",
      "source": [
        "## Q.81\n",
        "## Write a Python program to find the n-th Fibonacci Number."
      ],
      "metadata": {
        "id": "sO8sw2C1nu7v"
      }
    },
    {
      "cell_type": "code",
      "source": [
        "# A.81\n",
        "\n",
        "def Fibonacci(n):\n",
        "    if n<= 0:\n",
        "        print(\"Incorrect input\")\n",
        "         \n",
        "    elif n == 1:\n",
        "        return 0\n",
        "   \n",
        "    elif n == 2:\n",
        "        return 1\n",
        "    else:\n",
        "        return Fibonacci(n-1)+Fibonacci(n-2)\n",
        " \n",
        "\n",
        " \n",
        "print(Fibonacci(10))\n",
        " \n"
      ],
      "metadata": {
        "colab": {
          "base_uri": "https://localhost:8080/"
        },
        "id": "ZEp3iR2wn3YY",
        "outputId": "06909e51-953d-4d05-da93-9bdbb5ac37c9"
      },
      "execution_count": 18,
      "outputs": [
        {
          "output_type": "stream",
          "name": "stdout",
          "text": [
            "34\n"
          ]
        }
      ]
    },
    {
      "cell_type": "markdown",
      "source": [
        "## Q.82\n",
        "## Write a Python program to interchange the first and last element in a list."
      ],
      "metadata": {
        "id": "njpVaDt2oJt0"
      }
    },
    {
      "cell_type": "code",
      "source": [
        "# A.82\n",
        "\n",
        "def swapList(newList):\n",
        "     \n",
        "    newList[0], newList[-1] = newList[-1], newList[0]\n",
        " \n",
        "    return newList\n",
        "     \n",
        "\n",
        "newList = [12, 35, 9, 56, 24]\n",
        "print(swapList(newList))"
      ],
      "metadata": {
        "colab": {
          "base_uri": "https://localhost:8080/"
        },
        "id": "040c2L8PoTPJ",
        "outputId": "414f1da4-e362-468b-e1e4-e459aa899411"
      },
      "execution_count": 19,
      "outputs": [
        {
          "output_type": "stream",
          "name": "stdout",
          "text": [
            "[24, 35, 9, 56, 12]\n"
          ]
        }
      ]
    },
    {
      "cell_type": "markdown",
      "source": [
        "## Q.83\n",
        "## Write a Python program to swap two elements in a list."
      ],
      "metadata": {
        "id": "cq2ytkShoggk"
      }
    },
    {
      "cell_type": "code",
      "source": [
        "# A.83\n",
        "\n",
        "def swapPositions(list, pos1, pos2):\n",
        "     \n",
        "    list[pos1], list[pos2] = list[pos2], list[pos1]\n",
        "    return list\n",
        " \n",
        "\n",
        "List = [23, 65, 19, 90]\n",
        "pos1, pos2  = 1, 3\n",
        " \n",
        "print(swapPositions(List, pos1-1, pos2-1))"
      ],
      "metadata": {
        "colab": {
          "base_uri": "https://localhost:8080/"
        },
        "id": "kiYzweINol28",
        "outputId": "a40f1a57-47be-44d6-ab40-1f3b9856f332"
      },
      "execution_count": 20,
      "outputs": [
        {
          "output_type": "stream",
          "name": "stdout",
          "text": [
            "[19, 65, 23, 90]\n"
          ]
        }
      ]
    },
    {
      "cell_type": "markdown",
      "source": [
        "## Q.84\n",
        "## Write a Python program to find N largest element from a list."
      ],
      "metadata": {
        "id": "dsLbqb8Qo4Dj"
      }
    },
    {
      "cell_type": "code",
      "source": [
        "# A.84\n",
        "\n",
        "\n",
        "def Nmaxelements(list1, N):\n",
        "    final_list = []\n",
        " \n",
        "    for i in range(0, N):\n",
        "        max1 = 0\n",
        "         \n",
        "        for j in range(len(list1)):    \n",
        "            if list1[j] > max1:\n",
        "                max1 = list1[j];\n",
        "                 \n",
        "        list1.remove(max1);\n",
        "        final_list.append(max1)\n",
        "         \n",
        "    print(final_list)\n",
        " \n",
        "\n",
        "list1 = [2, 6, 41, 85, 0, 3, 7, 6, 10]\n",
        "N = 2\n",
        " \n",
        "\n",
        "Nmaxelements(list1, N)"
      ],
      "metadata": {
        "colab": {
          "base_uri": "https://localhost:8080/"
        },
        "id": "wsz1HK25o7xE",
        "outputId": "59961100-1114-4ba5-f3ab-005c909caabf"
      },
      "execution_count": 21,
      "outputs": [
        {
          "output_type": "stream",
          "name": "stdout",
          "text": [
            "[85, 41]\n"
          ]
        }
      ]
    },
    {
      "cell_type": "markdown",
      "source": [
        "## Q.85\n",
        "## Write a Python program to find cumulative sum of a list."
      ],
      "metadata": {
        "id": "QinxpOGSpQFC"
      }
    },
    {
      "cell_type": "code",
      "source": [
        "# A.85\n",
        "\n",
        "list=[10,20,30,40,50]\n",
        "new_list=[]\n",
        "j=0\n",
        "for i in range(0,len(list)):\n",
        "    j+=list[i]\n",
        "    new_list.append(j)\n",
        "     \n",
        "print(new_list)\n"
      ],
      "metadata": {
        "colab": {
          "base_uri": "https://localhost:8080/"
        },
        "id": "lecMjg8opVI0",
        "outputId": "ded7d5c3-cf32-4ffa-c142-6794ff9a8c93"
      },
      "execution_count": 23,
      "outputs": [
        {
          "output_type": "stream",
          "name": "stdout",
          "text": [
            "[10, 30, 60, 100, 150]\n"
          ]
        }
      ]
    },
    {
      "cell_type": "markdown",
      "source": [
        "## Q.86\n",
        "##  Write a Python program to check if a string is palindrome or not."
      ],
      "metadata": {
        "id": "oj_T33kJpptj"
      }
    },
    {
      "cell_type": "code",
      "source": [
        "# A.86\n",
        "\n",
        "def isPalindrome(s):\n",
        "    return s == s[::-1]\n",
        " \n",
        "s = \"manish\"\n",
        "ans = isPalindrome(s)\n",
        " \n",
        "if ans:\n",
        "    print(\"Yes\")\n",
        "else:\n",
        "    print(\"No\")"
      ],
      "metadata": {
        "colab": {
          "base_uri": "https://localhost:8080/"
        },
        "id": "0uULe200puQL",
        "outputId": "a2f7ffea-5c0c-4345-8db1-f743b312d4b6"
      },
      "execution_count": 24,
      "outputs": [
        {
          "output_type": "stream",
          "name": "stdout",
          "text": [
            "No\n"
          ]
        }
      ]
    },
    {
      "cell_type": "markdown",
      "source": [
        "## Q.87\n",
        "## Write a Python program to remove i'th element from a string."
      ],
      "metadata": {
        "id": "r2j7OotVp8Q8"
      }
    },
    {
      "cell_type": "code",
      "source": [
        "# A.87\n",
        "\n",
        "def remove(string, i): \n",
        "  \n",
        "    for j in range(len(string)):\n",
        "        if j == i:\n",
        "            string = string.replace(string[i], \"\", 1)\n",
        "    return string\n",
        "      \n",
        "if __name__ == '__main__':\n",
        "      \n",
        "    string = \"helloworld world is beautifull\"\n",
        "      \n",
        "    \n",
        "    i = 5\n",
        "    \n",
        "    \n",
        "    print(remove(string, i))"
      ],
      "metadata": {
        "colab": {
          "base_uri": "https://localhost:8080/"
        },
        "id": "ufJRMfNWqCXj",
        "outputId": "6e7168e9-bad7-40ce-a913-5a827457a3ce"
      },
      "execution_count": 28,
      "outputs": [
        {
          "output_type": "stream",
          "name": "stdout",
          "text": [
            "helloorld world is beautifull\n"
          ]
        }
      ]
    },
    {
      "cell_type": "markdown",
      "source": [
        "## Q.88\n",
        "## Write a Python program to check if a substring is present in a given string."
      ],
      "metadata": {
        "id": "wgHyY3_AqfVj"
      }
    },
    {
      "cell_type": "code",
      "source": [
        "# A.88\n",
        "\n",
        "\n",
        "MyString1 = \"hello world world is beautifull \"\n",
        " \n",
        "if \"world\" in MyString1:\n",
        "    print(\"Yes! it is present in the string\")\n",
        "else:\n",
        "    print(\"No! it is not present\")"
      ],
      "metadata": {
        "colab": {
          "base_uri": "https://localhost:8080/"
        },
        "id": "sNvHCC7Gqkip",
        "outputId": "8357780e-f219-4cec-aadd-53b2412332e5"
      },
      "execution_count": 29,
      "outputs": [
        {
          "output_type": "stream",
          "name": "stdout",
          "text": [
            "Yes! it is present in the string\n"
          ]
        }
      ]
    },
    {
      "cell_type": "markdown",
      "source": [
        "## Q.89\n",
        "## Write a Python program to find words which are greater than given length k."
      ],
      "metadata": {
        "id": "Ttjk0vtoqzLr"
      }
    },
    {
      "cell_type": "code",
      "source": [
        "# A.89\n",
        "\n",
        "sentence = \"hello world , world is beautifull , lets save our world\"\n",
        "length = 4\n",
        "print([word for word in sentence.split() if len(word) > length])"
      ],
      "metadata": {
        "colab": {
          "base_uri": "https://localhost:8080/"
        },
        "id": "5ztdUZSoq80U",
        "outputId": "c95473ec-43f9-4754-c72a-f32de695c299"
      },
      "execution_count": 31,
      "outputs": [
        {
          "output_type": "stream",
          "name": "stdout",
          "text": [
            "['hello', 'world', 'world', 'beautifull', 'world']\n"
          ]
        }
      ]
    },
    {
      "cell_type": "markdown",
      "source": [
        "## Q.90\n",
        "## Write a Python program to extract unquire dictionary values."
      ],
      "metadata": {
        "id": "A61V3M1urHGN"
      }
    },
    {
      "cell_type": "code",
      "source": [
        "# A.90\n",
        "\n",
        "dict1 = {'A' : [1, 3, 5, 4],\n",
        "             'B' : [4, 6, 8, 10],\n",
        "             'C' : [6, 12, 4 ,8],\n",
        "             'D' : [5, 7, 2]}\n",
        "\n",
        "print(\"The original dictionary is : \" ,dict1)\n",
        "  \n",
        "\n",
        "res = list(sorted({ele for val in dict1.values() for ele in val}))\n",
        "  \n",
        "\n",
        "print(\"The unique values list is : \" , res) "
      ],
      "metadata": {
        "id": "MoCpzKfDrS6q"
      },
      "execution_count": null,
      "outputs": []
    },
    {
      "cell_type": "markdown",
      "source": [
        "## Q.91\n",
        "## Write a Python program to merge two dictionary."
      ],
      "metadata": {
        "id": "tSSYZfAot9Ey"
      }
    },
    {
      "cell_type": "code",
      "source": [
        "# A.91\n",
        "\n",
        "def Merge(dict1, dict2):\n",
        "    return(dict2.update(dict1))\n",
        " \n",
        "dict1 = {'a': 10, 'b': 8}\n",
        "dict2 = {'d': 6, 'c': 4}\n",
        " \n",
        "\n",
        "print(Merge(dict1, dict2))\n",
        " \n",
        "\n",
        "print(dict2)"
      ],
      "metadata": {
        "colab": {
          "base_uri": "https://localhost:8080/"
        },
        "id": "rWJUujTuuB8J",
        "outputId": "b3ca3dda-996d-473e-ef9b-df197b2b87fd"
      },
      "execution_count": 37,
      "outputs": [
        {
          "output_type": "stream",
          "name": "stdout",
          "text": [
            "None\n",
            "{'d': 6, 'c': 4, 'a': 10, 'b': 8}\n"
          ]
        }
      ]
    },
    {
      "cell_type": "markdown",
      "source": [
        "## Q.92\n",
        "## Write a Python program to convert a list of tuples into dictionary.\n",
        "\n",
        "### Input : [('Sachin', 10), ('MSD', 7), ('Kohli', 18), ('Rohit', 45)]\n",
        "### Output : {'Sachin': 10, 'MSD': 7, 'Kohli': 18, 'Rohit': 45}"
      ],
      "metadata": {
        "id": "2jz87fpSuOfs"
      }
    },
    {
      "cell_type": "code",
      "source": [
        "# A.92\n",
        "\n",
        "def Convert(tup, di):\n",
        "    for a, b in tup:\n",
        "        di.setdefault(a, []).append(b)\n",
        "    return di\n",
        "      \n",
        "   \n",
        "tups = [('Sachin', 10), ('MSD', 7), ('Kohli', 18), ('Rohit', 45)]\n",
        "dictionary = {}\n",
        "print (Convert(tups, dictionary))"
      ],
      "metadata": {
        "colab": {
          "base_uri": "https://localhost:8080/"
        },
        "id": "xK457y4buWAG",
        "outputId": "00a85854-c93a-4886-e634-9be1e032779b"
      },
      "execution_count": 38,
      "outputs": [
        {
          "output_type": "stream",
          "name": "stdout",
          "text": [
            "{'Sachin': [10], 'MSD': [7], 'Kohli': [18], 'Rohit': [45]}\n"
          ]
        }
      ]
    },
    {
      "cell_type": "markdown",
      "source": [
        "## Q.93\n",
        "## Write a Python program to create a list of tuples from given list having number and its cube in each tuple.\n",
        "\n",
        "### Input: list = [9, 5, 6]\n",
        "### Output: [(9, 729), (5, 125), (6, 216)]"
      ],
      "metadata": {
        "id": "N6wuiphSuwMZ"
      }
    },
    {
      "cell_type": "code",
      "source": [
        "# A.93\n",
        "\n",
        "list1 = [9, 5, 6]\n",
        " \n",
        "res = [(val, pow(val, 3)) for val in list1]\n",
        " \n",
        "print(res)"
      ],
      "metadata": {
        "colab": {
          "base_uri": "https://localhost:8080/"
        },
        "id": "QBX1XTS4u34e",
        "outputId": "05285607-a03f-452e-efa4-9369a7858556"
      },
      "execution_count": 39,
      "outputs": [
        {
          "output_type": "stream",
          "name": "stdout",
          "text": [
            "[(9, 729), (5, 125), (6, 216)]\n"
          ]
        }
      ]
    },
    {
      "cell_type": "markdown",
      "source": [
        "## Q.94\n",
        "## Write a Python program to get all combinations of 2 tuples.\n",
        "\n",
        "### Input : test_tuple1 = (7, 2), test_tuple2 = (7, 8)\n",
        "### Output : [(7, 7), (7, 8), (2, 7), (2, 8), (7, 7), (7, 2), (8, 7), (8, 2)]"
      ],
      "metadata": {
        "id": "BoKNP5bKvKcm"
      }
    },
    {
      "cell_type": "code",
      "source": [
        "# A.94\n",
        "\n",
        "test_tuple1 = (7, 2)\n",
        "test_tuple2 = (7, 8)\n",
        "  \n",
        "\n",
        "print(\"The original tuple 1 : \" + str(test_tuple1))\n",
        "print(\"The original tuple 2 : \" + str(test_tuple2))\n",
        "  \n",
        "\n",
        "res =  [(a, b) for a in test_tuple1 for b in test_tuple2]\n",
        "res = res +  [(a, b) for a in test_tuple2 for b in test_tuple1]\n",
        "   \n",
        "print(\"The filtered tuple : \" + str(res))"
      ],
      "metadata": {
        "colab": {
          "base_uri": "https://localhost:8080/"
        },
        "id": "j2bcskRovU7a",
        "outputId": "b10bf3e0-85a3-4f9b-84eb-288adbab080f"
      },
      "execution_count": 40,
      "outputs": [
        {
          "output_type": "stream",
          "name": "stdout",
          "text": [
            "The original tuple 1 : (7, 2)\n",
            "The original tuple 2 : (7, 8)\n",
            "The filtered tuple : [(7, 7), (7, 8), (2, 7), (2, 8), (7, 7), (7, 2), (8, 7), (8, 2)]\n"
          ]
        }
      ]
    },
    {
      "cell_type": "markdown",
      "source": [
        "## Q.95\n",
        "## Write a Python program to sort a list of tuples by second item.\n",
        "\n",
        "### Input : [('for', 24), ('Geeks', 8), ('Geeks', 30)] \n",
        "### Output : [('Geeks', 8), ('for', 24), ('Geeks', 30)]"
      ],
      "metadata": {
        "id": "9dvTBioZvylc"
      }
    },
    {
      "cell_type": "code",
      "source": [
        "# A.95\n",
        "\n",
        "def Sort_Tuple(tup):\n",
        "     \n",
        "    \n",
        "    lst = len(tup)\n",
        "    for i in range(0, lst):\n",
        "         \n",
        "        for j in range(0, lst-i-1):\n",
        "            if (tup[j][1] > tup[j + 1][1]):\n",
        "                temp = tup[j]\n",
        "                tup[j]= tup[j + 1]\n",
        "                tup[j + 1]= temp\n",
        "    return tup\n",
        " \n",
        "\n",
        "tup =[('for', 24), ('Geeks', 8), ('Geeks', 30)]\n",
        "       \n",
        "print(Sort_Tuple(tup))"
      ],
      "metadata": {
        "colab": {
          "base_uri": "https://localhost:8080/"
        },
        "id": "_enl3Qtxv6vW",
        "outputId": "9837c89a-ff31-463a-d8a1-ea88719503d3"
      },
      "execution_count": 43,
      "outputs": [
        {
          "output_type": "stream",
          "name": "stdout",
          "text": [
            "[('Geeks', 8), ('for', 24), ('Geeks', 30)]\n"
          ]
        }
      ]
    },
    {
      "cell_type": "markdown",
      "source": [
        "## Q.96\n",
        "## Write a python program to print below pattern.\n",
        "\n",
        "### * \n",
        "### * * \n",
        "### * * * \n",
        "### * * * * \n",
        "### * * * * * "
      ],
      "metadata": {
        "id": "uTqNAsm_wfkN"
      }
    },
    {
      "cell_type": "code",
      "source": [
        "# A.96\n",
        "\n",
        "for i in range(1,6):\n",
        " print('*'*i)"
      ],
      "metadata": {
        "colab": {
          "base_uri": "https://localhost:8080/"
        },
        "id": "lPxKO_-owp10",
        "outputId": "ba6703bb-663b-4e12-8eb4-4196b1337aa8"
      },
      "execution_count": 45,
      "outputs": [
        {
          "output_type": "stream",
          "name": "stdout",
          "text": [
            "*\n",
            "**\n",
            "***\n",
            "****\n",
            "*****\n"
          ]
        }
      ]
    },
    {
      "cell_type": "markdown",
      "source": [
        "## Q.97\n",
        "## Write a python program to print below pattern."
      ],
      "metadata": {
        "id": "jglnvvb6w28Z"
      }
    },
    {
      "cell_type": "code",
      "source": [
        "# A.97\n",
        "\n",
        "rows = 5\n",
        "k = 2 * rows - 2\n",
        "for i in range(0, rows):\n",
        "    \n",
        "    for j in range(0, k):\n",
        "        \n",
        "        print(end=\" \")\n",
        "    k = k - 2\n",
        "    for j in range(0, i + 1):\n",
        "        \n",
        "        print(\"* \", end=\"\")\n",
        "    print(\"\")"
      ],
      "metadata": {
        "colab": {
          "base_uri": "https://localhost:8080/"
        },
        "id": "opYLS67_xDrY",
        "outputId": "6a4e9373-6fba-4b02-e4bd-15ef7f38d5ce"
      },
      "execution_count": 51,
      "outputs": [
        {
          "output_type": "stream",
          "name": "stdout",
          "text": [
            "        * \n",
            "      * * \n",
            "    * * * \n",
            "  * * * * \n",
            "* * * * * \n"
          ]
        }
      ]
    },
    {
      "cell_type": "markdown",
      "source": [
        "## Q.98\n",
        "## Write a python program to print below pattern.\n",
        "\n",
        "    "
      ],
      "metadata": {
        "id": "zeqanMGeyElu"
      }
    },
    {
      "cell_type": "code",
      "source": [
        "# A.98\n",
        "\n",
        "size = 5\n",
        "m = (2 * size) - 2\n",
        "for i in range(0, size):\n",
        "    for j in range(0, m):\n",
        "        print(end=\" \")\n",
        "    \n",
        "    m = m - 1\n",
        "    for j in range(0, i + 1):\n",
        "        print(\"* \", end=' ')\n",
        "    print(\" \")"
      ],
      "metadata": {
        "colab": {
          "base_uri": "https://localhost:8080/"
        },
        "id": "NgCBozWNyKUi",
        "outputId": "4ffd5eaf-915a-42b0-d11a-cd43d938e386"
      },
      "execution_count": 53,
      "outputs": [
        {
          "output_type": "stream",
          "name": "stdout",
          "text": [
            "        *   \n",
            "       *  *   \n",
            "      *  *  *   \n",
            "     *  *  *  *   \n",
            "    *  *  *  *  *   \n"
          ]
        }
      ]
    },
    {
      "cell_type": "markdown",
      "source": [
        "## Q.99\n",
        "## Write a python program to print below pattern.\n",
        "\n",
        "### 1 \n",
        "### 1 2 \n",
        "### 1 2 3 \n",
        "### 1 2 3 4 \n",
        "### 1 2 3 4 5"
      ],
      "metadata": {
        "id": "6w6nJYOuy2lP"
      }
    },
    {
      "cell_type": "code",
      "source": [
        "# A.99\n",
        "\n",
        "rows = 5\n",
        "for i in range(1, rows + 1):\n",
        "    for j in range(1, i + 1):\n",
        "        print(j, end=' ')\n",
        "    print('')"
      ],
      "metadata": {
        "colab": {
          "base_uri": "https://localhost:8080/"
        },
        "id": "qDiykRdQzBW7",
        "outputId": "19428694-0fc5-411e-b412-a1287d727650"
      },
      "execution_count": 54,
      "outputs": [
        {
          "output_type": "stream",
          "name": "stdout",
          "text": [
            "1 \n",
            "1 2 \n",
            "1 2 3 \n",
            "1 2 3 4 \n",
            "1 2 3 4 5 \n"
          ]
        }
      ]
    },
    {
      "cell_type": "markdown",
      "source": [
        "## Q.100\n",
        "## 100. Write a python program to print below pattern.\n",
        "\n",
        "### A \n",
        "### B B \n",
        "### C C C \n",
        "### D D D D \n",
        "### E E E E E "
      ],
      "metadata": {
        "id": "AiGqf39kzMCq"
      }
    },
    {
      "cell_type": "code",
      "source": [
        "# A.100\n",
        "\n",
        "def alphapat(n):\n",
        "     \n",
        "    \n",
        "    num = 65\n",
        " \n",
        "    \n",
        "    for i in range(0, n):\n",
        "     \n",
        "        \n",
        "        for j in range(0, i+1):\n",
        "         \n",
        "           \n",
        "            ch = chr(num)\n",
        "         \n",
        "            \n",
        "            print(ch, end=\" \")\n",
        "     \n",
        "        \n",
        "        num = num + 1\n",
        "     \n",
        "        \n",
        "        print(\"\\r\")\n",
        " \n",
        "\n",
        "n = 5\n",
        "alphapat(n)"
      ],
      "metadata": {
        "colab": {
          "base_uri": "https://localhost:8080/"
        },
        "id": "THj1O-NNzW09",
        "outputId": "7d36e72e-7624-4278-b0ff-3f8748151adc"
      },
      "execution_count": 56,
      "outputs": [
        {
          "output_type": "stream",
          "name": "stdout",
          "text": [
            "A \r\n",
            "B B \r\n",
            "C C C \r\n",
            "D D D D \r\n",
            "E E E E E \r\n"
          ]
        }
      ]
    }
  ]
}