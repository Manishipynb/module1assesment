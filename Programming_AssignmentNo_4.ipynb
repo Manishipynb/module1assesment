{
  "nbformat": 4,
  "nbformat_minor": 0,
  "metadata": {
    "colab": {
      "provenance": [],
      "authorship_tag": "ABX9TyNpXXd1VIh3OMn2b9HE0m8/",
      "include_colab_link": true
    },
    "kernelspec": {
      "name": "python3",
      "display_name": "Python 3"
    },
    "language_info": {
      "name": "python"
    }
  },
  "cells": [
    {
      "cell_type": "markdown",
      "metadata": {
        "id": "view-in-github",
        "colab_type": "text"
      },
      "source": [
        "<a href=\"https://colab.research.google.com/github/Manishipynb/module1assesment/blob/main/Programming_AssignmentNo_4.ipynb\" target=\"_parent\"><img src=\"https://colab.research.google.com/assets/colab-badge.svg\" alt=\"Open In Colab\"/></a>"
      ]
    },
    {
      "cell_type": "code",
      "execution_count": 1,
      "metadata": {
        "colab": {
          "base_uri": "https://localhost:8080/"
        },
        "id": "RJ6ZxmCQ6vLU",
        "outputId": "36f6c616-73e2-46b6-dc72-bbe70389d7fa"
      },
      "outputs": [
        {
          "output_type": "stream",
          "name": "stdout",
          "text": [
            "Enter a number of Your Choice : 5\n",
            "The factorial of 5 is 120\n"
          ]
        }
      ],
      "source": [
        "# Q.1 Write a Python Program to Find the Factorial of a number.\n",
        "\n",
        "num = int(input(\"Enter a number of Your Choice : \"))\n",
        "\n",
        "factorial = 1\n",
        "\n",
        "if num < 0:\n",
        "   print(\"Sorry, Factorial does not exist for Negative Numbers\")\n",
        "elif num == 0:\n",
        "   print(\"The factorial of 0 is 1\")\n",
        "else:\n",
        "   for i in range(1,num + 1):\n",
        "       factorial = factorial*i\n",
        "   print(\"The factorial of\",num,\"is\",factorial)\n",
        "\n"
      ]
    },
    {
      "cell_type": "code",
      "source": [
        "# Q.2 Write a Python Program to Display the Multiplication Table.\n",
        "\n",
        "num = int(input(\"Display multiplication table of Number ? \"))\n",
        "\n",
        "for i in range(1, 11):\n",
        "   print(num, 'x', i, '=', num*i)\n"
      ],
      "metadata": {
        "colab": {
          "base_uri": "https://localhost:8080/"
        },
        "id": "4pN3AaNf8Lk8",
        "outputId": "3070faa2-9712-46ba-e0ca-81d5d5cb0f58"
      },
      "execution_count": 2,
      "outputs": [
        {
          "output_type": "stream",
          "name": "stdout",
          "text": [
            "Display multiplication table of Number ? 5\n",
            "5 x 1 = 5\n",
            "5 x 2 = 10\n",
            "5 x 3 = 15\n",
            "5 x 4 = 20\n",
            "5 x 5 = 25\n",
            "5 x 6 = 30\n",
            "5 x 7 = 35\n",
            "5 x 8 = 40\n",
            "5 x 9 = 45\n",
            "5 x 10 = 50\n"
          ]
        }
      ]
    },
    {
      "cell_type": "code",
      "source": [
        "# Q.3 Write a Python Program to Print the Fibonacci Sequence.\n",
        "\n",
        "nterms = int(input(\"How many terms? \"))\n",
        "\n",
        "n1, n2 = 0, 1\n",
        "count = 0\n",
        "\n",
        "if nterms <= 0:\n",
        "   print(\"Please enter a positive integer\")\n",
        "\n",
        "elif nterms == 1:\n",
        "   print(\"Fibonacci sequence upto\",nterms,\":\")\n",
        "   print(n1)\n",
        "\n",
        "else:\n",
        "   print(\"Fibonacci sequence:\")\n",
        "   while count < nterms:\n",
        "       print(n1)\n",
        "       nth = n1 + n2\n",
        "       \n",
        "       n1 = n2\n",
        "       n2 = nth\n",
        "       count += 1\n",
        "\n"
      ],
      "metadata": {
        "colab": {
          "base_uri": "https://localhost:8080/"
        },
        "id": "0qAXW_O78728",
        "outputId": "c6fd1e9e-5bc9-4571-df44-12c53573aaf1"
      },
      "execution_count": 3,
      "outputs": [
        {
          "output_type": "stream",
          "name": "stdout",
          "text": [
            "How many terms? 5\n",
            "Fibonacci sequence:\n",
            "0\n",
            "1\n",
            "1\n",
            "2\n",
            "3\n"
          ]
        }
      ]
    },
    {
      "cell_type": "code",
      "source": [
        "# Q.4 Write a Python Program to Check Armstrong Number ?\n",
        "\n",
        "# 3 Digit\n",
        "\n",
        "num = int(input(\"Enter a number of your choice in 3 digit : \"))\n",
        "\n",
        "sum = 0\n",
        "\n",
        "temp = num\n",
        "while temp > 0:\n",
        "   digit = temp % 10\n",
        "   sum += digit ** 3\n",
        "   temp //= 10\n",
        "\n",
        "if num == sum:\n",
        "   print(num,\"is an Armstrong number\")\n",
        "else:\n",
        "   print(num,\"is not an Armstrong number\")\n",
        "\n"
      ],
      "metadata": {
        "colab": {
          "base_uri": "https://localhost:8080/"
        },
        "id": "muVXwoRo9t_E",
        "outputId": "e77da237-abd9-4efb-9c89-163ae2854e6b"
      },
      "execution_count": 6,
      "outputs": [
        {
          "output_type": "stream",
          "name": "stdout",
          "text": [
            "Enter a number of your choice in 3 digit : 407\n",
            "407 is an Armstrong number\n"
          ]
        }
      ]
    },
    {
      "cell_type": "code",
      "source": [
        "# Q.5 Write a Python Program to Find Armstrong Number in Interval.\n",
        "\n",
        "\n",
        "lower = int(input(\"please enter lower number of your choice : \"))\n",
        "upper = int(input(\"please enter upper number of your choice : \"))\n",
        "\n",
        "for num in range(lower, upper + 1):\n",
        "\n",
        "   \n",
        "  order = len(str(num))\n",
        "    \n",
        "   \n",
        "  sum = 0\n",
        "\n",
        "  temp = num\n",
        "  while temp > 0:\n",
        "       digit = temp % 10\n",
        "       sum += digit ** order\n",
        "       temp //= 10\n",
        "\n",
        "  if num == sum:\n",
        "       print(num)\n",
        "\n"
      ],
      "metadata": {
        "colab": {
          "base_uri": "https://localhost:8080/"
        },
        "id": "wZF33OKB-0GV",
        "outputId": "7ead12ac-c78c-42d3-b9a6-b00e186d8271"
      },
      "execution_count": 8,
      "outputs": [
        {
          "output_type": "stream",
          "name": "stdout",
          "text": [
            "please enter lower number of your choice : 147\n",
            "please enter upper number of your choice : 894\n",
            "153\n",
            "370\n",
            "371\n",
            "407\n"
          ]
        }
      ]
    },
    {
      "cell_type": "code",
      "source": [
        "# Q.6 Write a Python Program to Find The Sum of Natural Numbers.\n",
        "\n",
        "num = int(input(\"Please Enter the Number of your Choice :\"))\n",
        "\n",
        "if num < 0:\n",
        "   print(\"Enter a positive number\")\n",
        "else:\n",
        "   sum = 0\n",
        "   \n",
        "   while(num > 0):\n",
        "       sum += num\n",
        "       num -= 1\n",
        "   print(\"The sum is\", sum)\n",
        "\n"
      ],
      "metadata": {
        "colab": {
          "base_uri": "https://localhost:8080/"
        },
        "id": "Jvgz-ocW_xgb",
        "outputId": "8b0f8bd7-c0be-4d32-f362-97ab71690019"
      },
      "execution_count": 9,
      "outputs": [
        {
          "output_type": "stream",
          "name": "stdout",
          "text": [
            "Please Enter the Number of your Choice :5\n",
            "The sum is 15\n"
          ]
        }
      ]
    }
  ]
}