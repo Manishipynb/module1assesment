{
  "nbformat": 4,
  "nbformat_minor": 0,
  "metadata": {
    "colab": {
      "provenance": [],
      "authorship_tag": "ABX9TyMTNp3CWmMg0NKEdS+wSgxX",
      "include_colab_link": true
    },
    "kernelspec": {
      "name": "python3",
      "display_name": "Python 3"
    },
    "language_info": {
      "name": "python"
    }
  },
  "cells": [
    {
      "cell_type": "markdown",
      "metadata": {
        "id": "view-in-github",
        "colab_type": "text"
      },
      "source": [
        "<a href=\"https://colab.research.google.com/github/Manishipynb/module1assesment/blob/main/PythonBasicAssignmentNo_8.ipynb\" target=\"_parent\"><img src=\"https://colab.research.google.com/assets/colab-badge.svg\" alt=\"Open In Colab\"/></a>"
      ]
    },
    {
      "cell_type": "markdown",
      "source": [
        "### Q.1\n",
        "### Is the Python Standard Library included with PyinputPlus ?"
      ],
      "metadata": {
        "id": "MSbnuW5gwZwL"
      }
    },
    {
      "cell_type": "markdown",
      "source": [
        "### A.1\n",
        "### PyInputPlus is not a part of the Python Standard Library, we must install it separately using Pip."
      ],
      "metadata": {
        "id": "nlCYXep0wjOD"
      }
    },
    {
      "cell_type": "markdown",
      "source": [
        "### Q.2\n",
        "### Why is PyInputPlus commonly imported with import pyinputplus as pypi?"
      ],
      "metadata": {
        "id": "nj2rnicLwxvT"
      }
    },
    {
      "cell_type": "markdown",
      "source": [
        "### A.2\n",
        "### We can import the module with import pyinputplus as pyip so that We can enter a shorter name when calling the module’s functions"
      ],
      "metadata": {
        "id": "kOZLfb3uxFap"
      }
    },
    {
      "cell_type": "markdown",
      "source": [
        "### Q.3\n",
        "### How do you distinguish between inputInt() and inputFloat()?"
      ],
      "metadata": {
        "id": "-bOxP6_WxQW5"
      }
    },
    {
      "cell_type": "markdown",
      "source": [
        "### A.3\n",
        "### The difference is in the data-type when you use the first one the program expects an integer value as input but in the latter it expects a float value i.e number containing a decimal"
      ],
      "metadata": {
        "id": "HYOULbIFxZsT"
      }
    },
    {
      "cell_type": "markdown",
      "source": [
        "### Q.4\n",
        "### Using PyInputPlus, how do you ensure that the user enters a whole number between 0 and 99?"
      ],
      "metadata": {
        "id": "9eJFwyMBxfZZ"
      }
    },
    {
      "cell_type": "markdown",
      "source": [
        "### A.4\n",
        "### By using pyip.inputint(min=0, max=99)"
      ],
      "metadata": {
        "id": "KE-_G69Nxmc5"
      }
    },
    {
      "cell_type": "markdown",
      "source": [
        "### Q.5\n",
        "### What is transferred to the keyword arguments allowRegexes and blockRegexes?"
      ],
      "metadata": {
        "id": "cypC902jxtZT"
      }
    },
    {
      "cell_type": "markdown",
      "source": [
        "### A.5\n",
        "### A list of regex strings that are either explicitly allowed or denied"
      ],
      "metadata": {
        "id": "VOyHBPXBx3uk"
      }
    },
    {
      "cell_type": "markdown",
      "source": [
        "### Q.6\n",
        "###  If a blank input is entered three times, what does inputStr(limit=3) do?"
      ],
      "metadata": {
        "id": "6XgeYWkSx8nR"
      }
    },
    {
      "cell_type": "markdown",
      "source": [
        "### A.6\n",
        "### The function will raise RetryLimitException."
      ],
      "metadata": {
        "id": "fHi89G2IyEpg"
      }
    },
    {
      "cell_type": "markdown",
      "source": [
        "### Q.7\n",
        "### If blank input is entered three times, what does inputStr(limit=3, default='hello') do?"
      ],
      "metadata": {
        "id": "4UT_FSzVyJ_x"
      }
    },
    {
      "cell_type": "markdown",
      "source": [
        "### A.7\n",
        "### The function returns the value 'hello'"
      ],
      "metadata": {
        "id": "idCRsmUwyQTF"
      }
    }
  ]
}