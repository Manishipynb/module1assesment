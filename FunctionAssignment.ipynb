{
  "nbformat": 4,
  "nbformat_minor": 0,
  "metadata": {
    "colab": {
      "provenance": [],
      "collapsed_sections": [],
      "authorship_tag": "ABX9TyNauOdL0P/zVNxuSxfydAU6",
      "include_colab_link": true
    },
    "kernelspec": {
      "name": "python3",
      "display_name": "Python 3"
    },
    "language_info": {
      "name": "python"
    }
  },
  "cells": [
    {
      "cell_type": "markdown",
      "metadata": {
        "id": "view-in-github",
        "colab_type": "text"
      },
      "source": [
        "<a href=\"https://colab.research.google.com/github/Manishipynb/module1assesment/blob/main/FunctionAssignment.ipynb\" target=\"_parent\"><img src=\"https://colab.research.google.com/assets/colab-badge.svg\" alt=\"Open In Colab\"/></a>"
      ]
    },
    {
      "cell_type": "markdown",
      "source": [
        "### Q.1\n",
        "### Write a Function which will try to find out len of a string without using an inbuilt len function."
      ],
      "metadata": {
        "id": "SuzPXEgaoehw"
      }
    },
    {
      "cell_type": "code",
      "source": [
        "### A.1\n",
        "\n",
        "\n",
        "def findLength(string):\n",
        "\n",
        " count = 0\n",
        "\n",
        " for i in string:\n",
        "        count = count + 1\n",
        " return count\n",
        " \n",
        " \n",
        "string = \"Ineuron\"\n",
        "print(findLength(string))"
      ],
      "metadata": {
        "colab": {
          "base_uri": "https://localhost:8080/"
        },
        "id": "n4yg8dD3oyj9",
        "outputId": "73287777-59c0-471e-a26f-d97b3a0fe35e"
      },
      "execution_count": null,
      "outputs": [
        {
          "output_type": "stream",
          "name": "stdout",
          "text": [
            "7\n"
          ]
        }
      ]
    },
    {
      "cell_type": "code",
      "source": [
        "### A.1 \n",
        "\n",
        "string = input(\"Enter string:\")\n",
        "count=0\n",
        "for i in string:\n",
        "      count=count+1\n",
        "print(\"Length of the string is:\")\n",
        "print(count)"
      ],
      "metadata": {
        "colab": {
          "base_uri": "https://localhost:8080/"
        },
        "id": "qr4hzsZ-sUEq",
        "outputId": "0356d988-13e5-459d-ca95-9a7b40aed4fc"
      },
      "execution_count": null,
      "outputs": [
        {
          "output_type": "stream",
          "name": "stdout",
          "text": [
            "Enter string:Ineuron\n",
            "Length of the string is:\n",
            "7\n"
          ]
        }
      ]
    },
    {
      "cell_type": "code",
      "source": [
        "# A.1\n",
        "\n",
        "def test(s):\n",
        "  count = 0\n",
        "  for i in s:\n",
        "    if type(i) == str:\n",
        "      count = count + 1\n",
        "  return count"
      ],
      "metadata": {
        "id": "WayH1mukV39m"
      },
      "execution_count": null,
      "outputs": []
    },
    {
      "cell_type": "code",
      "source": [
        "test(\"black\")"
      ],
      "metadata": {
        "colab": {
          "base_uri": "https://localhost:8080/"
        },
        "id": "3jjDWynYWHC2",
        "outputId": "159c879d-2299-47d0-aa77-80ba387c1bb7"
      },
      "execution_count": null,
      "outputs": [
        {
          "output_type": "execute_result",
          "data": {
            "text/plain": [
              "5"
            ]
          },
          "metadata": {},
          "execution_count": 2
        }
      ]
    },
    {
      "cell_type": "code",
      "source": [
        "test(\"white\")"
      ],
      "metadata": {
        "colab": {
          "base_uri": "https://localhost:8080/"
        },
        "id": "KOyjdHrOWL9y",
        "outputId": "544dac53-44bd-4876-f31b-eaf221a432a5"
      },
      "execution_count": null,
      "outputs": [
        {
          "output_type": "execute_result",
          "data": {
            "text/plain": [
              "5"
            ]
          },
          "metadata": {},
          "execution_count": 3
        }
      ]
    },
    {
      "cell_type": "markdown",
      "source": [
        "### Q.2 \n",
        "### Write a function which will be able to print an index of list element without using an index function."
      ],
      "metadata": {
        "id": "iimoJawbtSZP"
      }
    },
    {
      "cell_type": "code",
      "source": [
        "### A.2\n",
        "\n",
        "l = [1,2,3,4 , \"black\" , \"red\" , 45.78 ]\n",
        "\n"
      ],
      "metadata": {
        "id": "sHZoKNIWti7h"
      },
      "execution_count": null,
      "outputs": []
    },
    {
      "cell_type": "code",
      "source": [
        "def test(s):\n",
        "  count = 0\n",
        "  for i in s:\n",
        "   \n",
        "      count = count + 1\n",
        "  return count"
      ],
      "metadata": {
        "id": "As-kYqlLdDGW"
      },
      "execution_count": 13,
      "outputs": []
    },
    {
      "cell_type": "code",
      "source": [
        "def test1(li):\n",
        "  for i in range(0,test(li)):\n",
        "       print( i , li[i] )\n"
      ],
      "metadata": {
        "id": "A_m79-LwXSCO"
      },
      "execution_count": 14,
      "outputs": []
    },
    {
      "cell_type": "code",
      "source": [
        "test1(l)"
      ],
      "metadata": {
        "colab": {
          "base_uri": "https://localhost:8080/"
        },
        "id": "f9QOfaYHcJkH",
        "outputId": "8388a65a-0e6e-445e-d170-6893cb430eaa"
      },
      "execution_count": 12,
      "outputs": [
        {
          "output_type": "stream",
          "name": "stdout",
          "text": [
            "0 1\n",
            "1 2\n",
            "2 3\n",
            "3 4\n",
            "4 black\n",
            "5 red\n",
            "6 45.78\n"
          ]
        }
      ]
    },
    {
      "cell_type": "markdown",
      "source": [
        "### Q.3\n",
        "### write a function which will be able to print an ip address of your system"
      ],
      "metadata": {
        "id": "mzH-HnxAd2AT"
      }
    },
    {
      "cell_type": "code",
      "source": [
        "# A. 3\n",
        "\n",
        "import socket\n",
        "hostname = socket.gethostname()\n",
        "IPAddr = socket.gethostbyname(hostname)\n",
        " \n",
        "print(\"Your Computer Name is:\" + hostname)\n",
        "print(\"Your Computer IP Address is:\" + IPAddr)"
      ],
      "metadata": {
        "colab": {
          "base_uri": "https://localhost:8080/"
        },
        "id": "CKJ0QvA6d8cf",
        "outputId": "1d175618-e610-4c5b-fd59-5bfba2f34ff4"
      },
      "execution_count": 15,
      "outputs": [
        {
          "output_type": "stream",
          "name": "stdout",
          "text": [
            "Your Computer Name is:66da53620622\n",
            "Your Computer IP Address is:172.28.0.2\n"
          ]
        }
      ]
    },
    {
      "cell_type": "code",
      "source": [
        "import socket\n",
        "def test2():\n",
        " ip = socket.gethostbyname(socket.gethostname())\n",
        " return ip"
      ],
      "metadata": {
        "id": "ABtnyHVkfcPA"
      },
      "execution_count": 17,
      "outputs": []
    },
    {
      "cell_type": "code",
      "source": [
        "test2()"
      ],
      "metadata": {
        "colab": {
          "base_uri": "https://localhost:8080/",
          "height": 36
        },
        "id": "itj6bKC4gRNj",
        "outputId": "a97eb982-8b01-4ea9-f185-5fb22c4a43de"
      },
      "execution_count": 18,
      "outputs": [
        {
          "output_type": "execute_result",
          "data": {
            "text/plain": [
              "'172.28.0.2'"
            ],
            "application/vnd.google.colaboratory.intrinsic+json": {
              "type": "string"
            }
          },
          "metadata": {},
          "execution_count": 18
        }
      ]
    },
    {
      "cell_type": "markdown",
      "source": [
        "### Q.4\n",
        "### write a function which will shutdown your system"
      ],
      "metadata": {
        "id": "UYeNkrLUgtKG"
      }
    },
    {
      "cell_type": "code",
      "source": [
        "# A.4\n",
        "import os\n",
        "os.system()\n",
        "\n",
        "# /s = shutdown\n",
        "# /r = restart\n",
        "# /t 1 = timer"
      ],
      "metadata": {
        "id": "sj_ff3UWhC_f"
      },
      "execution_count": null,
      "outputs": []
    },
    {
      "cell_type": "markdown",
      "source": [
        "### Q.5\n",
        "### write a function which will take input as a list with any kind of numeric value and give an out as a multiplication of \n",
        "### all the numeric data l = [3.5, 6.56, 4,5,\"sudh\" , \"ineuron\" , 'fsda bootcamp 2.0']"
      ],
      "metadata": {
        "id": "Xe6F0YsJsXhD"
      }
    },
    {
      "cell_type": "code",
      "source": [
        "# A.5\n",
        "l = [3.5, 6.56, 4,5,\"sudh\" , \"ineuron\" , 'fsda bootcamp 2.0']\n",
        "def test3(l):\n",
        " mul = 1\n",
        " for i in l:\n",
        "  if type(i) == int or type(i) == float:\n",
        "    mul = mul * i\n",
        " return mul "
      ],
      "metadata": {
        "id": "FE5gOOKIshWi"
      },
      "execution_count": 31,
      "outputs": []
    },
    {
      "cell_type": "code",
      "source": [
        "test3(l)"
      ],
      "metadata": {
        "colab": {
          "base_uri": "https://localhost:8080/"
        },
        "id": "KvADIorpt2l1",
        "outputId": "0fb23264-86cb-4eec-b8e8-e7498c5fa9c5"
      },
      "execution_count": 32,
      "outputs": [
        {
          "output_type": "execute_result",
          "data": {
            "text/plain": [
              "459.19999999999993"
            ]
          },
          "metadata": {},
          "execution_count": 32
        }
      ]
    },
    {
      "cell_type": "markdown",
      "source": [
        "### Q.6\n",
        "### write a function which will be able to read all the mails "
      ],
      "metadata": {
        "id": "skWxPE3OuIia"
      }
    },
    {
      "cell_type": "code",
      "source": [
        "# A.6\n",
        "\n",
        "import smtplib\n",
        "import time\n",
        "import imaplib\n",
        "import email\n",
        "ORG_EMAIL = \"@gmail.com\" \n",
        "FROM_EMAIL = 'mpatel2456@gmail.com'\n",
        "FROM_PWD = 'siqnlhqlaucbf'\n",
        "SMTP_SERVER = \"imap.gmail.com\" \n",
        "SMTP_PORT = 993\n",
        "imaplib._MAXLINE = 400000000\n",
        "\n",
        "def read_email_from_gmail():\n",
        "    try:\n",
        "        mail = imaplib.IMAP4_SSL(SMTP_SERVER)\n",
        "        mail.login(FROM_EMAIL,FROM_PWD)\n",
        "        mail.select('inbox')\n",
        "\n",
        "        data = mail.search(None, 'ALL')\n",
        "        mail_ids = data[1]\n",
        "        id_list = mail_ids[0].split()   \n",
        "        first_email_id = int(id_list[0])\n",
        "        latest_email_id = int(id_list[-1])\n",
        "\n",
        "        for i in range(latest_email_id,first_email_id, -1):\n",
        "            data = mail.fetch(str(i), '(RFC822)' )\n",
        "            for response_part in data:\n",
        "                arr = response_part[0]\n",
        "                if isinstance(arr, tuple):\n",
        "                    msg = email.message_from_string(str(arr[1],'utf-8'))\n",
        "                    email_subject = msg['subject']\n",
        "                    email_from = msg['from']\n",
        "                    print('From : ' + email_from + '\\n')\n",
        "                    print('Subject : ' + email_subject + '\\n')\n",
        "\n",
        "    except Exception as e:\n",
        "        traceback.print_exc() \n",
        "        print(str(e))\n",
        "\n",
        "read_email_from_gmail()\n"
      ],
      "metadata": {
        "id": "YcuIeozLuN6y"
      },
      "execution_count": null,
      "outputs": []
    },
    {
      "cell_type": "markdown",
      "source": [
        "### Q.7\n",
        "### write a function which will be able to send a mail to anyone "
      ],
      "metadata": {
        "id": "cgVeQpTfurKL"
      }
    },
    {
      "cell_type": "code",
      "source": [
        "# A.7\n",
        "import smtplib , ssl\n",
        "port = 465  # For SSL\n",
        "smtp_server = \"smtp.gmail.com\"\n",
        "sender_email = \"mpatel2456@gmail.com\"  # Enter your address\n",
        "receiver_email = \"harshpotter301010@gmail.com\"  # Enter receiver address\n",
        "\n",
        "password = 'siqnlhqlau'\n",
        "message = \"\"\"this is my message from python code \"\"\"\n",
        "\n",
        "context = ssl.create_default_context()\n",
        "with smtplib.SMTP_SSL(smtp_server, port, context=context) as server:\n",
        "    server.login(sender_email, password)\n",
        "    server.sendmail(sender_email, receiver_email, message)"
      ],
      "metadata": {
        "id": "JHt46Sxguw5Y"
      },
      "execution_count": 34,
      "outputs": []
    },
    {
      "cell_type": "markdown",
      "source": [
        "### Q. 8 \n",
        "### write a function which will be able to read a doc/word file from your system "
      ],
      "metadata": {
        "id": "H6adgdulJM6L"
      }
    },
    {
      "cell_type": "code",
      "source": [
        "pip install docx2txt"
      ],
      "metadata": {
        "colab": {
          "base_uri": "https://localhost:8080/"
        },
        "id": "ek1p4SzNWQaO",
        "outputId": "d83d678d-7abd-4ea6-b9b0-0b26efe42eb4"
      },
      "execution_count": 41,
      "outputs": [
        {
          "output_type": "stream",
          "name": "stdout",
          "text": [
            "Looking in indexes: https://pypi.org/simple, https://us-python.pkg.dev/colab-wheels/public/simple/\n",
            "Requirement already satisfied: docx2txt in /usr/local/lib/python3.7/dist-packages (0.8)\n"
          ]
        }
      ]
    },
    {
      "cell_type": "code",
      "source": [
        "import docx2txt\n",
        "a = docx2txt.process('python.docx')\n",
        "print(a)\n"
      ],
      "metadata": {
        "colab": {
          "base_uri": "https://localhost:8080/"
        },
        "id": "GzJbylhrUejA",
        "outputId": "fbd4a730-6cdb-4903-b71c-6e608d96d541"
      },
      "execution_count": 43,
      "outputs": [
        {
          "output_type": "stream",
          "name": "stdout",
          "text": [
            "Hi this is python function test word file.\n"
          ]
        }
      ]
    }
  ]
}