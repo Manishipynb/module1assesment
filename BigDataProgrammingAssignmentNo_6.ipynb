{
  "nbformat": 4,
  "nbformat_minor": 0,
  "metadata": {
    "colab": {
      "provenance": [],
      "authorship_tag": "ABX9TyNTFtTvdwbr/01l9Ctocowf",
      "include_colab_link": true
    },
    "kernelspec": {
      "name": "python3",
      "display_name": "Python 3"
    },
    "language_info": {
      "name": "python"
    }
  },
  "cells": [
    {
      "cell_type": "markdown",
      "metadata": {
        "id": "view-in-github",
        "colab_type": "text"
      },
      "source": [
        "<a href=\"https://colab.research.google.com/github/Manishipynb/module1assesment/blob/main/BigDataProgrammingAssignmentNo_6.ipynb\" target=\"_parent\"><img src=\"https://colab.research.google.com/assets/colab-badge.svg\" alt=\"Open In Colab\"/></a>"
      ]
    },
    {
      "cell_type": "markdown",
      "source": [
        "## Q 1. Write a Python Program to Display Fibonacci Sequence Using Recursion?"
      ],
      "metadata": {
        "id": "IRl6v1c9Y_gX"
      }
    },
    {
      "cell_type": "code",
      "source": [
        "def fibo(a,b,c):\n",
        "    if c > 0:\n",
        "        c -= 1\n",
        "        print(a, end=' ')\n",
        "        temp = b\n",
        "        b = a + b\n",
        "        a = temp\n",
        "        fibo(a,b,c)"
      ],
      "metadata": {
        "id": "eLlY5N_TZDbg"
      },
      "execution_count": 1,
      "outputs": []
    },
    {
      "cell_type": "code",
      "source": [
        "fibo(0,5,13)"
      ],
      "metadata": {
        "colab": {
          "base_uri": "https://localhost:8080/"
        },
        "id": "elr9OfORZIpQ",
        "outputId": "c3ec5354-2b12-4a79-a821-bf2807163fd4"
      },
      "execution_count": 4,
      "outputs": [
        {
          "output_type": "stream",
          "name": "stdout",
          "text": [
            "0 5 5 10 15 25 40 65 105 170 275 445 720 "
          ]
        }
      ]
    },
    {
      "cell_type": "markdown",
      "source": [
        "## Q 2. Write a Python Program to Find Factorial of Number Using Recursion?"
      ],
      "metadata": {
        "id": "VZQwv9CeZOx0"
      }
    },
    {
      "cell_type": "code",
      "source": [
        "def fact(n):\n",
        "    if n == 0:\n",
        "        return 1\n",
        "    else:\n",
        "        return n*fact(n-1)"
      ],
      "metadata": {
        "id": "OfZqWH94ZS-0"
      },
      "execution_count": 6,
      "outputs": []
    },
    {
      "cell_type": "code",
      "source": [
        "fact(10)"
      ],
      "metadata": {
        "colab": {
          "base_uri": "https://localhost:8080/"
        },
        "id": "ygm7k4I8ZW3p",
        "outputId": "79907604-9d75-4575-e592-e90eaba20340"
      },
      "execution_count": 7,
      "outputs": [
        {
          "output_type": "execute_result",
          "data": {
            "text/plain": [
              "3628800"
            ]
          },
          "metadata": {},
          "execution_count": 7
        }
      ]
    },
    {
      "cell_type": "markdown",
      "source": [
        "##Q  3. Write a Python Program to calculate your Body Mass Index?"
      ],
      "metadata": {
        "id": "1o8sKUUMZaGq"
      }
    },
    {
      "cell_type": "code",
      "source": [
        "def bmi(height, weight):\n",
        "    \n",
        "    return weight/(height*height)"
      ],
      "metadata": {
        "id": "ZIpOUqRKZeqg"
      },
      "execution_count": 8,
      "outputs": []
    },
    {
      "cell_type": "code",
      "source": [
        "bmi(1.82, 77)"
      ],
      "metadata": {
        "colab": {
          "base_uri": "https://localhost:8080/"
        },
        "id": "awjMOdVbZi68",
        "outputId": "2b01268d-aa28-4c62-ac23-c9f2c5950167"
      },
      "execution_count": 9,
      "outputs": [
        {
          "output_type": "execute_result",
          "data": {
            "text/plain": [
              "23.24598478444632"
            ]
          },
          "metadata": {},
          "execution_count": 9
        }
      ]
    },
    {
      "cell_type": "markdown",
      "source": [
        "## Q  4. Write a Python Program to calculate the natural logarithm of any number?"
      ],
      "metadata": {
        "id": "Z7rzpKf6ZnwY"
      }
    },
    {
      "cell_type": "code",
      "source": [
        "import math\n",
        "\n",
        "try:\n",
        "    num = int(input(\"Enter the number: \"))\n",
        "except Exception as e:\n",
        "    print(e)\n",
        "else:\n",
        "    print(math.log(num))"
      ],
      "metadata": {
        "colab": {
          "base_uri": "https://localhost:8080/"
        },
        "id": "o2zGtq-VZsxH",
        "outputId": "29bb2627-c854-4b75-f287-e79810c024c5"
      },
      "execution_count": 10,
      "outputs": [
        {
          "output_type": "stream",
          "name": "stdout",
          "text": [
            "Enter the number: 22\n",
            "3.091042453358316\n"
          ]
        }
      ]
    },
    {
      "cell_type": "markdown",
      "source": [
        "## Q  5. Write a Python Program for cube sum of first n natural numbers?"
      ],
      "metadata": {
        "id": "X0BwHl35cHtD"
      }
    },
    {
      "cell_type": "code",
      "source": [
        "def cubN(n):\n",
        "    return sum(range(n+1))**3"
      ],
      "metadata": {
        "id": "R9PwpqcTcKpp"
      },
      "execution_count": 11,
      "outputs": []
    },
    {
      "cell_type": "code",
      "source": [
        "cubN(7)"
      ],
      "metadata": {
        "colab": {
          "base_uri": "https://localhost:8080/"
        },
        "id": "5cpxFrB4cP2S",
        "outputId": "b67781ad-6497-493e-ca01-b61871a076a2"
      },
      "execution_count": 12,
      "outputs": [
        {
          "output_type": "execute_result",
          "data": {
            "text/plain": [
              "21952"
            ]
          },
          "metadata": {},
          "execution_count": 12
        }
      ]
    }
  ]
}