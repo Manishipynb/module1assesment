{
  "nbformat": 4,
  "nbformat_minor": 0,
  "metadata": {
    "colab": {
      "provenance": [],
      "authorship_tag": "ABX9TyNTy5iHTQNihmICxseGYzIO",
      "include_colab_link": true
    },
    "kernelspec": {
      "name": "python3",
      "display_name": "Python 3"
    },
    "language_info": {
      "name": "python"
    }
  },
  "cells": [
    {
      "cell_type": "markdown",
      "metadata": {
        "id": "view-in-github",
        "colab_type": "text"
      },
      "source": [
        "<a href=\"https://colab.research.google.com/github/Manishipynb/module1assesment/blob/main/PythonBasicAssignmentNo_11.ipynb\" target=\"_parent\"><img src=\"https://colab.research.google.com/assets/colab-badge.svg\" alt=\"Open In Colab\"/></a>"
      ]
    },
    {
      "cell_type": "markdown",
      "source": [
        "### Q.1 Create an assert statement that throws as AssertionError if the variable spam is a negative integer."
      ],
      "metadata": {
        "id": "p4wQg96BBgpE"
      }
    },
    {
      "cell_type": "code",
      "source": [
        "# A.1\n",
        "\n",
        "x = 0\n",
        "assert x > 0, 'Only positive numbers are allowed'\n",
        "print('x is a positive number.')"
      ],
      "metadata": {
        "colab": {
          "base_uri": "https://localhost:8080/",
          "height": 217
        },
        "id": "A3E7_XqhBvlc",
        "outputId": "596d3ab6-5944-496c-9722-8cf9a75b90f2"
      },
      "execution_count": 1,
      "outputs": [
        {
          "output_type": "error",
          "ename": "AssertionError",
          "evalue": "ignored",
          "traceback": [
            "\u001b[0;31m---------------------------------------------------------------------------\u001b[0m",
            "\u001b[0;31mAssertionError\u001b[0m                            Traceback (most recent call last)",
            "\u001b[0;32m<ipython-input-1-955de4189905>\u001b[0m in \u001b[0;36m<module>\u001b[0;34m\u001b[0m\n\u001b[1;32m      2\u001b[0m \u001b[0;34m\u001b[0m\u001b[0m\n\u001b[1;32m      3\u001b[0m \u001b[0mx\u001b[0m \u001b[0;34m=\u001b[0m \u001b[0;36m0\u001b[0m\u001b[0;34m\u001b[0m\u001b[0;34m\u001b[0m\u001b[0m\n\u001b[0;32m----> 4\u001b[0;31m \u001b[0;32massert\u001b[0m \u001b[0mx\u001b[0m \u001b[0;34m>\u001b[0m \u001b[0;36m0\u001b[0m\u001b[0;34m,\u001b[0m \u001b[0;34m'Only positive numbers are allowed'\u001b[0m\u001b[0;34m\u001b[0m\u001b[0;34m\u001b[0m\u001b[0m\n\u001b[0m\u001b[1;32m      5\u001b[0m \u001b[0mprint\u001b[0m\u001b[0;34m(\u001b[0m\u001b[0;34m'x is a positive number.'\u001b[0m\u001b[0;34m)\u001b[0m\u001b[0;34m\u001b[0m\u001b[0;34m\u001b[0m\u001b[0m\n",
            "\u001b[0;31mAssertionError\u001b[0m: Only positive numbers are allowed"
          ]
        }
      ]
    },
    {
      "cell_type": "markdown",
      "source": [
        "### Q.2 Write an assert statement that triggers an AssertionError if the variables eggs and bacon contain strings that are the same as each other, even if their cases are different (that is, 'hello' and 'hello' are considered the same, and 'goodbye' and 'GOODbye' are also considered the same)."
      ],
      "metadata": {
        "id": "7qTxA6wTChdE"
      }
    },
    {
      "cell_type": "code",
      "source": [
        "# A.2\n",
        "assert eggs.lower() != bacon.lower() # 'The eggs and bacon variables are the same!'  \n",
        "assert eggs.upper() != bacon.upper() #'The eggs and bacon variables are the same!'\n"
      ],
      "metadata": {
        "colab": {
          "base_uri": "https://localhost:8080/",
          "height": 200
        },
        "id": "EQv_Y_qeCyDI",
        "outputId": "495a3f4a-f5c4-4291-fdc0-a619ba299034"
      },
      "execution_count": 6,
      "outputs": [
        {
          "output_type": "error",
          "ename": "AssertionError",
          "evalue": "ignored",
          "traceback": [
            "\u001b[0;31m---------------------------------------------------------------------------\u001b[0m",
            "\u001b[0;31mAssertionError\u001b[0m                            Traceback (most recent call last)",
            "\u001b[0;32m<ipython-input-6-0a5db2971c59>\u001b[0m in \u001b[0;36m<module>\u001b[0;34m\u001b[0m\n\u001b[1;32m      1\u001b[0m \u001b[0;31m# A.2\u001b[0m\u001b[0;34m\u001b[0m\u001b[0;34m\u001b[0m\u001b[0;34m\u001b[0m\u001b[0m\n\u001b[0;32m----> 2\u001b[0;31m \u001b[0;32massert\u001b[0m \u001b[0meggs\u001b[0m\u001b[0;34m.\u001b[0m\u001b[0mlower\u001b[0m\u001b[0;34m(\u001b[0m\u001b[0;34m)\u001b[0m \u001b[0;34m!=\u001b[0m \u001b[0mbacon\u001b[0m\u001b[0;34m.\u001b[0m\u001b[0mlower\u001b[0m\u001b[0;34m(\u001b[0m\u001b[0;34m)\u001b[0m \u001b[0;31m# 'The eggs and bacon variables are the same!'\u001b[0m\u001b[0;34m\u001b[0m\u001b[0;34m\u001b[0m\u001b[0m\n\u001b[0m\u001b[1;32m      3\u001b[0m \u001b[0;32massert\u001b[0m \u001b[0meggs\u001b[0m\u001b[0;34m.\u001b[0m\u001b[0mupper\u001b[0m\u001b[0;34m(\u001b[0m\u001b[0;34m)\u001b[0m \u001b[0;34m!=\u001b[0m \u001b[0mbacon\u001b[0m\u001b[0;34m.\u001b[0m\u001b[0mupper\u001b[0m\u001b[0;34m(\u001b[0m\u001b[0;34m)\u001b[0m \u001b[0;31m#'The eggs and bacon variables are the same!'\u001b[0m\u001b[0;34m\u001b[0m\u001b[0;34m\u001b[0m\u001b[0m\n",
            "\u001b[0;31mAssertionError\u001b[0m: "
          ]
        }
      ]
    },
    {
      "cell_type": "markdown",
      "source": [
        "### Q.3 Create an assert statement that throws an   AssertionError every time."
      ],
      "metadata": {
        "id": "cj-hmq51EpyD"
      }
    },
    {
      "cell_type": "code",
      "source": [
        "# A.3\n",
        "assert False, 'This assertion always triggers.'"
      ],
      "metadata": {
        "colab": {
          "base_uri": "https://localhost:8080/",
          "height": 182
        },
        "id": "76ZO6AGbFCNA",
        "outputId": "3b07e6da-6b20-4155-c53a-39ccfa62d1fe"
      },
      "execution_count": 7,
      "outputs": [
        {
          "output_type": "error",
          "ename": "AssertionError",
          "evalue": "ignored",
          "traceback": [
            "\u001b[0;31m---------------------------------------------------------------------------\u001b[0m",
            "\u001b[0;31mAssertionError\u001b[0m                            Traceback (most recent call last)",
            "\u001b[0;32m<ipython-input-7-8f18c2f929f6>\u001b[0m in \u001b[0;36m<module>\u001b[0;34m\u001b[0m\n\u001b[1;32m      1\u001b[0m \u001b[0;31m# A.3\u001b[0m\u001b[0;34m\u001b[0m\u001b[0;34m\u001b[0m\u001b[0;34m\u001b[0m\u001b[0m\n\u001b[0;32m----> 2\u001b[0;31m \u001b[0;32massert\u001b[0m \u001b[0;32mFalse\u001b[0m\u001b[0;34m,\u001b[0m \u001b[0;34m'This assertion always triggers.'\u001b[0m\u001b[0;34m\u001b[0m\u001b[0;34m\u001b[0m\u001b[0m\n\u001b[0m",
            "\u001b[0;31mAssertionError\u001b[0m: This assertion always triggers."
          ]
        }
      ]
    },
    {
      "cell_type": "markdown",
      "source": [
        "### Q. 4 What are the two lines that your program must have in order to have  logging.debug()?"
      ],
      "metadata": {
        "id": "15JGpBaBFS-k"
      }
    },
    {
      "cell_type": "code",
      "source": [
        "# A.4 \n",
        "\n",
        "import logging\n",
        "logging.basicConfig(level=logging.DEBUG, format=' %(asctime)s - %(levelname)s - %(message)s')"
      ],
      "metadata": {
        "id": "obGsQ_KSFdD8"
      },
      "execution_count": 10,
      "outputs": []
    },
    {
      "cell_type": "markdown",
      "source": [
        "### Q.5 What are the two lines that your program must have in order to have logging.debug() send a logging message to a file named programLog.txt?"
      ],
      "metadata": {
        "id": "qbQcZZpgFwa5"
      }
    },
    {
      "cell_type": "code",
      "source": [
        "# A.5\n",
        "\n",
        "import logging\n",
        "\n",
        "logging.basicConfig(filename='programLog.txt', level=logging.DEBUG,\n",
        "\n",
        "format=' %(asctime)s - %(levelname)s - %(message)s')"
      ],
      "metadata": {
        "id": "9OHib1ECF-_N"
      },
      "execution_count": 11,
      "outputs": []
    },
    {
      "cell_type": "markdown",
      "source": [
        "### Q.6\n",
        "\n",
        "What are the five levels of logging ?"
      ],
      "metadata": {
        "id": "B1UkmCHcGFp-"
      }
    },
    {
      "cell_type": "markdown",
      "source": [
        "### A. 6 \n",
        "\n",
        "### DEBUG, INFO, WARNING, ERROR, and CRITICAL"
      ],
      "metadata": {
        "id": "rIHcgZpPGQ4c"
      }
    },
    {
      "cell_type": "markdown",
      "source": [
        "### Q.7 What line of code would you add to your software to disable all logging messages ?"
      ],
      "metadata": {
        "id": "cE59nKmWGWTB"
      }
    },
    {
      "cell_type": "code",
      "source": [
        "# A.7\n",
        "\n",
        "logging.disable(logging.CRITICAL)"
      ],
      "metadata": {
        "id": "ViCQjGLGIg0y"
      },
      "execution_count": 12,
      "outputs": []
    },
    {
      "cell_type": "markdown",
      "source": [
        "### Q.8 Why is using logging messages better than using print() to display the same message?"
      ],
      "metadata": {
        "id": "NTrO3dFdInZ2"
      }
    },
    {
      "cell_type": "markdown",
      "source": [
        "### A. 8\n",
        "### You can disable logging messages without removing the logging function calls. You can selectively disable lower-level logging messages. You can create logging messages. Logging messages provides a timestamp."
      ],
      "metadata": {
        "id": "lGy69DQGIvR-"
      }
    },
    {
      "cell_type": "markdown",
      "source": [
        "### Q.9 What are the differences between the Step Over, Step in and Step Out buttons in the Debugger ? "
      ],
      "metadata": {
        "id": "IJXg6GcdK0VS"
      }
    },
    {
      "cell_type": "markdown",
      "source": [
        "### A.9 \n",
        "### The Step button will move the debugger into a function call. \n",
        "### The Over button will quickly execute the function call without stepping into it. \n",
        "### The Out button will quickly execute the rest of the code until it steps out of the function it currently is in."
      ],
      "metadata": {
        "id": "96EswSpZLOhn"
      }
    },
    {
      "cell_type": "markdown",
      "source": [
        "### Q.10 After you click Continue , when will the debugger stop ?\n"
      ],
      "metadata": {
        "id": "r3jLvm5eLaPR"
      }
    },
    {
      "cell_type": "markdown",
      "source": [
        "### A.10\n",
        "### Continue execution, only stop when a breakpoint is encountered."
      ],
      "metadata": {
        "id": "r5b78ILxLuBj"
      }
    },
    {
      "cell_type": "markdown",
      "source": [
        "### Q.11 What is the concept of a breakpoint ?"
      ],
      "metadata": {
        "id": "NOn5hS3SMD_K"
      }
    },
    {
      "cell_type": "markdown",
      "source": [
        "### A.11\n",
        "### In software development, a breakpoint is an intentional stopping or pausing place in a program, put in place for debugging purposes. It is also sometimes simply referred to as a pause."
      ],
      "metadata": {
        "id": "NSL8xjgAMMcJ"
      }
    }
  ]
}