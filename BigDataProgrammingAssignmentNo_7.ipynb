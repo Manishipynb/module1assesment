{
  "nbformat": 4,
  "nbformat_minor": 0,
  "metadata": {
    "colab": {
      "provenance": [],
      "authorship_tag": "ABX9TyMLijVWjZ8xuW4LZYfZjZb5",
      "include_colab_link": true
    },
    "kernelspec": {
      "name": "python3",
      "display_name": "Python 3"
    },
    "language_info": {
      "name": "python"
    }
  },
  "cells": [
    {
      "cell_type": "markdown",
      "metadata": {
        "id": "view-in-github",
        "colab_type": "text"
      },
      "source": [
        "<a href=\"https://colab.research.google.com/github/Manishipynb/module1assesment/blob/main/BigDataProgrammingAssignmentNo_7.ipynb\" target=\"_parent\"><img src=\"https://colab.research.google.com/assets/colab-badge.svg\" alt=\"Open In Colab\"/></a>"
      ]
    },
    {
      "cell_type": "markdown",
      "source": [
        "## Q.1\n",
        "## Write a Python Program to find sum of array?"
      ],
      "metadata": {
        "id": "8o3OJy_Mhzw8"
      }
    },
    {
      "cell_type": "code",
      "source": [
        "# A.1\n",
        "\n",
        "def _sum(arr):\n",
        "    sum = 0\n",
        "    for i in arr:\n",
        "        sum = sum + i\n",
        " \n",
        "    return(sum)\n",
        " \n",
        "arr = []\n",
        "\n",
        "arr = [121, 31, 45, 158]\n",
        " \n",
        "n = len(arr)\n",
        " \n",
        "ans = _sum(arr)\n",
        " \n",
        "print('Sum of the array is ', ans)"
      ],
      "metadata": {
        "colab": {
          "base_uri": "https://localhost:8080/"
        },
        "id": "Ng21Hyk7h5dD",
        "outputId": "c14b65f3-fe19-4a1d-e6bf-7b05564ad709"
      },
      "execution_count": 2,
      "outputs": [
        {
          "output_type": "stream",
          "name": "stdout",
          "text": [
            "Sum of the array is  355\n"
          ]
        }
      ]
    },
    {
      "cell_type": "code",
      "source": [
        "l = [12,72,53,-412, -123, 8369, -111]\n",
        "\n",
        "arraySum = 0\n",
        "for i in l:\n",
        "    arraySum += i\n",
        "    \n",
        "print(\"Sum of array: \", arraySum)"
      ],
      "metadata": {
        "colab": {
          "base_uri": "https://localhost:8080/"
        },
        "id": "EhfrZMh6iiv7",
        "outputId": "0d8d4c75-0d16-44d0-a44b-34e8e5d226b4"
      },
      "execution_count": 3,
      "outputs": [
        {
          "output_type": "stream",
          "name": "stdout",
          "text": [
            "Sum of array:  7860\n"
          ]
        }
      ]
    },
    {
      "cell_type": "markdown",
      "source": [
        "## Q.2\n",
        "## Write a Python Program to find largest element in an array?"
      ],
      "metadata": {
        "id": "uLxoKuHTiaLM"
      }
    },
    {
      "cell_type": "code",
      "source": [
        "# A.2\n",
        "\n",
        "def largest(arr, n):\n",
        "    max = arr[0]\n",
        "    for i in range(1, n):\n",
        "        if arr[i] > max:\n",
        "            max = arr[i]\n",
        "    return max\n",
        " \n",
        "arr = [100, 324, 45, 90, 980]\n",
        "n = len(arr)\n",
        "Ans = largest(arr, n)\n",
        "print(\"Largest in given array \", Ans)"
      ],
      "metadata": {
        "colab": {
          "base_uri": "https://localhost:8080/"
        },
        "id": "rAl5XocFivtC",
        "outputId": "6784e076-6f74-4315-d282-8814cbeee849"
      },
      "execution_count": 4,
      "outputs": [
        {
          "output_type": "stream",
          "name": "stdout",
          "text": [
            "Largest in given array  980\n"
          ]
        }
      ]
    },
    {
      "cell_type": "code",
      "source": [
        "l = [1,2,3,-412, 123, 369, 111]\n",
        "\n",
        "arrayMax = -9999999999999\n",
        "\n",
        "for i in l:\n",
        "    if i > arrayMax:\n",
        "        arrayMax = i\n",
        "\n",
        "arrayMax"
      ],
      "metadata": {
        "colab": {
          "base_uri": "https://localhost:8080/"
        },
        "id": "bf8toxOjjXLj",
        "outputId": "029f34fe-dfcc-43cf-b33d-4788cbc3684f"
      },
      "execution_count": 5,
      "outputs": [
        {
          "output_type": "execute_result",
          "data": {
            "text/plain": [
              "369"
            ]
          },
          "metadata": {},
          "execution_count": 5
        }
      ]
    },
    {
      "cell_type": "markdown",
      "source": [
        "## Q.3\n",
        "## Write a Python Program for array rotation?"
      ],
      "metadata": {
        "id": "k0KBXCMUjc5M"
      }
    },
    {
      "cell_type": "code",
      "source": [
        "# A.3\n",
        "\n",
        "l = [1,2,3,-412, 123, 369, 111]\n",
        "\n",
        "print(\"Rotated array:\")\n",
        "print(l[::-1])"
      ],
      "metadata": {
        "colab": {
          "base_uri": "https://localhost:8080/"
        },
        "id": "k2aYljNVjiZ6",
        "outputId": "7e110b57-0a84-4cd1-a303-46313bb352d9"
      },
      "execution_count": 6,
      "outputs": [
        {
          "output_type": "stream",
          "name": "stdout",
          "text": [
            "Rotated array:\n",
            "[111, 369, 123, -412, 3, 2, 1]\n"
          ]
        }
      ]
    },
    {
      "cell_type": "markdown",
      "source": [
        "## Q.4\n",
        "## Write a Python Program to Split the array and add the first part to the end?"
      ],
      "metadata": {
        "id": "Uijl9S8rju5i"
      }
    },
    {
      "cell_type": "code",
      "source": [
        "# A.4\n",
        "\n",
        "def splitAdd(l, split):\n",
        "    '''\n",
        "    l = list\n",
        "    split = splitIndex\n",
        "    '''\n",
        "    out = []\n",
        "    for i in range(len(l)):\n",
        "        index = (i+len(l)+split)%len(l)\n",
        "        out.append(l[index])\n",
        "        \n",
        "    return out"
      ],
      "metadata": {
        "id": "K_asOEJDj0TT"
      },
      "execution_count": 7,
      "outputs": []
    },
    {
      "cell_type": "code",
      "source": [
        "l = [1,2,3,4,5,6,7,8,9,10]\n",
        "splitIndex = 2\n",
        "splitAdd(l, splitIndex)"
      ],
      "metadata": {
        "colab": {
          "base_uri": "https://localhost:8080/"
        },
        "id": "hM34l6hZkPvS",
        "outputId": "1019c2ff-09c6-48a9-a2a0-066c2575f124"
      },
      "execution_count": 8,
      "outputs": [
        {
          "output_type": "execute_result",
          "data": {
            "text/plain": [
              "[3, 4, 5, 6, 7, 8, 9, 10, 1, 2]"
            ]
          },
          "metadata": {},
          "execution_count": 8
        }
      ]
    },
    {
      "cell_type": "code",
      "source": [
        "def splitArr(arr, n, k): \n",
        "    for i in range(0, k): \n",
        "        x = arr[0]\n",
        "        for j in range(0, n-1):\n",
        "            arr[j] = arr[j + 1]\n",
        "          \n",
        "        arr[n-1] = x\n",
        "          \n",
        "arr = [1,2,3,4,5,6,7,8,9,10]\n",
        "n = len(arr)\n",
        "position = 2\n",
        "  \n",
        "splitArr(arr, n, position)\n",
        "  \n",
        "for i in range(0, n): \n",
        "    print(arr[i], end = ' ')"
      ],
      "metadata": {
        "colab": {
          "base_uri": "https://localhost:8080/"
        },
        "id": "meufABlekVMk",
        "outputId": "9431bbd5-09ec-45bd-b013-d47d0f972178"
      },
      "execution_count": 9,
      "outputs": [
        {
          "output_type": "stream",
          "name": "stdout",
          "text": [
            "3 4 5 6 7 8 9 10 1 2 "
          ]
        }
      ]
    },
    {
      "cell_type": "markdown",
      "source": [
        "## Q.5\n",
        "## Write a Python Program to check if given array is Monotonic?"
      ],
      "metadata": {
        "id": "PzpL3P0Ukjuj"
      }
    },
    {
      "cell_type": "code",
      "source": [
        "# A.5\n",
        "\n",
        "def isMonotonic(A):\n",
        "    x, y = [], []\n",
        "    x.extend(A)\n",
        "    y.extend(A)\n",
        "    x.sort()\n",
        "    y.sort(reverse=True)\n",
        "    if(x == A or y == A):\n",
        "        return True\n",
        "    return False\n",
        " \n",
        "A = [6, 5, 4, 4]\n",
        " \n",
        "print(isMonotonic(A))"
      ],
      "metadata": {
        "colab": {
          "base_uri": "https://localhost:8080/"
        },
        "id": "Z13KKeKhktSa",
        "outputId": "7865f345-f8d2-41a9-918a-53bacd248b6a"
      },
      "execution_count": 10,
      "outputs": [
        {
          "output_type": "stream",
          "name": "stdout",
          "text": [
            "True\n"
          ]
        }
      ]
    },
    {
      "cell_type": "code",
      "source": [
        "def monotonicCheck(array):\n",
        "    flag = True\n",
        "    \n",
        "    if array[0] >= array[len(array)-1]:\n",
        "        for i in range(len(array)-2):\n",
        "            if array[i] < array[i+1]:\n",
        "                flag = False\n",
        "    else:\n",
        "        for i in range(len(array)-2):\n",
        "            if array[i] > array[i+1]:\n",
        "                flag = False\n",
        "                \n",
        "    return flag"
      ],
      "metadata": {
        "id": "oJU9IJpdlLYj"
      },
      "execution_count": 12,
      "outputs": []
    },
    {
      "cell_type": "code",
      "source": [
        "array = [1,2,3,4,5,6,7,8,9,10]\n",
        "\n",
        "monotonicCheck(array)"
      ],
      "metadata": {
        "colab": {
          "base_uri": "https://localhost:8080/"
        },
        "id": "sSyHcHjGlRi0",
        "outputId": "c424af22-5d44-46c2-c803-edfd18038efd"
      },
      "execution_count": 13,
      "outputs": [
        {
          "output_type": "execute_result",
          "data": {
            "text/plain": [
              "True"
            ]
          },
          "metadata": {},
          "execution_count": 13
        }
      ]
    }
  ]
}