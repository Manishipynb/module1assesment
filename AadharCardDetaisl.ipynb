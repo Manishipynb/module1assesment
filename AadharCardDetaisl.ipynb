{
  "nbformat": 4,
  "nbformat_minor": 0,
  "metadata": {
    "colab": {
      "provenance": [],
      "authorship_tag": "ABX9TyPPx4nLjEWoaD060XuatBu/",
      "include_colab_link": true
    },
    "kernelspec": {
      "name": "python3",
      "display_name": "Python 3"
    },
    "language_info": {
      "name": "python"
    }
  },
  "cells": [
    {
      "cell_type": "markdown",
      "metadata": {
        "id": "view-in-github",
        "colab_type": "text"
      },
      "source": [
        "<a href=\"https://colab.research.google.com/github/Manishipynb/module1assesment/blob/main/AadharCardDetaisl.ipynb\" target=\"_parent\"><img src=\"https://colab.research.google.com/assets/colab-badge.svg\" alt=\"Open In Colab\"/></a>"
      ]
    },
    {
      "cell_type": "code",
      "execution_count": null,
      "metadata": {
        "id": "o7MCzyeVaCPl"
      },
      "outputs": [],
      "source": [
        "# aadhar card\n",
        "\n",
        "print(\"AADHAR CARD DETAILS\")\n",
        "a=input(\"Please enter your adhar card no : - \")\n",
        "print(\"Aadhar Card No.\" , a)\n",
        "b=input(\"please enter your full name : - \")\n",
        "print(\"Name\" , b , sep=\":\")\n",
        "c=input (\"please enter your full address : - \")\n",
        "print(\"Address\" , c )\n",
        "d=input(\"please enter your mobile no. : - \")\n",
        "print(\"Mobile no. \" , d , sep=\":\")\n",
        "e=input(\"please enter your email id : - \")\n",
        "print(\"Email Id\" , e , sep=\":\" )\n",
        "f=input(\"please enter your birthday : - \")\n",
        "print(\"Birthday\" , f , sep=\": \")"
      ]
    },
    {
      "cell_type": "code",
      "source": [
        "# Student Form\n",
        "\n",
        "class form():\n",
        "    def name(self):\n",
        "     name = input(\"please enter student name :\")\n",
        "     print(\"student name : \" , name)\n",
        "        \n",
        "\n",
        "    def birthdate(self):\n",
        "        birthdate = input(\"please enter student birthdate in format dd/mm/yyyy :\")\n",
        "        print(\"student birthdate : \" , birthdate)\n",
        "\n",
        "    def gender(self):\n",
        "        gender = input(\"please enter student gender :\")\n",
        "        print(\"gender : \" , gender)\n",
        "\n",
        "    def address(self):\n",
        "        address = input(\"please enter student address :\")\n",
        "        print(\"address : \" , address)\n",
        "\n",
        "    def contactnumber  (self):\n",
        "        contactnumber = int(input(\"please enter student contact no.:\"))\n",
        "        print(\"contact no. : \" , contactnumber)\n",
        "\n",
        "    def emailid(self):\n",
        "        emailid = input(\"please enter student e mail id : \")\n",
        "        print(\"email id : \" , emailid)\n",
        "\n",
        "\n",
        "\n",
        "student = form()\n",
        "student.name()\n",
        "student.birthdate()\n",
        "student.gender()\n",
        "student.address()\n",
        "student.contactnumber()\n",
        "student.emailid()"
      ],
      "metadata": {
        "id": "w0VyfXX7dKeM"
      },
      "execution_count": null,
      "outputs": []
    }
  ]
}