{
  "nbformat": 4,
  "nbformat_minor": 0,
  "metadata": {
    "colab": {
      "provenance": [],
      "authorship_tag": "ABX9TyOIIRdnmBzluQsW4x8U62su",
      "include_colab_link": true
    },
    "kernelspec": {
      "name": "python3",
      "display_name": "Python 3"
    },
    "language_info": {
      "name": "python"
    }
  },
  "cells": [
    {
      "cell_type": "markdown",
      "metadata": {
        "id": "view-in-github",
        "colab_type": "text"
      },
      "source": [
        "<a href=\"https://colab.research.google.com/github/Manishipynb/module1assesment/blob/main/Programming_assignmentNo_2.ipynb\" target=\"_parent\"><img src=\"https://colab.research.google.com/assets/colab-badge.svg\" alt=\"Open In Colab\"/></a>"
      ]
    },
    {
      "cell_type": "code",
      "source": [
        "# Q.1 Write a Python Program to convert Kilometers to Miles.\n",
        "\n",
        "kilometers = float(input(\"Enter the Distance you want to travel  in kilometers: \"))\n",
        "\n",
        "conv_fac = 0.621371\n",
        "\n",
        "miles = kilometers * conv_fac\n",
        "print(f\"You will travel {kilometers} Kilometers which is Equal to {miles} Miles.\")\n"
      ],
      "metadata": {
        "colab": {
          "base_uri": "https://localhost:8080/"
        },
        "id": "_iV2pJlGGzzS",
        "outputId": "fef4d94a-e11c-42e8-e098-51af050b5448"
      },
      "execution_count": 1,
      "outputs": [
        {
          "output_type": "stream",
          "name": "stdout",
          "text": [
            "Enter the Distance you want to travel  in kilometers: 88\n",
            "You will travel 88.0 Kilometers which is Equal to 54.680648 Miles.\n"
          ]
        }
      ]
    },
    {
      "cell_type": "code",
      "source": [
        "# Q.2 Write a Python Program to convert Celsius to Fahrenheit ?\n",
        "\n",
        "celsius = float(input(\"Please Enter the Celsius which you want to convert in Fahrenheit : \"))\n",
        "\n",
        "fahrenheit = (celsius * 1.8) + 32\n",
        "\n",
        "\n",
        "print(f\"Your Enter Celsius {celsius} is equal to Fahrenheit {fahrenheit} \")\n",
        "\n"
      ],
      "metadata": {
        "colab": {
          "base_uri": "https://localhost:8080/"
        },
        "id": "Q7-x3XvxH7yh",
        "outputId": "758929ee-4949-4994-c932-e5812a23134a"
      },
      "execution_count": 2,
      "outputs": [
        {
          "output_type": "stream",
          "name": "stdout",
          "text": [
            "Please Enter the Celsius which you want to convert in Fahrenheit : 32\n",
            "Your Enter Celsius 32.0 is equal to Fahrenheit 89.6 \n"
          ]
        }
      ]
    },
    {
      "cell_type": "code",
      "source": [
        "# Q.3 Write a Python Program to Display Calendar .\n",
        "\n",
        "import calendar\n",
        "\n",
        "year = int(input(\"Enter year for which you want calendar : \"))\n",
        "month = int(input(\"Enter month for which you want calendar : \"))\n",
        "\n",
        "print(calendar.month(year, month))\n"
      ],
      "metadata": {
        "colab": {
          "base_uri": "https://localhost:8080/"
        },
        "id": "lpKVGn4HI2rr",
        "outputId": "3a1d4768-f168-4935-b55f-ab6bf6f80ea5"
      },
      "execution_count": 7,
      "outputs": [
        {
          "output_type": "stream",
          "name": "stdout",
          "text": [
            "Enter year for which you want calendar : 2022\n",
            "Enter month for which you want calendar : 11\n",
            "   November 2022\n",
            "Mo Tu We Th Fr Sa Su\n",
            "    1  2  3  4  5  6\n",
            " 7  8  9 10 11 12 13\n",
            "14 15 16 17 18 19 20\n",
            "21 22 23 24 25 26 27\n",
            "28 29 30\n",
            "\n"
          ]
        }
      ]
    },
    {
      "cell_type": "code",
      "source": [
        "# Q.4 Write a Python Program to solve Quadratic Equation .\n",
        "\n",
        "import cmath\n",
        "\n",
        "a = int(input(\"please enter num 1 :\"))\n",
        "b = int(input(\"please enter num 2 :\"))\n",
        "c = int(input(\"please enter num 3 :\"))\n",
        "\n",
        "d = (b**2) - (4*a*c)\n",
        "\n",
        "sol1 = (-b-cmath.sqrt(d))/(2*a)\n",
        "sol2 = (-b+cmath.sqrt(d))/(2*a)\n",
        "\n",
        "print('The solution are {0} and {1}'.format(sol1,sol2))\n",
        "\n"
      ],
      "metadata": {
        "colab": {
          "base_uri": "https://localhost:8080/"
        },
        "id": "5o8wc2PnLX3a",
        "outputId": "20441d9f-d28d-41bd-c43b-448ccde853a3"
      },
      "execution_count": 13,
      "outputs": [
        {
          "output_type": "stream",
          "name": "stdout",
          "text": [
            "please enter num 1 :3\n",
            "please enter num 2 :6\n",
            "please enter num 3 :9\n",
            "The solution are (-1-1.414213562373095j) and (-1+1.414213562373095j)\n"
          ]
        }
      ]
    },
    {
      "cell_type": "code",
      "source": [
        "# Q.5 Write a Python program to swap two variables without temp variable.\n",
        "\n",
        "x = int(input(\"please enter num 1 :\"))\n",
        "y = int(input(\"please enter num 2 :\"))\n",
        " \n",
        "print (\"Before swapping: \")\n",
        "print(\"Value of x : \", x, \" and y : \", y)\n",
        " \n",
        "\n",
        "x, y = y, x\n",
        " \n",
        "print (\"After swapping: \")\n",
        "print(\"Value of x : \", x, \" and y : \", y)\n",
        "\n"
      ],
      "metadata": {
        "colab": {
          "base_uri": "https://localhost:8080/"
        },
        "id": "KSi1QLCWMkjw",
        "outputId": "7045a309-61a2-43e5-ff8f-d555d8f43c76"
      },
      "execution_count": 15,
      "outputs": [
        {
          "output_type": "stream",
          "name": "stdout",
          "text": [
            "please enter num 1 :10\n",
            "please enter num 2 :20\n",
            "Before swapping: \n",
            "Value of x :  10  and y :  20\n",
            "After swapping: \n",
            "Value of x :  20  and y :  10\n"
          ]
        }
      ]
    }
  ]
}