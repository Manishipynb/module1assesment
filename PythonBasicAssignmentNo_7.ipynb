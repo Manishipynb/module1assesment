{
  "nbformat": 4,
  "nbformat_minor": 0,
  "metadata": {
    "colab": {
      "provenance": [],
      "collapsed_sections": [],
      "authorship_tag": "ABX9TyNvqexvQ6Q5yUlMVtjFc0zs",
      "include_colab_link": true
    },
    "kernelspec": {
      "name": "python3",
      "display_name": "Python 3"
    },
    "language_info": {
      "name": "python"
    }
  },
  "cells": [
    {
      "cell_type": "markdown",
      "metadata": {
        "id": "view-in-github",
        "colab_type": "text"
      },
      "source": [
        "<a href=\"https://colab.research.google.com/github/Manishipynb/module1assesment/blob/main/PythonBasicAssignmentNo_7.ipynb\" target=\"_parent\"><img src=\"https://colab.research.google.com/assets/colab-badge.svg\" alt=\"Open In Colab\"/></a>"
      ]
    },
    {
      "cell_type": "markdown",
      "source": [
        "### Q.1\n",
        "### What is the name of the feature responsible for generating Regex objects ?"
      ],
      "metadata": {
        "id": "HYplhwQI75sf"
      }
    },
    {
      "cell_type": "markdown",
      "source": [
        "### A.1\n",
        "### The re.compile() function returns Regex objects."
      ],
      "metadata": {
        "id": "IsQE1SB08FTw"
      }
    },
    {
      "cell_type": "markdown",
      "source": [
        "### Q.2\n",
        "### Why do raw strings often appear in Regex objects ?"
      ],
      "metadata": {
        "id": "Mxq4icCu8ppR"
      }
    },
    {
      "cell_type": "markdown",
      "source": [
        "### A.2\n",
        "### Raw strings are used so that backslashes do not have to be escaped"
      ],
      "metadata": {
        "id": "P9lcABOQ8yaf"
      }
    },
    {
      "cell_type": "markdown",
      "source": [
        "### Q.3\n",
        "### What is the return value of the search() method ?"
      ],
      "metadata": {
        "id": "FJuvcWdk87U3"
      }
    },
    {
      "cell_type": "markdown",
      "source": [
        "### A.3\n",
        "### The search() method returns Match objects"
      ],
      "metadata": {
        "id": "Ehygap1Y9K6v"
      }
    },
    {
      "cell_type": "markdown",
      "source": [
        "### Q.4\n",
        "### From a Match item , how do you get the actual strings that match the pattern ?"
      ],
      "metadata": {
        "id": "3L_kAwbF9eeG"
      }
    },
    {
      "cell_type": "markdown",
      "source": [
        "### A.4\n",
        "### The group() method returns strings of the matched text."
      ],
      "metadata": {
        "id": "VTRXqPix9nJW"
      }
    },
    {
      "cell_type": "markdown",
      "source": [
        "### Q.5\n",
        "### In the regex created from r'(\\d\\d\\d)-(\\d\\d\\d-\\d\\d\\d\\d)', what does group 0 cover ? Group 1 ? Group 2 ?"
      ],
      "metadata": {
        "id": "XgnhMi8P9ugu"
      }
    },
    {
      "cell_type": "markdown",
      "source": [
        "### A.5\n",
        "### Group 0 is the entire match, group 1 covers the first set of parentheses, and group 2 covers the second set of parentheses."
      ],
      "metadata": {
        "id": "0Kjy6hQr94d-"
      }
    },
    {
      "cell_type": "markdown",
      "source": [
        "### Q.6\n",
        "### In Standard expression syntax , parentheses and intervals have distince meanings.\n",
        "### How can you tell a regex that you want it to fit real parentheses and periods ?"
      ],
      "metadata": {
        "id": "Eof2cGmt-WDw"
      }
    },
    {
      "cell_type": "markdown",
      "source": [
        "### A.6\n",
        "### Periods and parentheses can be escaped with a backslash: \\., \\(, and \\)."
      ],
      "metadata": {
        "id": "yw2fBD2sIO4a"
      }
    },
    {
      "cell_type": "markdown",
      "source": [
        "### Q.7\n",
        "### The findall() method returns a string list or a list of string tuples. What causes it to return one of the two options ?"
      ],
      "metadata": {
        "id": "cMvuR6-mIkz7"
      }
    },
    {
      "cell_type": "markdown",
      "source": [
        "### A.7\n",
        "###  If the regex has no groups, a list of strings is returned. If the regex has groups, a list of tuples of strings is returned."
      ],
      "metadata": {
        "id": "ukzqgss3I3wj"
      }
    },
    {
      "cell_type": "markdown",
      "source": [
        "### Q.8\n",
        "### In Standard Expressions , what does the | character means ?\n"
      ],
      "metadata": {
        "id": "IQeVpn2VI9qb"
      }
    },
    {
      "cell_type": "markdown",
      "source": [
        "### A.8\n",
        "### The | character signifies matching “either, or” between two groups."
      ],
      "metadata": {
        "id": "qTGTUMjhJFmK"
      }
    },
    {
      "cell_type": "markdown",
      "source": [
        "### Q.9\n",
        "### In Regular Expressions , what does the character stand for ?"
      ],
      "metadata": {
        "id": "Qbl44wn4JMYK"
      }
    },
    {
      "cell_type": "markdown",
      "source": [
        "### A.9\n",
        "### which character ?\n",
        "### not mentioned"
      ],
      "metadata": {
        "id": "kjYLbW8oJWEz"
      }
    },
    {
      "cell_type": "markdown",
      "source": [
        "### Q.10\n",
        "### In regular Expressions , what is the difference between the + and * characters ?"
      ],
      "metadata": {
        "id": "GwbipY3bJrNk"
      }
    },
    {
      "cell_type": "markdown",
      "source": [
        "### A.10\n",
        "###  The + matches one or more. The * matches zero or more."
      ],
      "metadata": {
        "id": "sJwPRjTEJ1vs"
      }
    },
    {
      "cell_type": "markdown",
      "source": [
        "### Q.11\n",
        "### What is the difference between {4} and {4,5} in regular expression ?"
      ],
      "metadata": {
        "id": "JKMrDkpkJ8XX"
      }
    },
    {
      "cell_type": "markdown",
      "source": [
        "### A.11\n",
        "### The {4} matches exactly three instances of the preceding group. The {4,5} matches between four and five instances."
      ],
      "metadata": {
        "id": "ecS8TZE7KGPT"
      }
    },
    {
      "cell_type": "markdown",
      "source": [
        "### Q.12\n",
        "### What do you mean by the \\d , \\w and \\s shorthand character classes signify in regular expressions ?\n"
      ],
      "metadata": {
        "id": "3fG209uDKLmb"
      }
    },
    {
      "cell_type": "markdown",
      "source": [
        "### A.12\n",
        "###  The \\d, \\w, and \\s shorthand character classes match a single digit, word, or space character, respectively."
      ],
      "metadata": {
        "id": "AHgp5lafKeGL"
      }
    },
    {
      "cell_type": "markdown",
      "source": [
        "### Q.13\n",
        "### What do you mean by the \\D , \\W and \\S shorthand character classes signify in regular expressions ?"
      ],
      "metadata": {
        "id": "PyXGon1EKl-T"
      }
    },
    {
      "cell_type": "markdown",
      "source": [
        "### A.13\n",
        "### The \\D, \\W, and \\S shorthand character classes match a single character that is not a digit, word, or space character, respectively."
      ],
      "metadata": {
        "id": "Z3alqtc-KwTm"
      }
    },
    {
      "cell_type": "markdown",
      "source": [
        "### Q.14\n",
        "### What is the difference between .* and .*?"
      ],
      "metadata": {
        "id": "GMTzvcOtK3FU"
      }
    },
    {
      "cell_type": "markdown",
      "source": [
        "### A.14\n",
        "###  The .* performs a greedy match, and the .*? performs a nongreedy match."
      ],
      "metadata": {
        "id": "0EGR4u_9LEwa"
      }
    },
    {
      "cell_type": "markdown",
      "source": [
        "### Q.15\n",
        "### What is the syntax for matching both numbers and lowercase letters with a character class?"
      ],
      "metadata": {
        "id": "zM9oJ34dLJ9e"
      }
    },
    {
      "cell_type": "markdown",
      "source": [
        "### A.15\n",
        "### Either [0-9a-z] or [a-z0-9]"
      ],
      "metadata": {
        "id": "j12EyCcNLRPr"
      }
    },
    {
      "cell_type": "markdown",
      "source": [
        "### Q.16\n",
        "###  What is the procedure for making a normal expression in regax case insensitive?"
      ],
      "metadata": {
        "id": "hwPrYAgYLXFn"
      }
    },
    {
      "cell_type": "markdown",
      "source": [
        "### A.16\n",
        "### Passing re.I or re.IGNORECASE as the second argument to re.compile() will make the matching case insensitive."
      ],
      "metadata": {
        "id": "dMfOpUUoLfXj"
      }
    },
    {
      "cell_type": "markdown",
      "source": [
        "### Q.17\n",
        "### What does the . character normally match? What does it match if re.DOTALL is passed as 2nd argument in re.compile()?"
      ],
      "metadata": {
        "id": "jna4FYtZLlUd"
      }
    },
    {
      "cell_type": "markdown",
      "source": [
        "### A.17\n",
        "### The . character normally matches any character except the newline character. If re.DOTALL is passed as the second argument to re.compile(), then the dot will also match newline characters."
      ],
      "metadata": {
        "id": "g1Q2w1GkLugb"
      }
    },
    {
      "cell_type": "markdown",
      "source": [],
      "metadata": {
        "id": "RoLSeHbUL0sE"
      }
    },
    {
      "cell_type": "markdown",
      "source": [
        "### Q.18\n",
        "### If numReg = re.compile(r'\\d+'), what will numRegex.sub('X', '11 drummers, 10 pipers, five rings, 4 hen')  ?"
      ],
      "metadata": {
        "id": "zthTUXksnJ4D"
      }
    },
    {
      "cell_type": "markdown",
      "source": [
        "### A.18\n",
        "### 'X drummers, X pipers, five rings, X hens'"
      ],
      "metadata": {
        "id": "lWKjnjdrnebE"
      }
    },
    {
      "cell_type": "markdown",
      "source": [
        "### Q.19\n",
        "### What does passing re.VERBOSE as the 2nd argument to re.compile() allow to do?"
      ],
      "metadata": {
        "id": "aeDc9OnEnjlV"
      }
    },
    {
      "cell_type": "markdown",
      "source": [
        "### A.19\n",
        "### The re.VERBOSE argument allows you to add whitespace and comments to the string passed to re.compile()"
      ],
      "metadata": {
        "id": "-lPhi6yTnq6D"
      }
    },
    {
      "cell_type": "markdown",
      "source": [
        "### Q.20\n",
        "How would you write a regex that match a number with comma for every three digits? It must match the given following:\n",
        "\n",
        "'42'\n",
        "\n",
        "'1,234'\n",
        "\n",
        "'6,368,745'\n",
        "\n",
        "but not the following:\n",
        "\n",
        "'12,34,567' (which has only two digits between the commas)\n",
        "\n",
        "'1234' (which lacks commas)"
      ],
      "metadata": {
        "id": "eZ6EH4-RnwVq"
      }
    },
    {
      "cell_type": "markdown",
      "source": [
        "### A.20\n",
        "### e.compile(r'^\\d{1,3}(,{3})*$') will create this regex, but other regex strings can produce a similar regular expression."
      ],
      "metadata": {
        "id": "jym4WJw0oCa7"
      }
    },
    {
      "cell_type": "markdown",
      "source": [
        "### Q.21\n",
        "### How would you write a regex that matches the full name of someone whose last name is Watanabe? You can assume that the first name that comes before it will always be one word that begins with a capital letter. The regex must match the following:\n",
        "\n",
        "'Haruto Watanabe'\n",
        "\n",
        "'Alice Watanabe'\n",
        "\n",
        "'RoboCop Watanabe'\n",
        "\n",
        "but not the following:\n",
        "\n",
        "'haruto Watanabe' (where the first name is not capitalized)\n",
        "\n",
        "'Mr. Watanabe' (where the preceding word has a nonletter character)\n",
        "\n",
        "'Watanabe' (which has no first name)\n",
        "\n",
        "'Haruto watanabe' (where Watanabe is not capitalized)"
      ],
      "metadata": {
        "id": "Yx2rikn1oO18"
      }
    },
    {
      "cell_type": "markdown",
      "source": [
        "### A.21\n",
        "### re.compile(r'[A-Z][a-z]*\\sWatanabe')"
      ],
      "metadata": {
        "id": "MYdilvNFobtS"
      }
    },
    {
      "cell_type": "markdown",
      "source": [
        "### Q.22\n",
        "### How would you write a regex that matches a sentence where the first word is either Alice, Bob, or Carol; the second word is either eats, pets, or throws; the third word is apples, cats, or baseballs; and the sentence ends with a period? This regex should be case-insensitive. It must match the following:\n",
        "\n",
        "'Alice eats apples.'\n",
        "\n",
        "'Bob pets cats.'\n",
        "\n",
        "'Carol throws baseballs.'\n",
        "\n",
        "'Alice throws Apples.'\n",
        "\n",
        "'BOB EATS CATS.'\n",
        "\n",
        "but not the following:\n",
        "\n",
        "'RoboCop eats apples.'\n",
        "\n",
        "'ALICE THROWS FOOTBALLS.'\n",
        "\n",
        "'Carol eats 7 cats.'"
      ],
      "metadata": {
        "id": "DJHE-MVlohji"
      }
    },
    {
      "cell_type": "markdown",
      "source": [
        "### A.22\n",
        "### re.compile(r'(Alice|Bob|Carol)\\s(eats|pets|throws)\\ s(apples|cats|baseballs)\\.', re.IGNORECASE)"
      ],
      "metadata": {
        "id": "A3VvnrdNoqRS"
      }
    }
  ]
}