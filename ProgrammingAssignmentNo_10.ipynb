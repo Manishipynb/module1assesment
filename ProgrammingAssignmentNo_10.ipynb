{
  "nbformat": 4,
  "nbformat_minor": 0,
  "metadata": {
    "colab": {
      "provenance": [],
      "collapsed_sections": [],
      "authorship_tag": "ABX9TyPatQ8z9Ryi3c4V9jWYpfNh",
      "include_colab_link": true
    },
    "kernelspec": {
      "name": "python3",
      "display_name": "Python 3"
    },
    "language_info": {
      "name": "python"
    }
  },
  "cells": [
    {
      "cell_type": "markdown",
      "metadata": {
        "id": "view-in-github",
        "colab_type": "text"
      },
      "source": [
        "<a href=\"https://colab.research.google.com/github/Manishipynb/module1assesment/blob/main/ProgrammingAssignmentNo_10.ipynb\" target=\"_parent\"><img src=\"https://colab.research.google.com/assets/colab-badge.svg\" alt=\"Open In Colab\"/></a>"
      ]
    },
    {
      "cell_type": "markdown",
      "source": [
        "## Q.1\n",
        "## Write a Python Program to find sum of elements in list."
      ],
      "metadata": {
        "id": "9Op219MWxnLP"
      }
    },
    {
      "cell_type": "code",
      "source": [
        "total = 0\n",
        "\n",
        "list1 = [14, 65, 17, 17, 13]\n",
        " \n",
        "for ele in range(0, len(list1)):\n",
        "    total = total + list1[ele]\n",
        " \n",
        "print(\"Sum of all elements in given list: \", total)"
      ],
      "metadata": {
        "colab": {
          "base_uri": "https://localhost:8080/"
        },
        "id": "y_ezoxKQxujD",
        "outputId": "7b02af2a-7e72-4a2d-9036-5e16e1303149"
      },
      "execution_count": 2,
      "outputs": [
        {
          "output_type": "stream",
          "name": "stdout",
          "text": [
            "Sum of all elements in given list:  126\n"
          ]
        }
      ]
    },
    {
      "cell_type": "markdown",
      "source": [
        "## Q.2\n",
        "## Write a Python Program to Multiply all numbers in the list."
      ],
      "metadata": {
        "id": "Hg8WlCViyDP2"
      }
    },
    {
      "cell_type": "code",
      "source": [
        "def multiplyList(myList):\n",
        "    result = 1\n",
        "    for x in myList:\n",
        "        result = result * x\n",
        "    return result\n",
        " \n",
        "list1 = [1, 2, 3]\n",
        "list2 = [3, 2, 4]\n",
        "print(multiplyList(list1))\n",
        "print(multiplyList(list2))"
      ],
      "metadata": {
        "colab": {
          "base_uri": "https://localhost:8080/"
        },
        "id": "bLzKk9hByq_v",
        "outputId": "97d2567d-de4a-493b-e46d-862226597dac"
      },
      "execution_count": 3,
      "outputs": [
        {
          "output_type": "stream",
          "name": "stdout",
          "text": [
            "6\n",
            "24\n"
          ]
        }
      ]
    },
    {
      "cell_type": "markdown",
      "source": [
        "## Q.3\n",
        "## Write a Python Program to find smallest number in a list."
      ],
      "metadata": {
        "id": "vsms3PqCzd1h"
      }
    },
    {
      "cell_type": "code",
      "source": [
        "list1 = [10, 20, 4, 45, 99]\n",
        " \n",
        "list1.sort()\n",
        " \n",
        "print(\"Smallest element is:\", list1[0])"
      ],
      "metadata": {
        "colab": {
          "base_uri": "https://localhost:8080/"
        },
        "id": "wo0X9BIPzmYR",
        "outputId": "3acd2c92-cae1-4117-cfef-60d6b0bd9c59"
      },
      "execution_count": 4,
      "outputs": [
        {
          "output_type": "stream",
          "name": "stdout",
          "text": [
            "Smallest element is: 4\n"
          ]
        }
      ]
    },
    {
      "cell_type": "markdown",
      "source": [
        "## Q.4\n",
        "## Write a Python Program to find largest number in  a list."
      ],
      "metadata": {
        "id": "DuaViY9jzy2j"
      }
    },
    {
      "cell_type": "code",
      "source": [
        "list1 = [10, 20, 4, 45, 99]\n",
        " \n",
        "list1.sort()\n",
        " \n",
        "print(\"Largest element is:\", list1[-1])"
      ],
      "metadata": {
        "colab": {
          "base_uri": "https://localhost:8080/"
        },
        "id": "B4NBKaD0z6sC",
        "outputId": "9096baaf-90e6-477e-96eb-f0bca6f11459"
      },
      "execution_count": 5,
      "outputs": [
        {
          "output_type": "stream",
          "name": "stdout",
          "text": [
            "Largest element is: 99\n"
          ]
        }
      ]
    },
    {
      "cell_type": "markdown",
      "source": [
        "## Q.5\n",
        "## Write a Python Program to find second largest number in a list."
      ],
      "metadata": {
        "id": "Q-YJjQD_0Lem"
      }
    },
    {
      "cell_type": "code",
      "source": [
        "list1 = [10, 20, 20, 4, 45, 45, 45, 99, 99]\n",
        " \n",
        "list2 = list(set(list1))\n",
        " \n",
        "list2.sort()\n",
        " \n",
        "print(\"Second largest element is:\", list2[-2])"
      ],
      "metadata": {
        "colab": {
          "base_uri": "https://localhost:8080/"
        },
        "id": "fiSJZrnL0UJi",
        "outputId": "2609294c-3bfc-4750-ec51-fd6387078c2e"
      },
      "execution_count": 6,
      "outputs": [
        {
          "output_type": "stream",
          "name": "stdout",
          "text": [
            "Second largest element is: 45\n"
          ]
        }
      ]
    },
    {
      "cell_type": "markdown",
      "source": [
        "## Q.6\n",
        "## Write a Python Program to find N largest elements from a list."
      ],
      "metadata": {
        "id": "WV_VufeW0rPv"
      }
    },
    {
      "cell_type": "code",
      "source": [
        "l = [1000,298,3579,100,200,-45,900]\n",
        "n = 4\n",
        " \n",
        "l.sort()\n",
        "print(l[-n:])"
      ],
      "metadata": {
        "colab": {
          "base_uri": "https://localhost:8080/"
        },
        "id": "Zzt2om7b02nQ",
        "outputId": "27389186-12c8-4bf3-bdf4-ebdd520a4eb7"
      },
      "execution_count": 7,
      "outputs": [
        {
          "output_type": "stream",
          "name": "stdout",
          "text": [
            "[298, 900, 1000, 3579]\n"
          ]
        }
      ]
    },
    {
      "cell_type": "markdown",
      "source": [
        "## Q.7\n",
        "## Write a Python Program to print even numbers in a list."
      ],
      "metadata": {
        "id": "8IHDkmGv1J7-"
      }
    },
    {
      "cell_type": "code",
      "source": [
        "list1 = [10, 21, 4, 45, 66, 93]\n",
        " \n",
        "for num in list1:\n",
        "    if num % 2 == 0:\n",
        "        print(num, end=\"   \")"
      ],
      "metadata": {
        "colab": {
          "base_uri": "https://localhost:8080/"
        },
        "id": "peqCqMFi1VrW",
        "outputId": "d09e09a9-2806-4646-dfd6-68a2514c7e93"
      },
      "execution_count": 12,
      "outputs": [
        {
          "output_type": "stream",
          "name": "stdout",
          "text": [
            "10   4   66   "
          ]
        }
      ]
    },
    {
      "cell_type": "markdown",
      "source": [
        "## Q.8\n",
        "## Write a Python program to print odd numbers in  a list."
      ],
      "metadata": {
        "id": "xYVUiPmI1n9C"
      }
    },
    {
      "cell_type": "code",
      "source": [
        "list1 = [11, 22, 40, 45, 66, 93]\n",
        " \n",
        "for num in list1:\n",
        "    if num % 2 != 0:\n",
        "      print(num, end=\"   \")"
      ],
      "metadata": {
        "colab": {
          "base_uri": "https://localhost:8080/"
        },
        "id": "SagQTLs_1vaL",
        "outputId": "604cd5ae-a4e8-47cd-b4d0-104107832197"
      },
      "execution_count": 13,
      "outputs": [
        {
          "output_type": "stream",
          "name": "stdout",
          "text": [
            "11   45   93   "
          ]
        }
      ]
    },
    {
      "cell_type": "markdown",
      "source": [
        "## Q.9\n",
        "## Write a Python Program to Remove empty List from list."
      ],
      "metadata": {
        "id": "jvJyaRuV2FAq"
      }
    },
    {
      "cell_type": "code",
      "source": [
        "test_list = [5, 6, [], 3, [], [], 9]\n",
        " \n",
        "print(\"The original list is : \" + str(test_list))\n",
        " \n",
        "res = [ele for ele in test_list if ele != []]\n",
        " \n",
        "print(\"List after empty list removal : \" + str(res))"
      ],
      "metadata": {
        "colab": {
          "base_uri": "https://localhost:8080/"
        },
        "id": "WH1qsU_I2NRV",
        "outputId": "625caeb4-15ee-4ed8-9282-4af8634bbe84"
      },
      "execution_count": 14,
      "outputs": [
        {
          "output_type": "stream",
          "name": "stdout",
          "text": [
            "The original list is : [5, 6, [], 3, [], [], 9]\n",
            "List after empty list removal : [5, 6, 3, 9]\n"
          ]
        }
      ]
    },
    {
      "cell_type": "markdown",
      "source": [
        "## Q.10\n",
        "## Write a Python Program to Cloning or Copying a list."
      ],
      "metadata": {
        "id": "LxDst1hm2jZ-"
      }
    },
    {
      "cell_type": "code",
      "source": [
        "def Cloning(li1):\n",
        "    li_copy = li1[:]\n",
        "    return li_copy\n",
        " \n",
        "li1 = [4, 8, 2, 10, 15, 18]\n",
        "li2 = Cloning(li1)\n",
        "print(\"Original List:\", li1)\n",
        "print(\"After Cloning:\", li2)"
      ],
      "metadata": {
        "colab": {
          "base_uri": "https://localhost:8080/"
        },
        "id": "ctxDMwyq2t0D",
        "outputId": "74d253a3-206e-4369-b403-487b5541d1fc"
      },
      "execution_count": 15,
      "outputs": [
        {
          "output_type": "stream",
          "name": "stdout",
          "text": [
            "Original List: [4, 8, 2, 10, 15, 18]\n",
            "After Cloning: [4, 8, 2, 10, 15, 18]\n"
          ]
        }
      ]
    },
    {
      "cell_type": "code",
      "source": [
        "def Cloning(li1):\n",
        "    li_copy = []\n",
        "    li_copy.extend(li1)\n",
        "    return li_copy\n",
        " \n",
        "li1 = [4, 8, 2, 10, 15, 18]\n",
        "li2 = Cloning(li1)\n",
        "print(\"Original List:\", li1)\n",
        "print(\"After Cloning:\", li2)"
      ],
      "metadata": {
        "colab": {
          "base_uri": "https://localhost:8080/"
        },
        "id": "hQSqSLAs3C0K",
        "outputId": "851af580-246f-416d-c874-f585afb1be5e"
      },
      "execution_count": 18,
      "outputs": [
        {
          "output_type": "stream",
          "name": "stdout",
          "text": [
            "Original List: [4, 8, 2, 10, 15, 18]\n",
            "After Cloning: [4, 8, 2, 10, 15, 18]\n"
          ]
        }
      ]
    },
    {
      "cell_type": "markdown",
      "source": [
        "## Q.11\n",
        "## Write a Python Program to Count occurrences of an element in a list."
      ],
      "metadata": {
        "id": "S6Q98xgr3Hei"
      }
    },
    {
      "cell_type": "code",
      "source": [
        "def countX(lst, x):\n",
        "    return lst.count(x)\n",
        " \n",
        "lst = [8, 6, 8, 10, 8, 20, 10, 8, 8]\n",
        "x = 8\n",
        "print('{} has occurred {} times'.format(x,\n",
        "                                        countX(lst, x)))"
      ],
      "metadata": {
        "colab": {
          "base_uri": "https://localhost:8080/"
        },
        "id": "qSQ5RSQU3pd5",
        "outputId": "126d4c35-32f9-4610-df2d-2b461cf2ca2e"
      },
      "execution_count": 22,
      "outputs": [
        {
          "output_type": "stream",
          "name": "stdout",
          "text": [
            "8 has occurred 5 times\n"
          ]
        }
      ]
    }
  ]
}