{
  "nbformat": 4,
  "nbformat_minor": 0,
  "metadata": {
    "colab": {
      "provenance": [],
      "authorship_tag": "ABX9TyO33Esg4IayMI0WGdyFGUtW",
      "include_colab_link": true
    },
    "kernelspec": {
      "name": "python3",
      "display_name": "Python 3"
    },
    "language_info": {
      "name": "python"
    }
  },
  "cells": [
    {
      "cell_type": "markdown",
      "metadata": {
        "id": "view-in-github",
        "colab_type": "text"
      },
      "source": [
        "<a href=\"https://colab.research.google.com/github/Manishipynb/module1assesment/blob/main/Programming_AssignmentNo_7.ipynb\" target=\"_parent\"><img src=\"https://colab.research.google.com/assets/colab-badge.svg\" alt=\"Open In Colab\"/></a>"
      ]
    },
    {
      "cell_type": "code",
      "execution_count": 1,
      "metadata": {
        "colab": {
          "base_uri": "https://localhost:8080/"
        },
        "id": "fzBgBcPPIEaB",
        "outputId": "4b56dd93-cd3c-43e7-f5dc-23f091f36ed5"
      },
      "outputs": [
        {
          "output_type": "stream",
          "name": "stdout",
          "text": [
            "Sum of the array is  34\n"
          ]
        }
      ],
      "source": [
        "# Q.1 Write a Python Program to find Sum of Array.\n",
        "\n",
        "arr = []\n",
        " \n",
        "arr = [12, 3, 4, 15]\n",
        " \n",
        "ans = sum(arr)\n",
        " \n",
        "print('Sum of the array is ', ans)\n",
        "\n"
      ]
    },
    {
      "cell_type": "code",
      "source": [
        "# Q.2 Write a Python Program to find Largest elements in an array.\n",
        "\n",
        "arr = [25, 11, 7, 75, 56];     \n",
        "     \n",
        "max = arr[0];    \n",
        "     \n",
        "for i in range(0, len(arr)):    \n",
        "   \n",
        "   if(arr[i] > max):    \n",
        "       max = arr[i];    \n",
        "           \n",
        "print(\"Largest element present in given array: \" + str(max));   \n",
        "\n"
      ],
      "metadata": {
        "colab": {
          "base_uri": "https://localhost:8080/"
        },
        "id": "2uIx6l8xI4In",
        "outputId": "cb4d3c61-703d-47b4-d33e-1247828a3362"
      },
      "execution_count": 2,
      "outputs": [
        {
          "output_type": "stream",
          "name": "stdout",
          "text": [
            "Largest element present in given array: 75\n"
          ]
        }
      ]
    },
    {
      "cell_type": "code",
      "source": [
        "# Q.2 Write a Python Program to find Largest elements in an array.\n",
        "\n",
        "def largest(arr,n):\n",
        "   \n",
        "   max = arr[0]\n",
        "  \n",
        "   for i in range(1, n):\n",
        "      if arr[i] > max:\n",
        "         max = arr[i]\n",
        "   return max\n",
        "\n",
        "arr = [23,1,32,67,2,34,12]\n",
        "n = len(arr)\n",
        "Ans = largest(arr,n)\n",
        "print (\"Largest element given in array is\",Ans)"
      ],
      "metadata": {
        "colab": {
          "base_uri": "https://localhost:8080/"
        },
        "id": "jxbznbLEJxAn",
        "outputId": "d662270f-c334-4b48-bea6-574c1337c409"
      },
      "execution_count": 3,
      "outputs": [
        {
          "output_type": "stream",
          "name": "stdout",
          "text": [
            "Largest element given in array is 67\n"
          ]
        }
      ]
    },
    {
      "cell_type": "code",
      "source": [
        "# Q.3 Write a Python Program for Array Rotation.\n",
        "\n",
        "def rotateArray(arr, n, d):\n",
        "    temp = []\n",
        "    i = 0\n",
        "    while (i < d):\n",
        "        temp.append(arr[i])\n",
        "        i = i + 1\n",
        "    i = 0\n",
        "    while (d < n):\n",
        "        arr[i] = arr[d]\n",
        "        i = i + 1\n",
        "        d = d + 1\n",
        "    arr[:] = arr[: i] + temp\n",
        "    return arr\n",
        " \n",
        " \n",
        "\n",
        "arr = [1, 2, 3, 4, 5, 6, 7]\n",
        "print(\"Array after left rotation is: \", end=' ')\n",
        "print(rotateArray(arr, len(arr), 2))\n",
        " \n"
      ],
      "metadata": {
        "colab": {
          "base_uri": "https://localhost:8080/"
        },
        "id": "bqkS6isLKAgU",
        "outputId": "250cd600-c60d-40e1-f210-3a8d45815618"
      },
      "execution_count": 4,
      "outputs": [
        {
          "output_type": "stream",
          "name": "stdout",
          "text": [
            "Array after left rotation is:  [3, 4, 5, 6, 7, 1, 2]\n"
          ]
        }
      ]
    },
    {
      "cell_type": "code",
      "source": [
        "# Q.4 Write a Python Program to split the array and add the first part to the end.\n",
        "\n",
        "def splitArr(a, n, k): \n",
        "   b = a[:k]\n",
        "   return (a[k::]+b[::])\n",
        "          \n",
        "  \n",
        "\n",
        "arr = [12, 10, 5, 6, 52, 36]\n",
        "n = len(arr)\n",
        "position = 2\n",
        "arr = splitArr(arr, n, position)\n",
        "for i in range(0, n): \n",
        "    print(arr[i], end = ' ')\n",
        "\n"
      ],
      "metadata": {
        "colab": {
          "base_uri": "https://localhost:8080/"
        },
        "id": "ReYwwvQ9KlIu",
        "outputId": "611669cb-4e17-4b51-f01f-062fcc1c1c6d"
      },
      "execution_count": 5,
      "outputs": [
        {
          "output_type": "stream",
          "name": "stdout",
          "text": [
            "5 6 52 36 12 10 "
          ]
        }
      ]
    },
    {
      "cell_type": "code",
      "source": [
        "# Q.5 Write a Python Program to Check if given array is Monotonic.\n",
        "\n",
        "def isMonotonic(A):\n",
        "    x, y = [], []\n",
        "    x.extend(A)\n",
        "    y.extend(A)\n",
        "    x.sort()\n",
        "    y.sort(reverse=True)\n",
        "    if(x == A or y == A):\n",
        "        return True\n",
        "    return False\n",
        " \n",
        " \n",
        "\n",
        "A = [6, 10, 20, 2]\n",
        " \n",
        "\n",
        "print(isMonotonic(A))\n",
        "\n"
      ],
      "metadata": {
        "colab": {
          "base_uri": "https://localhost:8080/"
        },
        "id": "Glp6XsGhLZ1X",
        "outputId": "d62ae2ed-e322-45b4-f0a1-fbaed8f6c319"
      },
      "execution_count": 7,
      "outputs": [
        {
          "output_type": "stream",
          "name": "stdout",
          "text": [
            "False\n"
          ]
        }
      ]
    }
  ]
}