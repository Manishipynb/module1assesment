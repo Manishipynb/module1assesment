{
  "nbformat": 4,
  "nbformat_minor": 0,
  "metadata": {
    "colab": {
      "provenance": [],
      "authorship_tag": "ABX9TyO+l6PKriwaqtOTGuGXDdsB",
      "include_colab_link": true
    },
    "kernelspec": {
      "name": "python3",
      "display_name": "Python 3"
    },
    "language_info": {
      "name": "python"
    }
  },
  "cells": [
    {
      "cell_type": "markdown",
      "metadata": {
        "id": "view-in-github",
        "colab_type": "text"
      },
      "source": [
        "<a href=\"https://colab.research.google.com/github/Manishipynb/module1assesment/blob/main/Programming_AssignmentNo_5.ipynb\" target=\"_parent\"><img src=\"https://colab.research.google.com/assets/colab-badge.svg\" alt=\"Open In Colab\"/></a>"
      ]
    },
    {
      "cell_type": "code",
      "execution_count": 2,
      "metadata": {
        "colab": {
          "base_uri": "https://localhost:8080/"
        },
        "id": "OPz0MBWrBnPN",
        "outputId": "34e2d63e-494b-427f-dc91-a1dd9485bfae"
      },
      "outputs": [
        {
          "output_type": "stream",
          "name": "stdout",
          "text": [
            "please enter positive number 1  of your choice : 12\n",
            "please enter positive number 2  of your choice : 10\n",
            "The L.C.M. is 60\n"
          ]
        }
      ],
      "source": [
        "# Q.1 Write a Python Program to find LCM.\n",
        "\n",
        "def compute_lcm(x, y):\n",
        "\n",
        "  \n",
        "   if x > y:\n",
        "       greater = x\n",
        "   else:\n",
        "       greater = y\n",
        "\n",
        "   while(True):\n",
        "       if((greater % x == 0) and (greater % y == 0)):\n",
        "           lcm = greater\n",
        "           break\n",
        "       greater += 1\n",
        "\n",
        "   return lcm\n",
        "\n",
        "num1 = int(input(\"please enter positive number 1  of your choice : \"))\n",
        "num2 = int(input(\"please enter positive number 2  of your choice : \"))\n",
        "\n",
        "print(\"The L.C.M. is\", compute_lcm(num1, num2))\n",
        "\n"
      ]
    },
    {
      "cell_type": "code",
      "source": [
        "# Q.2 Write a Python Program to find HCF .\n",
        "\n",
        "def compute_hcf(x, y):\n",
        "\n",
        "\n",
        "    if x > y:\n",
        "        smaller = y\n",
        "    else:\n",
        "        smaller = x\n",
        "    for i in range(1, smaller+1):\n",
        "        if((x % i == 0) and (y % i == 0)):\n",
        "            hcf = i \n",
        "    return hcf\n",
        "\n",
        "num1 = int(input(\"please enter positive number 1  of your choice : \")) \n",
        "num2 = int(input(\"please enter positive number 2  of your choice : \"))\n",
        "\n",
        "print(\"The H.C.F. is\", compute_hcf(num1, num2))\n",
        "\n"
      ],
      "metadata": {
        "colab": {
          "base_uri": "https://localhost:8080/"
        },
        "id": "cK3TFKPeDZKn",
        "outputId": "719a7bb0-07a3-4b9f-e525-f3e4fd82d47c"
      },
      "execution_count": 5,
      "outputs": [
        {
          "output_type": "stream",
          "name": "stdout",
          "text": [
            "please enter positive number 1  of your choice : 24\n",
            "please enter positive number 2  of your choice : 12\n",
            "The H.C.F. is 12\n"
          ]
        }
      ]
    },
    {
      "cell_type": "code",
      "source": [
        "# Q.3 Write a Python Program to Convert Decimal to Binary , Octal and Hexadecimal.\n",
        "\n",
        "\n",
        "dec = int(input(\"please enter positive number   of your choice : \"))\n",
        "\n",
        "print(\"The decimal value of\", dec, \"is:\")\n",
        "print(bin(dec), \"in binary.\")\n",
        "print(oct(dec), \"in octal.\")\n",
        "print(hex(dec), \"in hexadecimal.\")\n",
        "\n"
      ],
      "metadata": {
        "colab": {
          "base_uri": "https://localhost:8080/"
        },
        "id": "tlZWVIXJD5qt",
        "outputId": "5ba6b74d-a422-4c4a-c3ac-0768d7e8f3f8"
      },
      "execution_count": 6,
      "outputs": [
        {
          "output_type": "stream",
          "name": "stdout",
          "text": [
            "please enter positive number   of your choice : 999\n",
            "The decimal value of 999 is:\n",
            "0b1111100111 in binary.\n",
            "0o1747 in octal.\n",
            "0x3e7 in hexadecimal.\n"
          ]
        }
      ]
    },
    {
      "cell_type": "code",
      "source": [
        "# Q.4 Write a Python Program to Find ASCII value of a character.\n",
        "\n",
        "c = 'a'\n",
        "print(\"The ASCII value of '\" + c + \"' is\", ord(c))\n",
        "\n"
      ],
      "metadata": {
        "colab": {
          "base_uri": "https://localhost:8080/"
        },
        "id": "smrZd-uPEf2_",
        "outputId": "59ae21da-5512-4249-9386-15fdd6060ec6"
      },
      "execution_count": 13,
      "outputs": [
        {
          "output_type": "stream",
          "name": "stdout",
          "text": [
            "The ASCII value of 'a' is 97\n"
          ]
        }
      ]
    },
    {
      "cell_type": "code",
      "source": [
        "# Q. 5 Write a Python Program to Make a Simple Calculator with 4 basic mathematical operations.\n",
        "\n",
        "def sum(num1 , num2):\n",
        " ans = num1 + num2\n",
        " print(f\" Sum of the Two Numbers given by you is : {ans} \" )\n",
        "\n",
        "def mul(num1 , num2):\n",
        "    ans = num1*num2\n",
        "    print(f\" Multiplication  of the Two Numbers given by you is : {ans} \" )\n",
        "\n",
        "def sub(num1 , num2):\n",
        "    ans = num1-num2\n",
        "    print(f\" Subtraction  of the Two Numbers given by you is : {ans} \" )\n",
        "\n",
        "def div(num1 , num2):\n",
        "    ans = num1/num2\n",
        "    print(f\" Division  of the Two Numbers given by you is : {ans} \" )\n",
        "    \n",
        "\n",
        "menu = \"\"\"            MENU\n",
        "                  PRESS 1 FOR ADDITION\n",
        "                  PRESS 2 FOR MULTIPLICATION\n",
        "                  PRESS 3 FOR SUBSTRACTION\n",
        "                  PRESS 4 FOR DIVISION\n",
        "                  \n",
        "        \"\"\"\n",
        "print(menu) \n",
        "\n",
        "choice = int(input(\"please enter your choice from 1 - 4 : \"))\n",
        "print(choice)\n",
        "num1 = int(input(\"please enter Num 1 : \"))\n",
        "num2 = int(input(\"please enter Num 2 ; \"))\n",
        "\n",
        "if choice == 1:\n",
        "    sum(num1 , num2)\n",
        "if choice == 2:\n",
        "    mul(num1 , num2)\n",
        "if choice == 3:\n",
        "    sub(num1 , num2)\n",
        "if choice == 4:\n",
        "    div(num1 , num2)"
      ],
      "metadata": {
        "colab": {
          "base_uri": "https://localhost:8080/"
        },
        "id": "E0jliH71FpKn",
        "outputId": "6c203276-0bbf-4035-f5fa-21f93f48c33e"
      },
      "execution_count": 16,
      "outputs": [
        {
          "output_type": "stream",
          "name": "stdout",
          "text": [
            "            MENU\n",
            "                  PRESS 1 FOR ADDITION\n",
            "                  PRESS 2 FOR MULTIPLICATION\n",
            "                  PRESS 3 FOR SUBSTRACTION\n",
            "                  PRESS 4 FOR DIVISION\n",
            "                  \n",
            "        \n",
            "please enter your choice from 1 - 4 : 1\n",
            "1\n",
            "please enter Num 1 : 20\n",
            "please enter Num 2 ; 20\n",
            " Sum of the Two Numbers given by you is : 40 \n"
          ]
        }
      ]
    },
    {
      "cell_type": "code",
      "source": [
        "# Q.5 Write a Python Program to Make a Simple Calculator with 4 basic mathematical operations.\n",
        "\n",
        "def add(x, y):\n",
        "    return x + y\n",
        "\n",
        "def subtract(x, y):\n",
        "    return x - y\n",
        "\n",
        "def multiply(x, y):\n",
        "    return x * y\n",
        "\n",
        "def divide(x, y):\n",
        "    return x / y\n",
        "\n",
        "\n",
        "print(\"Select operation.\")\n",
        "print(\"1.Add\")\n",
        "print(\"2.Subtract\")\n",
        "print(\"3.Multiply\")\n",
        "print(\"4.Divide\")\n",
        "\n",
        "while True:\n",
        "    \n",
        "    choice = input(\"Enter choice(1/2/3/4): \")\n",
        "\n",
        "    \n",
        "    if choice in ('1', '2', '3', '4'):\n",
        "        num1 = float(input(\"Enter first number: \"))\n",
        "        num2 = float(input(\"Enter second number: \"))\n",
        "\n",
        "        if choice == '1':\n",
        "            print(num1, \"+\", num2, \"=\", add(num1, num2))\n",
        "\n",
        "        elif choice == '2':\n",
        "            print(num1, \"-\", num2, \"=\", subtract(num1, num2))\n",
        "\n",
        "        elif choice == '3':\n",
        "            print(num1, \"*\", num2, \"=\", multiply(num1, num2))\n",
        "\n",
        "        elif choice == '4':\n",
        "            print(num1, \"/\", num2, \"=\", divide(num1, num2))\n",
        "        \n",
        "        \n",
        "        next_calculation = input(\"Let's do next calculation? (yes/no): \")\n",
        "        if next_calculation == \"no\":\n",
        "          break\n",
        "    \n",
        "    else:\n",
        "        print(\"Invalid Input\")\n"
      ],
      "metadata": {
        "colab": {
          "base_uri": "https://localhost:8080/"
        },
        "id": "Egf6fmKVM3Pk",
        "outputId": "84d7b8c6-2cea-45be-e34d-88f7426cd14a"
      },
      "execution_count": 17,
      "outputs": [
        {
          "name": "stdout",
          "output_type": "stream",
          "text": [
            "Select operation.\n",
            "1.Add\n",
            "2.Subtract\n",
            "3.Multiply\n",
            "4.Divide\n",
            "Enter choice(1/2/3/4): 2\n",
            "Enter first number: 20\n",
            "Enter second number: 30\n",
            "20.0 - 30.0 = -10.0\n",
            "Let's do next calculation? (yes/no): no\n"
          ]
        }
      ]
    }
  ]
}