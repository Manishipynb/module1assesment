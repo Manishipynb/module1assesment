{
  "nbformat": 4,
  "nbformat_minor": 0,
  "metadata": {
    "colab": {
      "provenance": [],
      "authorship_tag": "ABX9TyPY2brw7FHZGSeN64AAUEhn",
      "include_colab_link": true
    },
    "kernelspec": {
      "name": "python3",
      "display_name": "Python 3"
    },
    "language_info": {
      "name": "python"
    }
  },
  "cells": [
    {
      "cell_type": "markdown",
      "metadata": {
        "id": "view-in-github",
        "colab_type": "text"
      },
      "source": [
        "<a href=\"https://colab.research.google.com/github/Manishipynb/module1assesment/blob/main/Python_Basic_Assignments_No_2.ipynb\" target=\"_parent\"><img src=\"https://colab.research.google.com/assets/colab-badge.svg\" alt=\"Open In Colab\"/></a>"
      ]
    },
    {
      "cell_type": "markdown",
      "source": [
        "### Q.1 \n",
        "### What are the two values of the Boolean data type ?\n",
        "### How do you write them ?"
      ],
      "metadata": {
        "id": "alLFOSKxgOUg"
      }
    },
    {
      "cell_type": "markdown",
      "source": [
        "### A.1\n",
        "### In Python Boolean Data type has two values True and False.\n",
        "### we write tham as \"True\" & \"False\" , T & F shoulld be in CAPITAL ."
      ],
      "metadata": {
        "id": "Gs7m-AafhJDk"
      }
    },
    {
      "cell_type": "markdown",
      "source": [
        "### Q.2\n",
        "### What are the three different types of Boolean operators ?\n"
      ],
      "metadata": {
        "id": "O1Xw8Ze0iqMp"
      }
    },
    {
      "cell_type": "markdown",
      "source": [
        "### A.2\n",
        "### There are three different types of Boolean Operators in Python.\n",
        " \n",
        "\n",
        "1.   AND\n",
        "2.   OR\n",
        "3.   NOT\n",
        "\n"
      ],
      "metadata": {
        "id": "O2LCvlgMi0Nj"
      }
    },
    {
      "cell_type": "markdown",
      "source": [
        "### Q.3\n",
        "### Make a list of each Boolean Operator's truth tables.\n",
        "### Every possible combination of Boolean values for the operator and what it evaluate."
      ],
      "metadata": {
        "id": "oQ_oCyL0jibK"
      }
    },
    {
      "cell_type": "markdown",
      "source": [
        "### A.3\n",
        "\n",
        "### AND operator = When we want ALL the condition to be true , we use AND operator.\n",
        "\n",
        "### Vegetable |  Salt  |  Dish\n",
        "\n",
        "### False     |  False | False\n",
        "### True      |  False | False\n",
        "### False     |  True  | False\n",
        "### True      |  True  | True\n",
        "\n",
        "\n",
        "### OR operator = When we want ANYONE condition to be true , we use OR operator.\n",
        "\n",
        "### Car     |   Bike  |  Travel_100_km\n",
        "### False   |  False  |   False\n",
        "### True    |  False  |   True\n",
        "### False   |  True   |   True\n",
        "### True    |  True   |   True"
      ],
      "metadata": {
        "id": "sAA1raQIkfJq"
      }
    },
    {
      "cell_type": "markdown",
      "source": [
        "### Q.4 \n",
        "### What are the Values of the following Expressions ?"
      ],
      "metadata": {
        "id": "jgwGuBSWtGR6"
      }
    },
    {
      "cell_type": "markdown",
      "source": [
        "### A.4\n",
        "\n",
        "\n",
        "### (5>4) and (3==5) = False\n",
        "### not(5>4) = False\n",
        "### (5>4) or (3==5) = True\n",
        "### not((5>4) or (3==5)) = False\n",
        "### ( True and True ) and ( True == False ) = False\n",
        "### ( not False ) or ( not True ) = True\n"
      ],
      "metadata": {
        "id": "E8IV3U-Vtjbx"
      }
    },
    {
      "cell_type": "markdown",
      "source": [
        "### Q.5\n",
        "### What are the six Comparison Operators ?\n"
      ],
      "metadata": {
        "id": "CXeIr-Y_144b"
      }
    },
    {
      "cell_type": "markdown",
      "source": [
        "### A.5 \n",
        "\n",
        "### 1. Equal to\n",
        "### 2. Not Equal to\n",
        "### 3. Greater Than\n",
        "### 4. Less Than\n",
        "### 5. Greater than and Equal to\n",
        "### 6. Less than and Equal to"
      ],
      "metadata": {
        "id": "4OCcofjd2AxQ"
      }
    },
    {
      "cell_type": "markdown",
      "source": [
        "### Q.6\n",
        "### How to do tell the difference between the qual to and assignmeant operators ?\n",
        "### Describe a condition and when you would use one."
      ],
      "metadata": {
        "id": "xxBgOMy62Yvg"
      }
    },
    {
      "cell_type": "markdown",
      "source": [
        "### A.6\n",
        "\n",
        "### = is used for assignation of value. \n",
        "### = is a simple assignation operator. It asssigns values from right side operands to the left side operands.\n",
        "\n",
        "### == is used for comparison of two variables list or string\n",
        "### == check if the value of two operant are equal to or not. If yes , the condition became true and it return non zero value.\n",
        "\n",
        "### Example \n",
        "\n",
        "### For a = 10 , the value 10 will be stored in the integer variable a.\n",
        "### For a == 10 , this will check if the value stores in variable a is equal to 10 or not."
      ],
      "metadata": {
        "id": "4rsdi7Ex2z9Q"
      }
    },
    {
      "cell_type": "markdown",
      "source": [
        "### Q.7\n",
        "\n",
        "### Identify the blocks in code "
      ],
      "metadata": {
        "id": "52WFoMkH6M8K"
      }
    },
    {
      "cell_type": "code",
      "source": [
        "# A . 7 first block is to assig the value , data to variable\n",
        "\n",
        "spam = 0\n",
        "\n",
        "# second block is now with the help of if statement &  comparison operator have to check the value and accordingly give print statement.\n",
        "\n",
        "if spam == 10:\n",
        "  print('eggs')\n",
        "if spam>5:\n",
        "  print('bacon')\n",
        "\n",
        "### third block is if both the above if statment and comparison operate , code will execute else statement with print value.\n",
        "\n",
        "else:\n",
        "  print('spam')"
      ],
      "metadata": {
        "colab": {
          "base_uri": "https://localhost:8080/"
        },
        "id": "-aCxnws8Ahr3",
        "outputId": "6a180452-a807-473f-b4ce-e943953e9603"
      },
      "execution_count": 5,
      "outputs": [
        {
          "output_type": "stream",
          "name": "stdout",
          "text": [
            "spam\n"
          ]
        }
      ]
    },
    {
      "cell_type": "markdown",
      "source": [
        "### Q.8\n",
        "### Write a code that prints Hello if 1 is stored in spam , prints Howdy if 2 is stored in spam ,and prints Greetings if anything else stored in spam."
      ],
      "metadata": {
        "id": "wy5rDUrbFvqk"
      }
    },
    {
      "cell_type": "code",
      "source": [
        "spam = 1  \n",
        "if spam == 1:\n",
        "  print(\"Hello\")\n",
        "  if spam == 2:\n",
        "    print(\"Howdy\")\n",
        "else:\n",
        "    print(\"Greetings\")"
      ],
      "metadata": {
        "colab": {
          "base_uri": "https://localhost:8080/"
        },
        "id": "b8oHcUgv_zdG",
        "outputId": "b5298193-7534-4a01-bfcf-ceac46aef098"
      },
      "execution_count": 15,
      "outputs": [
        {
          "output_type": "stream",
          "name": "stdout",
          "text": [
            "Hello\n"
          ]
        }
      ]
    },
    {
      "cell_type": "markdown",
      "source": [
        "### Q.9\n",
        "### If your programme is stuck in an endless loop , what keys you'll press ?"
      ],
      "metadata": {
        "id": "hvogjUUuBFrC"
      }
    },
    {
      "cell_type": "markdown",
      "source": [
        "### A.9\n",
        "### CTRL + C "
      ],
      "metadata": {
        "id": "qAnDgkXSBXsq"
      }
    },
    {
      "cell_type": "markdown",
      "source": [
        "### Q.10\n",
        "\n",
        "### How can you tell the difference between break and continue ?"
      ],
      "metadata": {
        "id": "_uMxgmc8O2GN"
      }
    },
    {
      "cell_type": "markdown",
      "source": [
        "### A.10\n",
        "\n",
        "### Break Statement\n",
        "### 1] It is used to stop the execution of the loop at a specific condition.\n",
        "### 2] In the break statement , the control exits form the loop.\n",
        "\n",
        "### Continue Statement\n",
        "### 1] It is used to skip a particular iteration of the loop.\n",
        "### 2] In the continue statement , the control remains within the loop."
      ],
      "metadata": {
        "id": "foC88qiQPDFE"
      }
    },
    {
      "cell_type": "markdown",
      "source": [
        "### Q.11\n",
        "### In a for loop , what is the difference between following range ?"
      ],
      "metadata": {
        "id": "o0KfhFKako8m"
      }
    },
    {
      "cell_type": "code",
      "source": [
        "# A.11 , Case - 1\n",
        "\n",
        "for a in  range(10):\n",
        " print(a)\n",
        "\n",
        " # in this range loop will give value starting from 0 to upto 9 ( 10 digit total) , in this loop starting number will always 0."
      ],
      "metadata": {
        "colab": {
          "base_uri": "https://localhost:8080/"
        },
        "id": "iknrjsB-lTrs",
        "outputId": "21e6db9a-a642-4cff-f719-451c32024027"
      },
      "execution_count": 5,
      "outputs": [
        {
          "output_type": "stream",
          "name": "stdout",
          "text": [
            "0\n",
            "1\n",
            "2\n",
            "3\n",
            "4\n",
            "5\n",
            "6\n",
            "7\n",
            "8\n",
            "9\n"
          ]
        }
      ]
    },
    {
      "cell_type": "code",
      "source": [
        " # A.11 , Case -2\n",
        "\n",
        " for b in range(0,10):\n",
        "   print(b)\n",
        "\n",
        "   # in this range loop will give value from 0 to upto 9 , 10 will not include. in this type range always starting number is given, in this case is 0.\n",
        "   # in this range starting number and end number is given."
      ],
      "metadata": {
        "colab": {
          "base_uri": "https://localhost:8080/"
        },
        "id": "Xeg60ZBPmMp3",
        "outputId": "f5ec7fd1-f8ff-4250-ca6b-90409cb7cb91"
      },
      "execution_count": 6,
      "outputs": [
        {
          "output_type": "stream",
          "name": "stdout",
          "text": [
            "0\n",
            "1\n",
            "2\n",
            "3\n",
            "4\n",
            "5\n",
            "6\n",
            "7\n",
            "8\n",
            "9\n"
          ]
        }
      ]
    },
    {
      "cell_type": "code",
      "source": [
        "# A.11 , Case - 3\n",
        "\n",
        "for c in range(0,10,1):\n",
        "  print(c)\n",
        "\n",
        "  # in this range 3 numbers given , 1] from which number to start ? , 2] end number , 3] by which number range skip the number.\n",
        "  # here starting range number is given 0 , end number of range is give 10 , and range to skip the number is 1."
      ],
      "metadata": {
        "colab": {
          "base_uri": "https://localhost:8080/"
        },
        "id": "c-OWa8bsnE90",
        "outputId": "f263eb9a-7b84-46d0-baa0-e544badd5b74"
      },
      "execution_count": 7,
      "outputs": [
        {
          "output_type": "stream",
          "name": "stdout",
          "text": [
            "0\n",
            "1\n",
            "2\n",
            "3\n",
            "4\n",
            "5\n",
            "6\n",
            "7\n",
            "8\n",
            "9\n"
          ]
        }
      ]
    },
    {
      "cell_type": "markdown",
      "source": [
        "### Q.12\n",
        "### Write a short program that prints the number 1 to 10 using a for loop.then a write a equilant program that prints the number 1 to 10 using a while loop."
      ],
      "metadata": {
        "id": "Ig3EyqLcnyR7"
      }
    },
    {
      "cell_type": "code",
      "source": [
        "# A.12 , for loop\n",
        "\n",
        "\n",
        "for a in range(1,11):\n",
        "  print(a)"
      ],
      "metadata": {
        "colab": {
          "base_uri": "https://localhost:8080/"
        },
        "id": "gfqnf46SoQZP",
        "outputId": "585bc9f9-3f37-4b89-ad6a-dc75222e7f3c"
      },
      "execution_count": 8,
      "outputs": [
        {
          "output_type": "stream",
          "name": "stdout",
          "text": [
            "1\n",
            "2\n",
            "3\n",
            "4\n",
            "5\n",
            "6\n",
            "7\n",
            "8\n",
            "9\n",
            "10\n"
          ]
        }
      ]
    },
    {
      "cell_type": "code",
      "source": [
        "# A.12 , while loop\n",
        "\n",
        "i = 1\n",
        "while i<=10:\n",
        "  print(i)\n",
        "  i += 1"
      ],
      "metadata": {
        "colab": {
          "base_uri": "https://localhost:8080/"
        },
        "id": "WH_sQ0olocM9",
        "outputId": "b90c7832-a0c0-4314-de3a-4f636d8666ee"
      },
      "execution_count": 9,
      "outputs": [
        {
          "output_type": "stream",
          "name": "stdout",
          "text": [
            "1\n",
            "2\n",
            "3\n",
            "4\n",
            "5\n",
            "6\n",
            "7\n",
            "8\n",
            "9\n",
            "10\n"
          ]
        }
      ]
    },
    {
      "cell_type": "markdown",
      "source": [
        "### Q. 13\n",
        "### If you had a function named bacon() inside a module name spam , how would you call it after importing spam ?"
      ],
      "metadata": {
        "id": "0ioxDtqHpU3e"
      }
    },
    {
      "cell_type": "markdown",
      "source": [
        "### A.13\n",
        "### import spam ( importing module name spam )\n",
        "### a = 10\n",
        "### b = 20\n",
        "### print(spam.bacon(a+b) { we can use the function by using . ( dot ) }"
      ],
      "metadata": {
        "id": "PbmaOdw7pkds"
      }
    }
  ]
}