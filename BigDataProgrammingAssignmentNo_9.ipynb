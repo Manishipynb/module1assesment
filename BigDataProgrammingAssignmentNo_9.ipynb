{
  "nbformat": 4,
  "nbformat_minor": 0,
  "metadata": {
    "colab": {
      "provenance": [],
      "authorship_tag": "ABX9TyOvsPNy76PwNj/Dqd5R/4q6",
      "include_colab_link": true
    },
    "kernelspec": {
      "name": "python3",
      "display_name": "Python 3"
    },
    "language_info": {
      "name": "python"
    }
  },
  "cells": [
    {
      "cell_type": "markdown",
      "metadata": {
        "id": "view-in-github",
        "colab_type": "text"
      },
      "source": [
        "<a href=\"https://colab.research.google.com/github/Manishipynb/module1assesment/blob/main/BigDataProgrammingAssignmentNo_9.ipynb\" target=\"_parent\"><img src=\"https://colab.research.google.com/assets/colab-badge.svg\" alt=\"Open In Colab\"/></a>"
      ]
    },
    {
      "cell_type": "markdown",
      "source": [
        "### Q.1 Write a Python program to check if the given number is a Disarium Number?"
      ],
      "metadata": {
        "id": "aUK61W2ayZ2H"
      }
    },
    {
      "cell_type": "code",
      "source": [
        "# A.1\n",
        "\n",
        "def task1(num):\n",
        "    \n",
        "    try:\n",
        "        if type(num) != int:\n",
        "            raise Exception(\"Not an integer\")\n",
        "            \n",
        "        num = str(num)\n",
        "        total = 0\n",
        "        for i in range(0, len(num)):\n",
        "            n = int(num[i])\n",
        "            n = n**(i+1)\n",
        "            total = total + n\n",
        "\n",
        "        if total == int(num):\n",
        "            return True\n",
        "        else:\n",
        "            return False\n",
        "\n",
        "    except Exception as e:\n",
        "        print(e)"
      ],
      "metadata": {
        "id": "XRrF4t0wyeI1"
      },
      "execution_count": 1,
      "outputs": []
    },
    {
      "cell_type": "code",
      "source": [
        "task1(999)"
      ],
      "metadata": {
        "colab": {
          "base_uri": "https://localhost:8080/"
        },
        "id": "p1otpcSgyk1M",
        "outputId": "60c617d8-4cb2-42b6-d6c1-231814975fe7"
      },
      "execution_count": 2,
      "outputs": [
        {
          "output_type": "execute_result",
          "data": {
            "text/plain": [
              "False"
            ]
          },
          "metadata": {},
          "execution_count": 2
        }
      ]
    },
    {
      "cell_type": "markdown",
      "source": [
        "### Q.2 Write a Python program to print all disarium numbers between 1 to 100?"
      ],
      "metadata": {
        "id": "eJDqOrzVyom0"
      }
    },
    {
      "cell_type": "code",
      "source": [
        "# A.2\n",
        "\n",
        "for i in range(1, 101):\n",
        "    if task1(i) == True:\n",
        "        print(i, end = ' ')"
      ],
      "metadata": {
        "colab": {
          "base_uri": "https://localhost:8080/"
        },
        "id": "hG2eltr8yuVs",
        "outputId": "f378252a-df6f-4829-8c82-0d6e6d0f8d2e"
      },
      "execution_count": 3,
      "outputs": [
        {
          "output_type": "stream",
          "name": "stdout",
          "text": [
            "1 2 3 4 5 6 7 8 9 89 "
          ]
        }
      ]
    },
    {
      "cell_type": "markdown",
      "source": [
        "### Q.3 Write a Python program to check if the given number is Happy Number?"
      ],
      "metadata": {
        "id": "NjGChEwNy1Et"
      }
    },
    {
      "cell_type": "code",
      "source": [
        "# A.3\n",
        "\n",
        "def task3(num):\n",
        "\n",
        "    res = num; \n",
        "    def isHappy(num):    \n",
        "        r = 0;  \n",
        "        s = 0\n",
        "        while(num > 0):    \n",
        "            r = num%10    \n",
        "            s += r**2  \n",
        "            num //= 10    \n",
        "        return s     \n",
        "\n",
        "    while(res != 1 and res != 4):    \n",
        "        res = isHappy(res)    \n",
        "\n",
        "    if(res == 1):    \n",
        "        return True\n",
        "    elif(res == 4):    \n",
        "        return False"
      ],
      "metadata": {
        "id": "5tWnHb9my50c"
      },
      "execution_count": 4,
      "outputs": []
    },
    {
      "cell_type": "code",
      "source": [
        "task3(999)"
      ],
      "metadata": {
        "colab": {
          "base_uri": "https://localhost:8080/"
        },
        "id": "z4mSUBArzBMs",
        "outputId": "2052103f-6d85-4f74-d6e8-b33ecac3d802"
      },
      "execution_count": 6,
      "outputs": [
        {
          "output_type": "execute_result",
          "data": {
            "text/plain": [
              "False"
            ]
          },
          "metadata": {},
          "execution_count": 6
        }
      ]
    },
    {
      "cell_type": "markdown",
      "source": [
        "### Q.4 Write a Python program to print all happy numbers between 1 and 100?"
      ],
      "metadata": {
        "id": "4451HmuqzISD"
      }
    },
    {
      "cell_type": "code",
      "source": [
        "# A.4\n",
        "\n",
        "for i in range(1, 101):\n",
        "    if task3(i) == True:\n",
        "        print(i, end = ' ')"
      ],
      "metadata": {
        "colab": {
          "base_uri": "https://localhost:8080/"
        },
        "id": "0lD0szeEzOZr",
        "outputId": "a708cb4e-9aa9-47ea-f1a0-286344e963c7"
      },
      "execution_count": 7,
      "outputs": [
        {
          "output_type": "stream",
          "name": "stdout",
          "text": [
            "1 7 10 13 19 23 28 31 32 44 49 68 70 79 82 86 91 94 97 100 "
          ]
        }
      ]
    },
    {
      "cell_type": "markdown",
      "source": [
        "### Q.5 Write a Python program to determine whether the given number is a Harshad Number?"
      ],
      "metadata": {
        "id": "Yij57x7MzSVr"
      }
    },
    {
      "cell_type": "code",
      "source": [
        "# A.5\n",
        "\n",
        "def task5(num):\n",
        "    temp = num\n",
        "    total = 0\n",
        "    while (temp > 0):\n",
        "        total = total + (temp%10)\n",
        "        temp = temp//10\n",
        "        \n",
        "    if num%total==0:\n",
        "        print(\"Harshad Number\")\n",
        "    else:\n",
        "        print(\"Not Harshad Number\")"
      ],
      "metadata": {
        "id": "N0AXdqlgzYzE"
      },
      "execution_count": 8,
      "outputs": []
    },
    {
      "cell_type": "code",
      "source": [
        "task5(999)"
      ],
      "metadata": {
        "colab": {
          "base_uri": "https://localhost:8080/"
        },
        "id": "Ba-7bW8WzeHE",
        "outputId": "fdce4e43-94f8-4c8e-cd96-79c90011c5ef"
      },
      "execution_count": 9,
      "outputs": [
        {
          "output_type": "stream",
          "name": "stdout",
          "text": [
            "Harshad Number\n"
          ]
        }
      ]
    },
    {
      "cell_type": "markdown",
      "source": [
        "### Q.6 Write a Python program to print all pronic numbers between 1 and 100?"
      ],
      "metadata": {
        "id": "C_2kUw-3zhzE"
      }
    },
    {
      "cell_type": "code",
      "source": [
        "# A.6\n",
        "\n",
        "i = 0\n",
        "while True:\n",
        "    pronicNum = i*(i+1)\n",
        "    i = i + 1\n",
        "    if pronicNum > 100:\n",
        "        break\n",
        "    print(pronicNum, end = ' ')"
      ],
      "metadata": {
        "colab": {
          "base_uri": "https://localhost:8080/"
        },
        "id": "_xp48OgEzmws",
        "outputId": "caf1bc39-deb3-463c-857f-d24fe2a8829e"
      },
      "execution_count": 10,
      "outputs": [
        {
          "output_type": "stream",
          "name": "stdout",
          "text": [
            "0 2 6 12 20 30 42 56 72 90 "
          ]
        }
      ]
    }
  ]
}