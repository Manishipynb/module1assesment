{
  "nbformat": 4,
  "nbformat_minor": 0,
  "metadata": {
    "colab": {
      "provenance": [],
      "authorship_tag": "ABX9TyNu90bOigOScJp7BYGa1cwi",
      "include_colab_link": true
    },
    "kernelspec": {
      "name": "python3",
      "display_name": "Python 3"
    },
    "language_info": {
      "name": "python"
    }
  },
  "cells": [
    {
      "cell_type": "markdown",
      "metadata": {
        "id": "view-in-github",
        "colab_type": "text"
      },
      "source": [
        "<a href=\"https://colab.research.google.com/github/Manishipynb/module1assesment/blob/main/PythonBasicAssignmentNo_10.ipynb\" target=\"_parent\"><img src=\"https://colab.research.google.com/assets/colab-badge.svg\" alt=\"Open In Colab\"/></a>"
      ]
    },
    {
      "cell_type": "markdown",
      "source": [
        "### Q.1\n",
        "### How do you distinguish between shutil.copy() and shutil.copytree()?"
      ],
      "metadata": {
        "id": "q6_0VSn53VQx"
      }
    },
    {
      "cell_type": "markdown",
      "source": [
        "### A.1\n",
        "### The shutil.copy() function will copy a single file, while shutil.copytree() will copy an entire folder, along with all its contents."
      ],
      "metadata": {
        "id": "-UOL1NC33bJp"
      }
    },
    {
      "cell_type": "markdown",
      "source": [
        "### Q.2\n",
        "### What function is used to rename files??"
      ],
      "metadata": {
        "id": "MO1nxJCT3g9Z"
      }
    },
    {
      "cell_type": "markdown",
      "source": [
        "### A.2\n",
        "### The shutil.move() function is used for renaming files, as well as moving them"
      ],
      "metadata": {
        "id": "9kHGxVx33nY5"
      }
    },
    {
      "cell_type": "markdown",
      "source": [
        "### Q.3\n",
        "### What is the difference between the delete functions in the send2trash and shutil modules?"
      ],
      "metadata": {
        "id": "uec2C_WK3tUh"
      }
    },
    {
      "cell_type": "markdown",
      "source": [
        "### A.3\n",
        "### The send2trash functions will move a file or folder to the recycle bin, while shutil functions will permanently delete files and folders."
      ],
      "metadata": {
        "id": "aYXfIBcb30ah"
      }
    },
    {
      "cell_type": "markdown",
      "source": [
        "### Q.4\n",
        "### ZipFile objects have a close() method just like File objects’ close() method. What ZipFile method is equivalent to File objects’ open() method?"
      ],
      "metadata": {
        "id": "Z8ZH3yWX35AB"
      }
    },
    {
      "cell_type": "markdown",
      "source": [
        "### A.4\n",
        "###  The zipfile.ZipFile() function is equivalent to the open() function; the first argument is the filename, and the second argument is the mode to open the ZIP file in (read, write, or append)."
      ],
      "metadata": {
        "id": "TjzXP9sm4ApR"
      }
    },
    {
      "cell_type": "markdown",
      "source": [
        "### Q.5\n",
        "### Create a programme that searches a folder tree for files with a certain file extension (such as .pdf or .jpg). Copy these files from whatever location they are in to a new folder."
      ],
      "metadata": {
        "id": "PI22W7Gp4Ijq"
      }
    },
    {
      "cell_type": "code",
      "source": [
        "import os, shutil\n",
        "\n",
        "sourcePath = input(\"Enter the absolute path of the source folder: \")\n",
        "fileExtType = input(\"Enter the type of file to copy (such as .pdf or .jpg): \").lower()\n",
        "destPath = input(\"Enter the absolute path of the destination folder: \")\n",
        "\n",
        "for foldername, subfolders, filenames in os.walk(sourcePath):\n",
        "  for filename in filenames:\n",
        "   if filename.lower().endswith(fileExtType):\n",
        " \n",
        "    copySourcePath = os.path.join(foldername, filename)\n",
        " \n",
        "    shutil.copy(copySourcePath, destPath)\n",
        "   else:\n",
        "      continue"
      ],
      "metadata": {
        "id": "NO0HZASa4O3i"
      },
      "execution_count": null,
      "outputs": []
    }
  ]
}