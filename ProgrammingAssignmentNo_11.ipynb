{
  "nbformat": 4,
  "nbformat_minor": 0,
  "metadata": {
    "colab": {
      "provenance": [],
      "authorship_tag": "ABX9TyP26S7ResNlMORW5JZ4wD55",
      "include_colab_link": true
    },
    "kernelspec": {
      "name": "python3",
      "display_name": "Python 3"
    },
    "language_info": {
      "name": "python"
    }
  },
  "cells": [
    {
      "cell_type": "markdown",
      "metadata": {
        "id": "view-in-github",
        "colab_type": "text"
      },
      "source": [
        "<a href=\"https://colab.research.google.com/github/Manishipynb/module1assesment/blob/main/ProgrammingAssignmentNo_11.ipynb\" target=\"_parent\"><img src=\"https://colab.research.google.com/assets/colab-badge.svg\" alt=\"Open In Colab\"/></a>"
      ]
    },
    {
      "cell_type": "markdown",
      "source": [
        "## Q.1\n",
        "## Write a Python Program to find words which are greater than given length k."
      ],
      "metadata": {
        "id": "9djUbEjXr40O"
      }
    },
    {
      "cell_type": "code",
      "source": [
        "# A.1\n",
        "\n",
        "def string_k(k, str):\n",
        "     \n",
        "    \n",
        "    string = []\n",
        "     \n",
        "    \n",
        "    text = str.split(\" \")\n",
        "     \n",
        "    \n",
        "    for x in text:\n",
        "         \n",
        "       \n",
        "        if len(x) > k:\n",
        "             \n",
        "           \n",
        "            string.append(x)\n",
        "             \n",
        "    \n",
        "    return string\n",
        " \n",
        " \n",
        "\n",
        "k = 3\n",
        "str =\"World in Beautifull , Lets save our Planet\"\n",
        "print(string_k(k, str))"
      ],
      "metadata": {
        "colab": {
          "base_uri": "https://localhost:8080/"
        },
        "id": "9yDhsdovsJin",
        "outputId": "74cba7cd-7d64-4463-999b-687123f4e7b1"
      },
      "execution_count": 1,
      "outputs": [
        {
          "output_type": "stream",
          "name": "stdout",
          "text": [
            "['World', 'Beautifull', 'Lets', 'save', 'Planet']\n"
          ]
        }
      ]
    },
    {
      "cell_type": "markdown",
      "source": [
        "## Q.2\n",
        "## Write a Python Program for removing i-th character from a string."
      ],
      "metadata": {
        "id": "AtgRWjwus-lE"
      }
    },
    {
      "cell_type": "code",
      "source": [
        "# A.2\n",
        "\n",
        "def remove(string, i): \n",
        "  \n",
        "    \n",
        "    a = string[ : i] \n",
        "      \n",
        "    \n",
        "    b = string[i + 1: ]\n",
        "      \n",
        "    \n",
        "    return a + b\n",
        "      \n",
        "\n",
        "if __name__ == '__main__':\n",
        "      \n",
        "    string = \"WorldisBeautifull\"\n",
        "      \n",
        "   \n",
        "    i = 5\n",
        "    \n",
        "    \n",
        "    print(remove(string, i))"
      ],
      "metadata": {
        "colab": {
          "base_uri": "https://localhost:8080/"
        },
        "id": "6sZzwQmns6W7",
        "outputId": "461325bc-c0cd-474c-a8ba-ac7b6f35679b"
      },
      "execution_count": 2,
      "outputs": [
        {
          "output_type": "stream",
          "name": "stdout",
          "text": [
            "WorldsBeautifull\n"
          ]
        }
      ]
    },
    {
      "cell_type": "markdown",
      "source": [
        "## Q.3\n",
        "## Write a Python Program to split and joint a string."
      ],
      "metadata": {
        "id": "bDew_TPAtqt0"
      }
    },
    {
      "cell_type": "code",
      "source": [
        "# A.3\n",
        "\n",
        "s = 'Hello World'\n",
        "\n",
        "print(s.split(\" \"))\n",
        "\n",
        "print(\"-\".join(s.split()))"
      ],
      "metadata": {
        "colab": {
          "base_uri": "https://localhost:8080/"
        },
        "id": "BBP0uNELtyGd",
        "outputId": "d6ae3654-cd19-49ef-a72b-e5d416bb0b9d"
      },
      "execution_count": 4,
      "outputs": [
        {
          "output_type": "stream",
          "name": "stdout",
          "text": [
            "['Hello', 'World']\n",
            "Hello-World\n"
          ]
        }
      ]
    },
    {
      "cell_type": "markdown",
      "source": [
        "## Q.4\n",
        "## Write a Python program to check if a given string is binary string or not ."
      ],
      "metadata": {
        "id": "fLJcy-kguMjb"
      }
    },
    {
      "cell_type": "code",
      "source": [
        "# A.4\n",
        "\n",
        "string = \"01010101010\"\n",
        "if(string.count('0')+string.count('1')==len(string)):\n",
        "    print(\"Yes\")\n",
        "else:\n",
        "    print(\"No\")"
      ],
      "metadata": {
        "colab": {
          "base_uri": "https://localhost:8080/"
        },
        "id": "XYzdo2GsuLXL",
        "outputId": "bd80f526-c7e5-4848-93ec-3eb7e2674f33"
      },
      "execution_count": 5,
      "outputs": [
        {
          "output_type": "stream",
          "name": "stdout",
          "text": [
            "Yes\n"
          ]
        }
      ]
    },
    {
      "cell_type": "code",
      "source": [
        "# A.4\n",
        " \n",
        "def check(string):\n",
        " \n",
        "  \n",
        "    p = set(string)\n",
        " \n",
        "    \n",
        "    s = {'0', '1'}\n",
        " \n",
        "    \n",
        "    if s == p or p == {'0'} or p == {'1'}:\n",
        "        print(\"Yes\")\n",
        "    else:\n",
        "        print(\"No\")\n",
        " \n",
        " \n",
        "\n",
        "if __name__ == \"__main__\":\n",
        " \n",
        "    string = \"101010000111\"\n",
        " \n",
        "   \n",
        "    check(string)"
      ],
      "metadata": {
        "colab": {
          "base_uri": "https://localhost:8080/"
        },
        "id": "5laivqzlu5Dj",
        "outputId": "cbb088c1-563a-4992-e326-e21aabebf090"
      },
      "execution_count": 6,
      "outputs": [
        {
          "output_type": "stream",
          "name": "stdout",
          "text": [
            "Yes\n"
          ]
        }
      ]
    },
    {
      "cell_type": "markdown",
      "source": [
        "## Q.5\n",
        "## Write a Python Program to find uncommon words from two strings."
      ],
      "metadata": {
        "id": "T8H6qWduvIwl"
      }
    },
    {
      "cell_type": "code",
      "source": [
        "# A.5\n",
        "\n",
        "def UncommonWords(A, B):\n",
        " \n",
        "    \n",
        "    count = {}\n",
        "     \n",
        "    \n",
        "    for word in A.split():\n",
        "        count[word] = count.get(word, 0) + 1\n",
        "     \n",
        "   \n",
        "    for word in B.split():\n",
        "        count[word] = count.get(word, 0) + 1\n",
        " \n",
        "    \n",
        "    return [word for word in count if count[word] == 1]\n",
        " \n",
        "\n",
        "A = \"Apple Mango Banana\"\n",
        "B = \"Apple Grapes\"\n",
        " \n",
        "\n",
        "print(UncommonWords(A, B))"
      ],
      "metadata": {
        "colab": {
          "base_uri": "https://localhost:8080/"
        },
        "id": "CAwFfAImvVi7",
        "outputId": "019373ed-e8d3-460d-e2c7-62e24dc5958a"
      },
      "execution_count": 7,
      "outputs": [
        {
          "output_type": "stream",
          "name": "stdout",
          "text": [
            "['Mango', 'Banana', 'Grapes']\n"
          ]
        }
      ]
    },
    {
      "cell_type": "markdown",
      "source": [
        "## Q.6\n",
        "## Write a Python Program to find all duplicate characters in string."
      ],
      "metadata": {
        "id": "7lsTA5Xxv01k"
      }
    },
    {
      "cell_type": "code",
      "source": [
        "# A.6\n",
        "\n",
        "from collections import Counter\n",
        " \n",
        " \n",
        "def find_dup_char(input):\n",
        " \n",
        "   \n",
        "    WC = Counter(input)\n",
        " \n",
        "   \n",
        "    for letter, count in WC.items():\n",
        "        if (count > 1):\n",
        "            print(letter)\n",
        " \n",
        " \n",
        "\n",
        "if __name__ == \"__main__\":\n",
        "    input = 'applegrapesbanana'\n",
        "    find_dup_char(input)"
      ],
      "metadata": {
        "colab": {
          "base_uri": "https://localhost:8080/"
        },
        "id": "h7jo8Ktsv9pO",
        "outputId": "b358cd75-a126-4257-ae64-27fdbce216d2"
      },
      "execution_count": 8,
      "outputs": [
        {
          "output_type": "stream",
          "name": "stdout",
          "text": [
            "a\n",
            "p\n",
            "e\n",
            "n\n"
          ]
        }
      ]
    },
    {
      "cell_type": "markdown",
      "source": [
        "## Q.7\n",
        "## Write a Python Program to check if a string contains any special character."
      ],
      "metadata": {
        "id": "p_epmndLwVak"
      }
    },
    {
      "cell_type": "code",
      "source": [
        "# A.7\n",
        "\n",
        "import re\n",
        " \n",
        "\n",
        "def run(string):\n",
        " \n",
        "    \n",
        "    regex = re.compile('[@_!#$%^&*()<>?/\\|}{~:]')\n",
        "     \n",
        "    \n",
        "    if(regex.search(string) == None):\n",
        "        print(\"String is accepted\")\n",
        "         \n",
        "    else:\n",
        "        print(\"String is not accepted.\")\n",
        "     \n",
        " \n",
        "\n",
        "if __name__ == '__main__' :\n",
        "     \n",
        "    \n",
        "    string = \"hello@world!\"\n",
        "     \n",
        "    \n",
        "    run(string)"
      ],
      "metadata": {
        "colab": {
          "base_uri": "https://localhost:8080/"
        },
        "id": "SRckLifJweBr",
        "outputId": "5848b1db-361f-4c1d-e977-fdf38d34c6df"
      },
      "execution_count": 9,
      "outputs": [
        {
          "output_type": "stream",
          "name": "stdout",
          "text": [
            "String is not accepted.\n"
          ]
        }
      ]
    }
  ]
}