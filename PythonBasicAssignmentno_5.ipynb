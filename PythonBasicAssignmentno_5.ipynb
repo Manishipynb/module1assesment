{
  "nbformat": 4,
  "nbformat_minor": 0,
  "metadata": {
    "colab": {
      "provenance": [],
      "authorship_tag": "ABX9TyOS4n6vlKI9wjE7Vojg45YQ",
      "include_colab_link": true
    },
    "kernelspec": {
      "name": "python3",
      "display_name": "Python 3"
    },
    "language_info": {
      "name": "python"
    }
  },
  "cells": [
    {
      "cell_type": "markdown",
      "metadata": {
        "id": "view-in-github",
        "colab_type": "text"
      },
      "source": [
        "<a href=\"https://colab.research.google.com/github/Manishipynb/module1assesment/blob/main/PythonBasicAssignmentno_5.ipynb\" target=\"_parent\"><img src=\"https://colab.research.google.com/assets/colab-badge.svg\" alt=\"Open In Colab\"/></a>"
      ]
    },
    {
      "cell_type": "markdown",
      "source": [
        "### Q.1\n",
        "### What does an empty dictionary's code look like ?\n",
        "\n"
      ],
      "metadata": {
        "id": "nd0HJH_CDr2d"
      }
    },
    {
      "cell_type": "markdown",
      "source": [
        "### A.1\n",
        "### my_dictionary = { }\n",
        "### empty dictionary's code look like empty set of curly braces { }"
      ],
      "metadata": {
        "id": "nOxQr5KTD_Xk"
      }
    },
    {
      "cell_type": "markdown",
      "source": [
        "### Q.2\n",
        "### What is the value of a dictionary value with the key 'foo' and the value 42 ?"
      ],
      "metadata": {
        "id": "7_rW7_ZjEWW1"
      }
    },
    {
      "cell_type": "code",
      "source": [
        "# A.2 \n",
        "{'foo' : 42 }"
      ],
      "metadata": {
        "id": "tmHRMvz8EjSP"
      },
      "execution_count": null,
      "outputs": []
    },
    {
      "cell_type": "markdown",
      "source": [
        "### Q.3\n",
        "### What is the most significant distinction between a dictionary and a list ?"
      ],
      "metadata": {
        "id": "Y5IMkRCbE9VN"
      }
    },
    {
      "cell_type": "markdown",
      "source": [
        "### A.3\n",
        "### The items stored in a dictionary are unordered, while the items in a list are ordered."
      ],
      "metadata": {
        "id": "8q3f02vQFN4H"
      }
    },
    {
      "cell_type": "markdown",
      "source": [
        "### Q.4\n",
        "### What happens if you try to access spam['foo'] if spam is {'bar' : 100 } ?"
      ],
      "metadata": {
        "id": "9TBUatiRFyg9"
      }
    },
    {
      "cell_type": "markdown",
      "source": [
        "### A.4\n",
        "### we get KEYERROR error"
      ],
      "metadata": {
        "id": "-vDmwg9FGHgt"
      }
    },
    {
      "cell_type": "code",
      "source": [
        "spam = {'bar':100}\n",
        "spam['fool']"
      ],
      "metadata": {
        "colab": {
          "base_uri": "https://localhost:8080/",
          "height": 182
        },
        "id": "IVCKPArAGNt1",
        "outputId": "4b44f64c-9339-4b92-a4bc-a20ca2149bfc"
      },
      "execution_count": 1,
      "outputs": [
        {
          "output_type": "error",
          "ename": "KeyError",
          "evalue": "ignored",
          "traceback": [
            "\u001b[0;31m---------------------------------------------------------------------------\u001b[0m",
            "\u001b[0;31mKeyError\u001b[0m                                  Traceback (most recent call last)",
            "\u001b[0;32m<ipython-input-1-a61d7970c792>\u001b[0m in \u001b[0;36m<module>\u001b[0;34m\u001b[0m\n\u001b[1;32m      1\u001b[0m \u001b[0mspam\u001b[0m \u001b[0;34m=\u001b[0m \u001b[0;34m{\u001b[0m\u001b[0;34m'bar'\u001b[0m\u001b[0;34m:\u001b[0m\u001b[0;36m100\u001b[0m\u001b[0;34m}\u001b[0m\u001b[0;34m\u001b[0m\u001b[0;34m\u001b[0m\u001b[0m\n\u001b[0;32m----> 2\u001b[0;31m \u001b[0mspam\u001b[0m\u001b[0;34m[\u001b[0m\u001b[0;34m'fool'\u001b[0m\u001b[0;34m]\u001b[0m\u001b[0;34m\u001b[0m\u001b[0;34m\u001b[0m\u001b[0m\n\u001b[0m",
            "\u001b[0;31mKeyError\u001b[0m: 'fool'"
          ]
        }
      ]
    },
    {
      "cell_type": "markdown",
      "source": [
        "### Q.5\n",
        "### If a Dictionary is stored in spam , what is the difference between the expressions'cat' in spam and'cat' in spam.keys()?"
      ],
      "metadata": {
        "id": "N3cT6fLTGYQU"
      }
    },
    {
      "cell_type": "markdown",
      "source": [
        "### A.5\n",
        "### There is no difference. The in operator checks whether a value exists as a key in the dictionary."
      ],
      "metadata": {
        "id": "NAOTO7L5IF28"
      }
    },
    {
      "cell_type": "markdown",
      "source": [
        "### Q.6\n",
        "### If a Dictionary is stored in spam , what is the difference between the expressions'cat' in spam and'cat' in spam.values()?"
      ],
      "metadata": {
        "id": "jwcuKtO3IWbj"
      }
    },
    {
      "cell_type": "markdown",
      "source": [
        "### A.6\n",
        "### 'cat' in spam checks whether there is a 'cat' key in the dictionary, while 'cat' in spam.values() checks whether there is a value 'cat' for one of the keys in spam."
      ],
      "metadata": {
        "id": "X6njGkQPGx-c"
      }
    },
    {
      "cell_type": "markdown",
      "source": [
        "### Q.7\n",
        "### What is a shortcut for the following code ?\n",
        "\n",
        "### if'color' not in a spam :\n",
        "### spam['color'] = 'black'"
      ],
      "metadata": {
        "id": "EYiWzM7cG7sX"
      }
    },
    {
      "cell_type": "markdown",
      "source": [
        "### A.7\n",
        "### spam.setdefault('color', 'black')"
      ],
      "metadata": {
        "id": "dS-MMt0WHkNl"
      }
    },
    {
      "cell_type": "markdown",
      "source": [
        "### Q.8\n",
        "### How do you \"pretty print\" dictionary values using which module and function ?"
      ],
      "metadata": {
        "id": "WFk_5ZGFHpO7"
      }
    },
    {
      "cell_type": "markdown",
      "source": [
        "### A.8\n",
        "### pprint is a Python module that provides the capability to pretty print Python data types to be more readable. This module also supports pretty-printing dictionary.\n",
        "\n",
        "### Within the pprint module there is a function with the same name pprint(), which is the function used to pretty-print the given string or object.\n",
        "\n",
        "### First, declare an array of dictionaries. Afterward, pretty print it using the function pprint.pprint()."
      ],
      "metadata": {
        "id": "fZUa7td_I197"
      }
    }
  ]
}