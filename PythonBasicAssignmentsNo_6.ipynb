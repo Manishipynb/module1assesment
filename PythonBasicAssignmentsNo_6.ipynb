{
  "nbformat": 4,
  "nbformat_minor": 0,
  "metadata": {
    "colab": {
      "provenance": [],
      "authorship_tag": "ABX9TyPOfe/pbuCWs9KV1LgSBnRw",
      "include_colab_link": true
    },
    "kernelspec": {
      "name": "python3",
      "display_name": "Python 3"
    },
    "language_info": {
      "name": "python"
    }
  },
  "cells": [
    {
      "cell_type": "markdown",
      "metadata": {
        "id": "view-in-github",
        "colab_type": "text"
      },
      "source": [
        "<a href=\"https://colab.research.google.com/github/Manishipynb/module1assesment/blob/main/PythonBasicAssignmentsNo_6.ipynb\" target=\"_parent\"><img src=\"https://colab.research.google.com/assets/colab-badge.svg\" alt=\"Open In Colab\"/></a>"
      ]
    },
    {
      "cell_type": "markdown",
      "source": [
        "### Q.1\n",
        "### What are Escape Characters and how do you use them ?"
      ],
      "metadata": {
        "id": "TIEXkP1Awrpx"
      }
    },
    {
      "cell_type": "markdown",
      "source": [
        "### A.1\n",
        "### An escape character is a backslash \\ followed by the character you want to insert."
      ],
      "metadata": {
        "id": "pZLq7f5gw0B2"
      }
    },
    {
      "cell_type": "code",
      "source": [
        "# \\'\tSingle Quote\n",
        "\n",
        "a = 'It\\'s Alright'\n",
        "print(a)"
      ],
      "metadata": {
        "colab": {
          "base_uri": "https://localhost:8080/"
        },
        "id": "iSOEkgo_xtZT",
        "outputId": "65028be5-9ed2-4658-ed4b-80ce4f1f6a92"
      },
      "execution_count": 1,
      "outputs": [
        {
          "output_type": "stream",
          "name": "stdout",
          "text": [
            "It's Alright\n"
          ]
        }
      ]
    },
    {
      "cell_type": "code",
      "source": [
        "# \\\\\tBackslash\n",
        "\n",
        "a = \"This will insert one \\\\ (backlash).\"\n",
        "print(a)"
      ],
      "metadata": {
        "colab": {
          "base_uri": "https://localhost:8080/"
        },
        "id": "_Eqb5kt9yH7B",
        "outputId": "673341d6-4ab2-49e1-9184-0463327bfe13"
      },
      "execution_count": 2,
      "outputs": [
        {
          "output_type": "stream",
          "name": "stdout",
          "text": [
            "This will insert one \\ (backlash).\n"
          ]
        }
      ]
    },
    {
      "cell_type": "code",
      "source": [
        "# \\n\tNew Line\n",
        "\n",
        "a = \"Hello \\nWorld\"\n",
        "print(a)"
      ],
      "metadata": {
        "colab": {
          "base_uri": "https://localhost:8080/"
        },
        "id": "my-PNwOiyZt4",
        "outputId": "32487f46-506e-4283-81ca-171f9e6f1943"
      },
      "execution_count": 4,
      "outputs": [
        {
          "output_type": "stream",
          "name": "stdout",
          "text": [
            "Hello \n",
            "World\n"
          ]
        }
      ]
    },
    {
      "cell_type": "code",
      "source": [
        "# \\t\tTab\n",
        "\n",
        "a = \"Hello\\tWorld\"\n",
        "print(a)"
      ],
      "metadata": {
        "colab": {
          "base_uri": "https://localhost:8080/"
        },
        "id": "3XL3ag64ypfX",
        "outputId": "22bd2f1f-a447-4a16-e222-ebebb12f5c9a"
      },
      "execution_count": 5,
      "outputs": [
        {
          "output_type": "stream",
          "name": "stdout",
          "text": [
            "Hello\tWorld\n"
          ]
        }
      ]
    },
    {
      "cell_type": "code",
      "source": [
        "# \\b\tBackspace\n",
        "\n",
        "a = \"Hello \\b  World\"\n",
        "print(a)"
      ],
      "metadata": {
        "colab": {
          "base_uri": "https://localhost:8080/"
        },
        "id": "qAxPN1j6y1sR",
        "outputId": "56fa8268-3a39-48ad-de46-d48365c18302"
      },
      "execution_count": 6,
      "outputs": [
        {
          "output_type": "stream",
          "name": "stdout",
          "text": [
            "Hello \b  World\n"
          ]
        }
      ]
    },
    {
      "cell_type": "markdown",
      "source": [
        "### Q.2\n",
        "### What do the escape characters n and t stand for ?\n"
      ],
      "metadata": {
        "id": "pT1BkgJ6zFDx"
      }
    },
    {
      "cell_type": "markdown",
      "source": [
        "### A.2\n",
        "### n for New Line\n",
        "### t for Tab"
      ],
      "metadata": {
        "id": "lm3_BK6gzOAO"
      }
    },
    {
      "cell_type": "markdown",
      "source": [
        "### Q.3\n",
        "### What is the way to include backlash charcters in a string ?"
      ],
      "metadata": {
        "id": "Mq0otqCwzZ73"
      }
    },
    {
      "cell_type": "markdown",
      "source": [
        "### A.3\n",
        "### If you want to include a backslash character itself, you need two backslashes ( \\\\ )"
      ],
      "metadata": {
        "id": "COqg2vLOzh0H"
      }
    },
    {
      "cell_type": "markdown",
      "source": [
        "### Q.4\n",
        "### The String \"Howl's Moving Castle\" is a correct value.\n",
        "### Why isn't the single quote character in the word Howl's not escaped a problem ?"
      ],
      "metadata": {
        "id": "bjZumj5Ez_w_"
      }
    },
    {
      "cell_type": "markdown",
      "source": [
        "### A.4\n",
        "### The single quote in Howl's is fine because we used double quotes to mark the beginning and end of the string."
      ],
      "metadata": {
        "id": "OwfZ8flX0XAf"
      }
    },
    {
      "cell_type": "markdown",
      "source": [
        "### Q.5\n",
        "### How do you write a string of newlines if you don't want to use the n character ?"
      ],
      "metadata": {
        "id": "juL2agUr02qi"
      }
    },
    {
      "cell_type": "markdown",
      "source": [
        "### A.5\n",
        "### Multiline strings allow you to use newlines in strings without the \\n escape character"
      ],
      "metadata": {
        "id": "tVv67xDv1Dsg"
      }
    },
    {
      "cell_type": "markdown",
      "source": [
        "### Q.6\n",
        "### What are the values of the given expressions ?"
      ],
      "metadata": {
        "id": "ZudQ4fG11LQw"
      }
    },
    {
      "cell_type": "code",
      "source": [
        "# case 1\n",
        "\n",
        "a = 'Hello, world!'\n",
        "a[1]\n",
        "\n",
        "# e"
      ],
      "metadata": {
        "colab": {
          "base_uri": "https://localhost:8080/",
          "height": 36
        },
        "id": "F3jbIpTd1UUC",
        "outputId": "11286a5d-3326-4248-d4b7-103944c193e1"
      },
      "execution_count": 7,
      "outputs": [
        {
          "output_type": "execute_result",
          "data": {
            "text/plain": [
              "'e'"
            ],
            "application/vnd.google.colaboratory.intrinsic+json": {
              "type": "string"
            }
          },
          "metadata": {},
          "execution_count": 7
        }
      ]
    },
    {
      "cell_type": "code",
      "source": [
        "# case 2\n",
        "\n",
        "a = 'hello,World!'\n",
        "a[0:5]\n",
        "\n",
        "# hello"
      ],
      "metadata": {
        "colab": {
          "base_uri": "https://localhost:8080/",
          "height": 36
        },
        "id": "xdn4FqJr1iN4",
        "outputId": "b3d2a100-1fe9-4d51-e1dd-099887aeff07"
      },
      "execution_count": 8,
      "outputs": [
        {
          "output_type": "execute_result",
          "data": {
            "text/plain": [
              "'hello'"
            ],
            "application/vnd.google.colaboratory.intrinsic+json": {
              "type": "string"
            }
          },
          "metadata": {},
          "execution_count": 8
        }
      ]
    },
    {
      "cell_type": "code",
      "source": [
        "# case 3\n",
        "\n",
        "a = 'Hello, world!'\n",
        "a[:5]\n",
        "\n",
        "# hello"
      ],
      "metadata": {
        "colab": {
          "base_uri": "https://localhost:8080/",
          "height": 36
        },
        "id": "btkJOVRf2oGa",
        "outputId": "22eea270-17df-4b36-c30a-985184bdef4b"
      },
      "execution_count": 9,
      "outputs": [
        {
          "output_type": "execute_result",
          "data": {
            "text/plain": [
              "'Hello'"
            ],
            "application/vnd.google.colaboratory.intrinsic+json": {
              "type": "string"
            }
          },
          "metadata": {},
          "execution_count": 9
        }
      ]
    },
    {
      "cell_type": "code",
      "source": [
        "# case 4\n",
        "\n",
        "a = 'Hello, world!'\n",
        "a[3:]\n",
        "\n",
        "# lo, world!"
      ],
      "metadata": {
        "colab": {
          "base_uri": "https://localhost:8080/",
          "height": 36
        },
        "id": "W7g19OnC2yYW",
        "outputId": "8f78dc36-870f-4f7d-92ed-af24c4c597fd"
      },
      "execution_count": 10,
      "outputs": [
        {
          "output_type": "execute_result",
          "data": {
            "text/plain": [
              "'lo, world!'"
            ],
            "application/vnd.google.colaboratory.intrinsic+json": {
              "type": "string"
            }
          },
          "metadata": {},
          "execution_count": 10
        }
      ]
    },
    {
      "cell_type": "markdown",
      "source": [
        "### Q.7\n",
        "### What are the values of the following expressions ?"
      ],
      "metadata": {
        "id": "np2t5d8T3BIg"
      }
    },
    {
      "cell_type": "code",
      "source": [
        "# case 1\n",
        "\n",
        "'Hello'.upper()\n",
        "\n",
        "# HELLO"
      ],
      "metadata": {
        "colab": {
          "base_uri": "https://localhost:8080/",
          "height": 36
        },
        "id": "3-aGBmAY3G6o",
        "outputId": "d721e671-094b-4a30-8f13-d332725809ca"
      },
      "execution_count": 11,
      "outputs": [
        {
          "output_type": "execute_result",
          "data": {
            "text/plain": [
              "'HELLO'"
            ],
            "application/vnd.google.colaboratory.intrinsic+json": {
              "type": "string"
            }
          },
          "metadata": {},
          "execution_count": 11
        }
      ]
    },
    {
      "cell_type": "code",
      "source": [
        "# case 2\n",
        "\n",
        "'Hello'.upper().isupper()\n",
        "\n",
        "# True"
      ],
      "metadata": {
        "colab": {
          "base_uri": "https://localhost:8080/"
        },
        "id": "V07QQ4Qa3PVn",
        "outputId": "0efcbced-7788-4a5a-8bdc-e7b410dfff67"
      },
      "execution_count": 12,
      "outputs": [
        {
          "output_type": "execute_result",
          "data": {
            "text/plain": [
              "True"
            ]
          },
          "metadata": {},
          "execution_count": 12
        }
      ]
    },
    {
      "cell_type": "code",
      "source": [
        "# case 3\n",
        "\n",
        "'Hello'.upper().lower()\n",
        "\n",
        "# hello"
      ],
      "metadata": {
        "colab": {
          "base_uri": "https://localhost:8080/",
          "height": 36
        },
        "id": "xHUUHSZv3eof",
        "outputId": "5daa0f7a-f2d1-489e-9910-208f2b307d79"
      },
      "execution_count": 13,
      "outputs": [
        {
          "output_type": "execute_result",
          "data": {
            "text/plain": [
              "'hello'"
            ],
            "application/vnd.google.colaboratory.intrinsic+json": {
              "type": "string"
            }
          },
          "metadata": {},
          "execution_count": 13
        }
      ]
    },
    {
      "cell_type": "markdown",
      "source": [
        "### Q.8\n",
        "### What are the values of the following expressions ?\n"
      ],
      "metadata": {
        "id": "eBMtr5SL3osx"
      }
    },
    {
      "cell_type": "code",
      "source": [
        "# case 1\n",
        "\n",
        "'Remember, remember, the fifth of July.'.split()"
      ],
      "metadata": {
        "colab": {
          "base_uri": "https://localhost:8080/"
        },
        "id": "Ai1o5Lvo3w_X",
        "outputId": "c6d46b96-392a-4683-bbb4-780447becad1"
      },
      "execution_count": 14,
      "outputs": [
        {
          "output_type": "execute_result",
          "data": {
            "text/plain": [
              "['Remember,', 'remember,', 'the', 'fifth', 'of', 'July.']"
            ]
          },
          "metadata": {},
          "execution_count": 14
        }
      ]
    },
    {
      "cell_type": "code",
      "source": [
        "# case 2\n",
        "\n",
        "'-'.join('There can only one.'.split())"
      ],
      "metadata": {
        "colab": {
          "base_uri": "https://localhost:8080/",
          "height": 36
        },
        "id": "BNcGGBIj382g",
        "outputId": "76f03d21-6c79-4587-b779-fb95945002b8"
      },
      "execution_count": 15,
      "outputs": [
        {
          "output_type": "execute_result",
          "data": {
            "text/plain": [
              "'There-can-only-one.'"
            ],
            "application/vnd.google.colaboratory.intrinsic+json": {
              "type": "string"
            }
          },
          "metadata": {},
          "execution_count": 15
        }
      ]
    },
    {
      "cell_type": "markdown",
      "source": [
        "### Q.9\n",
        "### What are the methods for right-justifying , left-justifying and centering a string?"
      ],
      "metadata": {
        "id": "z9jVD_rq4M4m"
      }
    },
    {
      "cell_type": "markdown",
      "source": [
        "### A.9\n",
        "### The rjust(), ljust(), and center() string methods, respectively"
      ],
      "metadata": {
        "id": "ynD2Gnlk4YsH"
      }
    },
    {
      "cell_type": "markdown",
      "source": [
        "### Q.10\n",
        "### What is the best way to remove whitespace characters from the start or end ?"
      ],
      "metadata": {
        "id": "nTHawkOg4eho"
      }
    },
    {
      "cell_type": "markdown",
      "source": [
        "### A.10\n",
        "### The lstrip() and rstrip() methods remove whitespace from the left and right ends of a string, respectively."
      ],
      "metadata": {
        "id": "VfNSUoVu4qSf"
      }
    }
  ]
}