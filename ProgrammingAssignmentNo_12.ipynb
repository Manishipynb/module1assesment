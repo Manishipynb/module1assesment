{
  "nbformat": 4,
  "nbformat_minor": 0,
  "metadata": {
    "colab": {
      "provenance": [],
      "authorship_tag": "ABX9TyPVe+tJiP3t9+DvVGwUTzgj",
      "include_colab_link": true
    },
    "kernelspec": {
      "name": "python3",
      "display_name": "Python 3"
    },
    "language_info": {
      "name": "python"
    }
  },
  "cells": [
    {
      "cell_type": "markdown",
      "metadata": {
        "id": "view-in-github",
        "colab_type": "text"
      },
      "source": [
        "<a href=\"https://colab.research.google.com/github/Manishipynb/module1assesment/blob/main/ProgrammingAssignmentNo_12.ipynb\" target=\"_parent\"><img src=\"https://colab.research.google.com/assets/colab-badge.svg\" alt=\"Open In Colab\"/></a>"
      ]
    },
    {
      "cell_type": "markdown",
      "source": [
        "## Q.1\n",
        "## Write a Python Program to Extract Unique Values dictionary values."
      ],
      "metadata": {
        "id": "0gnlmBrv4qsR"
      }
    },
    {
      "cell_type": "code",
      "source": [
        "# A.1\n",
        "\n",
        "test_dict = {'gfg': [5, 6, 7, 8],\n",
        "             'is': [10, 11, 7, 5],\n",
        "             'best': [6, 12, 10, 8],\n",
        "             'for': [1, 2, 5]}\n",
        " \n",
        "\n",
        "print(\"The original dictionary is : \" + str(test_dict))\n",
        " \n",
        "res = list(sorted({ele for val in test_dict.values() for ele in val}))\n",
        " \n",
        "print(\"The unique values list is : \" + str(res))"
      ],
      "metadata": {
        "colab": {
          "base_uri": "https://localhost:8080/"
        },
        "id": "HBCAcnaU42S8",
        "outputId": "5c35f5e3-a8ee-4dd6-a2a7-76c6933f2c98"
      },
      "execution_count": 1,
      "outputs": [
        {
          "output_type": "stream",
          "name": "stdout",
          "text": [
            "The original dictionary is : {'gfg': [5, 6, 7, 8], 'is': [10, 11, 7, 5], 'best': [6, 12, 10, 8], 'for': [1, 2, 5]}\n",
            "The unique values list is : [1, 2, 5, 6, 7, 8, 10, 11, 12]\n"
          ]
        }
      ]
    },
    {
      "cell_type": "markdown",
      "source": [
        "## Q.2\n",
        "## Write a Python Program to find the sum of all items in  a dictionary."
      ],
      "metadata": {
        "id": "NCBXhFtN5SSJ"
      }
    },
    {
      "cell_type": "code",
      "source": [
        "# A.2\n",
        "\n",
        "def returnSum(myDict):\n",
        " \n",
        "    list = []\n",
        "    for i in myDict:\n",
        "        list.append(myDict[i])\n",
        "    final = sum(list)\n",
        " \n",
        "    return final\n",
        " \n",
        "dict = {'a': 100, 'b': 200, 'c': 300}\n",
        "print(\"Sum :\", returnSum(dict))"
      ],
      "metadata": {
        "colab": {
          "base_uri": "https://localhost:8080/"
        },
        "id": "oSyphDX05dZh",
        "outputId": "8b0e7d36-73f5-47f7-fdff-aaaecf84df72"
      },
      "execution_count": 4,
      "outputs": [
        {
          "output_type": "stream",
          "name": "stdout",
          "text": [
            "Sum : 600\n"
          ]
        }
      ]
    },
    {
      "cell_type": "markdown",
      "source": [
        "## Q.3\n",
        "## Write a Python Program to Merging two Dictionaries."
      ],
      "metadata": {
        "id": "2ixnSW3w53a4"
      }
    },
    {
      "cell_type": "code",
      "source": [
        "# A.3\n",
        "\n",
        "\n",
        "def Merge(dict1, dict2):\n",
        "    return(dict2.update(dict1))\n",
        " \n",
        " \n",
        "\n",
        "dict1 = {'a': 10, 'b': 8}\n",
        "dict2 = {'d': 6, 'c': 4}\n",
        " \n",
        "\n",
        "print(Merge(dict1, dict2))\n",
        " \n",
        "print(dict2)"
      ],
      "metadata": {
        "colab": {
          "base_uri": "https://localhost:8080/"
        },
        "id": "3sk4bBb56CPK",
        "outputId": "dc7c65e2-0ba7-4ad2-d865-4075f6f093a6"
      },
      "execution_count": 5,
      "outputs": [
        {
          "output_type": "stream",
          "name": "stdout",
          "text": [
            "None\n",
            "{'d': 6, 'c': 4, 'a': 10, 'b': 8}\n"
          ]
        }
      ]
    },
    {
      "cell_type": "code",
      "source": [
        "# A.3\n",
        "\n",
        "def Merge(dict1, dict2):\n",
        "    res = {**dict1, **dict2}\n",
        "    return res\n",
        "     \n",
        "\n",
        "dict1 = {'a': 10, 'b': 8}\n",
        "dict2 = {'d': 6, 'c': 4}\n",
        "dict3 = Merge(dict1, dict2)\n",
        "print(dict3)"
      ],
      "metadata": {
        "colab": {
          "base_uri": "https://localhost:8080/"
        },
        "id": "z55k6hhl6SRR",
        "outputId": "d0d43051-ae0f-4315-968a-c927a57399b2"
      },
      "execution_count": 6,
      "outputs": [
        {
          "output_type": "stream",
          "name": "stdout",
          "text": [
            "{'a': 10, 'b': 8, 'd': 6, 'c': 4}\n"
          ]
        }
      ]
    },
    {
      "cell_type": "markdown",
      "source": [
        "## Q.4\n",
        "## Write a Python Program to convert Key-values list to flat dictionary."
      ],
      "metadata": {
        "id": "u4PWstzy6awA"
      }
    },
    {
      "cell_type": "code",
      "source": [
        "# A.4\n",
        "\n",
        "test_dict = {'month' : [1, 2, 3],\n",
        "            'name' : ['Jan', 'Feb', 'March']}\n",
        " \n",
        "\n",
        "print(\"The original dictionary is : \" + str(test_dict))\n",
        " \n",
        "\n",
        "x=list(test_dict.values())\n",
        "a=x[0]\n",
        "b=x[1]\n",
        "d=dict()\n",
        "for i in range(0,len(a)):\n",
        "    d[a[i]]=b[i]\n",
        "\n",
        "print(\"Flattened dictionary : \" + str(d))"
      ],
      "metadata": {
        "id": "dce44JaA7MSR"
      },
      "execution_count": null,
      "outputs": []
    },
    {
      "cell_type": "markdown",
      "source": [
        "## Q.5\n",
        "## Write a Python Program to insertion at the beginning in OrderedDict."
      ],
      "metadata": {
        "id": "8FvwdAqh7UD5"
      }
    },
    {
      "cell_type": "code",
      "source": [
        "# A.5\n",
        "\n",
        "from collections import OrderedDict\n",
        " \n",
        "iniordered_dict = OrderedDict([('akshat', '1'), ('nikhil', '2')])\n",
        " \n",
        "\n",
        "iniordered_dict.update({'manjeet':'3'})\n",
        "iniordered_dict.move_to_end('manjeet', last = False)\n",
        " \n",
        "\n",
        "print (\"Resultant Dictionary : \"+str(iniordered_dict))"
      ],
      "metadata": {
        "colab": {
          "base_uri": "https://localhost:8080/"
        },
        "id": "Rr9SjE4M7h3w",
        "outputId": "63fd8e61-0d66-4158-955e-6a9865f3106c"
      },
      "execution_count": 9,
      "outputs": [
        {
          "output_type": "stream",
          "name": "stdout",
          "text": [
            "Resultant Dictionary : OrderedDict([('manjeet', '3'), ('akshat', '1'), ('nikhil', '2')])\n"
          ]
        }
      ]
    },
    {
      "cell_type": "markdown",
      "source": [
        "## Q.6\n",
        "## Write a Python Program to check order of character in string using OrderedDict()."
      ],
      "metadata": {
        "id": "zJCDrgyw8EcB"
      }
    },
    {
      "cell_type": "code",
      "source": [
        "# A.6\n",
        "\n",
        "from collections import OrderedDict \n",
        "  \n",
        "def checkOrder(input, pattern): \n",
        "      \n",
        "    \n",
        "    dict = OrderedDict.fromkeys(input) \n",
        "  \n",
        "    \n",
        "    ptrlen = 0\n",
        "    for key,value in dict.items(): \n",
        "        if (key == pattern[ptrlen]): \n",
        "            ptrlen = ptrlen + 1\n",
        "          \n",
        "        \n",
        "        if (ptrlen == (len(pattern))): \n",
        "            return 'true'\n",
        "  \n",
        "   \n",
        "    return 'false'\n",
        "  \n",
        "\n",
        "if __name__ == \"__main__\": \n",
        "    input = 'engineers rock'\n",
        "    pattern = 'er'\n",
        "    print (checkOrder(input,pattern)) "
      ],
      "metadata": {
        "colab": {
          "base_uri": "https://localhost:8080/"
        },
        "id": "Onj2aNXZ8Twp",
        "outputId": "ba152b81-bba0-40e0-a7a9-ccf3d4cda473"
      },
      "execution_count": 10,
      "outputs": [
        {
          "output_type": "stream",
          "name": "stdout",
          "text": [
            "true\n"
          ]
        }
      ]
    },
    {
      "cell_type": "markdown",
      "source": [
        "## Q.7\n",
        "## Write a python program to sort Python Dictionaries by Key or Value."
      ],
      "metadata": {
        "id": "lBZICMyN8soB"
      }
    },
    {
      "cell_type": "code",
      "source": [
        "# A.7\n",
        "\n",
        "\n",
        "def dictionairy():\n",
        "   \n",
        "    key_value = {}\n",
        " \n",
        "\n",
        "    key_value[2] = 56\n",
        "    key_value[1] = 2\n",
        "    key_value[5] = 12\n",
        "    key_value[4] = 24\n",
        "    key_value[6] = 18\n",
        "    key_value[3] = 323\n",
        " \n",
        "    print(\"Task 1:-\\n\")\n",
        " \n",
        "    print(\"key_value\", key_value)\n",
        " \n",
        "    \n",
        "    for i in sorted(key_value.keys()):\n",
        "        print(i, end=\" \")\n",
        " \n",
        " \n",
        "def main():\n",
        "   \n",
        "    dictionairy()\n",
        " \n",
        " \n",
        "\n",
        "if __name__ == \"__main__\":\n",
        "    main()"
      ],
      "metadata": {
        "colab": {
          "base_uri": "https://localhost:8080/"
        },
        "id": "1KcF8zzA81zB",
        "outputId": "5ea0aff8-eb01-447d-b989-7e5319fd7029"
      },
      "execution_count": 11,
      "outputs": [
        {
          "output_type": "stream",
          "name": "stdout",
          "text": [
            "Task 1:-\n",
            "\n",
            "key_value {2: 56, 1: 2, 5: 12, 4: 24, 6: 18, 3: 323}\n",
            "1 2 3 4 5 6 "
          ]
        }
      ]
    }
  ]
}