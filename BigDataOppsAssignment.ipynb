{
  "nbformat": 4,
  "nbformat_minor": 0,
  "metadata": {
    "colab": {
      "provenance": [],
      "authorship_tag": "ABX9TyOFEPQC022GGjmiAT/+Q7NO",
      "include_colab_link": true
    },
    "kernelspec": {
      "name": "python3",
      "display_name": "Python 3"
    },
    "language_info": {
      "name": "python"
    }
  },
  "cells": [
    {
      "cell_type": "markdown",
      "metadata": {
        "id": "view-in-github",
        "colab_type": "text"
      },
      "source": [
        "<a href=\"https://colab.research.google.com/github/Manishipynb/module1assesment/blob/main/BigDataOppsAssignment.ipynb\" target=\"_parent\"><img src=\"https://colab.research.google.com/assets/colab-badge.svg\" alt=\"Open In Colab\"/></a>"
      ]
    },
    {
      "cell_type": "markdown",
      "source": [
        "## Q.1\n",
        "## What is the purpose of Python's OOP?"
      ],
      "metadata": {
        "id": "BManz44ihcAB"
      }
    },
    {
      "cell_type": "markdown",
      "source": [
        "### A.1\n",
        "### In Python, object-oriented Programming (OOPs) is a programming paradigm that uses objects and classes in programming. It aims to implement real-world entities like inheritance, polymorphisms, encapsulation, etc. in the programming\n",
        "\n",
        "### Object-oriented programming (OOP) is a method of structuring a program by bundling related properties and behaviors into individual objects."
      ],
      "metadata": {
        "id": "lvVOqyeghgBY"
      }
    },
    {
      "cell_type": "markdown",
      "source": [
        "## Q.2\n",
        "## Where does an inheritance search look for an attribute?"
      ],
      "metadata": {
        "id": "tX3WtFvXi-1o"
      }
    },
    {
      "cell_type": "markdown",
      "source": [
        "### A.2\n",
        "### The whole point of a namespace tool like the class statement is to support name inheritance. In Python, inheritance happens when an object is qualified, and involves searching an attribute definition tree (one or more namespaces). Every time you use an expression of the form object.\n",
        "\n"
      ],
      "metadata": {
        "id": "U3ad9P-2jDu4"
      }
    },
    {
      "cell_type": "markdown",
      "source": [
        "## Q.3\n",
        "##  How do you distinguish between a class object and an instance object?"
      ],
      "metadata": {
        "id": "_Wz6N9IxjTqZ"
      }
    },
    {
      "cell_type": "markdown",
      "source": [
        "### A.3\n",
        "### Class variables are declared inside a class but outside of any function. Instance variables are declared inside the constructor which is the __init__method.\n",
        "\n",
        "### A class is a template for creating objects in a program, whereas the object is an instance of a class. A class is a logical entity, while an object is a physical entity. A class does not allocate memory space; on the other hand, an object allocates memory space."
      ],
      "metadata": {
        "id": "1fHkISktjY6w"
      }
    },
    {
      "cell_type": "markdown",
      "source": [
        "## Q.4\n",
        "## What makes the first argument in a class’s method function special?"
      ],
      "metadata": {
        "id": "-siB9ddDjl45"
      }
    },
    {
      "cell_type": "markdown",
      "source": [
        "### A.4\n",
        "### Self is the first argument to be passed in Constructor and Instance Method. Self must be provided as a First parameter to the Instance method and constructor. If you don't provide it, it will cause an error."
      ],
      "metadata": {
        "id": "YTYA64O5jsjZ"
      }
    },
    {
      "cell_type": "markdown",
      "source": [
        "## Q.5\n",
        "## What is the purpose of the __init__ method?"
      ],
      "metadata": {
        "id": "wLAkrf36kJPh"
      }
    },
    {
      "cell_type": "markdown",
      "source": [
        "### A.5\n",
        "### The __init__ method lets the class initialize the object's attributes and serves no other purpose. It is only used within classes"
      ],
      "metadata": {
        "id": "QTjS_0zikNgJ"
      }
    },
    {
      "cell_type": "markdown",
      "source": [
        "## Q.6\n",
        "## What is the process for creating a class instance?"
      ],
      "metadata": {
        "id": "65dTR_0EkWzi"
      }
    },
    {
      "cell_type": "markdown",
      "source": [
        "### A.6\n",
        "### To create instances of a class, you call the class using class name and pass in whatever arguments its __init__ method accepts."
      ],
      "metadata": {
        "id": "O6jr_nX5kcZ5"
      }
    },
    {
      "cell_type": "markdown",
      "source": [
        "## Q.7\n",
        "## What is the process for creating a class?"
      ],
      "metadata": {
        "id": "NFQbJKY5mKWx"
      }
    },
    {
      "cell_type": "markdown",
      "source": [
        "### A.7\n",
        "### To create instances of a class, you call the class using class name and pass in whatever arguments its __init__ method accepts."
      ],
      "metadata": {
        "id": "K1bv1KCEhs8o"
      }
    },
    {
      "cell_type": "markdown",
      "source": [
        "## Q.8\n",
        "## How would you define the superclasses of a class?"
      ],
      "metadata": {
        "id": "m4HyD7GChyox"
      }
    },
    {
      "cell_type": "markdown",
      "source": [
        "### A.8\n",
        "### The class from which a class inherits is called the parent or superclass. A class which inherits from a superclass is called a subclass, also called heir class or child class. Superclasses are sometimes called ancestors as well."
      ],
      "metadata": {
        "id": "8eXmx21Gh9Gw"
      }
    },
    {
      "cell_type": "markdown",
      "source": [
        "## Q.9\n",
        "## What is the relationship between classes and modules?"
      ],
      "metadata": {
        "id": "hXHb_oeYiCEH"
      }
    },
    {
      "cell_type": "markdown",
      "source": [
        "### A.9\n",
        "### So a module in python is simply a way to organize the code, and it contains either python classes or just functions. If you need those classes or functions in your project, you just import them. For instance, the math module in python contains just a bunch of functions, and you just call those needed. "
      ],
      "metadata": {
        "id": "ITU631OKiJcP"
      }
    },
    {
      "cell_type": "markdown",
      "source": [
        "## Q.10\n",
        "## How do you make instances and classes?"
      ],
      "metadata": {
        "id": "zPdt6RDYiUEw"
      }
    },
    {
      "cell_type": "markdown",
      "source": [
        "### A.10\n",
        "### To create instances of a class, you call the class using class name and pass in whatever arguments its __init__ method accepts."
      ],
      "metadata": {
        "id": "VWqaCoPWiaoH"
      }
    },
    {
      "cell_type": "markdown",
      "source": [
        "## Q.11\n",
        "## Where and how should be class attributes created?"
      ],
      "metadata": {
        "id": "m5uLpMWFigNP"
      }
    },
    {
      "cell_type": "markdown",
      "source": [
        "### A.11\n",
        "### A class attribute is shared by all instances of the class. To define a class attribute, you place it outside of the __init__() method.\n",
        "### Use class_name. ...\n",
        "### Use class attributes for storing class contants, track data across all instances, and setting default values for all instances of the class."
      ],
      "metadata": {
        "id": "1kHdp-RDilOP"
      }
    },
    {
      "cell_type": "markdown",
      "source": [
        "## Q.12\n",
        "## Where and how are instance attributes created?"
      ],
      "metadata": {
        "id": "Q9gwZnVdiwPm"
      }
    },
    {
      "cell_type": "markdown",
      "source": [
        "### A.12\n",
        "### Instance attributes are defined in the __init__() function."
      ],
      "metadata": {
        "id": "O-3IdoRBi1qW"
      }
    },
    {
      "cell_type": "markdown",
      "source": [
        "## Q.13\n",
        "## What does the term \"self\" in a Python class mean?"
      ],
      "metadata": {
        "id": "sVjzZPD-i-rW"
      }
    },
    {
      "cell_type": "markdown",
      "source": [
        "### A.13\n",
        "### The self parameter is a reference to the current instance of the class, and is used to access variables that belongs to the class."
      ],
      "metadata": {
        "id": "WmAgLmPZjDnv"
      }
    },
    {
      "cell_type": "markdown",
      "source": [
        "## Q.14\n",
        "## How does a Python class handle operator overloading?"
      ],
      "metadata": {
        "id": "ei6NSsKqjJz6"
      }
    },
    {
      "cell_type": "markdown",
      "source": [
        "### A.14\n",
        "### The operator overloading in Python means provide extended meaning beyond their predefined operational meaning. Such as, we use the \"+\" operator for adding two integers as well as joining two strings or merging two lists. We can achieve this as the \"+\" operator is overloaded by the \"int\" class and \"str\" class."
      ],
      "metadata": {
        "id": "JkgU5GmNjTjO"
      }
    },
    {
      "cell_type": "markdown",
      "source": [
        "## Q.15\n",
        "## When do you consider allowing operator overloading of your classes?"
      ],
      "metadata": {
        "id": "_HxjMCySjhcn"
      }
    },
    {
      "cell_type": "markdown",
      "source": [
        "### A.15\n",
        "### Operator overloading is mostly useful when you're making a new class that falls into an existing \"Abstract Base Class\" (ABC) -- indeed, many of the ABCs in standard library module collections rely on the presence of certain special methods (and special methods, one with names starting and ending with double underscores"
      ],
      "metadata": {
        "id": "I7_uZio4jpoX"
      }
    },
    {
      "cell_type": "markdown",
      "source": [
        "## Q.16\n",
        "## What is the most popular form of operator overloading?"
      ],
      "metadata": {
        "id": "w2XW3BGckDU3"
      }
    },
    {
      "cell_type": "markdown",
      "source": [
        "### A.16\n",
        "### A very popular and convenient example is the Addition (+) operator. Just think how the '+' operator operates on two numbers and the same operator operates on two strings. It performs “Addition” on numbers whereas it performs “Concatenation” on strings."
      ],
      "metadata": {
        "id": "G-xvcxiukNmf"
      }
    },
    {
      "cell_type": "markdown",
      "source": [
        "## Q.17\n",
        "## What are the two most important concepts to grasp in order to comprehend Python OOP code?"
      ],
      "metadata": {
        "id": "RSvYBMWnkUb-"
      }
    },
    {
      "cell_type": "markdown",
      "source": [
        "### A.17\n",
        "### Both inheritance and polymorphism are fundamental concepts of object oriented programming. These concepts help us to create code that can be extended and easily maintainable."
      ],
      "metadata": {
        "id": "sCFVqmMhkZ6R"
      }
    },
    {
      "cell_type": "markdown",
      "source": [
        "## Q . 18\n",
        "## Describe three applications for exception processing."
      ],
      "metadata": {
        "id": "PIZirebFkhAS"
      }
    },
    {
      "cell_type": "markdown",
      "source": [
        "### A.18\n",
        "### There are mainly three kinds of distinguishable errors in Python: syntax errors, exceptions and logical errors.\n",
        "\n"
      ],
      "metadata": {
        "id": "lMqS-3l-kl42"
      }
    },
    {
      "cell_type": "markdown",
      "source": [
        "## Q.19\n",
        "## What happens if you don't do something extra to treat an exception?"
      ],
      "metadata": {
        "id": "NPhwS1gCk3wg"
      }
    },
    {
      "cell_type": "markdown",
      "source": [
        "### A.19\n",
        "### When an exception occurred, if you don't handle it, the program terminates abruptly and the code past the line that caused the exception will not get executed."
      ],
      "metadata": {
        "id": "e60Owvhwk8Ou"
      }
    },
    {
      "cell_type": "markdown",
      "source": [
        "## Q.20\n",
        "## What are your options for recovering from an exception in your script?"
      ],
      "metadata": {
        "id": "m1go1y0jlDQ3"
      }
    },
    {
      "cell_type": "markdown",
      "source": [
        "### A.20\n",
        "###  Can  provide a generic except clause, which handles any exception. After the except clause(s), you can include an else-clause. The code in the else-block executes if the code in the try: block does not raise an exception. The else-block is a good place for code that does not need the try: block's protection.\n",
        "\n"
      ],
      "metadata": {
        "id": "GUosoe5NlIAt"
      }
    },
    {
      "cell_type": "markdown",
      "source": [
        "## Q.21\n",
        "## Describe two methods for triggering exceptions in your script."
      ],
      "metadata": {
        "id": "ueh4F3NJlfPr"
      }
    },
    {
      "cell_type": "markdown",
      "source": [
        "### A.21\n",
        "### To avoid such a scenario, there are two methods to handle Python exceptions: Try – This method catches the exceptions raised by the program. Raise – Triggers an exception manually using custom exceptions."
      ],
      "metadata": {
        "id": "ix_rs_X5mZ02"
      }
    },
    {
      "cell_type": "markdown",
      "source": [
        "## Q.22\n",
        "## Identify two methods for specifying actions to be executed at termination time, regardless of whether or not an exception exists."
      ],
      "metadata": {
        "id": "LSp0rhvcmgXG"
      }
    },
    {
      "cell_type": "markdown",
      "source": [
        "### A.22\n",
        "### Finally Statement in Python\n",
        "\n",
        "### Finally block always executes irrespective of an exception being thrown or not. The final keyword allows you to create a block of code that follows a try-catch block. Finally, clause is optional. It is intended to define clean-up actions which should be that executed in all conditions.\n",
        "\n"
      ],
      "metadata": {
        "id": "Md4OVXaomlZV"
      }
    },
    {
      "cell_type": "markdown",
      "source": [
        "## Q.23\n",
        "##  What is the purpose of the try statement?"
      ],
      "metadata": {
        "id": "OgBG6u2cnHei"
      }
    },
    {
      "cell_type": "markdown",
      "source": [
        "### A.23\n",
        "### The try block lets you test a block of code for errors. The except block lets you handle the error. The else block lets you execute code when there is no error."
      ],
      "metadata": {
        "id": "9VhO0veWnLsd"
      }
    },
    {
      "cell_type": "markdown",
      "source": [
        "## Q.24\n",
        "##  What are the two most popular try statement variations?"
      ],
      "metadata": {
        "id": "jeh-KugunRaB"
      }
    },
    {
      "cell_type": "markdown",
      "source": [
        "### A.24\n",
        "### The Different Try/Except Variations. So far we've used a try / except and even a try / except / except , but this is only two-thirds of the story. There are two other optional segments to a try block: else and finally . Both of these optional blocks will come after the try and the except ."
      ],
      "metadata": {
        "id": "KHCky3ZgnWEI"
      }
    },
    {
      "cell_type": "markdown",
      "source": [
        "## Q.25\n",
        "## What is the purpose of the raise statement?"
      ],
      "metadata": {
        "id": "Yeo2J4kMndWF"
      }
    },
    {
      "cell_type": "markdown",
      "source": [
        "### A.25\n",
        "### The raise keyword is used to raise an exception. You can define what kind of error to raise, and the text to print to the user."
      ],
      "metadata": {
        "id": "hqZo9Ixnnhxt"
      }
    },
    {
      "cell_type": "markdown",
      "source": [
        "## Q.26\n",
        "## What does the assert statement do, and what other statement is it like?"
      ],
      "metadata": {
        "id": "F0r6fcMNnpNE"
      }
    },
    {
      "cell_type": "markdown",
      "source": [
        "### A.26\n",
        "### The assert keyword is used when debugging code. The assert keyword lets you test if a condition in your code returns True, if not, the program will raise an AssertionError. You can write a message to be written if the code returns False."
      ],
      "metadata": {
        "id": "7iizWDCVnuTN"
      }
    },
    {
      "cell_type": "markdown",
      "source": [
        "## Q.27\n",
        "## What is the purpose of the with/as argument, and what other statement is it like?"
      ],
      "metadata": {
        "id": "feKZnbjpn3V1"
      }
    },
    {
      "cell_type": "markdown",
      "source": [
        "### A.27\n",
        "### In Python, with statement is used in exception handling to make the code cleaner and much more readable. It simplifies the management of common resources like file streams.\n",
        "\n"
      ],
      "metadata": {
        "id": "V8rqSWnkoEak"
      }
    },
    {
      "cell_type": "markdown",
      "source": [
        "## Q.28\n",
        "## What are *args, **kwargs?"
      ],
      "metadata": {
        "id": "ui3lV2oJoXuG"
      }
    },
    {
      "cell_type": "markdown",
      "source": [
        "### A.28\n",
        "### The special syntax *args in function definitions in python is used to pass a variable number of arguments to a function. It is used to pass a non-key worded, variable-length argument list. \n",
        "\n",
        "### The special syntax **kwargs in function definitions in python is used to pass a keyworded, variable-length argument list. We use the name kwargs with the double star. The reason is that the double star allows us to pass through keyword arguments (and any number of them)."
      ],
      "metadata": {
        "id": "qUVrwv0Wobob"
      }
    },
    {
      "cell_type": "markdown",
      "source": [
        "## Q.29\n",
        "## How can I pass optional or keyword parameters from one function to another?"
      ],
      "metadata": {
        "id": "t_hI-NDtoxdI"
      }
    },
    {
      "cell_type": "markdown",
      "source": [
        "### A.29\n",
        "### Users can either pass their values or can pretend the function to use theirs default values which are specified. In this way, the user can call the function by either passing those optional parameters or just passing the required parameters. Without using keyword arguments. By using keyword arguments."
      ],
      "metadata": {
        "id": "6lEV2_XQo-_8"
      }
    },
    {
      "cell_type": "markdown",
      "source": [
        "## Q.30\n",
        "## What are Lambda Functions?"
      ],
      "metadata": {
        "id": "qKJfpRfNpF59"
      }
    },
    {
      "cell_type": "markdown",
      "source": [
        "### A.30\n",
        "### A lambda function is an anonymous function (i.e., defined without a name) that can take any number of arguments but, unlike normal functions, evaluates and returns only one expression. A lambda function in Python has the following syntax: lambda parameters: expression."
      ],
      "metadata": {
        "id": "7IA_qeyypJw8"
      }
    },
    {
      "cell_type": "markdown",
      "source": [
        "## Q.31\n",
        "## Explain Inheritance in Python with an example."
      ],
      "metadata": {
        "id": "auJOReYMpRMe"
      }
    },
    {
      "cell_type": "code",
      "source": [
        "class Person:\n",
        "  def __init__(self, fname, lname):\n",
        "    self.firstname = fname\n",
        "    self.lastname = lname\n",
        "\n",
        "  def printname(self):\n",
        "    print(self.firstname, self.lastname)\n",
        "\n",
        "class Student(Person):\n",
        "  def __init__(self, fname, lname, year):\n",
        "    super().__init__(fname, lname)\n",
        "    self.graduationyear = year\n",
        "\n",
        "  def welcome(self):\n",
        "    print(\"Welcome\", self.firstname, self.lastname, \"to the class of\", self.graduationyear)\n",
        "\n",
        "x = Student(\"Manish\", \"Patel\", 2022)\n",
        "y = Student(\"Harsh\" , \"Patel\" , 2022)\n",
        "x.welcome()\n",
        "y.welcome()\n"
      ],
      "metadata": {
        "colab": {
          "base_uri": "https://localhost:8080/"
        },
        "id": "I3FOpA9ppzPs",
        "outputId": "285e8dce-bfc2-4675-bdac-4fe15e3de6ef"
      },
      "execution_count": 2,
      "outputs": [
        {
          "output_type": "stream",
          "name": "stdout",
          "text": [
            "Welcome Manish Patel to the class of 2022\n",
            "Welcome Harsh Patel to the class of 2022\n"
          ]
        }
      ]
    },
    {
      "cell_type": "markdown",
      "source": [
        "## Q.32\n",
        "## Suppose class C inherits from classes A and B as class C(A,B).Classes A and B both have their own versions of method func(). If we call func() from an object of class C, which version gets invoked?"
      ],
      "metadata": {
        "id": "M49ITUwjqCHW"
      }
    },
    {
      "cell_type": "markdown",
      "source": [],
      "metadata": {
        "id": "pzaljN8AqK6i"
      }
    },
    {
      "cell_type": "markdown",
      "source": [
        "### A.32\n",
        "###  Both A & B"
      ],
      "metadata": {
        "id": "pRd9I6iLrMWj"
      }
    },
    {
      "cell_type": "markdown",
      "source": [
        "## Q.33\n",
        "## Which methods/functions do we use to determine the type of instance and inheritance?"
      ],
      "metadata": {
        "id": "nJLxkJx4sSYH"
      }
    },
    {
      "cell_type": "markdown",
      "source": [
        "### A.33\n",
        "### Two built-in functions isinstance() and issubclass() are used to check inheritances. The function isinstance() returns True if the object is an instance of the class or other classes derived from it."
      ],
      "metadata": {
        "id": "u1fBKkJnsabh"
      }
    },
    {
      "cell_type": "markdown",
      "source": [
        "## Q.34\n",
        "## Explain the use of the 'nonlocal' keyword in Python."
      ],
      "metadata": {
        "id": "kK5NTtUwsgFR"
      }
    },
    {
      "cell_type": "markdown",
      "source": [
        "### A.34\n",
        "### The nonlocal keyword is used to work with variables inside nested functions, where the variable should not belong to the inner function. Use the keyword nonlocal to declare that the variable is not local."
      ],
      "metadata": {
        "id": "29YmJvUyskQq"
      }
    },
    {
      "cell_type": "markdown",
      "source": [
        "## Q.35\n",
        "## What is the global keyword?"
      ],
      "metadata": {
        "id": "3IMZfMnssptq"
      }
    },
    {
      "cell_type": "markdown",
      "source": [
        "### A.35\n",
        "### In Python, the global keyword allows us to modify the variable outside of the current scope. It is used to create a global variable and make changes to the variable in a local context."
      ],
      "metadata": {
        "id": "ru7WBAJ3st7k"
      }
    }
  ]
}