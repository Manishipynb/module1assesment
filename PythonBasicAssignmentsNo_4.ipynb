{
  "nbformat": 4,
  "nbformat_minor": 0,
  "metadata": {
    "colab": {
      "provenance": [],
      "authorship_tag": "ABX9TyO8hsLbdw+2QSIVSs1y323/",
      "include_colab_link": true
    },
    "kernelspec": {
      "name": "python3",
      "display_name": "Python 3"
    },
    "language_info": {
      "name": "python"
    }
  },
  "cells": [
    {
      "cell_type": "markdown",
      "metadata": {
        "id": "view-in-github",
        "colab_type": "text"
      },
      "source": [
        "<a href=\"https://colab.research.google.com/github/Manishipynb/module1assesment/blob/main/PythonBasicAssignmentsNo_4.ipynb\" target=\"_parent\"><img src=\"https://colab.research.google.com/assets/colab-badge.svg\" alt=\"Open In Colab\"/></a>"
      ]
    },
    {
      "cell_type": "markdown",
      "source": [
        "### Q.1 \n",
        "### What exactly is [ ] ?"
      ],
      "metadata": {
        "id": "nOuri9Un1s5P"
      }
    },
    {
      "cell_type": "markdown",
      "source": [
        "### A.1\n",
        "### [  ] is an EMPTY LIST."
      ],
      "metadata": {
        "id": "eaEt_P_d10ae"
      }
    },
    {
      "cell_type": "markdown",
      "source": [
        "### Q.2\n",
        "### In a List values stored in a variable called spam , how would you assign the value 'hello' as the third value ?\n",
        "### Assume [2,4,6,8,10] are in spam."
      ],
      "metadata": {
        "id": "LT6BdT6B2Cj6"
      }
    },
    {
      "cell_type": "code",
      "source": [
        "# A.2\n",
        "\n",
        "spam = [2,4,6,8,10]\n",
        "spam[2] = 'hello'\n",
        "print(spam)"
      ],
      "metadata": {
        "colab": {
          "base_uri": "https://localhost:8080/"
        },
        "id": "0qw4I7Wj2lA3",
        "outputId": "93d9d911-8cc8-468c-af7e-892b9bd16351"
      },
      "execution_count": 1,
      "outputs": [
        {
          "output_type": "stream",
          "name": "stdout",
          "text": [
            "[2, 4, 'hello', 8, 10]\n"
          ]
        }
      ]
    },
    {
      "cell_type": "markdown",
      "source": [
        "\n",
        "\n",
        "### Let's pretend the spam includes the list ['a', 'b', 'c', 'd'] for the next three queries."
      ],
      "metadata": {
        "id": "fEQaDCfk2_Yu"
      }
    },
    {
      "cell_type": "code",
      "source": [
        "# Q.3 What is the value of spam[int(int('3' * 2) / 11)]?\n",
        "\n",
        "spam = ['a' ,'b' ,'c' ,'d']\n",
        "spam[int(int('3' * 2) / 11)]\n",
        "\n",
        "# background: ‘3’*2=’33’ .int(‘33’)=33.  33/11=3.int(3)=3.  Spam[3]=d.\n"
      ],
      "metadata": {
        "colab": {
          "base_uri": "https://localhost:8080/",
          "height": 36
        },
        "id": "oVLAB7jz3HQ1",
        "outputId": "e7765700-d312-476b-a135-8560063a1978"
      },
      "execution_count": 2,
      "outputs": [
        {
          "output_type": "execute_result",
          "data": {
            "text/plain": [
              "'d'"
            ],
            "application/vnd.google.colaboratory.intrinsic+json": {
              "type": "string"
            }
          },
          "metadata": {},
          "execution_count": 2
        }
      ]
    },
    {
      "cell_type": "code",
      "source": [
        "# Q.4 What is the value of spam[-1]?\n",
        "\n",
        "spam = ['a' ,'b' ,'c' ,'d']\n",
        "spam[-1]\n",
        "\n",
        "# negative indices count from end."
      ],
      "metadata": {
        "colab": {
          "base_uri": "https://localhost:8080/",
          "height": 36
        },
        "id": "XKX0rioF3y0m",
        "outputId": "6b9d381f-0723-4bf1-e822-8e8819801124"
      },
      "execution_count": 3,
      "outputs": [
        {
          "output_type": "execute_result",
          "data": {
            "text/plain": [
              "'d'"
            ],
            "application/vnd.google.colaboratory.intrinsic+json": {
              "type": "string"
            }
          },
          "metadata": {},
          "execution_count": 3
        }
      ]
    },
    {
      "cell_type": "code",
      "source": [
        "# Q.5 What is the value of spam[:2]?\n",
        "\n",
        "spam = ['a' ,'b' ,'c' ,'d']\n",
        "spam[:2]\n"
      ],
      "metadata": {
        "colab": {
          "base_uri": "https://localhost:8080/"
        },
        "id": "UlVixKvA4ByG",
        "outputId": "e765e2eb-bdc1-4473-bb96-94b6038a9d05"
      },
      "execution_count": 4,
      "outputs": [
        {
          "output_type": "execute_result",
          "data": {
            "text/plain": [
              "['a', 'b']"
            ]
          },
          "metadata": {},
          "execution_count": 4
        }
      ]
    },
    {
      "cell_type": "markdown",
      "source": [
        "### Let's pretend bacon has the list [3.14, 'cat,' 11, 'cat,' True] for the next three questions."
      ],
      "metadata": {
        "id": "hlWIeSh24Tme"
      }
    },
    {
      "cell_type": "code",
      "source": [
        "# Q.6 What is the value of bacon.index('cat')?\n",
        "\n",
        "bacon = [3.14, 'cat' , 11, 'cat' ,  True]\n",
        "bacon.index('cat')\n",
        "\n",
        "# gives value of 1st occurrence."
      ],
      "metadata": {
        "colab": {
          "base_uri": "https://localhost:8080/"
        },
        "id": "Kd9nu6W74Yjm",
        "outputId": "a5fc95fb-7e37-4327-bd55-4103db029f23"
      },
      "execution_count": 6,
      "outputs": [
        {
          "output_type": "execute_result",
          "data": {
            "text/plain": [
              "1"
            ]
          },
          "metadata": {},
          "execution_count": 6
        }
      ]
    },
    {
      "cell_type": "code",
      "source": [
        "# Q.7 How does bacon.append(99) change the look of the list value in bacon?\n",
        "\n",
        "bacon = [3.14, 'cat' , 11, 'cat' ,  True]\n",
        "bacon.append(99)\n",
        "print(bacon)\n",
        "\n",
        "# append adds value  at the end of list."
      ],
      "metadata": {
        "colab": {
          "base_uri": "https://localhost:8080/"
        },
        "id": "kATfdDxM7z2N",
        "outputId": "a445165e-5eb0-4ce3-f6d6-2637767262f2"
      },
      "execution_count": 8,
      "outputs": [
        {
          "output_type": "stream",
          "name": "stdout",
          "text": [
            "[3.14, 'cat', 11, 'cat', True, 99]\n"
          ]
        }
      ]
    },
    {
      "cell_type": "code",
      "source": [
        "# Q.8 How does bacon.remove('cat') change the look of the list in bacon?\n",
        "\n",
        "bacon = [3.14, 'cat' , 11, 'cat' ,  True]\n",
        "bacon.remove('cat')\n",
        "print(bacon)\n",
        "\n",
        "# remove Removes value of 1st occurrence."
      ],
      "metadata": {
        "colab": {
          "base_uri": "https://localhost:8080/"
        },
        "id": "QgMJtUgF8I1d",
        "outputId": "519e2e8e-dbf5-4d53-ef0a-4dd2d4a52f77"
      },
      "execution_count": 9,
      "outputs": [
        {
          "output_type": "stream",
          "name": "stdout",
          "text": [
            "[3.14, 11, 'cat', True]\n"
          ]
        }
      ]
    },
    {
      "cell_type": "markdown",
      "source": [
        "### Q.9\n",
        "### What are the list concatenation and list replication operators?"
      ],
      "metadata": {
        "id": "Bp2Uwwf68oB_"
      }
    },
    {
      "cell_type": "markdown",
      "source": [
        "### A.9\n",
        "### List Concatenation Operator: + and Replication Operator: *\n",
        "\n"
      ],
      "metadata": {
        "id": "tAW26PCd8tTE"
      }
    },
    {
      "cell_type": "markdown",
      "source": [
        "### Q.10\n",
        "### What is difference between the list methods append() and insert()?"
      ],
      "metadata": {
        "id": "tTEInYav86bM"
      }
    },
    {
      "cell_type": "markdown",
      "source": [
        "### A.10\n",
        "### append() adds values at the end of list while insert() adds values as specified"
      ],
      "metadata": {
        "id": "v9ykv86F9B9t"
      }
    },
    {
      "cell_type": "code",
      "source": [
        "# append()\n",
        "\n",
        "a = [1,2,3,4,5]\n",
        "a.append('manish')\n",
        "print(a)"
      ],
      "metadata": {
        "colab": {
          "base_uri": "https://localhost:8080/"
        },
        "id": "9KolJ4tY9GPp",
        "outputId": "a5ef9872-0be9-4851-cb44-d61905a2f974"
      },
      "execution_count": 10,
      "outputs": [
        {
          "output_type": "stream",
          "name": "stdout",
          "text": [
            "[1, 2, 3, 4, 5, 'manish']\n"
          ]
        }
      ]
    },
    {
      "cell_type": "code",
      "source": [
        "# insert()\n",
        "\n",
        "a = [1,2,3,4,5]\n",
        "a.insert( 1, 'manish')\n",
        "print(a)"
      ],
      "metadata": {
        "colab": {
          "base_uri": "https://localhost:8080/"
        },
        "id": "U65wN5me9Rad",
        "outputId": "39b588a4-8a26-4da6-d97c-1701b83ceb94"
      },
      "execution_count": 12,
      "outputs": [
        {
          "output_type": "stream",
          "name": "stdout",
          "text": [
            "[1, 'manish', 2, 3, 4, 5]\n"
          ]
        }
      ]
    },
    {
      "cell_type": "markdown",
      "source": [
        "### Q.11\n",
        "### What are the two methods for removing items from a list?"
      ],
      "metadata": {
        "id": "xoH3sIqC9s1U"
      }
    },
    {
      "cell_type": "code",
      "source": [
        "# A.11 METHOD - 1 , remove()\n",
        "\n",
        "a = [1,2,3,4,5]\n",
        "a.remove(3)\n",
        "print(a)"
      ],
      "metadata": {
        "colab": {
          "base_uri": "https://localhost:8080/"
        },
        "id": "UJkqBY_Q9zXQ",
        "outputId": "59921b0a-f717-4769-a448-5e24f7827de4"
      },
      "execution_count": 13,
      "outputs": [
        {
          "output_type": "stream",
          "name": "stdout",
          "text": [
            "[1, 2, 4, 5]\n"
          ]
        }
      ]
    },
    {
      "cell_type": "code",
      "source": [
        "# A.11 , METHOD -2 , del\n",
        "\n",
        "a = [1,2,3,4,5]\n",
        "del a[1]\n",
        "print(a)"
      ],
      "metadata": {
        "colab": {
          "base_uri": "https://localhost:8080/"
        },
        "id": "1WWPulVV-SP8",
        "outputId": "827588c7-3e90-440f-be98-c4f1d43e181b"
      },
      "execution_count": 14,
      "outputs": [
        {
          "output_type": "stream",
          "name": "stdout",
          "text": [
            "[1, 3, 4, 5]\n"
          ]
        }
      ]
    },
    {
      "cell_type": "markdown",
      "source": [
        "### Q. 12\n",
        "### Describe how list values and string values are identical."
      ],
      "metadata": {
        "id": "rl7x2l0s-h1s"
      }
    },
    {
      "cell_type": "markdown",
      "source": [
        "### A.12\n",
        "### Both lists and strings can be passed to len(), have indexes and slices, be used in for loops, be concatenated or replicated, and be used with the in and not in operators"
      ],
      "metadata": {
        "id": "Ww6NN6cx-tk7"
      }
    },
    {
      "cell_type": "code",
      "source": [
        "a = 1,2,3,4,5\n",
        "len(a)\n",
        "\n",
        "\n",
        "b = [1,2,3,4,5]\n",
        "len(b)\n",
        "\n"
      ],
      "metadata": {
        "colab": {
          "base_uri": "https://localhost:8080/"
        },
        "id": "sbEZyIBL-xje",
        "outputId": "5436f52a-4d1e-4767-bc0a-67fd624f5158"
      },
      "execution_count": 16,
      "outputs": [
        {
          "output_type": "execute_result",
          "data": {
            "text/plain": [
              "5"
            ]
          },
          "metadata": {},
          "execution_count": 16
        }
      ]
    },
    {
      "cell_type": "markdown",
      "source": [
        "### Q.13 \n",
        "### What's the difference between tuples and lists? "
      ],
      "metadata": {
        "id": "tulwJezU_Hvt"
      }
    },
    {
      "cell_type": "markdown",
      "source": [
        "### A.13\n",
        "### Lists are mutable, i.e,values can be added, removed and changed from or in lists. ists uses square [  ] brackets.\n",
        "\n",
        "### Tuples are immutable. tuples uses () parenthesis.  "
      ],
      "metadata": {
        "id": "R0zlgJj-_Oq2"
      }
    },
    {
      "cell_type": "markdown",
      "source": [
        "### Q.14\n",
        "### How do you type a tuple value that only contains the integer 42?"
      ],
      "metadata": {
        "id": "fpZE7UxY_kCe"
      }
    },
    {
      "cell_type": "code",
      "source": [
        "# A.14\n",
        "\n",
        "a = (1,)\n",
        "type(a)\n",
        "\n",
        "# add comma after value , trailing comma is mandatory."
      ],
      "metadata": {
        "colab": {
          "base_uri": "https://localhost:8080/"
        },
        "id": "Mtl-P6Rn_qT1",
        "outputId": "e671b052-244b-4bae-933e-4566c3a768c2"
      },
      "execution_count": 17,
      "outputs": [
        {
          "output_type": "execute_result",
          "data": {
            "text/plain": [
              "tuple"
            ]
          },
          "metadata": {},
          "execution_count": 17
        }
      ]
    },
    {
      "cell_type": "markdown",
      "source": [
        "### Q.15\n",
        "### How do you get a list value's tuple form? How do you get a tuple value's list form?"
      ],
      "metadata": {
        "id": "8VKc2opeAGjk"
      }
    },
    {
      "cell_type": "markdown",
      "source": [
        "### A.15\n",
        "### tuple() and list() functions respectively."
      ],
      "metadata": {
        "id": "U_gRjWhgBA1k"
      }
    },
    {
      "cell_type": "markdown",
      "source": [
        "### Q.16\n",
        "### Variables that \"contain\" list values are not necessarily lists themselves. Instead, what do they contain?"
      ],
      "metadata": {
        "id": "iqY6cJjqBETk"
      }
    },
    {
      "cell_type": "markdown",
      "source": [
        "### A.16\n",
        "### They contain references to list values"
      ],
      "metadata": {
        "id": "LGJ_zxNfBKw-"
      }
    },
    {
      "cell_type": "markdown",
      "source": [
        "### Q.17\n",
        "### How do you distinguish between copy.copy() and copy.deepcopy()?"
      ],
      "metadata": {
        "id": "55LG0JKSBQ5G"
      }
    },
    {
      "cell_type": "markdown",
      "source": [
        "### A.17 \n",
        "### The copy.copy() function will do a shallow copy of a list, while the copy.deepcopy() function will do a deep copy of a list. That is, only copy .deepcopy() will duplicate any lists inside the list"
      ],
      "metadata": {
        "id": "ZdhU69dKBXbe"
      }
    }
  ]
}