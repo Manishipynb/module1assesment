{
  "nbformat": 4,
  "nbformat_minor": 0,
  "metadata": {
    "colab": {
      "provenance": [],
      "authorship_tag": "ABX9TyMJ9Kmr12uQGCn5V5nAanl/",
      "include_colab_link": true
    },
    "kernelspec": {
      "name": "python3",
      "display_name": "Python 3"
    },
    "language_info": {
      "name": "python"
    }
  },
  "cells": [
    {
      "cell_type": "markdown",
      "metadata": {
        "id": "view-in-github",
        "colab_type": "text"
      },
      "source": [
        "<a href=\"https://colab.research.google.com/github/Manishipynb/module1assesment/blob/main/BigDataProgramming_AssignmentNo_4.ipynb\" target=\"_parent\"><img src=\"https://colab.research.google.com/assets/colab-badge.svg\" alt=\"Open In Colab\"/></a>"
      ]
    },
    {
      "cell_type": "markdown",
      "source": [
        "## Q 1. Write a Python Program to Find the Factorial of a Number?"
      ],
      "metadata": {
        "id": "KTlWNe_LNfMF"
      }
    },
    {
      "cell_type": "code",
      "source": [
        "num = int(input(\"Enter a number: \"))\n",
        "\n",
        "fact = 1\n",
        "for i in range(num, 0, -1):\n",
        "    fact = fact*i\n",
        "    \n",
        "print(\"\\nFactorial of {}: {}\".format(num, fact))"
      ],
      "metadata": {
        "colab": {
          "base_uri": "https://localhost:8080/"
        },
        "id": "TKm4SF41Nkd6",
        "outputId": "730ad97f-6e91-439c-cb2e-6fb227cbb908"
      },
      "execution_count": 1,
      "outputs": [
        {
          "output_type": "stream",
          "name": "stdout",
          "text": [
            "Enter a number: 58\n",
            "\n",
            "Factorial of 58: 2350561331282878571829474910515074683828862318181142924420699914240000000000000\n"
          ]
        }
      ]
    },
    {
      "cell_type": "markdown",
      "source": [
        "##Q 2. Write a Python Program to Display the multiplication Table?\n"
      ],
      "metadata": {
        "id": "RPB6xMHKNrBL"
      }
    },
    {
      "cell_type": "code",
      "source": [
        "num = int(input(\"Enter a number: \"))\n",
        "\n",
        "for i in range(1, 11):\n",
        "    print(\"{} x {} = {}\".format(num, i, num*i))"
      ],
      "metadata": {
        "colab": {
          "base_uri": "https://localhost:8080/"
        },
        "id": "Ns1mb1lBNxiI",
        "outputId": "9aa05a2c-3899-45de-dcde-06986fba015d"
      },
      "execution_count": 2,
      "outputs": [
        {
          "output_type": "stream",
          "name": "stdout",
          "text": [
            "Enter a number: 15\n",
            "15 x 1 = 15\n",
            "15 x 2 = 30\n",
            "15 x 3 = 45\n",
            "15 x 4 = 60\n",
            "15 x 5 = 75\n",
            "15 x 6 = 90\n",
            "15 x 7 = 105\n",
            "15 x 8 = 120\n",
            "15 x 9 = 135\n",
            "15 x 10 = 150\n"
          ]
        }
      ]
    },
    {
      "cell_type": "markdown",
      "source": [
        "## Q 3. Write a Python Program to Print the Fibonacci sequence?"
      ],
      "metadata": {
        "id": "z_LpCcsiN2Kh"
      }
    },
    {
      "cell_type": "code",
      "source": [
        "fibo_length = int(input(\"Enter a length: \"))\n",
        "\n",
        "a = 0\n",
        "b = 1\n",
        "print(a, end = ' ')\n",
        "print(b, end = ' ')\n",
        "while(fibo_length-2 > 0):\n",
        "    nt = a + b\n",
        "    print(nt, end = ' ')\n",
        "    a = b\n",
        "    b = nt\n",
        "    \n",
        "    fibo_length -= 1"
      ],
      "metadata": {
        "colab": {
          "base_uri": "https://localhost:8080/"
        },
        "id": "0CKTi07NN7wV",
        "outputId": "d613afbc-5053-48cd-a9cc-7e682ca7552e"
      },
      "execution_count": 3,
      "outputs": [
        {
          "output_type": "stream",
          "name": "stdout",
          "text": [
            "Enter a length: 10\n",
            "0 1 1 2 3 5 8 13 21 34 "
          ]
        }
      ]
    },
    {
      "cell_type": "markdown",
      "source": [
        "## Q 4. Write a Python Program to Check Armstrong Number?\n",
        " "
      ],
      "metadata": {
        "id": "Asm6wPOUOBbL"
      }
    },
    {
      "cell_type": "code",
      "source": [
        "import math\n",
        "def fibo_check(num):\n",
        "    l = len(str(num))  ## l = number of digits of number\n",
        "    sum1 = 0 \n",
        "    temp_num = num\n",
        "    while(num > 0):\n",
        "        d = num % 10\n",
        "        sum1 += int(math.pow(d, l))\n",
        "        num = num // 10\n",
        "\n",
        "    if(sum1 == int(temp_num)):\n",
        "        return 1\n",
        "    else:\n",
        "    \n",
        "        return 0\n",
        "\n",
        "num = int(input(\"Enter a number: \"))\n",
        "\n",
        "if(fibo_check(num)):\n",
        "    print(\"{} is an armstrong number\".format(num))\n",
        "else:\n",
        "    print(\"{} is not an armstrong number\".format(num))"
      ],
      "metadata": {
        "colab": {
          "base_uri": "https://localhost:8080/"
        },
        "id": "axkKRtUZOLZb",
        "outputId": "cacfe10f-b30a-4ef6-e3c3-1bd2b2ac2392"
      },
      "execution_count": 6,
      "outputs": [
        {
          "output_type": "stream",
          "name": "stdout",
          "text": [
            "Enter a number: 789\n",
            "789 is not an armstrong number\n"
          ]
        }
      ]
    },
    {
      "cell_type": "markdown",
      "source": [
        "## Q 5. Write a Python Program to Find Armstrong Number in an Interval?\n"
      ],
      "metadata": {
        "id": "7H53-zwzOdVO"
      }
    },
    {
      "cell_type": "code",
      "source": [
        "low = int(input(\"Enter the lower value of range: \"))\n",
        "high = int(input(\"Enter the higher value of range: \"))\n",
        "\n",
        "print(\"\\nFrom {} to {} following are the Armstrong Number:\".format(low, high), end='\\n')\n",
        "for i in range(low, high+1):\n",
        "    \n",
        "    if(fibo_check(i)):\n",
        "        print(i, end = ' ')"
      ],
      "metadata": {
        "colab": {
          "base_uri": "https://localhost:8080/"
        },
        "id": "jHUL8aFvOlyy",
        "outputId": "08181bb2-3e39-4693-df50-135fd38701b8"
      },
      "execution_count": 7,
      "outputs": [
        {
          "output_type": "stream",
          "name": "stdout",
          "text": [
            "Enter the lower value of range: 100\n",
            "Enter the higher value of range: 200\n",
            "\n",
            "From 100 to 200 following are the Armstrong Number:\n",
            "153 "
          ]
        }
      ]
    },
    {
      "cell_type": "markdown",
      "source": [
        "## Q 6. Write a Python Program to Find the Sum of Natural Numbers?\n"
      ],
      "metadata": {
        "id": "ZqAjo7cIOroE"
      }
    },
    {
      "cell_type": "code",
      "source": [
        "num = int(input(\"Enter a positive number: \"))\n",
        "\n",
        "total_sum = 0\n",
        "for i in range(1, num+1):\n",
        "    total_sum += i\n",
        "    \n",
        "print(\"Sum of {} natural number is {}\".format(num, total_sum))"
      ],
      "metadata": {
        "colab": {
          "base_uri": "https://localhost:8080/"
        },
        "id": "X8ryA0tKOxWT",
        "outputId": "1c88a2c9-92bb-4868-e1c1-b28bf72d89d0"
      },
      "execution_count": 8,
      "outputs": [
        {
          "output_type": "stream",
          "name": "stdout",
          "text": [
            "Enter a positive number: 145\n",
            "Sum of 145 natural number is 10585\n"
          ]
        }
      ]
    }
  ]
}