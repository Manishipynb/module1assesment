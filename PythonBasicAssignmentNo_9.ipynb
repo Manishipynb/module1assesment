{
  "nbformat": 4,
  "nbformat_minor": 0,
  "metadata": {
    "colab": {
      "provenance": [],
      "authorship_tag": "ABX9TyMB4HJnkNnM4TDvGbFinbjq",
      "include_colab_link": true
    },
    "kernelspec": {
      "name": "python3",
      "display_name": "Python 3"
    },
    "language_info": {
      "name": "python"
    }
  },
  "cells": [
    {
      "cell_type": "markdown",
      "metadata": {
        "id": "view-in-github",
        "colab_type": "text"
      },
      "source": [
        "<a href=\"https://colab.research.google.com/github/Manishipynb/module1assesment/blob/main/PythonBasicAssignmentNo_9.ipynb\" target=\"_parent\"><img src=\"https://colab.research.google.com/assets/colab-badge.svg\" alt=\"Open In Colab\"/></a>"
      ]
    },
    {
      "cell_type": "markdown",
      "source": [
        "### Q.1\n",
        "### To what does a relative path refer?"
      ],
      "metadata": {
        "id": "id5uzGxazgJj"
      }
    },
    {
      "cell_type": "markdown",
      "source": [
        "### A.1\n",
        "### Relative paths are relative to the current working directory"
      ],
      "metadata": {
        "id": "lLOveXPtzla7"
      }
    },
    {
      "cell_type": "markdown",
      "source": [
        "### Q.2\n",
        "### What does an absolute path start with your operating system?"
      ],
      "metadata": {
        "id": "dIdtKHUwzrCT"
      }
    },
    {
      "cell_type": "markdown",
      "source": [
        "### A.2\n",
        "### Absolute paths start with the root folder, such as / or C:\\."
      ],
      "metadata": {
        "id": "i5ilRC9L0C2C"
      }
    },
    {
      "cell_type": "markdown",
      "source": [],
      "metadata": {
        "id": "yCPacNDU0H6x"
      }
    },
    {
      "cell_type": "markdown",
      "source": [
        "### Q.3\n",
        "###  What do the functions os.getcwd() and os.chdir() do?"
      ],
      "metadata": {
        "id": "Mj1lzwg50J-x"
      }
    },
    {
      "cell_type": "markdown",
      "source": [
        "### A.3\n",
        "### The os.getcwd() function returns the current working directory. The os.chdir() function changes the current working directory"
      ],
      "metadata": {
        "id": "-nlLPbTE0SN4"
      }
    },
    {
      "cell_type": "markdown",
      "source": [
        "### Q.4 \n",
        "### What are the . and .. folders?\n",
        " "
      ],
      "metadata": {
        "id": "rv2EBMTr0XVk"
      }
    },
    {
      "cell_type": "markdown",
      "source": [
        "### A.4\n",
        "### The . folder is the current folder, and .. is the parent folder"
      ],
      "metadata": {
        "id": "-wRHb2wu0iB7"
      }
    },
    {
      "cell_type": "markdown",
      "source": [
        "### Q.5\n",
        "###  In C:\\bacon\\eggs\\spam.txt, which part is the dir name, and which part is the base name?"
      ],
      "metadata": {
        "id": "rM3cmgEI0rNC"
      }
    },
    {
      "cell_type": "markdown",
      "source": [
        "### A.5\n",
        "### C:\\bacon\\eggs is the dir name, while spam.txt is the base name."
      ],
      "metadata": {
        "id": "y1xmHXQS0x7b"
      }
    },
    {
      "cell_type": "markdown",
      "source": [
        "### Q.6\n",
        "### What are the three “mode” arguments that can be passed to the open() function?"
      ],
      "metadata": {
        "id": "vfOaRJ0E04Ko"
      }
    },
    {
      "cell_type": "markdown",
      "source": [
        "### A.6\n",
        "### The string 'r' for read mode, 'w' for write mode, and 'a' for append mode"
      ],
      "metadata": {
        "id": "WoMeLfgQ0_x4"
      }
    },
    {
      "cell_type": "markdown",
      "source": [
        "### Q.7\n",
        "### What happens if an existing file is opened in write mode?"
      ],
      "metadata": {
        "id": "X05YyuML1GkJ"
      }
    },
    {
      "cell_type": "markdown",
      "source": [
        "### A.7\n",
        "### An existing file opened in write mode is erased and completely overwritten"
      ],
      "metadata": {
        "id": "PW93vJGP1Mda"
      }
    },
    {
      "cell_type": "markdown",
      "source": [
        "### Q.8\n",
        "### How do you tell the difference between read() and readlines()?"
      ],
      "metadata": {
        "id": "rv_QfW221RwE"
      }
    },
    {
      "cell_type": "markdown",
      "source": [
        "### A.8\n",
        "### The read() method returns the file’s entire contents as a single string value. The readlines() method returns a list of strings, where each string is a line from the file’s contents."
      ],
      "metadata": {
        "id": "vInjKVMQ1XIL"
      }
    },
    {
      "cell_type": "markdown",
      "source": [
        "### Q.9\n",
        "### What data structure does a shelf value resemble?"
      ],
      "metadata": {
        "id": "PWLdR-b21cyR"
      }
    },
    {
      "cell_type": "markdown",
      "source": [
        "### A.9\n",
        "### A shelf value resembles a dictionary value; it has keys and values, along with keys() and values() methods that work similarly to the dictionary methods of the same names"
      ],
      "metadata": {
        "id": "A0kiBdl_1jgZ"
      }
    }
  ]
}