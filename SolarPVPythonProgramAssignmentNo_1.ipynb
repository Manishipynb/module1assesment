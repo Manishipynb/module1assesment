{
  "nbformat": 4,
  "nbformat_minor": 0,
  "metadata": {
    "colab": {
      "provenance": [],
      "authorship_tag": "ABX9TyOB36vIAkALNMqWvEAyR6Rm",
      "include_colab_link": true
    },
    "kernelspec": {
      "name": "python3",
      "display_name": "Python 3"
    },
    "language_info": {
      "name": "python"
    }
  },
  "cells": [
    {
      "cell_type": "markdown",
      "metadata": {
        "id": "view-in-github",
        "colab_type": "text"
      },
      "source": [
        "<a href=\"https://colab.research.google.com/github/Manishipynb/module1assesment/blob/main/SolarPVPythonProgramAssignmentNo_1.ipynb\" target=\"_parent\"><img src=\"https://colab.research.google.com/assets/colab-badge.svg\" alt=\"Open In Colab\"/></a>"
      ]
    },
    {
      "cell_type": "markdown",
      "source": [
        "### Q.1\n",
        "### Write a Python Program to Display the Current Date & Time."
      ],
      "metadata": {
        "id": "vhqyqjCcauxJ"
      }
    },
    {
      "cell_type": "code",
      "source": [
        "# A.1\n",
        "\n",
        "import datetime\n",
        "now = datetime.datetime.now()\n",
        "print (\"Current Date and Time : \")\n",
        "print (now.strftime(\"%Y-%m-%d %H:%M:%S\"))"
      ],
      "metadata": {
        "colab": {
          "base_uri": "https://localhost:8080/"
        },
        "id": "YrI0W07Pa584",
        "outputId": "bad39c19-3362-4c84-913e-7ad76069c380"
      },
      "execution_count": 2,
      "outputs": [
        {
          "output_type": "stream",
          "name": "stdout",
          "text": [
            "Current Date and Time : \n",
            "2022-12-03 05:19:18\n"
          ]
        }
      ]
    },
    {
      "cell_type": "code",
      "source": [
        "import datetime\n",
        " \n",
        "current_time = datetime.datetime.now()\n",
        " \n",
        "print(\"Time now at greenwich meridian is:\", current_time)"
      ],
      "metadata": {
        "colab": {
          "base_uri": "https://localhost:8080/"
        },
        "id": "EiynRFIbbVDC",
        "outputId": "24a7bc08-f7cd-4f29-e80b-4b703d93160b"
      },
      "execution_count": 3,
      "outputs": [
        {
          "output_type": "stream",
          "name": "stdout",
          "text": [
            "Time now at greenwich meridian is: 2022-12-03 05:20:20.080390\n"
          ]
        }
      ]
    },
    {
      "cell_type": "code",
      "source": [
        "from pytz import timezone \n",
        "from datetime import datetime\n",
        "\n",
        "ind_time = datetime.now(timezone(\"Asia/Kolkata\")).strftime('%Y-%m-%d %H:%M:%S.%f')\n",
        "print(ind_time)\n"
      ],
      "metadata": {
        "colab": {
          "base_uri": "https://localhost:8080/"
        },
        "id": "5Q4J_mZzbvQ9",
        "outputId": "ebc5e50d-156a-4b5e-c5ec-1fb69747d0a7"
      },
      "execution_count": 4,
      "outputs": [
        {
          "output_type": "stream",
          "name": "stdout",
          "text": [
            "2022-12-03 10:52:01.440154\n"
          ]
        }
      ]
    },
    {
      "cell_type": "markdown",
      "source": [
        "### Q.2\n",
        "### Write a Python Program to display the first and last colors from the following list."
      ],
      "metadata": {
        "id": "T_Y2w29bbz3o"
      }
    },
    {
      "cell_type": "code",
      "source": [
        "# A.2\n",
        "\n",
        "color_list = [\"Red\" , \"Green\" , \"White\" , \"Black\"]\n",
        "\n",
        "print(color_list[0],color_list[-1])\n"
      ],
      "metadata": {
        "colab": {
          "base_uri": "https://localhost:8080/"
        },
        "id": "6pTFZXGqcAqZ",
        "outputId": "410211be-6a7c-482d-d2df-6e276757d70d"
      },
      "execution_count": 12,
      "outputs": [
        {
          "output_type": "stream",
          "name": "stdout",
          "text": [
            "Red Black\n"
          ]
        }
      ]
    },
    {
      "cell_type": "code",
      "source": [
        "color_list = [\"Red\" , \"Green\" , \"White\" , \"Black\"]\n",
        "color_list.remove(\"Green\")\n",
        "color_list.remove(\"White\")\n",
        "print(color_list)\n"
      ],
      "metadata": {
        "colab": {
          "base_uri": "https://localhost:8080/"
        },
        "id": "ELIIpWSVdxuS",
        "outputId": "cbe2b17c-afde-4c43-a294-669af4e283e2"
      },
      "execution_count": 14,
      "outputs": [
        {
          "output_type": "stream",
          "name": "stdout",
          "text": [
            "['Red', 'Black']\n"
          ]
        }
      ]
    },
    {
      "cell_type": "markdown",
      "source": [
        "### Q.3\n",
        "### Write a Python Program to print the documents(syntax , description etc. ) of Python built - in functions(s)."
      ],
      "metadata": {
        "id": "ies_TLJ7dnD7"
      }
    },
    {
      "cell_type": "code",
      "source": [
        "# A.3\n",
        "\n",
        "print(abs.__doc__)"
      ],
      "metadata": {
        "colab": {
          "base_uri": "https://localhost:8080/"
        },
        "id": "K82R5V5CeZqB",
        "outputId": "13da54ec-a810-483e-b66e-1f191c067b09"
      },
      "execution_count": 15,
      "outputs": [
        {
          "output_type": "stream",
          "name": "stdout",
          "text": [
            "Return the absolute value of the argument.\n"
          ]
        }
      ]
    },
    {
      "cell_type": "code",
      "source": [
        "import builtins \n",
        "help(builtins.abs)\n",
        "print(builtins.abs(-155))"
      ],
      "metadata": {
        "colab": {
          "base_uri": "https://localhost:8080/"
        },
        "id": "9b6yBe0fervB",
        "outputId": "6f404e2d-9555-42c9-fdf2-a3def168662c"
      },
      "execution_count": 16,
      "outputs": [
        {
          "output_type": "stream",
          "name": "stdout",
          "text": [
            "Help on built-in function abs in module builtins:\n",
            "\n",
            "abs(x, /)\n",
            "    Return the absolute value of the argument.\n",
            "\n",
            "155\n"
          ]
        }
      ]
    },
    {
      "cell_type": "markdown",
      "source": [
        "### Q.4\n",
        "### Write a Python Program to Calculate number of Days between two dates."
      ],
      "metadata": {
        "id": "4JbNYx2-fV_J"
      }
    },
    {
      "cell_type": "code",
      "source": [
        "# A.4\n",
        "\n",
        "import datetime\n",
        "\n",
        "from datetime import date\n",
        "fdate = date(2014, 7, 2)\n",
        "ldate = date(2014, 7, 11)\n",
        "result = ldate - fdate\n",
        "print(f\" {result.days} Days \")"
      ],
      "metadata": {
        "colab": {
          "base_uri": "https://localhost:8080/"
        },
        "id": "guZG7b7EfhFb",
        "outputId": "fd85fcc2-8954-4831-a72e-153e818e05fc"
      },
      "execution_count": 18,
      "outputs": [
        {
          "output_type": "stream",
          "name": "stdout",
          "text": [
            " 9 Days \n"
          ]
        }
      ]
    },
    {
      "cell_type": "markdown",
      "source": [
        "### Q.5\n",
        "### Write a Python Program to calculate the sum of three given numbers , if the values are equal then return three times of their sum."
      ],
      "metadata": {
        "id": "TIgwXEGof3K3"
      }
    },
    {
      "cell_type": "code",
      "source": [
        "# A.5\n",
        "\n",
        "def sum_of(a,b,c):\n",
        "    sum= a+b+c;\n",
        "    if a==b==c:\n",
        "        sum =sum*3\n",
        "    return sum    \n",
        "a=int(input(\"Enter first value:\"))\n",
        "b=int(input(\"Enter second value:\"))\n",
        "c=int(input(\"Enter third value:\"))\n",
        "print(sum_of(a,b,c))"
      ],
      "metadata": {
        "colab": {
          "base_uri": "https://localhost:8080/"
        },
        "id": "05FMKwI8gMVP",
        "outputId": "f0bda66d-34f3-4607-ab77-b4b2f2b22830"
      },
      "execution_count": 19,
      "outputs": [
        {
          "output_type": "stream",
          "name": "stdout",
          "text": [
            "Enter first value:3\n",
            "Enter second value:3\n",
            "Enter third value:8\n",
            "14\n"
          ]
        }
      ]
    },
    {
      "cell_type": "code",
      "source": [
        "def sum_of(a,b,c):\n",
        "    sum= a+b+c;\n",
        "    if a==b==c:\n",
        "        sum =sum*3\n",
        "    return sum    \n",
        "a=int(input(\"Enter first value:\"))\n",
        "b=int(input(\"Enter second value:\"))\n",
        "c=int(input(\"Enter third value:\"))\n",
        "print(sum_of(a,b,c))"
      ],
      "metadata": {
        "colab": {
          "base_uri": "https://localhost:8080/"
        },
        "id": "mK3kPBxzgaRM",
        "outputId": "45e5c4ab-6ff0-4cff-e466-bfa1f51690d6"
      },
      "execution_count": 20,
      "outputs": [
        {
          "output_type": "stream",
          "name": "stdout",
          "text": [
            "Enter first value:3\n",
            "Enter second value:3\n",
            "Enter third value:3\n",
            "27\n"
          ]
        }
      ]
    },
    {
      "cell_type": "markdown",
      "source": [
        "### Q.6\n",
        "### Write a Python Program to get a String which is n (non-negative integers) copies of a given string."
      ],
      "metadata": {
        "id": "LQjgTDijk-Xb"
      }
    },
    {
      "cell_type": "code",
      "source": [
        "# A.6\n",
        "\n",
        "n= int(input(\"Enter the number of copies you want to print: \"))\n",
        "Str = input(\"Enter the string value:\") \n",
        "print(Str * n)\n"
      ],
      "metadata": {
        "colab": {
          "base_uri": "https://localhost:8080/"
        },
        "id": "weMWJnLRlMPX",
        "outputId": "52a0c4fb-79b0-4f99-c6b7-e3b6391c9e59"
      },
      "execution_count": 21,
      "outputs": [
        {
          "output_type": "stream",
          "name": "stdout",
          "text": [
            "Enter the number of copies you want to print: 5\n",
            "Enter the string value:solar PV education\n",
            "solar PV educationsolar PV educationsolar PV educationsolar PV educationsolar PV education\n"
          ]
        }
      ]
    },
    {
      "cell_type": "markdown",
      "source": [
        "### Q.7\n",
        "### Write a Python Program to concatenate all elements in a list into a string and return it."
      ],
      "metadata": {
        "id": "d3ccila1ltkl"
      }
    },
    {
      "cell_type": "code",
      "source": [
        "# A.7\n",
        "\n",
        "l = [ 'solar' , \"education\"]\n",
        " \n",
        "ans = ' '\n",
        "for i in l:\n",
        "   \n",
        "  # concatenating the strings\n",
        "  # using + operator\n",
        "  ans = ans+ ' '+ i\n",
        "   \n",
        "print(ans)"
      ],
      "metadata": {
        "colab": {
          "base_uri": "https://localhost:8080/"
        },
        "id": "R-0L2Qepl62R",
        "outputId": "a5635031-a217-4f6c-f817-0ea3eb4b2e64"
      },
      "execution_count": 22,
      "outputs": [
        {
          "output_type": "stream",
          "name": "stdout",
          "text": [
            "  solar education\n"
          ]
        }
      ]
    },
    {
      "cell_type": "code",
      "source": [
        "str1 = \"Soalr\"\n",
        "str2 = \"Education\"\n",
        "str3 = str1 + str2\n",
        "print(str3)"
      ],
      "metadata": {
        "colab": {
          "base_uri": "https://localhost:8080/"
        },
        "id": "mdeds3fjovhd",
        "outputId": "73311769-ff42-43cc-e7e1-2b64e49c2105"
      },
      "execution_count": 23,
      "outputs": [
        {
          "output_type": "stream",
          "name": "stdout",
          "text": [
            "SoalrEducation\n"
          ]
        }
      ]
    },
    {
      "cell_type": "markdown",
      "source": [
        "### Q.8\n",
        "### Write a Python Program to print out a set containing all the colors form color_list_1 which are not present in color_list_2."
      ],
      "metadata": {
        "id": "TGXaYdMMpCT6"
      }
    },
    {
      "cell_type": "code",
      "source": [
        "# A.8\n",
        "\n",
        "color_list_1 = set([\"White\", \"Black\", \"Red\"])\n",
        "color_list_2 = set([\"Red\", \"Green\"])\n",
        "print(\"Original set elements:\")\n",
        "print(color_list_1)\n",
        "print(color_list_2)\n",
        "print(\"\\nDifferenct of color_list_1 and color_list_2:\")\n",
        "print(color_list_1.difference(color_list_2))\n",
        "print(\"\\nDifferenct of color_list_2 and color_list_1:\")\n",
        "print(color_list_2.difference(color_list_1))"
      ],
      "metadata": {
        "colab": {
          "base_uri": "https://localhost:8080/"
        },
        "id": "oRPi90qkqTb1",
        "outputId": "a5cef981-1f3a-416c-b6c2-deee1ecbdbdc"
      },
      "execution_count": 27,
      "outputs": [
        {
          "output_type": "stream",
          "name": "stdout",
          "text": [
            "Original set elements:\n",
            "{'White', 'Red', 'Black'}\n",
            "{'Red', 'Green'}\n",
            "\n",
            "Differenct of color_list_1 and color_list_2:\n",
            "{'White', 'Black'}\n",
            "\n",
            "Differenct of color_list_2 and color_list_1:\n",
            "{'Green'}\n"
          ]
        }
      ]
    },
    {
      "cell_type": "markdown",
      "source": [
        "### Q.9\n",
        "### Write A Python Program to get the least common multiple(LCM) of two positive integers."
      ],
      "metadata": {
        "id": "Y0jzJDCmqY2X"
      }
    },
    {
      "cell_type": "code",
      "source": [
        "# A.9\n",
        "\n",
        "def lcm(x, y):\n",
        "  if x > y:\n",
        "      z = x\n",
        "  else:\n",
        "      z = y\n",
        "  while(True):\n",
        "      if((z % x == 0) and (z % y == 0)):\n",
        "          lcm = z\n",
        "          break\n",
        "      z += 1\n",
        "  return lcm\n",
        "\n",
        "print(lcm(25, 58))"
      ],
      "metadata": {
        "colab": {
          "base_uri": "https://localhost:8080/"
        },
        "id": "kHYa5Xmjqk4H",
        "outputId": "1f33850f-4574-4629-92b8-b7c4bae09fcc"
      },
      "execution_count": 28,
      "outputs": [
        {
          "output_type": "stream",
          "name": "stdout",
          "text": [
            "1450\n"
          ]
        }
      ]
    },
    {
      "cell_type": "markdown",
      "source": [
        "### Q.10\n",
        "### Write a Python Program which accepts the radius of a circle from the user and compute the area."
      ],
      "metadata": {
        "id": "xQdn2_RZq3kA"
      }
    },
    {
      "cell_type": "code",
      "source": [
        "# A.10\n",
        "\n",
        "radius= float(input(\"Enter the radius of a circle:\"))\n",
        "Area = 22/7*radius**2\n",
        "print(\"Radius =\",radius)\n",
        "print(\"Area = \",Area)"
      ],
      "metadata": {
        "colab": {
          "base_uri": "https://localhost:8080/"
        },
        "id": "fA-UfLcLrCRf",
        "outputId": "a7c71780-6f5f-4797-b7b2-b4d97ccb6eb7"
      },
      "execution_count": 29,
      "outputs": [
        {
          "output_type": "stream",
          "name": "stdout",
          "text": [
            "Enter the radius of a circle:1.1\n",
            "Radius = 1.1\n",
            "Area =  3.8028571428571434\n"
          ]
        }
      ]
    }
  ]
}