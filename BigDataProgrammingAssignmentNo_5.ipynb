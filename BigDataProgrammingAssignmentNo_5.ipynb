{
  "nbformat": 4,
  "nbformat_minor": 0,
  "metadata": {
    "colab": {
      "provenance": [],
      "authorship_tag": "ABX9TyP1QoEcQHN7RMt0pYH61BU0",
      "include_colab_link": true
    },
    "kernelspec": {
      "name": "python3",
      "display_name": "Python 3"
    },
    "language_info": {
      "name": "python"
    }
  },
  "cells": [
    {
      "cell_type": "markdown",
      "metadata": {
        "id": "view-in-github",
        "colab_type": "text"
      },
      "source": [
        "<a href=\"https://colab.research.google.com/github/Manishipynb/module1assesment/blob/main/BigDataProgrammingAssignmentNo_5.ipynb\" target=\"_parent\"><img src=\"https://colab.research.google.com/assets/colab-badge.svg\" alt=\"Open In Colab\"/></a>"
      ]
    },
    {
      "cell_type": "markdown",
      "source": [
        "##Q 1. Write a Python Program to Find LCM?"
      ],
      "metadata": {
        "id": "4Oojwz11V2bd"
      }
    },
    {
      "cell_type": "code",
      "source": [
        "def lcm(a,b):\n",
        "    high = a if a > b else b\n",
        "    \n",
        "    while True:\n",
        "        if (high%a==0) and (high%b==0):\n",
        "            break\n",
        "        else:\n",
        "            high += 1\n",
        "            \n",
        "    return high"
      ],
      "metadata": {
        "id": "XoCJ_g68V5Co"
      },
      "execution_count": 1,
      "outputs": []
    },
    {
      "cell_type": "code",
      "source": [
        "a = 45\n",
        "b = 5\n",
        "\n",
        "lcm(a, b)"
      ],
      "metadata": {
        "colab": {
          "base_uri": "https://localhost:8080/"
        },
        "id": "gyP73aB0WGt0",
        "outputId": "df9a85c5-201b-4496-f89e-a4b2b2ee0e5e"
      },
      "execution_count": 2,
      "outputs": [
        {
          "output_type": "execute_result",
          "data": {
            "text/plain": [
              "45"
            ]
          },
          "metadata": {},
          "execution_count": 2
        }
      ]
    },
    {
      "cell_type": "markdown",
      "source": [
        "##Q 2. Write a Python Program to Find HCF?"
      ],
      "metadata": {
        "id": "h85oMPySWMzb"
      }
    },
    {
      "cell_type": "code",
      "source": [
        "def hcf(a, b):\n",
        "    \n",
        "    low = a if a < b else b\n",
        "    \n",
        "    for i in range(1, low+1):\n",
        "        if (a%i==0) and (b%i==0):\n",
        "            hcf = i\n",
        "            \n",
        "    return hcf"
      ],
      "metadata": {
        "id": "-ouUZvHYWOvl"
      },
      "execution_count": 4,
      "outputs": []
    },
    {
      "cell_type": "code",
      "source": [
        "a = 78\n",
        "b = 34\n",
        "\n",
        "hcf(a, b)"
      ],
      "metadata": {
        "colab": {
          "base_uri": "https://localhost:8080/"
        },
        "id": "BrZ0DMyaWSeo",
        "outputId": "ef9988bf-59c0-400b-ee61-419480d62868"
      },
      "execution_count": 5,
      "outputs": [
        {
          "output_type": "execute_result",
          "data": {
            "text/plain": [
              "2"
            ]
          },
          "metadata": {},
          "execution_count": 5
        }
      ]
    },
    {
      "cell_type": "markdown",
      "source": [
        "##Q 3. Write a Python Program to Convert Decimal to Binary, Octal and Hexadecimal?"
      ],
      "metadata": {
        "id": "P2KTfImdWcun"
      }
    },
    {
      "cell_type": "code",
      "source": [
        "def conversion(num):\n",
        "    print(\" Binary:       \",  bin(num))\n",
        "    print(\" Octal:        \",  oct(num))\n",
        "    print(\" Hexadecimal:  \",  hex(num))"
      ],
      "metadata": {
        "id": "itSBTOZ1Whk0"
      },
      "execution_count": 6,
      "outputs": []
    },
    {
      "cell_type": "code",
      "source": [
        "conversion(12)"
      ],
      "metadata": {
        "colab": {
          "base_uri": "https://localhost:8080/"
        },
        "id": "AbVzlmltWp-s",
        "outputId": "384a95f9-def5-4dd8-abc9-cbcbfc547588"
      },
      "execution_count": 7,
      "outputs": [
        {
          "output_type": "stream",
          "name": "stdout",
          "text": [
            " Binary:        0b1100\n",
            " Octal:         0o14\n",
            " Hexadecimal:   0xc\n"
          ]
        }
      ]
    },
    {
      "cell_type": "markdown",
      "source": [
        "##Q 4. Write a Python Program To Find ASCII value of a character?"
      ],
      "metadata": {
        "id": "krRCSAPBWvJm"
      }
    },
    {
      "cell_type": "code",
      "source": [
        "try:\n",
        "    char = input(\"Enter a character: \")\n",
        "    ASCII = ord(char)\n",
        "    print(\"ASCII value of {} is {}\".format(char, ASCII))\n",
        "except Exception as e:\n",
        "    print(e)"
      ],
      "metadata": {
        "colab": {
          "base_uri": "https://localhost:8080/"
        },
        "id": "RpG8WbBuWxYm",
        "outputId": "2a291e8f-28d1-4683-b5d8-073fba33d887"
      },
      "execution_count": 9,
      "outputs": [
        {
          "output_type": "stream",
          "name": "stdout",
          "text": [
            "Enter a character: f\n",
            "ASCII value of f is 102\n"
          ]
        }
      ]
    },
    {
      "cell_type": "markdown",
      "source": [
        "##Q  5. Write a Python Program to Make a Simple Calculator with 4 basic mathematical operations?"
      ],
      "metadata": {
        "id": "7HAKnpB0W-5J"
      }
    },
    {
      "cell_type": "code",
      "source": [
        "try:\n",
        "    \n",
        "    while True:\n",
        "        num1 = int(input(\"Enter first number: \"))\n",
        "        num2 = int(input(\"Enter second number: \"))\n",
        "        \n",
        "        print(\"\\nFor addition:       +\")\n",
        "        print(\"For subtraction:    -\")\n",
        "        print(\"For multiplicaton:  *\")\n",
        "        print(\"For division:       /\")\n",
        "        print(\"For Exit:            X\")\n",
        "        \n",
        "        ch = input(\"\\nEnter the choice for mathematical operations: \")\n",
        "        \n",
        "        \n",
        "        if ch == '+':\n",
        "            output = num1 + num2\n",
        "        elif ch == '-':\n",
        "            output = num1 - num2\n",
        "        elif ch == '*':\n",
        "            output = num1 * num2\n",
        "        elif ch == '/':\n",
        "            output = num1 / num2\n",
        "        \n",
        "        if ch == 'X' or ch == 'x':\n",
        "            break\n",
        "            \n",
        "        print(\"\\nResult: \", output)\n",
        "        \n",
        "        \n",
        "            \n",
        "except Exception as e:\n",
        "    print(e)"
      ],
      "metadata": {
        "colab": {
          "base_uri": "https://localhost:8080/"
        },
        "id": "KWbqpEIAXA7d",
        "outputId": "a13cb59e-af0c-4401-d1a2-37830222e5f5"
      },
      "execution_count": 11,
      "outputs": [
        {
          "name": "stdout",
          "output_type": "stream",
          "text": [
            "Enter first number: 2030\n",
            "Enter second number: 3000\n",
            "\n",
            "For addition:       +\n",
            "For subtraction:    -\n",
            "For multiplicaton:  *\n",
            "For division:       /\n",
            "For Exit:            X\n",
            "\n",
            "Enter the choice for mathematical operations: *\n",
            "\n",
            "Result:  6090000\n",
            "Enter first number: 12\n",
            "Enter second number: 12\n",
            "\n",
            "For addition:       +\n",
            "For subtraction:    -\n",
            "For multiplicaton:  *\n",
            "For division:       /\n",
            "For Exit:            X\n",
            "\n",
            "Enter the choice for mathematical operations: x\n"
          ]
        }
      ]
    }
  ]
}