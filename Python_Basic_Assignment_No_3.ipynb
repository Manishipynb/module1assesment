{
  "nbformat": 4,
  "nbformat_minor": 0,
  "metadata": {
    "colab": {
      "provenance": [],
      "authorship_tag": "ABX9TyNOpAH+XyFG5zsWOu6pquo0",
      "include_colab_link": true
    },
    "kernelspec": {
      "name": "python3",
      "display_name": "Python 3"
    },
    "language_info": {
      "name": "python"
    }
  },
  "cells": [
    {
      "cell_type": "markdown",
      "metadata": {
        "id": "view-in-github",
        "colab_type": "text"
      },
      "source": [
        "<a href=\"https://colab.research.google.com/github/Manishipynb/module1assesment/blob/main/Python_Basic_Assignment_No_3.ipynb\" target=\"_parent\"><img src=\"https://colab.research.google.com/assets/colab-badge.svg\" alt=\"Open In Colab\"/></a>"
      ]
    },
    {
      "cell_type": "markdown",
      "source": [
        "### Q.1 \n",
        "### Why are functions advantegous to have in your programs ?"
      ],
      "metadata": {
        "id": "1dDKq2f4mOmq"
      }
    },
    {
      "cell_type": "markdown",
      "source": [
        "### A.1\n",
        "### With the help of Functions , we can avoid rewritting the same logic or code again and again in a program.\n",
        "\n",
        "### In a single program , we can call Python Functions anywhere and also call multiple times."
      ],
      "metadata": {
        "id": "z9ph91yWmWru"
      }
    },
    {
      "cell_type": "markdown",
      "source": [
        "### Q.2 \n",
        "### When does the code in a function run : when it's specified or when it's called ?"
      ],
      "metadata": {
        "id": "sCtgF2XhnT8r"
      }
    },
    {
      "cell_type": "markdown",
      "source": [
        "### A.2\n",
        "### When It's Called."
      ],
      "metadata": {
        "id": "RvaQLtuUnfRc"
      }
    },
    {
      "cell_type": "markdown",
      "source": [
        "### Q.3\n",
        "### What statement creates a function ?"
      ],
      "metadata": {
        "id": "vZVifwuqn1uW"
      }
    },
    {
      "cell_type": "markdown",
      "source": [
        "### A.3\n",
        "### A Function is created with thee **def keyword**. The statements in the block of the functioin must be indented.\n",
        "### The **def keyword** is followed by the Function Name with round brackets and a colon."
      ],
      "metadata": {
        "id": "-tci_sVooFNy"
      }
    },
    {
      "cell_type": "markdown",
      "source": [
        "### Q.4\n",
        "### What is the difference between a function and a function call ?"
      ],
      "metadata": {
        "id": "t5aXh1ato_RU"
      }
    },
    {
      "cell_type": "markdown",
      "source": [
        "### A.4\n",
        "### A Function is a block of code that does a particular operation and returns a result. It usually accepts input and returns a result.\n",
        "\n",
        "### A Function Call is the code used to pass control a functioin.\n",
        "### A Function call is an expression containing the Function name followed by the function call operator().\n",
        "\n",
        "### def function_name():statement1"
      ],
      "metadata": {
        "id": "ut9wKXAQpKLz"
      }
    },
    {
      "cell_type": "markdown",
      "source": [
        "### Q.5\n",
        "### How many global scopes are there in Python program ? How many local scopes ?"
      ],
      "metadata": {
        "id": "kuDHCXeOqzPd"
      }
    },
    {
      "cell_type": "markdown",
      "source": [
        "### A.5\n",
        "### There is only one global python scope per program execution.\n",
        "### Global scope is the easiest scope to understand. Whenever a variable is defined outside any function , it becomes a global variable and its scope is anywhere within the program. which means it can be used by any function.\n",
        "\n",
        "### The Local Scope is a python scope created at functions call. Everytime you call a function you are also creating a new local scope. \n"
      ],
      "metadata": {
        "id": "m4fQPGw4q_5k"
      }
    },
    {
      "cell_type": "markdown",
      "source": [
        "### Q.6\n",
        "### What happens to variable in a local scope when the function call returns ?"
      ],
      "metadata": {
        "id": "QsaxjrVO29bK"
      }
    },
    {
      "cell_type": "markdown",
      "source": [
        "### A.6\n",
        "### Since local variables are only recognized inside their functions , variables with the same name can be used in different functions.\n",
        "### Local variables are created when a function starts and deleted when the function is completed."
      ],
      "metadata": {
        "id": "705YhzTe3Nqo"
      }
    },
    {
      "cell_type": "markdown",
      "source": [
        "### Q.7\n",
        "### what is the concept of a return value ? is it possible to have a return value in an epression ? "
      ],
      "metadata": {
        "id": "iPl65fI-5BKK"
      }
    },
    {
      "cell_type": "markdown",
      "source": [
        "### A.7\n",
        "### The Python returns statement is a key component of functions and methods. You can use the return statement to make your functions send python objects back to the caller code. These object are known as the function's return value , you can use them to perform  furthur computation in your programs.\n",
        "\n",
        "### The Python function will always have a return value. There is no notion of procedure or routine in python.\n",
        "### So , if you don't explicity use a return value in a return statement , or if you totally omit the return statement , then python will implicity return a default value for you."
      ],
      "metadata": {
        "id": "bABaato55P0B"
      }
    },
    {
      "cell_type": "markdown",
      "source": [
        "### Q.8\n",
        "### If a Function does not have a return statement , what is the return value of a call to that function ?"
      ],
      "metadata": {
        "id": "8wNxf4P8Gvb0"
      }
    },
    {
      "cell_type": "markdown",
      "source": [
        "### A.8\n",
        "### If the return statement is without any expression , then the special value **None** is returned.\n",
        "\n",
        "### In python every function returns something , If there are no return statements then it returns **None**."
      ],
      "metadata": {
        "id": "hwrJmnFjHBl2"
      }
    },
    {
      "cell_type": "code",
      "source": [
        "### A.8\n",
        "\n",
        "def cube(x):\n",
        "  r = x**3\n",
        "  return r"
      ],
      "metadata": {
        "id": "18OtoT6-Ij__"
      },
      "execution_count": 7,
      "outputs": []
    },
    {
      "cell_type": "markdown",
      "source": [
        "### Q.9\n",
        "### How do you make a function variable refer to the global variable ?"
      ],
      "metadata": {
        "id": "IpzsKxQeJJyW"
      }
    },
    {
      "cell_type": "markdown",
      "source": [
        "### A.9\n",
        "### Variables that are created outside of a function are known as global variables. Global variables can be used by everyone , both inside of function and outside.\n",
        "\n",
        "### If function has a local variable with same name as global variable and you want to modify the global variable inside function then use \"**global**\" keyword before the variable name at start of function."
      ],
      "metadata": {
        "id": "shkwqDeoJUmW"
      }
    },
    {
      "cell_type": "markdown",
      "source": [
        "### Q.10\n",
        "### What is the Data type of None ?"
      ],
      "metadata": {
        "id": "EIv8gzmDLmg2"
      }
    },
    {
      "cell_type": "markdown",
      "source": [
        "### A.10\n",
        "\n",
        "### The None Keyword is used to define a null value or no value at all.\n",
        "### None is not the same as 0 , False or an empty string.\n",
        "### None is a data type of its own (NoneType) and only None can be None."
      ],
      "metadata": {
        "id": "VeorDYw4Lut-"
      }
    },
    {
      "cell_type": "markdown",
      "source": [
        "### Q.11\n",
        "### What does the sentence import **areallyourpetsnamederic** do ?"
      ],
      "metadata": {
        "id": "FkvNopHQMiz1"
      }
    },
    {
      "cell_type": "markdown",
      "source": [
        "### A.11\n",
        "### The import statement imports a module named areallyourpetsnamederic.\n",
        "### ( This isn't a real Python module , By the way )"
      ],
      "metadata": {
        "id": "iLFMRYaQNXOV"
      }
    },
    {
      "cell_type": "markdown",
      "source": [
        "### Q.12  If you had a bacon() feature in a spam module , what would you call it after importing spam ?"
      ],
      "metadata": {
        "id": "ZIdBo5J0OGhl"
      }
    },
    {
      "cell_type": "markdown",
      "source": [
        "### A.12\n",
        "### This Function can be called with spam.bacon()"
      ],
      "metadata": {
        "id": "PPLviAIsOXoz"
      }
    },
    {
      "cell_type": "markdown",
      "source": [
        "### Q.13\n",
        "### What can you do to save a programme from crashing if it encounters an error ?"
      ],
      "metadata": {
        "id": "GaSC9fw8OpdU"
      }
    },
    {
      "cell_type": "markdown",
      "source": [
        "### A.13\n",
        "### Place the line of code that might cause an error in a try clause.\n",
        "### Error handling can be used to notify the user of why the error occurred and gracefully exit the process that caused the error."
      ],
      "metadata": {
        "id": "1FMvyBVjO33c"
      }
    },
    {
      "cell_type": "markdown",
      "source": [
        "### Q.14\n",
        "### What is the purpose of the try clause ? What is the purpose of the except clause ?"
      ],
      "metadata": {
        "id": "nEOpiHNQPvUO"
      }
    },
    {
      "cell_type": "markdown",
      "source": [
        "### A.14\n",
        "### The Code that could potentially cause an error goes in the try clause. the try block is used to check some code of errors.\n",
        "\n",
        "### The Code that  executes if an error happens goes in the except clause."
      ],
      "metadata": {
        "id": "GC0HzJ7SP-vl"
      }
    }
  ]
}